{
 "cells": [
  {
   "cell_type": "code",
   "execution_count": 17,
   "metadata": {},
   "outputs": [],
   "source": [
    "import pandas as pd\n",
    "import numpy as np\n",
    "\n",
    "import pickle\n",
    "\n",
    "import os\n",
    "\n",
    "import seaborn as sns\n",
    "import matplotlib.pyplot as plt\n",
    "import plotly.express as px\n",
    "from plotly.subplots import make_subplots\n",
    "import plotly.graph_objects as go\n",
    "\n",
    "from sklearn.ensemble import RandomForestClassifier, AdaBoostClassifier\n",
    "from sklearn.linear_model import LogisticRegression\n",
    "\n",
    "from sklearn.model_selection import GridSearchCV, StratifiedKFold, train_test_split, cross_val_score\n",
    "from sklearn.feature_selection import SelectFromModel\n",
    "from sklearn.compose import ColumnTransformer\n",
    "\n",
    "from sklearn.preprocessing import StandardScaler, OneHotEncoder\n",
    "\n",
    "from imblearn.over_sampling import SMOTENC, SMOTE\n",
    "\n",
    "from imblearn.pipeline import Pipeline\n",
    "\n",
    "from sklearn.metrics import f1_score, accuracy_score, confusion_matrix, recall_score, precision_score, roc_curve, auc\n"
   ]
  },
  {
   "cell_type": "markdown",
   "metadata": {},
   "source": [
    "Primero importamos nuevamente el dataset limpio y filtrado."
   ]
  },
  {
   "cell_type": "code",
   "execution_count": 18,
   "metadata": {},
   "outputs": [
    {
     "data": {
      "text/plain": [
       "Attrition_Flag                int64\n",
       "Customer_Age                  int64\n",
       "Gender                       object\n",
       "Dependent_count               int64\n",
       "Education_Level              object\n",
       "Marital_Status               object\n",
       "Income_Category              object\n",
       "Card_Category                object\n",
       "Months_on_book                int64\n",
       "Total_Relationship_Count      int64\n",
       "Months_Inactive_12_mon        int64\n",
       "Contacts_Count_12_mon         int64\n",
       "Credit_Limit                float64\n",
       "Total_Revolving_Bal           int64\n",
       "Avg_Open_To_Buy             float64\n",
       "Total_Amt_Chng_Q4_Q1        float64\n",
       "Total_Trans_Amt               int64\n",
       "Total_Trans_Ct                int64\n",
       "Total_Ct_Chng_Q4_Q1         float64\n",
       "Avg_Utilization_Ratio       float64\n",
       "dtype: object"
      ]
     },
     "execution_count": 18,
     "metadata": {},
     "output_type": "execute_result"
    }
   ],
   "source": [
    "data = pd.read_csv('./data/bank_churners_filtered.csv')\n",
    "data.drop(columns='Unnamed: 0', inplace=True)\n",
    "data.dtypes"
   ]
  },
  {
   "cell_type": "code",
   "execution_count": 19,
   "metadata": {},
   "outputs": [
    {
     "data": {
      "text/html": [
       "<div>\n",
       "<style scoped>\n",
       "    .dataframe tbody tr th:only-of-type {\n",
       "        vertical-align: middle;\n",
       "    }\n",
       "\n",
       "    .dataframe tbody tr th {\n",
       "        vertical-align: top;\n",
       "    }\n",
       "\n",
       "    .dataframe thead th {\n",
       "        text-align: right;\n",
       "    }\n",
       "</style>\n",
       "<table border=\"1\" class=\"dataframe\">\n",
       "  <thead>\n",
       "    <tr style=\"text-align: right;\">\n",
       "      <th></th>\n",
       "      <th>Attrition_Flag</th>\n",
       "      <th>Customer_Age</th>\n",
       "      <th>Gender</th>\n",
       "      <th>Dependent_count</th>\n",
       "      <th>Education_Level</th>\n",
       "      <th>Marital_Status</th>\n",
       "      <th>Income_Category</th>\n",
       "      <th>Card_Category</th>\n",
       "      <th>Months_on_book</th>\n",
       "      <th>Total_Relationship_Count</th>\n",
       "      <th>Months_Inactive_12_mon</th>\n",
       "      <th>Contacts_Count_12_mon</th>\n",
       "      <th>Credit_Limit</th>\n",
       "      <th>Total_Revolving_Bal</th>\n",
       "      <th>Avg_Open_To_Buy</th>\n",
       "      <th>Total_Amt_Chng_Q4_Q1</th>\n",
       "      <th>Total_Trans_Amt</th>\n",
       "      <th>Total_Trans_Ct</th>\n",
       "      <th>Total_Ct_Chng_Q4_Q1</th>\n",
       "      <th>Avg_Utilization_Ratio</th>\n",
       "    </tr>\n",
       "  </thead>\n",
       "  <tbody>\n",
       "    <tr>\n",
       "      <th>0</th>\n",
       "      <td>0</td>\n",
       "      <td>44</td>\n",
       "      <td>M</td>\n",
       "      <td>2</td>\n",
       "      <td>Graduate</td>\n",
       "      <td>Married</td>\n",
       "      <td>$40K - $60K</td>\n",
       "      <td>Blue</td>\n",
       "      <td>36</td>\n",
       "      <td>3</td>\n",
       "      <td>1</td>\n",
       "      <td>2</td>\n",
       "      <td>4010.0</td>\n",
       "      <td>1247</td>\n",
       "      <td>2763.0</td>\n",
       "      <td>1.376</td>\n",
       "      <td>1088</td>\n",
       "      <td>24</td>\n",
       "      <td>0.846</td>\n",
       "      <td>0.311</td>\n",
       "    </tr>\n",
       "    <tr>\n",
       "      <th>1</th>\n",
       "      <td>0</td>\n",
       "      <td>57</td>\n",
       "      <td>F</td>\n",
       "      <td>2</td>\n",
       "      <td>Graduate</td>\n",
       "      <td>Married</td>\n",
       "      <td>Less than $40K</td>\n",
       "      <td>Blue</td>\n",
       "      <td>48</td>\n",
       "      <td>5</td>\n",
       "      <td>2</td>\n",
       "      <td>2</td>\n",
       "      <td>2436.0</td>\n",
       "      <td>680</td>\n",
       "      <td>1756.0</td>\n",
       "      <td>1.190</td>\n",
       "      <td>1570</td>\n",
       "      <td>29</td>\n",
       "      <td>0.611</td>\n",
       "      <td>0.279</td>\n",
       "    </tr>\n",
       "    <tr>\n",
       "      <th>2</th>\n",
       "      <td>0</td>\n",
       "      <td>47</td>\n",
       "      <td>M</td>\n",
       "      <td>1</td>\n",
       "      <td>Doctorate</td>\n",
       "      <td>Divorced</td>\n",
       "      <td>$60K - $80K</td>\n",
       "      <td>Blue</td>\n",
       "      <td>42</td>\n",
       "      <td>5</td>\n",
       "      <td>2</td>\n",
       "      <td>0</td>\n",
       "      <td>20979.0</td>\n",
       "      <td>1800</td>\n",
       "      <td>19179.0</td>\n",
       "      <td>0.906</td>\n",
       "      <td>1178</td>\n",
       "      <td>27</td>\n",
       "      <td>0.929</td>\n",
       "      <td>0.086</td>\n",
       "    </tr>\n",
       "    <tr>\n",
       "      <th>3</th>\n",
       "      <td>1</td>\n",
       "      <td>62</td>\n",
       "      <td>F</td>\n",
       "      <td>0</td>\n",
       "      <td>Graduate</td>\n",
       "      <td>Married</td>\n",
       "      <td>Less than $40K</td>\n",
       "      <td>Blue</td>\n",
       "      <td>49</td>\n",
       "      <td>2</td>\n",
       "      <td>3</td>\n",
       "      <td>3</td>\n",
       "      <td>1438.3</td>\n",
       "      <td>0</td>\n",
       "      <td>1438.3</td>\n",
       "      <td>1.047</td>\n",
       "      <td>692</td>\n",
       "      <td>16</td>\n",
       "      <td>0.600</td>\n",
       "      <td>0.000</td>\n",
       "    </tr>\n",
       "    <tr>\n",
       "      <th>4</th>\n",
       "      <td>0</td>\n",
       "      <td>41</td>\n",
       "      <td>F</td>\n",
       "      <td>3</td>\n",
       "      <td>Graduate</td>\n",
       "      <td>Single</td>\n",
       "      <td>Less than $40K</td>\n",
       "      <td>Blue</td>\n",
       "      <td>28</td>\n",
       "      <td>6</td>\n",
       "      <td>1</td>\n",
       "      <td>2</td>\n",
       "      <td>7768.0</td>\n",
       "      <td>1669</td>\n",
       "      <td>6099.0</td>\n",
       "      <td>0.797</td>\n",
       "      <td>1051</td>\n",
       "      <td>22</td>\n",
       "      <td>0.833</td>\n",
       "      <td>0.215</td>\n",
       "    </tr>\n",
       "  </tbody>\n",
       "</table>\n",
       "</div>"
      ],
      "text/plain": [
       "   Attrition_Flag  Customer_Age Gender  Dependent_count Education_Level  \\\n",
       "0               0            44      M                2        Graduate   \n",
       "1               0            57      F                2        Graduate   \n",
       "2               0            47      M                1       Doctorate   \n",
       "3               1            62      F                0        Graduate   \n",
       "4               0            41      F                3        Graduate   \n",
       "\n",
       "  Marital_Status Income_Category Card_Category  Months_on_book  \\\n",
       "0        Married     $40K - $60K          Blue              36   \n",
       "1        Married  Less than $40K          Blue              48   \n",
       "2       Divorced     $60K - $80K          Blue              42   \n",
       "3        Married  Less than $40K          Blue              49   \n",
       "4         Single  Less than $40K          Blue              28   \n",
       "\n",
       "   Total_Relationship_Count  Months_Inactive_12_mon  Contacts_Count_12_mon  \\\n",
       "0                         3                       1                      2   \n",
       "1                         5                       2                      2   \n",
       "2                         5                       2                      0   \n",
       "3                         2                       3                      3   \n",
       "4                         6                       1                      2   \n",
       "\n",
       "   Credit_Limit  Total_Revolving_Bal  Avg_Open_To_Buy  Total_Amt_Chng_Q4_Q1  \\\n",
       "0        4010.0                 1247           2763.0                 1.376   \n",
       "1        2436.0                  680           1756.0                 1.190   \n",
       "2       20979.0                 1800          19179.0                 0.906   \n",
       "3        1438.3                    0           1438.3                 1.047   \n",
       "4        7768.0                 1669           6099.0                 0.797   \n",
       "\n",
       "   Total_Trans_Amt  Total_Trans_Ct  Total_Ct_Chng_Q4_Q1  Avg_Utilization_Ratio  \n",
       "0             1088              24                0.846                  0.311  \n",
       "1             1570              29                0.611                  0.279  \n",
       "2             1178              27                0.929                  0.086  \n",
       "3              692              16                0.600                  0.000  \n",
       "4             1051              22                0.833                  0.215  "
      ]
     },
     "execution_count": 19,
     "metadata": {},
     "output_type": "execute_result"
    }
   ],
   "source": [
    "data.head()"
   ]
  },
  {
   "cell_type": "markdown",
   "metadata": {},
   "source": [
    "# Funciones"
   ]
  },
  {
   "cell_type": "code",
   "execution_count": 20,
   "metadata": {},
   "outputs": [],
   "source": [
    "# Funcion para mostrar metricas.\n",
    "def model_metrics(y_train, y_pred_train, y_pred_train_proba, y_test, y_pred_test, y_pred_test_proba, plot_conf_mat=True):\n",
    "    \n",
    "    # ---METRICAS TRAIN---\n",
    "    # Matriz de confusion con mis datos de entrenamiento.\n",
    "    conf_matrix_train = confusion_matrix(y_train, y_pred_train)\n",
    "    \n",
    "    # Obtengo los TN, FP, FN, TP de la matriz de confusion de entrenamiento.\n",
    "    tn_train, fp_train, fn_train, tp_train = conf_matrix_train.ravel()\n",
    "    \n",
    "    # Obtengo metricas de train.\n",
    "    acc_score_train = np.round(accuracy_score(y_train, y_pred_train),4)\n",
    "    rec_score_train = np.round(recall_score(y_train, y_pred_train),4)\n",
    "    prec_score_train = np.round(precision_score(y_train, y_pred_train),4)\n",
    "    spec_score_train= np.round((tn_train / (tn_train + fp_train)),4)\n",
    "    f_score_train = np.round(f1_score(y_train, y_pred_train),4)\n",
    "    \n",
    "    fpr_log_train, tpr_log_train, thr_log_train = roc_curve(y_train, y_pred_train_proba[:,1])\n",
    "    auc_score_train = np.round(auc(fpr_log_train, tpr_log_train),4)\n",
    "    \n",
    "    # ---METRICAS TEST---\n",
    "    conf_matrix_test = confusion_matrix(y_test, y_pred_test)\n",
    "    \n",
    "    tn_test, fp_test, fn_test, tp_test = conf_matrix_test.ravel()\n",
    "    \n",
    "    acc_score_test = np.round(accuracy_score(y_test, y_pred_test),4)\n",
    "    rec_score_test = np.round(recall_score(y_test, y_pred_test),4)\n",
    "    prec_score_test = np.round(precision_score(y_test, y_pred_test),4)\n",
    "    spec_score_test= np.round((tn_test / (tn_test + fp_test)),4)\n",
    "    f_score_test = np.round(f1_score(y_test, y_pred_test),4)\n",
    "    \n",
    "    fpr_log_test, tpr_log_test, thr_log_test = roc_curve(y_test, y_pred_test_proba[:,1])\n",
    "    auc_score_test = np.round(auc(fpr_log_test, tpr_log_test),4)\n",
    "    \n",
    "    # Creo 2 filas, uno con los datos de train, otra con los datos de test. Y 5 columnas para las metricas.\n",
    "    data_df = [\n",
    "            [acc_score_train, rec_score_train, prec_score_train, spec_score_train, f_score_train, auc_score_train],\n",
    "            [acc_score_test,  rec_score_test,  prec_score_test,  spec_score_test,  f_score_test,  auc_score_test]\n",
    "            ]\n",
    "    \n",
    "    # Le doy nombre a las columnas.\n",
    "    columns_df = ['Accuracy', 'Recall', 'Precision', 'Specificity', 'F1-Score', 'AUC']\n",
    "\n",
    "    # Creo DataFrame.\n",
    "    data_result = pd.DataFrame(data_df, columns=columns_df, index=['Metricas Train', 'Metricas Test'])\n",
    "    \n",
    "    # Si se indica como algumento de la funcion, plotea la matriz de confusion.\n",
    "    if plot_conf_mat:\n",
    "        sns.heatmap(conf_matrix_test, annot=True, fmt='d', cbar=False, cmap=\"YlGnBu\")\n",
    "        plt.xlabel('Valores Predichos')\n",
    "        plt.ylabel('Valores Reales')\n",
    "    \n",
    "    # Devuelvo el DataFrame con las metricas.\n",
    "    return data_result"
   ]
  },
  {
   "cell_type": "code",
   "execution_count": 21,
   "metadata": {},
   "outputs": [],
   "source": [
    "# Funcion para graficar las metricas de los distintos modelos.\n",
    "from operator import index\n",
    "\n",
    "\n",
    "def plot_scores(scores, etiquetas_modelos):\n",
    "    # Creo un Dataframe para agregar los scores.\n",
    "    data_fun = pd.DataFrame(columns=['CV', 'Modelo', 'Score'])\n",
    "\n",
    "    # Recorro el array de valores.\n",
    "    # [ [ array1 ], [ array2 ], ..., [ arrayn ] ]\n",
    "    for pos, array in enumerate(scores):\n",
    "        # Creo contador para contar el numero de CV.\n",
    "        contador_cv = 1\n",
    "        # itero sobre los valores dentro de cada array.\n",
    "        # [valor1, valor2, ..., valorn]\n",
    "        for score in array:\n",
    "            # Agrego los valores al dataframe.\n",
    "            data_fun = data_fun.append({'CV' : contador_cv, 'Modelo' : etiquetas_modelos[pos],'Score' : score}, ignore_index=True)\n",
    "            contador_cv += 1\n",
    "    \n",
    "    # Creamos la figura para plotear.\n",
    "    # Grafico los distintos modelos.    \n",
    "    fig = px.line(data_fun, x='CV', y='Score', color='Modelo')\n",
    "\n",
    "    fig.update_layout(height=500, width=1000,title = 'Variacion de F1-Score CV', xaxis_title = 'CV', yaxis_title = 'F1-Score')\n",
    "    fig.show()"
   ]
  },
  {
   "cell_type": "markdown",
   "metadata": {},
   "source": [
    "# PipeLines"
   ]
  },
  {
   "cell_type": "markdown",
   "metadata": {},
   "source": [
    "Pipeline es una serie de pasos automatizados para transformar los datos con el objetivo de asegurar su validez y consistencia. \n",
    "\n",
    "Cada paso se alimenta del paso previo.\n",
    "\n",
    "Al ser reutilizables aseguran la consistencia en las operaciones, y al agrupar las mismas proveen un mayor nivel de abstraccion.\n",
    "\n",
    "El esquema general para implementar pipeline es el que sigue:\n",
    "\n",
    "- Construir la lista de pasos que se ejecutan en secuencia, cada paso es una tupla que contiene un nombre que se le da al paso y la instancia de un estimador.\n",
    "\n",
    "- Instanciar pipeline con los pasos definidos.\n",
    "\n",
    "- Entrenar la instancia de pipeline con los datos de entrenamiento.\n",
    "\n",
    "- Evaluar el modelo generado.\n",
    "\n",
    "Por lo tanto ahora vamos a crear los pasos que queremos que siga pipeline. Como habiamos dicho antes los pasos a considerar son:\n",
    "\n",
    "1- Separar datos en entrenamiento y en test.\n",
    "\n",
    "2- Escalar las variables continuas, para poder aplicar SMOTENC, ya que como se explico previamente SMOTE se basa en generar muestras mediante la distancia euclideana, y las variables necesitan estar escaladas.\n",
    "\n",
    "3- Balance de clases, mediante SMOTENC.\n",
    "\n",
    "4- Dumifico las variables categoricas.\n",
    "\n",
    "5- Selecciono las features mas importantes utilizando SelectFromModel.\n",
    "\n",
    "6- Entreno el modelo y evaluo como perform\n",
    "\n",
    "Otra cosa a aclarar, ya que pipeline de scikit-learn no tolera el metodo fit_resample, el cual es un paso necesario para balancear las clases, utilizaremos pipeline de imbalanced-learn."
   ]
  },
  {
   "cell_type": "code",
   "execution_count": 22,
   "metadata": {},
   "outputs": [
    {
     "name": "stdout",
     "output_type": "stream",
     "text": [
      "Luego de escalar los datos mediante ColumnTransformer, el indice de las columnas categoricas sera [14, 15, 16, 17, 18]\n"
     ]
    }
   ],
   "source": [
    "# Voy a obtener el nombre de mis columnas numericas y numericas, para pasarselas a ColumnTransformer.\n",
    "num_cols_name = []\n",
    "cat_cols_name = []\n",
    "\n",
    "for col in data.iloc[:, 1:].columns:\n",
    "    if data[col].dtype == 'object':\n",
    "        cat_cols_name.append(col)\n",
    "    \n",
    "    else:\n",
    "        num_cols_name.append(col)\n",
    "\n",
    "# Sabemos que las columnas que 'ColumnTransformer' ignora se ubican ultimas en el array.\n",
    "# Por lo tanto para obtener el indice de las columnas categoricas, para pasarselas a SMOTENC.\n",
    "cat_index = [len(num_cols_name) + i for i, col in enumerate(cat_cols_name)]\n",
    "print('Luego de escalar los datos mediante ColumnTransformer, el indice de las columnas categoricas sera', cat_index)"
   ]
  },
  {
   "cell_type": "code",
   "execution_count": 23,
   "metadata": {},
   "outputs": [],
   "source": [
    "# Declaro mis features.\n",
    "X = data.drop(columns='Attrition_Flag')\n",
    "\n",
    "# Declaro mi variable target.\n",
    "y = data['Attrition_Flag']"
   ]
  },
  {
   "cell_type": "code",
   "execution_count": 24,
   "metadata": {},
   "outputs": [
    {
     "data": {
      "text/plain": [
       "Pipeline(steps=[('scaling',\n",
       "                 ColumnTransformer(remainder='passthrough',\n",
       "                                   transformers=[('scale', StandardScaler(),\n",
       "                                                  ['Customer_Age',\n",
       "                                                   'Dependent_count',\n",
       "                                                   'Months_on_book',\n",
       "                                                   'Total_Relationship_Count',\n",
       "                                                   'Months_Inactive_12_mon',\n",
       "                                                   'Contacts_Count_12_mon',\n",
       "                                                   'Credit_Limit',\n",
       "                                                   'Total_Revolving_Bal',\n",
       "                                                   'Avg_Open_To_Buy',\n",
       "                                                   'Total_Amt_Chng_Q4_Q1',\n",
       "                                                   'Total_Trans_Amt',\n",
       "                                                   'Total_Trans_Ct',\n",
       "                                                   '...\n",
       "                 SMOTENC(categorical_features=[14, 15, 16, 17, 18],\n",
       "                         random_state=13, sampling_strategy='minority')),\n",
       "                ('pipe_dumify',\n",
       "                 ColumnTransformer(remainder='passthrough',\n",
       "                                   transformers=[('ct_dummify',\n",
       "                                                  OneHotEncoder(drop='first'),\n",
       "                                                  [14, 15, 16, 17, 18])])),\n",
       "                ('selectfrommodel',\n",
       "                 SelectFromModel(estimator=RandomForestClassifier(random_state=13),\n",
       "                                 threshold='0.005*mean')),\n",
       "                ('rf', RandomForestClassifier(random_state=13))])"
      ]
     },
     "execution_count": 24,
     "metadata": {},
     "output_type": "execute_result"
    }
   ],
   "source": [
    "# Definimos los pasos.\n",
    "# 1 - Separo en datos de entrenamiento y testeo.\n",
    "X_train, X_test, y_train, y_test = train_test_split(X,y,stratify=y, random_state=13)\n",
    "\n",
    "# 2 - Escalo las variables continuas.\n",
    "ct_scaler = ColumnTransformer([('scale', StandardScaler(), num_cols_name)], remainder='passthrough')\n",
    "\n",
    "# 3 - Balanceo de clases.\n",
    "sm = SMOTENC(categorical_features=cat_index, sampling_strategy='minority', random_state=13)\n",
    "\n",
    "# 4 - Dumifico las variables categoricas.\n",
    "ct_dummifier = ColumnTransformer([('ct_dummify', OneHotEncoder(drop='first'), cat_index)], remainder='passthrough')\n",
    "\n",
    "# 5 -Selecciono las features mas importantes.\n",
    "feature_selection = SelectFromModel(RandomForestClassifier(random_state=13), prefit=False, threshold='0.005*mean')\n",
    "\n",
    "# 6 - Selecciono modelo para entrenar.\n",
    "model = RandomForestClassifier(random_state=13)\n",
    "\n",
    "# Instanciamos Pipeline, con los respectivos pasos.\n",
    "rf_model_pipe = Pipeline(\n",
    "    steps= [\n",
    "        ('scaling', ct_scaler), \n",
    "        ('class_balance', sm),\n",
    "        ('pipe_dumify', ct_dummifier),\n",
    "        ('selectfrommodel', feature_selection),\n",
    "        ('rf', model)\n",
    "        ])\n",
    "\n",
    "rf_model_pipe.fit(X_train, y_train)"
   ]
  },
  {
   "cell_type": "markdown",
   "metadata": {},
   "source": [
    "Ahora probaremos prediciendo con los hiperparametros por defecto, para ver que tal performa el modelo."
   ]
  },
  {
   "cell_type": "code",
   "execution_count": 25,
   "metadata": {},
   "outputs": [
    {
     "data": {
      "text/html": [
       "<div>\n",
       "<style scoped>\n",
       "    .dataframe tbody tr th:only-of-type {\n",
       "        vertical-align: middle;\n",
       "    }\n",
       "\n",
       "    .dataframe tbody tr th {\n",
       "        vertical-align: top;\n",
       "    }\n",
       "\n",
       "    .dataframe thead th {\n",
       "        text-align: right;\n",
       "    }\n",
       "</style>\n",
       "<table border=\"1\" class=\"dataframe\">\n",
       "  <thead>\n",
       "    <tr style=\"text-align: right;\">\n",
       "      <th></th>\n",
       "      <th>Accuracy</th>\n",
       "      <th>Recall</th>\n",
       "      <th>Precision</th>\n",
       "      <th>Specificity</th>\n",
       "      <th>F1-Score</th>\n",
       "      <th>AUC</th>\n",
       "    </tr>\n",
       "  </thead>\n",
       "  <tbody>\n",
       "    <tr>\n",
       "      <th>Metricas Train</th>\n",
       "      <td>1.0000</td>\n",
       "      <td>1.0000</td>\n",
       "      <td>1.0000</td>\n",
       "      <td>1.0000</td>\n",
       "      <td>1.0000</td>\n",
       "      <td>1.0000</td>\n",
       "    </tr>\n",
       "    <tr>\n",
       "      <th>Metricas Test</th>\n",
       "      <td>0.9555</td>\n",
       "      <td>0.8566</td>\n",
       "      <td>0.8664</td>\n",
       "      <td>0.9745</td>\n",
       "      <td>0.8615</td>\n",
       "      <td>0.9858</td>\n",
       "    </tr>\n",
       "  </tbody>\n",
       "</table>\n",
       "</div>"
      ],
      "text/plain": [
       "                Accuracy  Recall  Precision  Specificity  F1-Score     AUC\n",
       "Metricas Train    1.0000  1.0000     1.0000       1.0000    1.0000  1.0000\n",
       "Metricas Test     0.9555  0.8566     0.8664       0.9745    0.8615  0.9858"
      ]
     },
     "execution_count": 25,
     "metadata": {},
     "output_type": "execute_result"
    },
    {
     "data": {
      "image/png": "[encoded data removed]",
      "text/plain": [
       "<Figure size 432x288 with 1 Axes>"
      ]
     },
     "metadata": {
      "needs_background": "light"
     },
     "output_type": "display_data"
    }
   ],
   "source": [
    "# Predicciones con datos de train.\n",
    "y_pred_train = rf_model_pipe.predict(X_train)\n",
    "y_pred_proba_train = rf_model_pipe.predict_proba(X_train)\n",
    "# Predicciones con datos de test.\n",
    "y_pred_test = rf_model_pipe.predict(X_test)\n",
    "y_pred_proba_test = rf_model_pipe.predict_proba(X_test)\n",
    "\n",
    "model_metrics(y_train, y_pred_train, y_pred_proba_train, y_test, y_pred_test, y_pred_proba_test)"
   ]
  },
  {
   "cell_type": "markdown",
   "metadata": {},
   "source": [
    "<img src=\"img/modelo_selectfrommodel_overs.png\" width=30% height=25%> <b> Modelo R.F. Oversample - SelectFromModel </b>\n",
    "\n",
    "Podemos ver que con los hiperparametros por defecto, el modelo perfomo muy bien, mejor que con el modelo de prueba.\n",
    "\n",
    "Ahora procederemos a aplicar GridSearchCV para setear distintos hiperparametros y mejorar aun mas el modelo.\n",
    "\n",
    "# Pipeline + GridSearchCV\n",
    "\n",
    "Gridsearch busca la mejor combinacion de hiperparametros dentro de una grilla especificada previamente. "
   ]
  },
  {
   "cell_type": "code",
   "execution_count": 26,
   "metadata": {},
   "outputs": [],
   "source": [
    "# Instanciamos Pipeline, con los respectivos pasos.\n",
    "grid_pipe = Pipeline(\n",
    "    steps= [\n",
    "        ('scaling', ct_scaler), \n",
    "        ('class_balance', sm),\n",
    "        ('pipe_dumify', ct_dummifier),\n",
    "        ('selectfrommodel', feature_selection),\n",
    "        ('rf', model)\n",
    "        ])\n",
    "\n",
    "# Creamos la grilla de hiperparametros.\n",
    "grid_params = {\n",
    "    'class_balance__k_neighbors' : [3,5,10],\n",
    "    'selectfrommodel__threshold' : ['median', 'mean', '0.005*median'],\n",
    "    'rf__n_estimators' : [50,100,150],\n",
    "    'rf__criterion' : ['gini', 'entropy'],\n",
    "    'rf__max_depth' : [5,10,15,None],\n",
    "    'rf__min_samples_split' : [2,3,5],\n",
    "    'rf__min_samples_leaf' : [1,3]\n",
    "}\n",
    "# Determinamos la estrategia de cross-validation que vamos a usar.\n",
    "grid_cv = StratifiedKFold(n_splits=5, shuffle=True,random_state=13)\n",
    "\n",
    "clf = GridSearchCV(grid_pipe, grid_params, cv=grid_cv, scoring='f1')\n",
    "# Comentado para que no se ejecute, se cargara luego mediante pickle.\n",
    "#clf.fit(X_train, y_train)\n",
    "#clf.best_params_"
   ]
  },
  {
   "cell_type": "markdown",
   "metadata": {},
   "source": [
    "Los mejores parametros fueron\n",
    "\n",
    "<img src=\"img/best_params.png\" width=30% height=25%>\n",
    "\n",
    "Ahora vamos a bajar a disco el objeto que tiene el modelo entrenado. Vamos a guardar un archivo meiante pickle, ya que tardo 2:30 horas en fitear el modelo, y no queremos esperar tanto entre ejecucion y ejecucion.\n",
    "\n",
    "<img src=\"img/time_gridsearch.png\" width=30% height=25%>"
   ]
  },
  {
   "cell_type": "code",
   "execution_count": 27,
   "metadata": {},
   "outputs": [],
   "source": [
    "if os.path.isfile('./models/bank_churn_model_gridsearch.pkl'):\n",
    "    with open('./models/bank_churn_model_gridsearch.pkl', 'rb') as f_model:\n",
    "        grid_search_model = pickle.load(f_model)\n",
    "else:\n",
    "    with open('./models/bank_churn_model_gridsearch.pkl', 'wb') as f_model:\n",
    "        pickle.dump(clf, f_model)"
   ]
  },
  {
   "cell_type": "code",
   "execution_count": 28,
   "metadata": {},
   "outputs": [
    {
     "data": {
      "text/html": [
       "<div>\n",
       "<style scoped>\n",
       "    .dataframe tbody tr th:only-of-type {\n",
       "        vertical-align: middle;\n",
       "    }\n",
       "\n",
       "    .dataframe tbody tr th {\n",
       "        vertical-align: top;\n",
       "    }\n",
       "\n",
       "    .dataframe thead th {\n",
       "        text-align: right;\n",
       "    }\n",
       "</style>\n",
       "<table border=\"1\" class=\"dataframe\">\n",
       "  <thead>\n",
       "    <tr style=\"text-align: right;\">\n",
       "      <th></th>\n",
       "      <th>Accuracy</th>\n",
       "      <th>Recall</th>\n",
       "      <th>Precision</th>\n",
       "      <th>Specificity</th>\n",
       "      <th>F1-Score</th>\n",
       "      <th>AUC</th>\n",
       "    </tr>\n",
       "  </thead>\n",
       "  <tbody>\n",
       "    <tr>\n",
       "      <th>Metricas Train</th>\n",
       "      <td>0.9998</td>\n",
       "      <td>1.0000</td>\n",
       "      <td>0.9987</td>\n",
       "      <td>0.9998</td>\n",
       "      <td>0.9994</td>\n",
       "      <td>1.0000</td>\n",
       "    </tr>\n",
       "    <tr>\n",
       "      <th>Metricas Test</th>\n",
       "      <td>0.9585</td>\n",
       "      <td>0.8717</td>\n",
       "      <td>0.8717</td>\n",
       "      <td>0.9753</td>\n",
       "      <td>0.8717</td>\n",
       "      <td>0.9863</td>\n",
       "    </tr>\n",
       "  </tbody>\n",
       "</table>\n",
       "</div>"
      ],
      "text/plain": [
       "                Accuracy  Recall  Precision  Specificity  F1-Score     AUC\n",
       "Metricas Train    0.9998  1.0000     0.9987       0.9998    0.9994  1.0000\n",
       "Metricas Test     0.9585  0.8717     0.8717       0.9753    0.8717  0.9863"
      ]
     },
     "execution_count": 28,
     "metadata": {},
     "output_type": "execute_result"
    },
    {
     "data": {
      "image/png": "[encoded data removed]",
      "text/plain": [
       "<Figure size 432x288 with 1 Axes>"
      ]
     },
     "metadata": {
      "needs_background": "light"
     },
     "output_type": "display_data"
    }
   ],
   "source": [
    "# Predicciones con datos de train.\n",
    "y_pred_train = grid_search_model.predict(X_train)\n",
    "y_pred_proba_train = grid_search_model.predict_proba(X_train)\n",
    "# Predicciones con datos de test.\n",
    "y_pred_test = grid_search_model.predict(X_test)\n",
    "y_pred_proba_test = grid_search_model.predict_proba(X_test)\n",
    "\n",
    "model_metrics(y_train, y_pred_train, y_pred_proba_train, y_test, y_pred_test, y_pred_proba_test)"
   ]
  },
  {
   "cell_type": "markdown",
   "metadata": {},
   "source": [
    "Con las metricas obtenidas podemos comparar los dos modelos, podemos ver que  en general las metricas mejoraron, a no ser por F1-score y precision que bajaron levemente. \n",
    "\n",
    "Al aplicar grid search, obtuvmimos un modelo mas balanceado que el anterior. Pero en este caso optaremos por quedarnos con el modelo anterior ya que nos interesa predecir que cliente abndonara el banco para tratar de convencerlo de que no lo haga.\n",
    "\n",
    "# Comparacion de distintos modelos de prediccion.\n",
    "\n",
    "Ahora probaremos mediante otros modelos para ver cual es el que mejor performa, utilizaremos unicamente la metrica F1, haciendo cross validation."
   ]
  },
  {
   "cell_type": "code",
   "execution_count": 29,
   "metadata": {},
   "outputs": [],
   "source": [
    "from xgboost import XGBClassifier\n",
    "# primero establecemos los pasos de cada modelo.\n",
    "# Instanciamos Pipeline, con los respectivos pasos.\n",
    "lr_model_pipe = Pipeline(\n",
    "    steps= [\n",
    "        ('scaling', ct_scaler), \n",
    "        ('class_balance', sm),\n",
    "        ('pipe_dumify', ct_dummifier),\n",
    "        ('selectfrommodel', feature_selection),\n",
    "        ('lr', LogisticRegression(C=1e10, max_iter=200))\n",
    "        ])\n",
    "\n",
    "ada_model_pipe = Pipeline(\n",
    "    steps= [\n",
    "        ('scaling', ct_scaler), \n",
    "        ('class_balance', sm),\n",
    "        ('pipe_dumify', ct_dummifier),\n",
    "        ('selectfrommodel', feature_selection),\n",
    "        ('adab', AdaBoostClassifier(random_state=13))\n",
    "        ])\n",
    "\n",
    "xgb_model_pipe = Pipeline(\n",
    "    steps= [\n",
    "        ('scaling', ct_scaler), \n",
    "        ('class_balance', sm),\n",
    "        ('pipe_dumify', ct_dummifier),\n",
    "        ('selectfrommodel', feature_selection),\n",
    "        ('xgb', XGBClassifier(random_state=13))\n",
    "        ])\n",
    "\n",
    "rf_f1_cross_val_score = cross_val_score(rf_model_pipe, X_train, y_train, cv=5, scoring='f1')\n",
    "lr_f1_cross_val_score = cross_val_score(lr_model_pipe, X_train, y_train, cv=5, scoring='f1')\n",
    "ada_f1_cross_val_score = cross_val_score(ada_model_pipe, X_train, y_train, cv=5, scoring='f1')\n",
    "xgb_f1_cross_val_score = cross_val_score(xgb_model_pipe, X_train, y_train, cv=5, scoring='f1')"
   ]
  },
  {
   "cell_type": "code",
   "execution_count": 30,
   "metadata": {},
   "outputs": [
    {
     "data": {
      "application/vnd.plotly.v1+json": {
       "config": {
        "plotlyServerURL": "https://plot.ly"
       },
       "data": [
        {
         "hovertemplate": "Modelo=Random Forest<br>CV=%{x}<br>Score=%{y}<extra></extra>",
         "legendgroup": "Random Forest",
         "line": {
          "color": "#636efa",
          "dash": "solid"
         },
         "mode": "lines",
         "name": "Random Forest",
         "orientation": "v",
         "showlegend": true,
         "type": "scatter",
         "x": [
          1,
          2,
          3,
          4,
          5
         ],
         "xaxis": "x",
         "y": [
          0.8380952380952382,
          0.803921568627451,
          0.8881789137380192,
          0.8359133126934984,
          0.8626198083067093
         ],
         "yaxis": "y"
        },
        {
         "hovertemplate": "Modelo=Regresion Logistica<br>CV=%{x}<br>Score=%{y}<extra></extra>",
         "legendgroup": "Regresion Logistica",
         "line": {
          "color": "#EF553B",
          "dash": "solid"
         },
         "mode": "lines",
         "name": "Regresion Logistica",
         "orientation": "v",
         "showlegend": true,
         "type": "scatter",
         "x": [
          1,
          2,
          3,
          4,
          5
         ],
         "xaxis": "x",
         "y": [
          0.6188118811881189,
          0.5960591133004927,
          0.6717171717171718,
          0.5911111111111111,
          0.6237623762376238
         ],
         "yaxis": "y"
        },
        {
         "hovertemplate": "Modelo=AdaBoost<br>CV=%{x}<br>Score=%{y}<extra></extra>",
         "legendgroup": "AdaBoost",
         "line": {
          "color": "#00cc96",
          "dash": "solid"
         },
         "mode": "lines",
         "name": "AdaBoost",
         "orientation": "v",
         "showlegend": true,
         "type": "scatter",
         "x": [
          1,
          2,
          3,
          4,
          5
         ],
         "xaxis": "x",
         "y": [
          0.7787610619469026,
          0.7764705882352941,
          0.8427299703264095,
          0.818941504178273,
          0.8091168091168093
         ],
         "yaxis": "y"
        },
        {
         "hovertemplate": "Modelo=XGBoost<br>CV=%{x}<br>Score=%{y}<extra></extra>",
         "legendgroup": "XGBoost",
         "line": {
          "color": "#ab63fa",
          "dash": "solid"
         },
         "mode": "lines",
         "name": "XGBoost",
         "orientation": "v",
         "showlegend": true,
         "type": "scatter",
         "x": [
          1,
          2,
          3,
          4,
          5
         ],
         "xaxis": "x",
         "y": [
          0.8860759493670887,
          0.8338762214983714,
          0.89937106918239,
          0.8792569659442725,
          0.9
         ],
         "yaxis": "y"
        }
       ],
       "layout": {
        "height": 500,
        "legend": {
         "title": {
          "text": "Modelo"
         },
         "tracegroupgap": 0
        },
        "margin": {
         "t": 60
        },
        "template": {
         "data": {
          "bar": [
           {
            "error_x": {
             "color": "#2a3f5f"
            },
            "error_y": {
             "color": "#2a3f5f"
            },
            "marker": {
             "line": {
              "color": "#E5ECF6",
              "width": 0.5
             }
            },
            "type": "bar"
           }
          ],
          "barpolar": [
           {
            "marker": {
             "line": {
              "color": "#E5ECF6",
              "width": 0.5
             }
            },
            "type": "barpolar"
           }
          ],
          "carpet": [
           {
            "aaxis": {
             "endlinecolor": "#2a3f5f",
             "gridcolor": "white",
             "linecolor": "white",
             "minorgridcolor": "white",
             "startlinecolor": "#2a3f5f"
            },
            "baxis": {
             "endlinecolor": "#2a3f5f",
             "gridcolor": "white",
             "linecolor": "white",
             "minorgridcolor": "white",
             "startlinecolor": "#2a3f5f"
            },
            "type": "carpet"
           }
          ],
          "choropleth": [
           {
            "colorbar": {
             "outlinewidth": 0,
             "ticks": ""
            },
            "type": "choropleth"
           }
          ],
          "contour": [
           {
            "colorbar": {
             "outlinewidth": 0,
             "ticks": ""
            },
            "colorscale": [
             [
              0,
              "#0d0887"
             ],
             [
              0.1111111111111111,
              "#46039f"
             ],
             [
              0.2222222222222222,
              "#7201a8"
             ],
             [
              0.3333333333333333,
              "#9c179e"
             ],
             [
              0.4444444444444444,
              "#bd3786"
             ],
             [
              0.5555555555555556,
              "#d8576b"
             ],
             [
              0.6666666666666666,
              "#ed7953"
             ],
             [
              0.7777777777777778,
              "#fb9f3a"
             ],
             [
              0.8888888888888888,
              "#fdca26"
             ],
             [
              1,
              "#f0f921"
             ]
            ],
            "type": "contour"
           }
          ],
          "contourcarpet": [
           {
            "colorbar": {
             "outlinewidth": 0,
             "ticks": ""
            },
            "type": "contourcarpet"
           }
          ],
          "heatmap": [
           {
            "colorbar": {
             "outlinewidth": 0,
             "ticks": ""
            },
            "colorscale": [
             [
              0,
              "#0d0887"
             ],
             [
              0.1111111111111111,
              "#46039f"
             ],
             [
              0.2222222222222222,
              "#7201a8"
             ],
             [
              0.3333333333333333,
              "#9c179e"
             ],
             [
              0.4444444444444444,
              "#bd3786"
             ],
             [
              0.5555555555555556,
              "#d8576b"
             ],
             [
              0.6666666666666666,
              "#ed7953"
             ],
             [
              0.7777777777777778,
              "#fb9f3a"
             ],
             [
              0.8888888888888888,
              "#fdca26"
             ],
             [
              1,
              "#f0f921"
             ]
            ],
            "type": "heatmap"
           }
          ],
          "heatmapgl": [
           {
            "colorbar": {
             "outlinewidth": 0,
             "ticks": ""
            },
            "colorscale": [
             [
              0,
              "#0d0887"
             ],
             [
              0.1111111111111111,
              "#46039f"
             ],
             [
              0.2222222222222222,
              "#7201a8"
             ],
             [
              0.3333333333333333,
              "#9c179e"
             ],
             [
              0.4444444444444444,
              "#bd3786"
             ],
             [
              0.5555555555555556,
              "#d8576b"
             ],
             [
              0.6666666666666666,
              "#ed7953"
             ],
             [
              0.7777777777777778,
              "#fb9f3a"
             ],
             [
              0.8888888888888888,
              "#fdca26"
             ],
             [
              1,
              "#f0f921"
             ]
            ],
            "type": "heatmapgl"
           }
          ],
          "histogram": [
           {
            "marker": {
             "colorbar": {
              "outlinewidth": 0,
              "ticks": ""
             }
            },
            "type": "histogram"
           }
          ],
          "histogram2d": [
           {
            "colorbar": {
             "outlinewidth": 0,
             "ticks": ""
            },
            "colorscale": [
             [
              0,
              "#0d0887"
             ],
             [
              0.1111111111111111,
              "#46039f"
             ],
             [
              0.2222222222222222,
              "#7201a8"
             ],
             [
              0.3333333333333333,
              "#9c179e"
             ],
             [
              0.4444444444444444,
              "#bd3786"
             ],
             [
              0.5555555555555556,
              "#d8576b"
             ],
             [
              0.6666666666666666,
              "#ed7953"
             ],
             [
              0.7777777777777778,
              "#fb9f3a"
             ],
             [
              0.8888888888888888,
              "#fdca26"
             ],
             [
              1,
              "#f0f921"
             ]
            ],
            "type": "histogram2d"
           }
          ],
          "histogram2dcontour": [
           {
            "colorbar": {
             "outlinewidth": 0,
             "ticks": ""
            },
            "colorscale": [
             [
              0,
              "#0d0887"
             ],
             [
              0.1111111111111111,
              "#46039f"
             ],
             [
              0.2222222222222222,
              "#7201a8"
             ],
             [
              0.3333333333333333,
              "#9c179e"
             ],
             [
              0.4444444444444444,
              "#bd3786"
             ],
             [
              0.5555555555555556,
              "#d8576b"
             ],
             [
              0.6666666666666666,
              "#ed7953"
             ],
             [
              0.7777777777777778,
              "#fb9f3a"
             ],
             [
              0.8888888888888888,
              "#fdca26"
             ],
             [
              1,
              "#f0f921"
             ]
            ],
            "type": "histogram2dcontour"
           }
          ],
          "mesh3d": [
           {
            "colorbar": {
             "outlinewidth": 0,
             "ticks": ""
            },
            "type": "mesh3d"
           }
          ],
          "parcoords": [
           {
            "line": {
             "colorbar": {
              "outlinewidth": 0,
              "ticks": ""
             }
            },
            "type": "parcoords"
           }
          ],
          "pie": [
           {
            "automargin": true,
            "type": "pie"
           }
          ],
          "scatter": [
           {
            "marker": {
             "colorbar": {
              "outlinewidth": 0,
              "ticks": ""
             }
            },
            "type": "scatter"
           }
          ],
          "scatter3d": [
           {
            "line": {
             "colorbar": {
              "outlinewidth": 0,
              "ticks": ""
             }
            },
            "marker": {
             "colorbar": {
              "outlinewidth": 0,
              "ticks": ""
             }
            },
            "type": "scatter3d"
           }
          ],
          "scattercarpet": [
           {
            "marker": {
             "colorbar": {
              "outlinewidth": 0,
              "ticks": ""
             }
            },
            "type": "scattercarpet"
           }
          ],
          "scattergeo": [
           {
            "marker": {
             "colorbar": {
              "outlinewidth": 0,
              "ticks": ""
             }
            },
            "type": "scattergeo"
           }
          ],
          "scattergl": [
           {
            "marker": {
             "colorbar": {
              "outlinewidth": 0,
              "ticks": ""
             }
            },
            "type": "scattergl"
           }
          ],
          "scattermapbox": [
           {
            "marker": {
             "colorbar": {
              "outlinewidth": 0,
              "ticks": ""
             }
            },
            "type": "scattermapbox"
           }
          ],
          "scatterpolar": [
           {
            "marker": {
             "colorbar": {
              "outlinewidth": 0,
              "ticks": ""
             }
            },
            "type": "scatterpolar"
           }
          ],
          "scatterpolargl": [
           {
            "marker": {
             "colorbar": {
              "outlinewidth": 0,
              "ticks": ""
             }
            },
            "type": "scatterpolargl"
           }
          ],
          "scatterternary": [
           {
            "marker": {
             "colorbar": {
              "outlinewidth": 0,
              "ticks": ""
             }
            },
            "type": "scatterternary"
           }
          ],
          "surface": [
           {
            "colorbar": {
             "outlinewidth": 0,
             "ticks": ""
            },
            "colorscale": [
             [
              0,
              "#0d0887"
             ],
             [
              0.1111111111111111,
              "#46039f"
             ],
             [
              0.2222222222222222,
              "#7201a8"
             ],
             [
              0.3333333333333333,
              "#9c179e"
             ],
             [
              0.4444444444444444,
              "#bd3786"
             ],
             [
              0.5555555555555556,
              "#d8576b"
             ],
             [
              0.6666666666666666,
              "#ed7953"
             ],
             [
              0.7777777777777778,
              "#fb9f3a"
             ],
             [
              0.8888888888888888,
              "#fdca26"
             ],
             [
              1,
              "#f0f921"
             ]
            ],
            "type": "surface"
           }
          ],
          "table": [
           {
            "cells": {
             "fill": {
              "color": "#EBF0F8"
             },
             "line": {
              "color": "white"
             }
            },
            "header": {
             "fill": {
              "color": "#C8D4E3"
             },
             "line": {
              "color": "white"
             }
            },
            "type": "table"
           }
          ]
         },
         "layout": {
          "annotationdefaults": {
           "arrowcolor": "#2a3f5f",
           "arrowhead": 0,
           "arrowwidth": 1
          },
          "autotypenumbers": "strict",
          "coloraxis": {
           "colorbar": {
            "outlinewidth": 0,
            "ticks": ""
           }
          },
          "colorscale": {
           "diverging": [
            [
             0,
             "#8e0152"
            ],
            [
             0.1,
             "#c51b7d"
            ],
            [
             0.2,
             "#de77ae"
            ],
            [
             0.3,
             "#f1b6da"
            ],
            [
             0.4,
             "#fde0ef"
            ],
            [
             0.5,
             "#f7f7f7"
            ],
            [
             0.6,
             "#e6f5d0"
            ],
            [
             0.7,
             "#b8e186"
            ],
            [
             0.8,
             "#7fbc41"
            ],
            [
             0.9,
             "#4d9221"
            ],
            [
             1,
             "#276419"
            ]
           ],
           "sequential": [
            [
             0,
             "#0d0887"
            ],
            [
             0.1111111111111111,
             "#46039f"
            ],
            [
             0.2222222222222222,
             "#7201a8"
            ],
            [
             0.3333333333333333,
             "#9c179e"
            ],
            [
             0.4444444444444444,
             "#bd3786"
            ],
            [
             0.5555555555555556,
             "#d8576b"
            ],
            [
             0.6666666666666666,
             "#ed7953"
            ],
            [
             0.7777777777777778,
             "#fb9f3a"
            ],
            [
             0.8888888888888888,
             "#fdca26"
            ],
            [
             1,
             "#f0f921"
            ]
           ],
           "sequentialminus": [
            [
             0,
             "#0d0887"
            ],
            [
             0.1111111111111111,
             "#46039f"
            ],
            [
             0.2222222222222222,
             "#7201a8"
            ],
            [
             0.3333333333333333,
             "#9c179e"
            ],
            [
             0.4444444444444444,
             "#bd3786"
            ],
            [
             0.5555555555555556,
             "#d8576b"
            ],
            [
             0.6666666666666666,
             "#ed7953"
            ],
            [
             0.7777777777777778,
             "#fb9f3a"
            ],
            [
             0.8888888888888888,
             "#fdca26"
            ],
            [
             1,
             "#f0f921"
            ]
           ]
          },
          "colorway": [
           "#636efa",
           "#EF553B",
           "#00cc96",
           "#ab63fa",
           "#FFA15A",
           "#19d3f3",
           "#FF6692",
           "#B6E880",
           "#FF97FF",
           "#FECB52"
          ],
          "font": {
           "color": "#2a3f5f"
          },
          "geo": {
           "bgcolor": "white",
           "lakecolor": "white",
           "landcolor": "#E5ECF6",
           "showlakes": true,
           "showland": true,
           "subunitcolor": "white"
          },
          "hoverlabel": {
           "align": "left"
          },
          "hovermode": "closest",
          "mapbox": {
           "style": "light"
          },
          "paper_bgcolor": "white",
          "plot_bgcolor": "#E5ECF6",
          "polar": {
           "angularaxis": {
            "gridcolor": "white",
            "linecolor": "white",
            "ticks": ""
           },
           "bgcolor": "#E5ECF6",
           "radialaxis": {
            "gridcolor": "white",
            "linecolor": "white",
            "ticks": ""
           }
          },
          "scene": {
           "xaxis": {
            "backgroundcolor": "#E5ECF6",
            "gridcolor": "white",
            "gridwidth": 2,
            "linecolor": "white",
            "showbackground": true,
            "ticks": "",
            "zerolinecolor": "white"
           },
           "yaxis": {
            "backgroundcolor": "#E5ECF6",
            "gridcolor": "white",
            "gridwidth": 2,
            "linecolor": "white",
            "showbackground": true,
            "ticks": "",
            "zerolinecolor": "white"
           },
           "zaxis": {
            "backgroundcolor": "#E5ECF6",
            "gridcolor": "white",
            "gridwidth": 2,
            "linecolor": "white",
            "showbackground": true,
            "ticks": "",
            "zerolinecolor": "white"
           }
          },
          "shapedefaults": {
           "line": {
            "color": "#2a3f5f"
           }
          },
          "ternary": {
           "aaxis": {
            "gridcolor": "white",
            "linecolor": "white",
            "ticks": ""
           },
           "baxis": {
            "gridcolor": "white",
            "linecolor": "white",
            "ticks": ""
           },
           "bgcolor": "#E5ECF6",
           "caxis": {
            "gridcolor": "white",
            "linecolor": "white",
            "ticks": ""
           }
          },
          "title": {
           "x": 0.05
          },
          "xaxis": {
           "automargin": true,
           "gridcolor": "white",
           "linecolor": "white",
           "ticks": "",
           "title": {
            "standoff": 15
           },
           "zerolinecolor": "white",
           "zerolinewidth": 2
          },
          "yaxis": {
           "automargin": true,
           "gridcolor": "white",
           "linecolor": "white",
           "ticks": "",
           "title": {
            "standoff": 15
           },
           "zerolinecolor": "white",
           "zerolinewidth": 2
          }
         }
        },
        "title": {
         "text": "Variacion de F1-Score CV"
        },
        "width": 1000,
        "xaxis": {
         "anchor": "y",
         "domain": [
          0,
          1
         ],
         "title": {
          "text": "CV"
         }
        },
        "yaxis": {
         "anchor": "x",
         "domain": [
          0,
          1
         ],
         "title": {
          "text": "F1-Score"
         }
        }
       }
      }
     },
     "metadata": {},
     "output_type": "display_data"
    }
   ],
   "source": [
    "scores = [rf_f1_cross_val_score, lr_f1_cross_val_score, ada_f1_cross_val_score, xgb_f1_cross_val_score]\n",
    "etiquetas = ['Random Forest', 'Regresion Logistica', 'AdaBoost', 'XGBoost']\n",
    "plot_scores(scores, etiquetas)"
   ]
  },
  {
   "cell_type": "markdown",
   "metadata": {},
   "source": [
    "De este grafico puede verse que el mejor modelo como antes, sigue siendo XGBoost, luego le continua RandomForest, por lo tanto podemos decir que la aplicacion de feature engineer funcino, para mejorar el modelo.\n",
    "\n",
    "Por lo tanto guardaremos el modelo de XGBoost en el disco para poder deployarlo."
   ]
  },
  {
   "cell_type": "markdown",
   "metadata": {},
   "source": []
  },
  {
   "cell_type": "code",
   "execution_count": 31,
   "metadata": {},
   "outputs": [
    {
     "data": {
      "text/html": [
       "<div>\n",
       "<style scoped>\n",
       "    .dataframe tbody tr th:only-of-type {\n",
       "        vertical-align: middle;\n",
       "    }\n",
       "\n",
       "    .dataframe tbody tr th {\n",
       "        vertical-align: top;\n",
       "    }\n",
       "\n",
       "    .dataframe thead th {\n",
       "        text-align: right;\n",
       "    }\n",
       "</style>\n",
       "<table border=\"1\" class=\"dataframe\">\n",
       "  <thead>\n",
       "    <tr style=\"text-align: right;\">\n",
       "      <th></th>\n",
       "      <th>Accuracy</th>\n",
       "      <th>Recall</th>\n",
       "      <th>Precision</th>\n",
       "      <th>Specificity</th>\n",
       "      <th>F1-Score</th>\n",
       "      <th>AUC</th>\n",
       "    </tr>\n",
       "  </thead>\n",
       "  <tbody>\n",
       "    <tr>\n",
       "      <th>Metricas Train</th>\n",
       "      <td>1.000</td>\n",
       "      <td>1.0000</td>\n",
       "      <td>1.0000</td>\n",
       "      <td>1.0000</td>\n",
       "      <td>1.0000</td>\n",
       "      <td>1.0000</td>\n",
       "    </tr>\n",
       "    <tr>\n",
       "      <th>Metricas Test</th>\n",
       "      <td>0.972</td>\n",
       "      <td>0.9245</td>\n",
       "      <td>0.9041</td>\n",
       "      <td>0.9811</td>\n",
       "      <td>0.9142</td>\n",
       "      <td>0.9894</td>\n",
       "    </tr>\n",
       "  </tbody>\n",
       "</table>\n",
       "</div>"
      ],
      "text/plain": [
       "                Accuracy  Recall  Precision  Specificity  F1-Score     AUC\n",
       "Metricas Train     1.000  1.0000     1.0000       1.0000    1.0000  1.0000\n",
       "Metricas Test      0.972  0.9245     0.9041       0.9811    0.9142  0.9894"
      ]
     },
     "execution_count": 31,
     "metadata": {},
     "output_type": "execute_result"
    },
    {
     "data": {
      "image/png": "[encoded data removed]",
      "text/plain": [
       "<Figure size 432x288 with 1 Axes>"
      ]
     },
     "metadata": {
      "needs_background": "light"
     },
     "output_type": "display_data"
    }
   ],
   "source": [
    "# fiteamos el modelo.\n",
    "xgb_model_pipe.fit(X_train, y_train)\n",
    "\n",
    "# Predicciones con datos de train.\n",
    "y_pred_train = xgb_model_pipe.predict(X_train)\n",
    "y_pred_proba_train = xgb_model_pipe.predict_proba(X_train)\n",
    "# Predicciones con datos de test.\n",
    "y_pred_test = xgb_model_pipe.predict(X_test)\n",
    "y_pred_proba_test = xgb_model_pipe.predict_proba(X_test)\n",
    "\n",
    "model_metrics(y_train, y_pred_train, y_pred_proba_train, y_test, y_pred_test, y_pred_proba_test)"
   ]
  },
  {
   "cell_type": "code",
   "execution_count": 32,
   "metadata": {},
   "outputs": [],
   "source": [
    "if os.path.isfile('./models/bank_churn_final_model.pkl'):\n",
    "    with open('./models/bank_churn_final_model.pkl', 'rb') as f_model:\n",
    "        grid_search_model = pickle.load(f_model)\n",
    "else:\n",
    "    with open('./models/bank_churn_final_model.pkl', 'wb') as f_model:\n",
    "        pickle.dump(xgb_model_pipe, f_model)"
   ]
  },
  {
   "cell_type": "markdown",
   "metadata": {},
   "source": [
    "Veremos ahora que columnas fueron seleccionadas por SelectKBest y el orden en el que estas quedaron. Para poder pasarle las features y asi generar la prediccion en la parte de deploy."
   ]
  },
  {
   "cell_type": "code",
   "execution_count": 33,
   "metadata": {},
   "outputs": [],
   "source": [
    "# Primero se ubicaran las columnas categoricas.\n",
    "model_cols = xgb_model_pipe['pipe_dumify'].transformers_[0][1].get_feature_names().tolist()\n",
    "\n",
    "# Luego agrego las columnas numericas.\n",
    "for i in xgb_model_pipe['scaling'].transformers_[0][2]:\n",
    "    model_cols.append(i)"
   ]
  },
  {
   "cell_type": "code",
   "execution_count": 34,
   "metadata": {},
   "outputs": [
    {
     "data": {
      "text/plain": [
       "array(['x0_M', 'x1_Doctorate', 'x1_Graduate', 'x1_High School',\n",
       "       'x1_Post-Graduate', 'x1_Uneducated', 'x2_Married', 'x2_Single',\n",
       "       'x3_$40K - $60K', 'x3_$60K - $80K', 'x3_$80K - $120K',\n",
       "       'x3_Less than $40K', 'x4_Gold', 'x4_Silver', 'Customer_Age',\n",
       "       'Dependent_count', 'Months_on_book', 'Total_Relationship_Count',\n",
       "       'Months_Inactive_12_mon', 'Contacts_Count_12_mon', 'Credit_Limit',\n",
       "       'Total_Revolving_Bal', 'Avg_Open_To_Buy', 'Total_Amt_Chng_Q4_Q1',\n",
       "       'Total_Trans_Amt', 'Total_Trans_Ct', 'Total_Ct_Chng_Q4_Q1',\n",
       "       'Avg_Utilization_Ratio'], dtype='<U24')"
      ]
     },
     "execution_count": 34,
     "metadata": {},
     "output_type": "execute_result"
    }
   ],
   "source": [
    "mask = xgb_model_pipe['selectfrommodel'].get_support()\n",
    "array = np.array(model_cols)\n",
    "array[mask]"
   ]
  },
  {
   "cell_type": "code",
   "execution_count": null,
   "metadata": {},
   "outputs": [],
   "source": []
  }
 ],
 "metadata": {
  "kernelspec": {
   "display_name": "Python 3.8.13 ('dhdsblend2021')",
   "language": "python",
   "name": "python3"
  },
  "language_info": {
   "codemirror_mode": {
    "name": "ipython",
    "version": 3
   },
   "file_extension": ".py",
   "mimetype": "text/x-python",
   "name": "python",
   "nbconvert_exporter": "python",
   "pygments_lexer": "ipython3",
   "version": "3.8.13"
  },
  "orig_nbformat": 4,
  "vscode": {
   "interpreter": {
    "hash": "9689ec58c8207ae0e5df44f3c0da8809222a7a4816f0f8cce8ef27c7a9266816"
   }
  }
 },
 "nbformat": 4,
 "nbformat_minor": 2
}
