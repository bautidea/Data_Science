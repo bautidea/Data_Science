version https://git-lfs.github.com/spec/v1
oid sha256:3df248576fda62af91c4e4fc8994665b381574e5a60a8c346d591eb5f90b7b28
size 83993148
