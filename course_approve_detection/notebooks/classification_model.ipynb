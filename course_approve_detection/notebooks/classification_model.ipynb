{
 "cells": [
  {
   "cell_type": "markdown",
   "metadata": {},
   "source": [
    "# Classification ML Model NB."
   ]
  },
  {
   "cell_type": "code",
   "execution_count": 33,
   "metadata": {},
   "outputs": [],
   "source": [
    "# Data manipulation.\n",
    "import pandas as pd\n",
    "import numpy as np\n",
    "\n",
    "# Data Preparation.\n",
    "from sklearn.model_selection import train_test_split\n",
    "from sklearn.preprocessing import StandardScaler\n",
    "\n",
    "# Class balancing.\n",
    "from imblearn.over_sampling import SMOTE\n",
    "\n",
    "# ML models.\n",
    "from sklearn.linear_model import LogisticRegression\n",
    "from xgboost import XGBClassifier\n",
    "from sklearn.ensemble import RandomForestClassifier\n",
    "\n",
    "# Metrics.\n",
    "from sklearn.metrics import auc, confusion_matrix, f1_score, precision_score, recall_score, roc_curve, accuracy_score\n",
    "\n",
    "# Hyperparameter tunning.\n",
    "from sklearn.model_selection import RandomizedSearchCV\n",
    "\n",
    "# Model export.\n",
    "import joblib\n",
    "\n",
    "# Plots\n",
    "import seaborn as sns\n",
    "from matplotlib import pyplot as plt\n",
    "import plotly.express as px\n",
    "\n",
    "pd.set_option('display.max_columns', None)"
   ]
  },
  {
   "cell_type": "markdown",
   "metadata": {},
   "source": [
    "# Loading Data"
   ]
  },
  {
   "cell_type": "code",
   "execution_count": 2,
   "metadata": {},
   "outputs": [
    {
     "data": {
      "text/html": [
       "<div>\n",
       "<style scoped>\n",
       "    .dataframe tbody tr th:only-of-type {\n",
       "        vertical-align: middle;\n",
       "    }\n",
       "\n",
       "    .dataframe tbody tr th {\n",
       "        vertical-align: top;\n",
       "    }\n",
       "\n",
       "    .dataframe thead th {\n",
       "        text-align: right;\n",
       "    }\n",
       "</style>\n",
       "<table border=\"1\" class=\"dataframe\">\n",
       "  <thead>\n",
       "    <tr style=\"text-align: right;\">\n",
       "      <th></th>\n",
       "      <th>materia_aprobada</th>\n",
       "      <th>nota_final_materia</th>\n",
       "      <th>periodo_1-2022</th>\n",
       "      <th>integrador</th>\n",
       "      <th>primer_parcial</th>\n",
       "      <th>recuperatorio_primer_parcial</th>\n",
       "      <th>recuperatorio_segundo_parcial</th>\n",
       "      <th>segundo_parcial</th>\n",
       "      <th>evaluacion_diagnostica</th>\n",
       "      <th>api1</th>\n",
       "      <th>api1_score</th>\n",
       "      <th>api1_time_to_submit[days]</th>\n",
       "      <th>api2</th>\n",
       "      <th>api2_score</th>\n",
       "      <th>api2_time_to_submit[days]</th>\n",
       "      <th>api3</th>\n",
       "      <th>api3_score</th>\n",
       "      <th>api3_time_to_submit[days]</th>\n",
       "      <th>api4</th>\n",
       "      <th>api4_score</th>\n",
       "      <th>api4_time_to_submit[days]</th>\n",
       "      <th>ed3</th>\n",
       "      <th>ed3_score</th>\n",
       "      <th>ed3_time_to_submit[days]</th>\n",
       "      <th>ed4</th>\n",
       "      <th>ed4_score</th>\n",
       "      <th>ed4_time_to_submit[days]</th>\n",
       "      <th>otros_trabajos</th>\n",
       "      <th>otros_trabajos_score</th>\n",
       "      <th>tp1</th>\n",
       "      <th>tp1_score</th>\n",
       "      <th>tp1_time_to_submit[days]</th>\n",
       "      <th>tp2</th>\n",
       "      <th>tp2_score</th>\n",
       "      <th>tp2_time_to_submit[days]</th>\n",
       "      <th>tp3</th>\n",
       "      <th>tp3_score</th>\n",
       "      <th>tp3_time_to_submit[days]</th>\n",
       "      <th>tp4</th>\n",
       "      <th>tp4_score</th>\n",
       "      <th>tp4_time_to_submit[days]</th>\n",
       "      <th>basic_lti_launch_submits</th>\n",
       "      <th>discussion_topic_submits</th>\n",
       "      <th>external_tool_submits</th>\n",
       "      <th>media_recording_submits</th>\n",
       "      <th>online_quiz_submits</th>\n",
       "      <th>online_text_entry_submits</th>\n",
       "      <th>online_upload_submits</th>\n",
       "    </tr>\n",
       "  </thead>\n",
       "  <tbody>\n",
       "    <tr>\n",
       "      <th>3d9a24d8-787d-46a1-a594-5bec5ed54f34/a5203855-08da-4f17-8931-48115e78b1c9</th>\n",
       "      <td>1</td>\n",
       "      <td>10.0</td>\n",
       "      <td>1</td>\n",
       "      <td>-1</td>\n",
       "      <td>9</td>\n",
       "      <td>-1</td>\n",
       "      <td>-1</td>\n",
       "      <td>10</td>\n",
       "      <td>-1</td>\n",
       "      <td>1</td>\n",
       "      <td>80.0</td>\n",
       "      <td>0.0</td>\n",
       "      <td>1</td>\n",
       "      <td>100.0</td>\n",
       "      <td>0.0</td>\n",
       "      <td>1</td>\n",
       "      <td>100.0</td>\n",
       "      <td>0.0</td>\n",
       "      <td>1</td>\n",
       "      <td>100.0</td>\n",
       "      <td>0.0</td>\n",
       "      <td>-1</td>\n",
       "      <td>0.0</td>\n",
       "      <td>-1.0</td>\n",
       "      <td>-1</td>\n",
       "      <td>0.0</td>\n",
       "      <td>-1.0</td>\n",
       "      <td>0</td>\n",
       "      <td>0.0</td>\n",
       "      <td>1</td>\n",
       "      <td>72.5</td>\n",
       "      <td>0.0</td>\n",
       "      <td>1</td>\n",
       "      <td>88.33</td>\n",
       "      <td>0.0</td>\n",
       "      <td>1</td>\n",
       "      <td>85.0</td>\n",
       "      <td>0.0</td>\n",
       "      <td>1</td>\n",
       "      <td>80.0</td>\n",
       "      <td>0.0</td>\n",
       "      <td>0</td>\n",
       "      <td>0</td>\n",
       "      <td>4</td>\n",
       "      <td>0</td>\n",
       "      <td>4</td>\n",
       "      <td>0</td>\n",
       "      <td>0</td>\n",
       "    </tr>\n",
       "  </tbody>\n",
       "</table>\n",
       "</div>"
      ],
      "text/plain": [
       "                                                    materia_aprobada  \\\n",
       "3d9a24d8-787d-46a1-a594-5bec5ed54f34/a5203855-0...                 1   \n",
       "\n",
       "                                                    nota_final_materia  \\\n",
       "3d9a24d8-787d-46a1-a594-5bec5ed54f34/a5203855-0...                10.0   \n",
       "\n",
       "                                                    periodo_1-2022  \\\n",
       "3d9a24d8-787d-46a1-a594-5bec5ed54f34/a5203855-0...               1   \n",
       "\n",
       "                                                    integrador  \\\n",
       "3d9a24d8-787d-46a1-a594-5bec5ed54f34/a5203855-0...          -1   \n",
       "\n",
       "                                                    primer_parcial  \\\n",
       "3d9a24d8-787d-46a1-a594-5bec5ed54f34/a5203855-0...               9   \n",
       "\n",
       "                                                    recuperatorio_primer_parcial  \\\n",
       "3d9a24d8-787d-46a1-a594-5bec5ed54f34/a5203855-0...                            -1   \n",
       "\n",
       "                                                    recuperatorio_segundo_parcial  \\\n",
       "3d9a24d8-787d-46a1-a594-5bec5ed54f34/a5203855-0...                             -1   \n",
       "\n",
       "                                                    segundo_parcial  \\\n",
       "3d9a24d8-787d-46a1-a594-5bec5ed54f34/a5203855-0...               10   \n",
       "\n",
       "                                                    evaluacion_diagnostica  \\\n",
       "3d9a24d8-787d-46a1-a594-5bec5ed54f34/a5203855-0...                      -1   \n",
       "\n",
       "                                                    api1  api1_score  \\\n",
       "3d9a24d8-787d-46a1-a594-5bec5ed54f34/a5203855-0...     1        80.0   \n",
       "\n",
       "                                                    api1_time_to_submit[days]  \\\n",
       "3d9a24d8-787d-46a1-a594-5bec5ed54f34/a5203855-0...                        0.0   \n",
       "\n",
       "                                                    api2  api2_score  \\\n",
       "3d9a24d8-787d-46a1-a594-5bec5ed54f34/a5203855-0...     1       100.0   \n",
       "\n",
       "                                                    api2_time_to_submit[days]  \\\n",
       "3d9a24d8-787d-46a1-a594-5bec5ed54f34/a5203855-0...                        0.0   \n",
       "\n",
       "                                                    api3  api3_score  \\\n",
       "3d9a24d8-787d-46a1-a594-5bec5ed54f34/a5203855-0...     1       100.0   \n",
       "\n",
       "                                                    api3_time_to_submit[days]  \\\n",
       "3d9a24d8-787d-46a1-a594-5bec5ed54f34/a5203855-0...                        0.0   \n",
       "\n",
       "                                                    api4  api4_score  \\\n",
       "3d9a24d8-787d-46a1-a594-5bec5ed54f34/a5203855-0...     1       100.0   \n",
       "\n",
       "                                                    api4_time_to_submit[days]  \\\n",
       "3d9a24d8-787d-46a1-a594-5bec5ed54f34/a5203855-0...                        0.0   \n",
       "\n",
       "                                                    ed3  ed3_score  \\\n",
       "3d9a24d8-787d-46a1-a594-5bec5ed54f34/a5203855-0...   -1        0.0   \n",
       "\n",
       "                                                    ed3_time_to_submit[days]  \\\n",
       "3d9a24d8-787d-46a1-a594-5bec5ed54f34/a5203855-0...                      -1.0   \n",
       "\n",
       "                                                    ed4  ed4_score  \\\n",
       "3d9a24d8-787d-46a1-a594-5bec5ed54f34/a5203855-0...   -1        0.0   \n",
       "\n",
       "                                                    ed4_time_to_submit[days]  \\\n",
       "3d9a24d8-787d-46a1-a594-5bec5ed54f34/a5203855-0...                      -1.0   \n",
       "\n",
       "                                                    otros_trabajos  \\\n",
       "3d9a24d8-787d-46a1-a594-5bec5ed54f34/a5203855-0...               0   \n",
       "\n",
       "                                                    otros_trabajos_score  tp1  \\\n",
       "3d9a24d8-787d-46a1-a594-5bec5ed54f34/a5203855-0...                   0.0    1   \n",
       "\n",
       "                                                    tp1_score  \\\n",
       "3d9a24d8-787d-46a1-a594-5bec5ed54f34/a5203855-0...       72.5   \n",
       "\n",
       "                                                    tp1_time_to_submit[days]  \\\n",
       "3d9a24d8-787d-46a1-a594-5bec5ed54f34/a5203855-0...                       0.0   \n",
       "\n",
       "                                                    tp2  tp2_score  \\\n",
       "3d9a24d8-787d-46a1-a594-5bec5ed54f34/a5203855-0...    1      88.33   \n",
       "\n",
       "                                                    tp2_time_to_submit[days]  \\\n",
       "3d9a24d8-787d-46a1-a594-5bec5ed54f34/a5203855-0...                       0.0   \n",
       "\n",
       "                                                    tp3  tp3_score  \\\n",
       "3d9a24d8-787d-46a1-a594-5bec5ed54f34/a5203855-0...    1       85.0   \n",
       "\n",
       "                                                    tp3_time_to_submit[days]  \\\n",
       "3d9a24d8-787d-46a1-a594-5bec5ed54f34/a5203855-0...                       0.0   \n",
       "\n",
       "                                                    tp4  tp4_score  \\\n",
       "3d9a24d8-787d-46a1-a594-5bec5ed54f34/a5203855-0...    1       80.0   \n",
       "\n",
       "                                                    tp4_time_to_submit[days]  \\\n",
       "3d9a24d8-787d-46a1-a594-5bec5ed54f34/a5203855-0...                       0.0   \n",
       "\n",
       "                                                    basic_lti_launch_submits  \\\n",
       "3d9a24d8-787d-46a1-a594-5bec5ed54f34/a5203855-0...                         0   \n",
       "\n",
       "                                                    discussion_topic_submits  \\\n",
       "3d9a24d8-787d-46a1-a594-5bec5ed54f34/a5203855-0...                         0   \n",
       "\n",
       "                                                    external_tool_submits  \\\n",
       "3d9a24d8-787d-46a1-a594-5bec5ed54f34/a5203855-0...                      4   \n",
       "\n",
       "                                                    media_recording_submits  \\\n",
       "3d9a24d8-787d-46a1-a594-5bec5ed54f34/a5203855-0...                        0   \n",
       "\n",
       "                                                    online_quiz_submits  \\\n",
       "3d9a24d8-787d-46a1-a594-5bec5ed54f34/a5203855-0...                    4   \n",
       "\n",
       "                                                    online_text_entry_submits  \\\n",
       "3d9a24d8-787d-46a1-a594-5bec5ed54f34/a5203855-0...                          0   \n",
       "\n",
       "                                                    online_upload_submits  \n",
       "3d9a24d8-787d-46a1-a594-5bec5ed54f34/a5203855-0...                      0  "
      ]
     },
     "execution_count": 2,
     "metadata": {},
     "output_type": "execute_result"
    }
   ],
   "source": [
    "path_processed_data = '../data/processed/'\n",
    "file_name = 'challenge_processed.csv'\n",
    "\n",
    "data = pd.read_csv(path_processed_data + file_name, index_col=0)\n",
    "data.sample()"
   ]
  },
  {
   "cell_type": "code",
   "execution_count": 3,
   "metadata": {},
   "outputs": [],
   "source": [
    "# Droping un-useful columns.\n",
    "data.drop(columns=['nota_final_materia'], inplace=True)"
   ]
  },
  {
   "cell_type": "code",
   "execution_count": 4,
   "metadata": {},
   "outputs": [],
   "source": [
    "# Selecting features and target variable.\n",
    "X = data.drop(columns='materia_aprobada')\n",
    "y = data['materia_aprobada']\n",
    "\n",
    "# Random State.\n",
    "rnd_st = 13"
   ]
  },
  {
   "cell_type": "markdown",
   "metadata": {},
   "source": [
    "Checking if target class is unbalanced"
   ]
  },
  {
   "cell_type": "code",
   "execution_count": 5,
   "metadata": {},
   "outputs": [
    {
     "name": "stdout",
     "output_type": "stream",
     "text": [
      "Sample size: 2758\n"
     ]
    },
    {
     "data": {
      "text/plain": [
       "1    0.973894\n",
       "0    0.026106\n",
       "Name: materia_aprobada, dtype: float64"
      ]
     },
     "execution_count": 5,
     "metadata": {},
     "output_type": "execute_result"
    }
   ],
   "source": [
    "print(f'Sample size: {len(data)}')\n",
    "y.value_counts(normalize=True)"
   ]
  },
  {
   "cell_type": "markdown",
   "metadata": {},
   "source": [
    "Here we can see that target class is heavily unbalanced, so one technique i can apply in order to improve model performance is class balancing. Ill try to use oversample,undersample, and / or class weighting."
   ]
  },
  {
   "cell_type": "markdown",
   "metadata": {},
   "source": [
    "# Dataset preparation.\n",
    "Im going to prepare the dataset in order to train my ML model, im going to:\n",
    "\n",
    "- Divide my data into train and test.\n",
    "- Normalize numerical data.\n",
    "- Balance target class."
   ]
  },
  {
   "cell_type": "markdown",
   "metadata": {},
   "source": [
    "## Dividing data into train and test."
   ]
  },
  {
   "cell_type": "code",
   "execution_count": 6,
   "metadata": {},
   "outputs": [],
   "source": [
    "X_train, X_test, y_train, y_test = train_test_split(X, y, stratify=y, random_state=rnd_st, test_size=0.3)"
   ]
  },
  {
   "cell_type": "markdown",
   "metadata": {},
   "source": [
    "## Normalizing data."
   ]
  },
  {
   "cell_type": "code",
   "execution_count": 7,
   "metadata": {},
   "outputs": [],
   "source": [
    "sc = StandardScaler()\n",
    "X_train_sc = sc.fit_transform(X_train)\n",
    "X_test_sc = sc.transform(X_test)"
   ]
  },
  {
   "cell_type": "markdown",
   "metadata": {},
   "source": [
    "## Balancing target class.\n",
    "\n",
    "Balancing techniques are employed to address imbalanced classes within the dataset. Imbalanced datasets occur when one class has significantly fewer samples than another, and this can lead to biased model training and poor performance, especially for the minority class.\n",
    "\n",
    "In this exercise im going to apply Oversample, this is due to the fact that the target class is heavily underbalanced, so if i apply undersample the leftover will be a really small dataset. "
   ]
  },
  {
   "cell_type": "code",
   "execution_count": 8,
   "metadata": {},
   "outputs": [
    {
     "data": {
      "text/plain": [
       "1    1880\n",
       "0    1880\n",
       "Name: materia_aprobada, dtype: int64"
      ]
     },
     "execution_count": 8,
     "metadata": {},
     "output_type": "execute_result"
    }
   ],
   "source": [
    "smote = SMOTE(random_state=rnd_st)\n",
    "X_train_sc_ovrsmpl, y_train_ovrsmpl = smote.fit_resample(X_train_sc, y_train)\n",
    "\n",
    "y_train_ovrsmpl.value_counts()"
   ]
  },
  {
   "cell_type": "markdown",
   "metadata": {},
   "source": [
    "# Model training and evaluation.\n",
    "Now im going to train different classification models:\n",
    "\n",
    "- Logistic Regression.\n",
    "- Random Forest.\n",
    "- Gradient Boosting (XGBoost).\n",
    "\n",
    "After training the different models im going to evaluate the performance of them by using some metrics, and AUC / ROC curves. "
   ]
  },
  {
   "cell_type": "markdown",
   "metadata": {},
   "source": [
    "## Model training. "
   ]
  },
  {
   "cell_type": "code",
   "execution_count": 9,
   "metadata": {},
   "outputs": [],
   "source": [
    "def fit_train_model (X_train, X_test, y_train, model = 'lr'):\n",
    "    \"\"\"\n",
    "    Fit and train a classification model on the given training data and make predictions on both\n",
    "    the training and test datasets.\n",
    "\n",
    "    Parameters:\n",
    "    - X_train (array-like): Training features.\n",
    "    - X_test (array-like): Test features.\n",
    "    - y_train (array-like): Training labels.\n",
    "    - model (str, default='lr'): Type of classification model to use. Options include:\n",
    "        - 'lr': Logistic Regression\n",
    "        - 'rf': Random Forest Classifier\n",
    "        - 'xgb': XGBoost Classifier\n",
    "\n",
    "    Returns:\n",
    "    - y_pred_train (array): Predicted labels for the training set.\n",
    "    - y_pred_train_proba (array): Predicted probabilities for each class on the training set.\n",
    "    - y_pred_test (array): Predicted labels for the test set.\n",
    "    - y_pred_test_proba (array): Predicted probabilities for each class on the test set.\n",
    "\n",
    "    Notes:\n",
    "    - For 'lr' (Logistic Regression):\n",
    "        - Default parameters are used, but can be modified within the function.\n",
    "    - For 'rf' (Random Forest Classifier):\n",
    "        - Default parameters are used, but can be modified within the function.\n",
    "    - For 'xgb' (XGBoost Classifier):\n",
    "        - Baseline parameters are used, but can be modified within the function.\n",
    "          These parameters are suitable for binary classification problems.\n",
    "\n",
    "    Example:\n",
    "    ```python\n",
    "    X_train, X_test, y_train = load_data()\n",
    "    y_pred_train, y_pred_train_proba, y_pred_test, y_pred_test_proba = fit_train_model(X_train, X_test, y_train, model='rf')\n",
    "    ```\n",
    "    \"\"\"\n",
    "    if model == 'lr':\n",
    "        # These parameters can be modified, i found that they are the ones\n",
    "        # that perform the best.\n",
    "        model = LogisticRegression(\n",
    "            penalty='l2',\n",
    "            fit_intercept=True,\n",
    "            class_weight=None,\n",
    "            random_state=rnd_st,\n",
    "            solver='liblinear',\n",
    "            max_iter=150,\n",
    "            verbose=0\n",
    "        )\n",
    "\n",
    "        model.fit(X_train, y_train)\n",
    "    \n",
    "    if model == 'rf':\n",
    "        model = RandomForestClassifier(\n",
    "            n_estimators=150,\n",
    "            criterion='gini', # {“gini”, “entropy”, “log_loss”}\n",
    "            max_depth=None,\n",
    "            max_features= None, # {“sqrt”, “log2”, None}\n",
    "            n_jobs=-1,\n",
    "            random_state=rnd_st,\n",
    "            verbose=0,\n",
    "            class_weight=None\n",
    "        )\n",
    "\n",
    "        model.fit(X_train, y_train)\n",
    "    \n",
    "    if model == 'xgb':\n",
    "        # baseline parameters\n",
    "        baseline_params = {\n",
    "            'objective': 'binary:logistic',  # Binary classification problem\n",
    "            'eval_metric': 'logloss',         # Logarithmic loss for evaluation\n",
    "            'eta': 0.3,                       # Learning rate\n",
    "            'max_depth': 6,                   # Maximum depth of a tree\n",
    "            'min_child_weight': 1,            # Minimum sum of instance weight needed in a child\n",
    "            'subsample': 1.0,                 # Fraction of observations to be randomly sampled for each boosting round\n",
    "            'colsample_bytree': 1.0,          # Fraction of features to be randomly sampled for each boosting round\n",
    "            'gamma': 0,                       # Minimum loss reduction required to make a further partition on a leaf node\n",
    "            'lambda': 1,                      # L2 regularization term on weights\n",
    "            'alpha': 0,                       # L1 regularization term on weights\n",
    "            'scale_pos_weight': 1,            # Controls the balance of positive and negative weights\n",
    "            'n_estimators': 100,              # Number of boosting rounds (trees)\n",
    "            'seed': rnd_st                         # Random seed for reproducibility\n",
    "        }\n",
    "\n",
    "        model = XGBClassifier(**baseline_params)\n",
    "\n",
    "        model.fit(X_train, y_train)\n",
    "        \n",
    "    # Predicting train data.\n",
    "    y_pred_train = model.predict(X_train)\n",
    "    y_pred_train_proba = model.predict_proba(X_train)\n",
    "    \n",
    "    # Predicting test data.\n",
    "    y_pred_test = model.predict(X_test)\n",
    "    y_pred_test_proba = model.predict_proba(X_test)\n",
    "    \n",
    "    return y_pred_train, y_pred_train_proba, y_pred_test, y_pred_test_proba"
   ]
  },
  {
   "cell_type": "markdown",
   "metadata": {},
   "source": [
    "### Unbalanced Dataset."
   ]
  },
  {
   "cell_type": "markdown",
   "metadata": {},
   "source": [
    "#### Logistic Regression."
   ]
  },
  {
   "cell_type": "code",
   "execution_count": 10,
   "metadata": {},
   "outputs": [],
   "source": [
    "y_pred_train_lr, y_pred_train_lr_proba, y_pred_test_lr, y_pred_test_lr_proba = \\\n",
    "    fit_train_model(X_train_sc, X_test_sc, y_train,model='lr')"
   ]
  },
  {
   "cell_type": "markdown",
   "metadata": {},
   "source": [
    "#### Random Forest."
   ]
  },
  {
   "cell_type": "code",
   "execution_count": 11,
   "metadata": {},
   "outputs": [],
   "source": [
    "y_pred_train_rf, y_pred_train_rf_proba, y_pred_test_rf, y_pred_test_rf_proba = \\\n",
    "    fit_train_model(X_train_sc, X_test_sc, y_train,model='rf')"
   ]
  },
  {
   "cell_type": "markdown",
   "metadata": {},
   "source": [
    "#### XGBoost."
   ]
  },
  {
   "cell_type": "code",
   "execution_count": 12,
   "metadata": {},
   "outputs": [],
   "source": [
    "y_pred_train_xgb, y_pred_train_xgb_proba, y_pred_test_xgb, y_pred_test_xgb_proba = \\\n",
    "    fit_train_model(X_train_sc, X_test_sc, y_train,model='xgb')"
   ]
  },
  {
   "cell_type": "markdown",
   "metadata": {},
   "source": [
    "### Balanced Dataset."
   ]
  },
  {
   "cell_type": "markdown",
   "metadata": {},
   "source": [
    "#### Logistic Regression."
   ]
  },
  {
   "cell_type": "code",
   "execution_count": 13,
   "metadata": {},
   "outputs": [],
   "source": [
    "y_pred_train_ovrsmpl_lr, y_pred_train_ovrsmpl_lr_proba, y_pred_test_ovrsmpl_lr, y_pred_test_ovrsmpl_lr_proba = \\\n",
    "    fit_train_model(X_train_sc_ovrsmpl, X_test_sc, y_train_ovrsmpl,model='lr')"
   ]
  },
  {
   "cell_type": "markdown",
   "metadata": {},
   "source": [
    "#### Random Forest."
   ]
  },
  {
   "cell_type": "code",
   "execution_count": 14,
   "metadata": {},
   "outputs": [],
   "source": [
    "y_pred_train_ovrsmpl_rf, y_pred_train_ovrsmpl_rf_proba, y_pred_test_ovrsmpl_rf, y_pred_test_ovrsmpl_rf_proba = \\\n",
    "    fit_train_model(X_train_sc_ovrsmpl, X_test_sc, y_train_ovrsmpl,model='rf')"
   ]
  },
  {
   "cell_type": "markdown",
   "metadata": {},
   "source": [
    "#### XGBoost."
   ]
  },
  {
   "cell_type": "code",
   "execution_count": 15,
   "metadata": {},
   "outputs": [],
   "source": [
    "y_pred_train_ovrsmpl_xgb, y_pred_train_ovrsmpl_xgb_proba, y_pred_test_ovrsmpl_xgb, y_pred_test_ovrsmpl_xgb_proba = \\\n",
    "    fit_train_model(X_train_sc_ovrsmpl, X_test_sc, y_train_ovrsmpl,model='xgb')"
   ]
  },
  {
   "cell_type": "markdown",
   "metadata": {},
   "source": [
    "## Model Evaluation."
   ]
  },
  {
   "cell_type": "code",
   "execution_count": 16,
   "metadata": {},
   "outputs": [],
   "source": [
    "def model_metrics(y_train, y_pred_train, y_pred_train_proba, y_test, y_pred_test, y_pred_test_proba, plot_conf_mat=True):\n",
    "    \"\"\"\n",
    "    Calculate and display various classification metrics for both training and test datasets.\n",
    "    \n",
    "    Parameters:\n",
    "    - y_train (array-like): True labels for the training set.\n",
    "    - y_pred_train (array-like): Predicted labels for the training set.\n",
    "    - y_pred_train_proba (array-like): Predicted probabilities for each class on the training set.\n",
    "    - y_test (array-like): True labels for the test set.\n",
    "    - y_pred_test (array-like): Predicted labels for the test set.\n",
    "    - y_pred_test_proba (array-like): Predicted probabilities for each class on the test set.\n",
    "    - plot_conf_mat (bool, default=True): If True, plot the confusion matrix for the test set.\n",
    "\n",
    "    Returns:\n",
    "    - data_result (DataFrame): DataFrame containing accuracy, recall, precision, specificity, F1-score,\n",
    "      and AUC for both the training and test datasets.\n",
    "    \"\"\"\n",
    "    # ---METRICS TRAIN---\n",
    "    # Confusion matrix with training data.\n",
    "    conf_matrix_train = confusion_matrix(y_train, y_pred_train)\n",
    "    \n",
    "    # Extract TN, FP, FN, TP from the confusion matrix for training.\n",
    "    tn_train, fp_train, fn_train, tp_train = conf_matrix_train.ravel()\n",
    "    \n",
    "    # Calculate metrics for training.\n",
    "    acc_score_train = np.round(accuracy_score(y_train, y_pred_train), 4)\n",
    "    rec_score_train = np.round(recall_score(y_train, y_pred_train), 4)\n",
    "    prec_score_train = np.round(precision_score(y_train, y_pred_train), 4)\n",
    "    spec_score_train = np.round((tn_train / (tn_train + fp_train)), 4)\n",
    "    f_score_train = np.round(f1_score(y_train, y_pred_train), 4)\n",
    "    \n",
    "    fpr_log_train, tpr_log_train, thr_log_train = roc_curve(y_train, y_pred_train_proba[:, 1])\n",
    "    auc_score_train = np.round(auc(fpr_log_train, tpr_log_train), 4)\n",
    "    \n",
    "    # ---METRICS TEST---\n",
    "    conf_matrix_test = confusion_matrix(y_test, y_pred_test)\n",
    "    \n",
    "    tn_test, fp_test, fn_test, tp_test = conf_matrix_test.ravel()\n",
    "    \n",
    "    acc_score_test = np.round(accuracy_score(y_test, y_pred_test), 4)\n",
    "    rec_score_test = np.round(recall_score(y_test, y_pred_test), 4)\n",
    "    prec_score_test = np.round(precision_score(y_test, y_pred_test), 4)\n",
    "    spec_score_test = np.round((tn_test / (tn_test + fp_test)), 4)\n",
    "    f_score_test = np.round(f1_score(y_test, y_pred_test), 4)\n",
    "    \n",
    "    fpr_log_test, tpr_log_test, thr_log_test = roc_curve(y_test, y_pred_test_proba[:, 1])\n",
    "    auc_score_test = np.round(auc(fpr_log_test, tpr_log_test), 4)\n",
    "    \n",
    "    # Create a DataFrame with two rows (training and test) and six columns for the metrics.\n",
    "    data_df = [\n",
    "        [acc_score_train, rec_score_train, prec_score_train, spec_score_train, f_score_train, auc_score_train],\n",
    "        [acc_score_test, rec_score_test, prec_score_test, spec_score_test, f_score_test, auc_score_test]\n",
    "    ]\n",
    "    \n",
    "    # Define column names.\n",
    "    columns_df = ['Accuracy', 'Recall', 'Precision', 'Specificity', 'F1-Score', 'AUC']\n",
    "\n",
    "    # Create DataFrame.\n",
    "    data_result = pd.DataFrame(data_df, columns=columns_df, index=['Metrics Train', 'Metrics Test'])\n",
    "    \n",
    "    # If specified, plot the confusion matrix for the test set.\n",
    "    if plot_conf_mat:\n",
    "        sns.heatmap(conf_matrix_test, annot=True, fmt='d', cbar=False, cmap=\"YlGnBu\")\n",
    "        plt.xlabel('Predicted Values')\n",
    "        plt.ylabel('True Values')\n",
    "    \n",
    "    # Return the DataFrame with the metrics.\n",
    "    return data_result"
   ]
  },
  {
   "cell_type": "markdown",
   "metadata": {},
   "source": [
    "### Unbalanced Dataset."
   ]
  },
  {
   "cell_type": "markdown",
   "metadata": {},
   "source": [
    "#### Logistic Regression."
   ]
  },
  {
   "cell_type": "code",
   "execution_count": 17,
   "metadata": {},
   "outputs": [
    {
     "data": {
      "text/html": [
       "<div>\n",
       "<style scoped>\n",
       "    .dataframe tbody tr th:only-of-type {\n",
       "        vertical-align: middle;\n",
       "    }\n",
       "\n",
       "    .dataframe tbody tr th {\n",
       "        vertical-align: top;\n",
       "    }\n",
       "\n",
       "    .dataframe thead th {\n",
       "        text-align: right;\n",
       "    }\n",
       "</style>\n",
       "<table border=\"1\" class=\"dataframe\">\n",
       "  <thead>\n",
       "    <tr style=\"text-align: right;\">\n",
       "      <th></th>\n",
       "      <th>Accuracy</th>\n",
       "      <th>Recall</th>\n",
       "      <th>Precision</th>\n",
       "      <th>Specificity</th>\n",
       "      <th>F1-Score</th>\n",
       "      <th>AUC</th>\n",
       "    </tr>\n",
       "  </thead>\n",
       "  <tbody>\n",
       "    <tr>\n",
       "      <th>Metrics Train</th>\n",
       "      <td>0.9741</td>\n",
       "      <td>0.9968</td>\n",
       "      <td>0.9771</td>\n",
       "      <td>0.1200</td>\n",
       "      <td>0.9868</td>\n",
       "      <td>0.9509</td>\n",
       "    </tr>\n",
       "    <tr>\n",
       "      <th>Metrics Test</th>\n",
       "      <td>0.9650</td>\n",
       "      <td>0.9901</td>\n",
       "      <td>0.9744</td>\n",
       "      <td>0.0455</td>\n",
       "      <td>0.9822</td>\n",
       "      <td>0.8552</td>\n",
       "    </tr>\n",
       "  </tbody>\n",
       "</table>\n",
       "</div>"
      ],
      "text/plain": [
       "               Accuracy  Recall  Precision  Specificity  F1-Score     AUC\n",
       "Metrics Train    0.9741  0.9968     0.9771       0.1200    0.9868  0.9509\n",
       "Metrics Test     0.9650  0.9901     0.9744       0.0455    0.9822  0.8552"
      ]
     },
     "execution_count": 17,
     "metadata": {},
     "output_type": "execute_result"
    },
    {
     "data": {
      "image/png": "[encoded data removed]",
      "text/plain": [
       "<Figure size 640x480 with 1 Axes>"
      ]
     },
     "metadata": {},
     "output_type": "display_data"
    }
   ],
   "source": [
    "data_result = model_metrics(\n",
    "    y_train,\n",
    "    y_pred_train_lr,\n",
    "    y_pred_train_lr_proba,\n",
    "    y_test,\n",
    "    y_pred_test_lr,\n",
    "    y_pred_test_lr_proba,\n",
    "    plot_conf_mat=True\n",
    ")\n",
    "data_result"
   ]
  },
  {
   "cell_type": "markdown",
   "metadata": {},
   "source": [
    "#### Random Forest."
   ]
  },
  {
   "cell_type": "code",
   "execution_count": 18,
   "metadata": {},
   "outputs": [
    {
     "data": {
      "text/html": [
       "<div>\n",
       "<style scoped>\n",
       "    .dataframe tbody tr th:only-of-type {\n",
       "        vertical-align: middle;\n",
       "    }\n",
       "\n",
       "    .dataframe tbody tr th {\n",
       "        vertical-align: top;\n",
       "    }\n",
       "\n",
       "    .dataframe thead th {\n",
       "        text-align: right;\n",
       "    }\n",
       "</style>\n",
       "<table border=\"1\" class=\"dataframe\">\n",
       "  <thead>\n",
       "    <tr style=\"text-align: right;\">\n",
       "      <th></th>\n",
       "      <th>Accuracy</th>\n",
       "      <th>Recall</th>\n",
       "      <th>Precision</th>\n",
       "      <th>Specificity</th>\n",
       "      <th>F1-Score</th>\n",
       "      <th>AUC</th>\n",
       "    </tr>\n",
       "  </thead>\n",
       "  <tbody>\n",
       "    <tr>\n",
       "      <th>Metrics Train</th>\n",
       "      <td>1.0000</td>\n",
       "      <td>1.0000</td>\n",
       "      <td>1.0000</td>\n",
       "      <td>1.0</td>\n",
       "      <td>1.0000</td>\n",
       "      <td>1.0000</td>\n",
       "    </tr>\n",
       "    <tr>\n",
       "      <th>Metrics Test</th>\n",
       "      <td>0.9722</td>\n",
       "      <td>0.9988</td>\n",
       "      <td>0.9734</td>\n",
       "      <td>0.0</td>\n",
       "      <td>0.9859</td>\n",
       "      <td>0.8871</td>\n",
       "    </tr>\n",
       "  </tbody>\n",
       "</table>\n",
       "</div>"
      ],
      "text/plain": [
       "               Accuracy  Recall  Precision  Specificity  F1-Score     AUC\n",
       "Metrics Train    1.0000  1.0000     1.0000          1.0    1.0000  1.0000\n",
       "Metrics Test     0.9722  0.9988     0.9734          0.0    0.9859  0.8871"
      ]
     },
     "execution_count": 18,
     "metadata": {},
     "output_type": "execute_result"
    },
    {
     "data": {
      "image/png": "[encoded data removed]",
      "text/plain": [
       "<Figure size 640x480 with 1 Axes>"
      ]
     },
     "metadata": {},
     "output_type": "display_data"
    }
   ],
   "source": [
    "data_result = model_metrics(\n",
    "    y_train,\n",
    "    y_pred_train_rf,\n",
    "    y_pred_train_rf_proba,\n",
    "    y_test,\n",
    "    y_pred_test_rf,\n",
    "    y_pred_test_rf_proba,\n",
    "    plot_conf_mat=True\n",
    ")\n",
    "data_result"
   ]
  },
  {
   "cell_type": "markdown",
   "metadata": {},
   "source": [
    "#### XGBoost."
   ]
  },
  {
   "cell_type": "code",
   "execution_count": 19,
   "metadata": {},
   "outputs": [
    {
     "data": {
      "text/html": [
       "<div>\n",
       "<style scoped>\n",
       "    .dataframe tbody tr th:only-of-type {\n",
       "        vertical-align: middle;\n",
       "    }\n",
       "\n",
       "    .dataframe tbody tr th {\n",
       "        vertical-align: top;\n",
       "    }\n",
       "\n",
       "    .dataframe thead th {\n",
       "        text-align: right;\n",
       "    }\n",
       "</style>\n",
       "<table border=\"1\" class=\"dataframe\">\n",
       "  <thead>\n",
       "    <tr style=\"text-align: right;\">\n",
       "      <th></th>\n",
       "      <th>Accuracy</th>\n",
       "      <th>Recall</th>\n",
       "      <th>Precision</th>\n",
       "      <th>Specificity</th>\n",
       "      <th>F1-Score</th>\n",
       "      <th>AUC</th>\n",
       "    </tr>\n",
       "  </thead>\n",
       "  <tbody>\n",
       "    <tr>\n",
       "      <th>Metrics Train</th>\n",
       "      <td>1.0000</td>\n",
       "      <td>1.0000</td>\n",
       "      <td>1.000</td>\n",
       "      <td>1.0000</td>\n",
       "      <td>1.0000</td>\n",
       "      <td>1.0000</td>\n",
       "    </tr>\n",
       "    <tr>\n",
       "      <th>Metrics Test</th>\n",
       "      <td>0.9722</td>\n",
       "      <td>0.9938</td>\n",
       "      <td>0.978</td>\n",
       "      <td>0.1818</td>\n",
       "      <td>0.9858</td>\n",
       "      <td>0.9375</td>\n",
       "    </tr>\n",
       "  </tbody>\n",
       "</table>\n",
       "</div>"
      ],
      "text/plain": [
       "               Accuracy  Recall  Precision  Specificity  F1-Score     AUC\n",
       "Metrics Train    1.0000  1.0000      1.000       1.0000    1.0000  1.0000\n",
       "Metrics Test     0.9722  0.9938      0.978       0.1818    0.9858  0.9375"
      ]
     },
     "execution_count": 19,
     "metadata": {},
     "output_type": "execute_result"
    },
    {
     "data": {
      "image/png": "[encoded data removed]",
      "text/plain": [
       "<Figure size 640x480 with 1 Axes>"
      ]
     },
     "metadata": {},
     "output_type": "display_data"
    }
   ],
   "source": [
    "data_result = model_metrics(\n",
    "    y_train,\n",
    "    y_pred_train_xgb,\n",
    "    y_pred_train_xgb_proba,\n",
    "    y_test,\n",
    "    y_pred_test_xgb,\n",
    "    y_pred_test_xgb_proba,\n",
    "    plot_conf_mat=True\n",
    ")\n",
    "data_result"
   ]
  },
  {
   "cell_type": "markdown",
   "metadata": {},
   "source": [
    "### Balanced Dataset."
   ]
  },
  {
   "cell_type": "markdown",
   "metadata": {},
   "source": [
    "#### Logistic Regression."
   ]
  },
  {
   "cell_type": "code",
   "execution_count": 20,
   "metadata": {},
   "outputs": [
    {
     "data": {
      "text/html": [
       "<div>\n",
       "<style scoped>\n",
       "    .dataframe tbody tr th:only-of-type {\n",
       "        vertical-align: middle;\n",
       "    }\n",
       "\n",
       "    .dataframe tbody tr th {\n",
       "        vertical-align: top;\n",
       "    }\n",
       "\n",
       "    .dataframe thead th {\n",
       "        text-align: right;\n",
       "    }\n",
       "</style>\n",
       "<table border=\"1\" class=\"dataframe\">\n",
       "  <thead>\n",
       "    <tr style=\"text-align: right;\">\n",
       "      <th></th>\n",
       "      <th>Accuracy</th>\n",
       "      <th>Recall</th>\n",
       "      <th>Precision</th>\n",
       "      <th>Specificity</th>\n",
       "      <th>F1-Score</th>\n",
       "      <th>AUC</th>\n",
       "    </tr>\n",
       "  </thead>\n",
       "  <tbody>\n",
       "    <tr>\n",
       "      <th>Metrics Train</th>\n",
       "      <td>0.9455</td>\n",
       "      <td>0.9080</td>\n",
       "      <td>0.9816</td>\n",
       "      <td>0.9830</td>\n",
       "      <td>0.9434</td>\n",
       "      <td>0.9676</td>\n",
       "    </tr>\n",
       "    <tr>\n",
       "      <th>Metrics Test</th>\n",
       "      <td>0.8829</td>\n",
       "      <td>0.8908</td>\n",
       "      <td>0.9876</td>\n",
       "      <td>0.5909</td>\n",
       "      <td>0.9367</td>\n",
       "      <td>0.8108</td>\n",
       "    </tr>\n",
       "  </tbody>\n",
       "</table>\n",
       "</div>"
      ],
      "text/plain": [
       "               Accuracy  Recall  Precision  Specificity  F1-Score     AUC\n",
       "Metrics Train    0.9455  0.9080     0.9816       0.9830    0.9434  0.9676\n",
       "Metrics Test     0.8829  0.8908     0.9876       0.5909    0.9367  0.8108"
      ]
     },
     "execution_count": 20,
     "metadata": {},
     "output_type": "execute_result"
    },
    {
     "data": {
      "image/png": "[encoded data removed]",
      "text/plain": [
       "<Figure size 640x480 with 1 Axes>"
      ]
     },
     "metadata": {},
     "output_type": "display_data"
    }
   ],
   "source": [
    "data_result = model_metrics(\n",
    "    y_train_ovrsmpl, \n",
    "    y_pred_train_ovrsmpl_lr,\n",
    "    y_pred_train_ovrsmpl_lr_proba,\n",
    "    y_test,\n",
    "    y_pred_test_ovrsmpl_lr,\n",
    "    y_pred_test_ovrsmpl_lr_proba,\n",
    "    plot_conf_mat=True\n",
    ")\n",
    "data_result"
   ]
  },
  {
   "cell_type": "markdown",
   "metadata": {},
   "source": [
    "#### Random Forest."
   ]
  },
  {
   "cell_type": "code",
   "execution_count": 21,
   "metadata": {},
   "outputs": [
    {
     "data": {
      "text/html": [
       "<div>\n",
       "<style scoped>\n",
       "    .dataframe tbody tr th:only-of-type {\n",
       "        vertical-align: middle;\n",
       "    }\n",
       "\n",
       "    .dataframe tbody tr th {\n",
       "        vertical-align: top;\n",
       "    }\n",
       "\n",
       "    .dataframe thead th {\n",
       "        text-align: right;\n",
       "    }\n",
       "</style>\n",
       "<table border=\"1\" class=\"dataframe\">\n",
       "  <thead>\n",
       "    <tr style=\"text-align: right;\">\n",
       "      <th></th>\n",
       "      <th>Accuracy</th>\n",
       "      <th>Recall</th>\n",
       "      <th>Precision</th>\n",
       "      <th>Specificity</th>\n",
       "      <th>F1-Score</th>\n",
       "      <th>AUC</th>\n",
       "    </tr>\n",
       "  </thead>\n",
       "  <tbody>\n",
       "    <tr>\n",
       "      <th>Metrics Train</th>\n",
       "      <td>1.000</td>\n",
       "      <td>1.0000</td>\n",
       "      <td>1.0000</td>\n",
       "      <td>1.0000</td>\n",
       "      <td>1.000</td>\n",
       "      <td>1.0000</td>\n",
       "    </tr>\n",
       "    <tr>\n",
       "      <th>Metrics Test</th>\n",
       "      <td>0.965</td>\n",
       "      <td>0.9814</td>\n",
       "      <td>0.9826</td>\n",
       "      <td>0.3636</td>\n",
       "      <td>0.982</td>\n",
       "      <td>0.9079</td>\n",
       "    </tr>\n",
       "  </tbody>\n",
       "</table>\n",
       "</div>"
      ],
      "text/plain": [
       "               Accuracy  Recall  Precision  Specificity  F1-Score     AUC\n",
       "Metrics Train     1.000  1.0000     1.0000       1.0000     1.000  1.0000\n",
       "Metrics Test      0.965  0.9814     0.9826       0.3636     0.982  0.9079"
      ]
     },
     "execution_count": 21,
     "metadata": {},
     "output_type": "execute_result"
    },
    {
     "data": {
      "image/png": "[encoded data removed]",
      "text/plain": [
       "<Figure size 640x480 with 1 Axes>"
      ]
     },
     "metadata": {},
     "output_type": "display_data"
    }
   ],
   "source": [
    "data_result = model_metrics(\n",
    "    y_train_ovrsmpl, \n",
    "    y_pred_train_ovrsmpl_rf, \n",
    "    y_pred_train_ovrsmpl_rf_proba, \n",
    "    y_test, \n",
    "    y_pred_test_ovrsmpl_rf, \n",
    "    y_pred_test_ovrsmpl_rf_proba, \n",
    "    plot_conf_mat=True\n",
    ")\n",
    "data_result"
   ]
  },
  {
   "cell_type": "markdown",
   "metadata": {},
   "source": [
    "#### XGBoost."
   ]
  },
  {
   "cell_type": "code",
   "execution_count": 22,
   "metadata": {},
   "outputs": [
    {
     "data": {
      "text/html": [
       "<div>\n",
       "<style scoped>\n",
       "    .dataframe tbody tr th:only-of-type {\n",
       "        vertical-align: middle;\n",
       "    }\n",
       "\n",
       "    .dataframe tbody tr th {\n",
       "        vertical-align: top;\n",
       "    }\n",
       "\n",
       "    .dataframe thead th {\n",
       "        text-align: right;\n",
       "    }\n",
       "</style>\n",
       "<table border=\"1\" class=\"dataframe\">\n",
       "  <thead>\n",
       "    <tr style=\"text-align: right;\">\n",
       "      <th></th>\n",
       "      <th>Accuracy</th>\n",
       "      <th>Recall</th>\n",
       "      <th>Precision</th>\n",
       "      <th>Specificity</th>\n",
       "      <th>F1-Score</th>\n",
       "      <th>AUC</th>\n",
       "    </tr>\n",
       "  </thead>\n",
       "  <tbody>\n",
       "    <tr>\n",
       "      <th>Metrics Train</th>\n",
       "      <td>1.0000</td>\n",
       "      <td>1.0000</td>\n",
       "      <td>1.0000</td>\n",
       "      <td>1.0000</td>\n",
       "      <td>1.0000</td>\n",
       "      <td>1.0000</td>\n",
       "    </tr>\n",
       "    <tr>\n",
       "      <th>Metrics Test</th>\n",
       "      <td>0.9686</td>\n",
       "      <td>0.9839</td>\n",
       "      <td>0.9839</td>\n",
       "      <td>0.4091</td>\n",
       "      <td>0.9839</td>\n",
       "      <td>0.9233</td>\n",
       "    </tr>\n",
       "  </tbody>\n",
       "</table>\n",
       "</div>"
      ],
      "text/plain": [
       "               Accuracy  Recall  Precision  Specificity  F1-Score     AUC\n",
       "Metrics Train    1.0000  1.0000     1.0000       1.0000    1.0000  1.0000\n",
       "Metrics Test     0.9686  0.9839     0.9839       0.4091    0.9839  0.9233"
      ]
     },
     "execution_count": 22,
     "metadata": {},
     "output_type": "execute_result"
    },
    {
     "data": {
      "image/png": "[encoded data removed]",
      "text/plain": [
       "<Figure size 640x480 with 1 Axes>"
      ]
     },
     "metadata": {},
     "output_type": "display_data"
    }
   ],
   "source": [
    "data_result = model_metrics(\n",
    "    y_train_ovrsmpl, \n",
    "    y_pred_train_ovrsmpl_xgb, \n",
    "    y_pred_train_ovrsmpl_xgb_proba, \n",
    "    y_test, \n",
    "    y_pred_test_ovrsmpl_xgb, \n",
    "    y_pred_test_ovrsmpl_xgb_proba,\n",
    "    plot_conf_mat=True\n",
    ")\n",
    "data_result"
   ]
  },
  {
   "cell_type": "markdown",
   "metadata": {},
   "source": [
    "When reviewing different models performance, we can observe that base models struggle in predicting the negative class (the one that is heavily unbalanced), that why specificity value is really low. This is cause by the imbalance in the target class.\n",
    "\n",
    "Applying oversample seems to have improved the model specificity, best model that has biggest specificity value is Logistic Regression with Oversample, but if we look close its also the one that has the biggest value of false negatives.\n",
    "\n",
    "All remaining models are really good in predicting the positive class (when a student approves a course).\n",
    "\n",
    "In this exercise the most important scenario will be to detect if a student fails a course. So ill keep the best performing model and try to improve the predictions of negative class.\n",
    "\n",
    "In order to select the best performing model ill compare all models, using ROC curve. Its a graphical representation for evaluating the performance of a binary classification model.\n",
    "\n",
    "What ill analyze in the curve is how the true positive rate (tpr) and false positive rate (fpr) change with different classification thresholds. This is crucial when selecting an appropriate threshold, so i can evaluate the trade-off between sensitivity and specificity."
   ]
  },
  {
   "cell_type": "code",
   "execution_count": 23,
   "metadata": {},
   "outputs": [],
   "source": [
    "def roc_curves(values, return_threshold_df = False):\n",
    "    \"\"\"\n",
    "    Plot ROC curves for multiple models.\n",
    "\n",
    "    Parameters:\n",
    "    - values (list): A list of models in the format [ [y_test, y_test_probas, label], [x, x, x] ].\n",
    "      Each model is represented by a list containing:\n",
    "        - y_test (array-like): True labels for the test set.\n",
    "        - y_test_probas (array-like): Predicted probabilities for each class on the test set.\n",
    "        - label (str): Label for the model in the graph.\n",
    "    - return_threshold (boolean): Return a DF with all metrics (fpr, tpr, and threshold), this is useful\n",
    "      to modify the threshold of a model.\n",
    "\n",
    "    Returns:\n",
    "    - Displays the ROC curves using Plotly Express.\n",
    "    _ Threshold DataFrame in which we are going to be able to obtain the desired threshold.\n",
    "\n",
    "    Example:\n",
    "    ```python\n",
    "    roc_curves([\n",
    "        [y_test1, y_pred_probas1, 'Model 1'],\n",
    "        [y_test2, y_pred_probas2, 'Model 2'],\n",
    "        [y_test3, y_pred_probas3, 'Model 3']\n",
    "    ])\n",
    "    ```\n",
    "    \"\"\"\n",
    "    # Initialize an empty DataFrame.\n",
    "    data_fun = pd.DataFrame(columns=['tpr', 'fpr', 'threshold', 'Model'])\n",
    "\n",
    "    # Iterate over different models.\n",
    "    for i in values:\n",
    "        # Index 0 corresponds to y_test.\n",
    "        y_test_fun = i[0]\n",
    "\n",
    "        # Index 1 corresponds to y_pred_proba.\n",
    "        y_pred_probas_fun = i[1]\n",
    "\n",
    "        # Index 2 corresponds to the label in the plot.\n",
    "        label = i[2]\n",
    "\n",
    "        # Obtain the False Positive Rate (fpr) and True Positive Rate (tpr) for the model.\n",
    "        fpr, tpr, thr = roc_curve(y_test_fun, y_pred_probas_fun[:, 1])\n",
    "\n",
    "        # Create a DataFrame to store data for one iteration of the loop.\n",
    "        loop_df = pd.DataFrame({'tpr': tpr, 'fpr': fpr, 'threshold' : thr,'Model': label})\n",
    "\n",
    "        # Add the data from one iteration of the loop to the main DataFrame.\n",
    "        data_fun = pd.concat([data_fun, loop_df], ignore_index=True)\n",
    "\n",
    "    # Plot the ROC curves for different models.\n",
    "    fig = px.line(data_fun, x='fpr', y='tpr', color='Model', title='ROC curve')\n",
    "    fig.update_layout(height=650, width=1000)\n",
    "    fig.show()\n",
    "    \n",
    "    if return_threshold_df:\n",
    "        return data_fun"
   ]
  },
  {
   "cell_type": "code",
   "execution_count": 24,
   "metadata": {},
   "outputs": [
    {
     "data": {
      "application/vnd.plotly.v1+json": {
       "config": {
        "plotlyServerURL": "https://plot.ly"
       },
       "data": [
        {
         "hovertemplate": "Model=Logistic Regression - Unbalanced<br>fpr=%{x}<br>tpr=%{y}<extra></extra>",
         "legendgroup": "Logistic Regression - Unbalanced",
         "line": {
          "color": "#636efa",
          "dash": "solid"
         },
         "marker": {
          "symbol": "circle"
         },
         "mode": "lines",
         "name": "Logistic Regression - Unbalanced",
         "orientation": "v",
         "showlegend": true,
         "type": "scatter",
         "x": [
          0,
          0,
          0,
          0.045454545454545456,
          0.045454545454545456,
          0.09090909090909091,
          0.09090909090909091,
          0.13636363636363635,
          0.13636363636363635,
          0.18181818181818182,
          0.18181818181818182,
          0.22727272727272727,
          0.22727272727272727,
          0.2727272727272727,
          0.2727272727272727,
          0.36363636363636365,
          0.36363636363636365,
          0.4090909090909091,
          0.4090909090909091,
          0.5,
          0.5,
          0.5454545454545454,
          0.5454545454545454,
          0.6363636363636364,
          0.6363636363636364,
          0.8636363636363636,
          0.8636363636363636,
          0.9090909090909091,
          0.9090909090909091,
          0.9545454545454546,
          0.9545454545454546,
          1,
          1
         ],
         "xaxis": "x",
         "y": [
          0,
          0.0012406947890818859,
          0.31265508684863524,
          0.31265508684863524,
          0.4218362282878412,
          0.4218362282878412,
          0.5012406947890818,
          0.5012406947890818,
          0.771712158808933,
          0.771712158808933,
          0.7803970223325062,
          0.7803970223325062,
          0.8560794044665012,
          0.8560794044665012,
          0.8982630272952854,
          0.8982630272952854,
          0.9143920595533499,
          0.9143920595533499,
          0.9305210918114144,
          0.9305210918114144,
          0.9404466501240695,
          0.9404466501240695,
          0.9454094292803971,
          0.9454094292803971,
          0.9652605459057072,
          0.9652605459057072,
          0.9739454094292804,
          0.9739454094292804,
          0.9764267990074442,
          0.9764267990074442,
          0.9913151364764268,
          0.9913151364764268,
          1
         ],
         "yaxis": "y"
        },
        {
         "hovertemplate": "Model=Random Forest - Unbalanced<br>fpr=%{x}<br>tpr=%{y}<extra></extra>",
         "legendgroup": "Random Forest - Unbalanced",
         "line": {
          "color": "#EF553B",
          "dash": "solid"
         },
         "marker": {
          "symbol": "circle"
         },
         "mode": "lines",
         "name": "Random Forest - Unbalanced",
         "orientation": "v",
         "showlegend": true,
         "type": "scatter",
         "x": [
          0,
          0.09090909090909091,
          0.18181818181818182,
          0.18181818181818182,
          0.18181818181818182,
          0.18181818181818182,
          0.22727272727272727,
          0.22727272727272727,
          0.22727272727272727,
          0.22727272727272727,
          0.22727272727272727,
          0.22727272727272727,
          0.2727272727272727,
          0.2727272727272727,
          0.2727272727272727,
          0.2727272727272727,
          0.3181818181818182,
          0.3181818181818182,
          0.3181818181818182,
          0.3181818181818182,
          0.3181818181818182,
          0.3181818181818182,
          0.3181818181818182,
          0.3181818181818182,
          0.36363636363636365,
          0.36363636363636365,
          0.36363636363636365,
          0.4090909090909091,
          0.45454545454545453,
          0.5454545454545454,
          0.5909090909090909,
          0.6363636363636364,
          0.6363636363636364,
          0.6363636363636364,
          0.6818181818181818,
          0.6818181818181818,
          0.7272727272727273,
          0.7727272727272727,
          0.7727272727272727,
          0.8181818181818182,
          0.8181818181818182,
          0.8181818181818182,
          0.9090909090909091,
          0.9090909090909091,
          0.9545454545454546,
          0.9545454545454546,
          1,
          1
         ],
         "xaxis": "x",
         "y": [
          0,
          0.6960297766749379,
          0.7667493796526055,
          0.7990074441687345,
          0.826302729528536,
          0.8449131513647643,
          0.8598014888337469,
          0.869727047146402,
          0.8833746898263027,
          0.8933002481389578,
          0.9007444168734491,
          0.9106699751861043,
          0.9168734491315137,
          0.9193548387096774,
          0.9255583126550868,
          0.9280397022332506,
          0.9292803970223326,
          0.9330024813895782,
          0.9354838709677419,
          0.9392059553349876,
          0.9416873449131513,
          0.9429280397022333,
          0.9466501240694789,
          0.9491315136476427,
          0.9540942928039702,
          0.9578163771712159,
          0.9627791563275434,
          0.9640198511166254,
          0.9640198511166254,
          0.9652605459057072,
          0.967741935483871,
          0.9739454094292804,
          0.9764267990074442,
          0.9776674937965261,
          0.9801488833746899,
          0.9826302729528535,
          0.9838709677419355,
          0.9838709677419355,
          0.9863523573200993,
          0.9863523573200993,
          0.9913151364764268,
          0.9937965260545906,
          0.9937965260545906,
          0.9975186104218362,
          0.9975186104218362,
          0.9987593052109182,
          0.9987593052109182,
          1
         ],
         "yaxis": "y"
        },
        {
         "hovertemplate": "Model=XGBoost - Unbalanced<br>fpr=%{x}<br>tpr=%{y}<extra></extra>",
         "legendgroup": "XGBoost - Unbalanced",
         "line": {
          "color": "#00cc96",
          "dash": "solid"
         },
         "marker": {
          "symbol": "circle"
         },
         "mode": "lines",
         "name": "XGBoost - Unbalanced",
         "orientation": "v",
         "showlegend": true,
         "type": "scatter",
         "x": [
          0,
          0,
          0,
          0,
          0,
          0,
          0,
          0,
          0,
          0,
          0,
          0,
          0,
          0,
          0,
          0,
          0,
          0,
          0,
          0,
          0,
          0,
          0,
          0,
          0,
          0,
          0,
          0,
          0,
          0,
          0,
          0,
          0,
          0,
          0,
          0,
          0,
          0,
          0,
          0,
          0,
          0,
          0,
          0,
          0,
          0,
          0,
          0,
          0,
          0,
          0,
          0,
          0,
          0,
          0,
          0,
          0,
          0,
          0,
          0,
          0,
          0,
          0,
          0,
          0,
          0,
          0,
          0,
          0,
          0,
          0,
          0,
          0,
          0,
          0,
          0,
          0,
          0,
          0,
          0,
          0,
          0,
          0,
          0,
          0,
          0,
          0,
          0,
          0,
          0,
          0,
          0,
          0,
          0,
          0,
          0,
          0,
          0,
          0,
          0,
          0,
          0,
          0,
          0,
          0,
          0,
          0,
          0,
          0,
          0,
          0,
          0,
          0,
          0,
          0,
          0,
          0,
          0,
          0,
          0,
          0,
          0,
          0,
          0,
          0,
          0.045454545454545456,
          0.045454545454545456,
          0.045454545454545456,
          0.045454545454545456,
          0.045454545454545456,
          0.045454545454545456,
          0.045454545454545456,
          0.045454545454545456,
          0.045454545454545456,
          0.045454545454545456,
          0.045454545454545456,
          0.045454545454545456,
          0.045454545454545456,
          0.045454545454545456,
          0.045454545454545456,
          0.045454545454545456,
          0.045454545454545456,
          0.045454545454545456,
          0.045454545454545456,
          0.045454545454545456,
          0.045454545454545456,
          0.045454545454545456,
          0.045454545454545456,
          0.045454545454545456,
          0.09090909090909091,
          0.09090909090909091,
          0.13636363636363635,
          0.13636363636363635,
          0.18181818181818182,
          0.18181818181818182,
          0.22727272727272727,
          0.22727272727272727,
          0.2727272727272727,
          0.2727272727272727,
          0.3181818181818182,
          0.3181818181818182,
          0.36363636363636365,
          0.36363636363636365,
          0.4090909090909091,
          0.4090909090909091,
          0.45454545454545453,
          0.45454545454545453,
          0.5454545454545454,
          0.5454545454545454,
          0.5909090909090909,
          0.5909090909090909,
          0.6818181818181818,
          0.6818181818181818,
          0.8181818181818182,
          0.8181818181818182,
          0.8636363636363636,
          0.8636363636363636,
          0.9545454545454546,
          0.9545454545454546,
          1
         ],
         "xaxis": "x",
         "y": [
          0,
          0.0012406947890818859,
          0.004962779156327543,
          0.007444168734491315,
          0.016129032258064516,
          0.018610421836228287,
          0.022332506203473945,
          0.02729528535980149,
          0.031017369727047148,
          0.034739454094292806,
          0.03722084367245657,
          0.04094292803970223,
          0.043424317617866005,
          0.04838709677419355,
          0.05086848635235732,
          0.05707196029776675,
          0.05955334987593052,
          0.06575682382133995,
          0.06823821339950373,
          0.06947890818858561,
          0.07196029776674938,
          0.07444168734491315,
          0.07816377171215881,
          0.08188585607940446,
          0.08684863523573201,
          0.09181141439205956,
          0.09429280397022333,
          0.09801488833746898,
          0.10049627791563276,
          0.10297766749379653,
          0.10669975186104218,
          0.1141439205955335,
          0.11538461538461539,
          0.11786600496277916,
          0.1228287841191067,
          0.12531017369727046,
          0.12779156327543426,
          0.13027295285359802,
          0.13399503722084366,
          0.13771712158808933,
          0.14640198511166252,
          0.1513647642679901,
          0.15260545905707196,
          0.15632754342431762,
          0.16997518610421836,
          0.17369727047146402,
          0.1761786600496278,
          0.17990074441687345,
          0.18238213399503722,
          0.184863523573201,
          0.18858560794044665,
          0.18982630272952852,
          0.1935483870967742,
          0.20099255583126552,
          0.2022332506203474,
          0.20719602977667495,
          0.22332506203473945,
          0.22704714640198512,
          0.23325062034739455,
          0.23573200992555832,
          0.24069478908188585,
          0.2456575682382134,
          0.24813895781637718,
          0.2518610421836228,
          0.2543424317617866,
          0.25682382133995035,
          0.2617866004962779,
          0.2642679900744417,
          0.2655086848635236,
          0.2679900744416873,
          0.27543424317617865,
          0.27791563275434245,
          0.2816377171215881,
          0.2841191066997519,
          0.2878411910669975,
          0.2903225806451613,
          0.29156327543424315,
          0.29404466501240695,
          0.2990074441687345,
          0.3014888337468983,
          0.303970223325062,
          0.3064516129032258,
          0.31017369727047145,
          0.31265508684863524,
          0.33126550868486354,
          0.3362282878411911,
          0.3387096774193548,
          0.34863523573200994,
          0.34987593052109184,
          0.3548387096774194,
          0.3560794044665012,
          0.358560794044665,
          0.3771712158808933,
          0.37965260545905705,
          0.38461538461538464,
          0.3870967741935484,
          0.38957816377171217,
          0.3920595533498759,
          0.3933002481389578,
          0.3957816377171216,
          0.4057071960297767,
          0.40818858560794047,
          0.4094292803970223,
          0.4119106699751861,
          0.41811414392059554,
          0.4230769230769231,
          0.4317617866004963,
          0.43424317617866004,
          0.45409429280397023,
          0.456575682382134,
          0.45781637717121587,
          0.46029776674937967,
          0.4813895781637717,
          0.4838709677419355,
          0.5,
          0.5024813895781638,
          0.5037220843672456,
          0.5062034739454094,
          0.5272952853598015,
          0.5297766749379652,
          0.5359801488833746,
          0.5409429280397022,
          0.5483870967741935,
          0.5508684863523573,
          0.5595533498759305,
          0.5595533498759305,
          0.5607940446650124,
          0.5632754342431762,
          0.5831265508684863,
          0.5856079404466501,
          0.5992555831265509,
          0.6017369727047146,
          0.6029776674937966,
          0.6054590570719603,
          0.6153846153846154,
          0.6178660049627791,
          0.6203473945409429,
          0.6228287841191067,
          0.6464019851116626,
          0.6488833746898263,
          0.6600496277915633,
          0.6625310173697271,
          0.684863523573201,
          0.6873449131513648,
          0.7617866004962779,
          0.7642679900744417,
          0.7977667493796526,
          0.8002481389578163,
          0.8238213399503722,
          0.8238213399503722,
          0.8610421836228288,
          0.8610421836228288,
          0.8660049627791563,
          0.8660049627791563,
          0.8970223325062034,
          0.8970223325062034,
          0.9081885856079405,
          0.9081885856079405,
          0.9379652605459057,
          0.9379652605459057,
          0.9416873449131513,
          0.9416873449131513,
          0.9578163771712159,
          0.9578163771712159,
          0.9751861042183623,
          0.9751861042183623,
          0.9826302729528535,
          0.9826302729528535,
          0.9875930521091811,
          0.9875930521091811,
          0.988833746898263,
          0.988833746898263,
          0.9925558312655087,
          0.9925558312655087,
          0.9950372208436724,
          0.9950372208436724,
          0.9962779156327544,
          0.9962779156327544,
          1,
          1
         ],
         "yaxis": "y"
        },
        {
         "hovertemplate": "Model=Logistic Regression - Balanced<br>fpr=%{x}<br>tpr=%{y}<extra></extra>",
         "legendgroup": "Logistic Regression - Balanced",
         "line": {
          "color": "#ab63fa",
          "dash": "solid"
         },
         "marker": {
          "symbol": "circle"
         },
         "mode": "lines",
         "name": "Logistic Regression - Balanced",
         "orientation": "v",
         "showlegend": true,
         "type": "scatter",
         "x": [
          0,
          0,
          0,
          0.045454545454545456,
          0.045454545454545456,
          0.09090909090909091,
          0.09090909090909091,
          0.13636363636363635,
          0.13636363636363635,
          0.18181818181818182,
          0.18181818181818182,
          0.22727272727272727,
          0.22727272727272727,
          0.2727272727272727,
          0.2727272727272727,
          0.3181818181818182,
          0.3181818181818182,
          0.36363636363636365,
          0.36363636363636365,
          0.4090909090909091,
          0.4090909090909091,
          0.45454545454545453,
          0.45454545454545453,
          0.5,
          0.5,
          0.5454545454545454,
          0.5454545454545454,
          0.5909090909090909,
          0.5909090909090909,
          0.6363636363636364,
          0.6363636363636364,
          0.6818181818181818,
          0.6818181818181818,
          0.7272727272727273,
          0.7272727272727273,
          0.8181818181818182,
          0.8181818181818182,
          0.9090909090909091,
          0.9090909090909091,
          0.9545454545454546,
          0.9545454545454546,
          1,
          1
         ],
         "xaxis": "x",
         "y": [
          0,
          0.0024813895781637717,
          0.1501240694789082,
          0.1501240694789082,
          0.21836228287841192,
          0.21836228287841192,
          0.47642679900744417,
          0.47642679900744417,
          0.4975186104218362,
          0.4975186104218362,
          0.7047146401985112,
          0.7047146401985112,
          0.7990074441687345,
          0.7990074441687345,
          0.8225806451612904,
          0.8225806451612904,
          0.8573200992555832,
          0.8573200992555832,
          0.8833746898263027,
          0.8833746898263027,
          0.9143920595533499,
          0.9143920595533499,
          0.9230769230769231,
          0.9230769230769231,
          0.9429280397022333,
          0.9429280397022333,
          0.9441687344913151,
          0.9441687344913151,
          0.9503722084367245,
          0.9503722084367245,
          0.9540942928039702,
          0.9540942928039702,
          0.9615384615384616,
          0.9615384615384616,
          0.9627791563275434,
          0.9627791563275434,
          0.9751861042183623,
          0.9751861042183623,
          0.9789081885856079,
          0.9789081885856079,
          0.9826302729528535,
          0.9826302729528535,
          1
         ],
         "yaxis": "y"
        },
        {
         "hovertemplate": "Model=Random Forest - Balanced<br>fpr=%{x}<br>tpr=%{y}<extra></extra>",
         "legendgroup": "Random Forest - Balanced",
         "line": {
          "color": "#FFA15A",
          "dash": "solid"
         },
         "marker": {
          "symbol": "circle"
         },
         "mode": "lines",
         "name": "Random Forest - Balanced",
         "orientation": "v",
         "showlegend": true,
         "type": "scatter",
         "x": [
          0,
          0.09090909090909091,
          0.09090909090909091,
          0.09090909090909091,
          0.09090909090909091,
          0.13636363636363635,
          0.13636363636363635,
          0.13636363636363635,
          0.13636363636363635,
          0.13636363636363635,
          0.13636363636363635,
          0.13636363636363635,
          0.18181818181818182,
          0.22727272727272727,
          0.22727272727272727,
          0.22727272727272727,
          0.22727272727272727,
          0.22727272727272727,
          0.2727272727272727,
          0.3181818181818182,
          0.3181818181818182,
          0.3181818181818182,
          0.3181818181818182,
          0.3181818181818182,
          0.3181818181818182,
          0.3181818181818182,
          0.3181818181818182,
          0.36363636363636365,
          0.36363636363636365,
          0.36363636363636365,
          0.36363636363636365,
          0.4090909090909091,
          0.5454545454545454,
          0.5454545454545454,
          0.5909090909090909,
          0.5909090909090909,
          0.6363636363636364,
          0.6363636363636364,
          0.6363636363636364,
          0.7272727272727273,
          0.7272727272727273,
          0.7272727272727273,
          0.7272727272727273,
          0.8181818181818182,
          0.8181818181818182,
          0.8636363636363636,
          0.8636363636363636,
          0.9090909090909091,
          1
         ],
         "xaxis": "x",
         "y": [
          0,
          0.7034739454094293,
          0.7580645161290323,
          0.7990074441687345,
          0.8213399503722084,
          0.8449131513647643,
          0.8647642679900744,
          0.8734491315136477,
          0.8846153846153846,
          0.892059553349876,
          0.901985111662531,
          0.9044665012406948,
          0.9069478908188585,
          0.9119106699751861,
          0.9168734491315137,
          0.9205955334987593,
          0.9255583126550868,
          0.9267990074441688,
          0.9305210918114144,
          0.9330024813895782,
          0.9354838709677419,
          0.9429280397022333,
          0.9454094292803971,
          0.9478908188585607,
          0.9503722084367245,
          0.956575682382134,
          0.9615384615384616,
          0.9615384615384616,
          0.9652605459057072,
          0.9702233250620348,
          0.9714640198511166,
          0.9739454094292804,
          0.9739454094292804,
          0.9764267990074442,
          0.9776674937965261,
          0.9813895781637717,
          0.9813895781637717,
          0.9838709677419355,
          0.9851116625310173,
          0.9851116625310173,
          0.9863523573200993,
          0.988833746898263,
          0.9913151364764268,
          0.9913151364764268,
          0.9937965260545906,
          0.9950372208436724,
          0.9987593052109182,
          1,
          1
         ],
         "yaxis": "y"
        },
        {
         "hovertemplate": "Model=XGBoost - Balanced<br>fpr=%{x}<br>tpr=%{y}<extra></extra>",
         "legendgroup": "XGBoost - Balanced",
         "line": {
          "color": "#19d3f3",
          "dash": "solid"
         },
         "marker": {
          "symbol": "circle"
         },
         "mode": "lines",
         "name": "XGBoost - Balanced",
         "orientation": "v",
         "showlegend": true,
         "type": "scatter",
         "x": [
          0,
          0,
          0,
          0,
          0,
          0,
          0,
          0,
          0,
          0,
          0,
          0,
          0,
          0,
          0,
          0,
          0,
          0,
          0,
          0,
          0,
          0,
          0,
          0,
          0,
          0,
          0,
          0,
          0,
          0,
          0,
          0,
          0,
          0,
          0,
          0,
          0,
          0,
          0,
          0,
          0,
          0,
          0,
          0,
          0,
          0,
          0,
          0,
          0,
          0,
          0,
          0,
          0,
          0,
          0,
          0,
          0,
          0,
          0,
          0,
          0,
          0,
          0,
          0,
          0,
          0,
          0,
          0,
          0,
          0,
          0,
          0,
          0,
          0,
          0,
          0,
          0,
          0,
          0,
          0,
          0,
          0,
          0,
          0,
          0,
          0,
          0,
          0,
          0,
          0,
          0,
          0,
          0,
          0,
          0,
          0,
          0,
          0,
          0,
          0,
          0,
          0,
          0,
          0,
          0,
          0,
          0,
          0,
          0,
          0,
          0,
          0,
          0,
          0,
          0,
          0,
          0,
          0,
          0,
          0,
          0,
          0,
          0,
          0,
          0,
          0,
          0,
          0,
          0,
          0,
          0.045454545454545456,
          0.045454545454545456,
          0.045454545454545456,
          0.045454545454545456,
          0.045454545454545456,
          0.045454545454545456,
          0.045454545454545456,
          0.045454545454545456,
          0.045454545454545456,
          0.045454545454545456,
          0.09090909090909091,
          0.09090909090909091,
          0.09090909090909091,
          0.09090909090909091,
          0.09090909090909091,
          0.09090909090909091,
          0.13636363636363635,
          0.13636363636363635,
          0.18181818181818182,
          0.18181818181818182,
          0.22727272727272727,
          0.22727272727272727,
          0.2727272727272727,
          0.2727272727272727,
          0.36363636363636365,
          0.36363636363636365,
          0.4090909090909091,
          0.4090909090909091,
          0.5,
          0.5,
          0.5454545454545454,
          0.5454545454545454,
          0.5909090909090909,
          0.5909090909090909,
          0.6363636363636364,
          0.6363636363636364,
          0.7727272727272727,
          0.7727272727272727,
          0.8181818181818182,
          0.8181818181818182,
          0.8636363636363636,
          0.8636363636363636,
          0.9545454545454546,
          0.9545454545454546,
          1
         ],
         "xaxis": "x",
         "y": [
          0,
          0.0012406947890818859,
          0.0037220843672456576,
          0.004962779156327543,
          0.007444168734491315,
          0.008684863523573201,
          0.011166253101736972,
          0.013647642679900745,
          0.018610421836228287,
          0.022332506203473945,
          0.02481389578163772,
          0.026054590570719603,
          0.028535980148883373,
          0.034739454094292806,
          0.03970223325062035,
          0.04094292803970223,
          0.04590570719602978,
          0.04714640198511166,
          0.052109181141439205,
          0.05334987593052109,
          0.05583126550868486,
          0.05831265508684864,
          0.062034739454094295,
          0.06327543424317618,
          0.06699751861042183,
          0.06947890818858561,
          0.07196029776674938,
          0.07816377171215881,
          0.08188585607940446,
          0.08436724565756824,
          0.0880893300248139,
          0.09305210918114144,
          0.09801488833746898,
          0.10173697270471464,
          0.10297766749379653,
          0.1054590570719603,
          0.10918114143920596,
          0.11166253101736973,
          0.11290322580645161,
          0.11538461538461539,
          0.11662531017369727,
          0.12034739454094293,
          0.12406947890818859,
          0.1315136476426799,
          0.13647642679900746,
          0.13895781637717122,
          0.1401985111662531,
          0.14267990074441686,
          0.14392059553349876,
          0.14764267990074442,
          0.1488833746898263,
          0.15384615384615385,
          0.15508684863523572,
          0.1600496277915633,
          0.1674937965260546,
          0.17493796526054592,
          0.17990074441687345,
          0.184863523573201,
          0.18858560794044665,
          0.19478908188585609,
          0.19975186104218362,
          0.2022332506203474,
          0.20719602977667495,
          0.20967741935483872,
          0.2109181141439206,
          0.21339950372208435,
          0.21588089330024815,
          0.2196029776674938,
          0.22332506203473945,
          0.23325062034739455,
          0.23573200992555832,
          0.23821339950372208,
          0.24069478908188585,
          0.24441687344913152,
          0.24689826302729528,
          0.24937965260545905,
          0.2518610421836228,
          0.2543424317617866,
          0.25682382133995035,
          0.2642679900744417,
          0.2679900744416873,
          0.2704714640198511,
          0.27791563275434245,
          0.2803970223325062,
          0.29156327543424315,
          0.29652605459057074,
          0.31141439205955335,
          0.315136476426799,
          0.3213399503722084,
          0.326302729528536,
          0.33002481389578164,
          0.3349875930521092,
          0.3399503722084367,
          0.3436724565756824,
          0.3511166253101737,
          0.3535980148883375,
          0.3548387096774194,
          0.3573200992555831,
          0.3598014888337469,
          0.36228287841191065,
          0.3684863523573201,
          0.3709677419354839,
          0.3746898263027295,
          0.3771712158808933,
          0.37965260545905705,
          0.38213399503722084,
          0.3870967741935484,
          0.38957816377171217,
          0.3970223325062035,
          0.39950372208436724,
          0.40074441687344914,
          0.4044665012406948,
          0.413151364764268,
          0.41563275434243174,
          0.4280397022332506,
          0.4305210918114144,
          0.44044665012406947,
          0.44292803970223327,
          0.4491315136476427,
          0.456575682382134,
          0.4826302729528536,
          0.4851116625310174,
          0.5049627791563276,
          0.5074441687344913,
          0.511166253101737,
          0.5136476426799007,
          0.5173697270471465,
          0.5198511166253101,
          0.5272952853598015,
          0.5297766749379652,
          0.5297766749379652,
          0.5347394540942928,
          0.5372208436724566,
          0.5409429280397022,
          0.543424317617866,
          0.5446650124069479,
          0.5471464019851117,
          0.5930521091811415,
          0.5955334987593052,
          0.5992555831265509,
          0.5992555831265509,
          0.6191066997518611,
          0.6215880893300249,
          0.6563275434243176,
          0.6588089330024814,
          0.7729528535980149,
          0.7729528535980149,
          0.7952853598014888,
          0.7952853598014888,
          0.9392059553349876,
          0.9392059553349876,
          0.9590570719602978,
          0.9590570719602978,
          0.9602977667493796,
          0.9602977667493796,
          0.9627791563275434,
          0.9627791563275434,
          0.9751861042183623,
          0.9751861042183623,
          0.9776674937965261,
          0.9776674937965261,
          0.9801488833746899,
          0.9801488833746899,
          0.9838709677419355,
          0.9838709677419355,
          0.9875930521091811,
          0.9875930521091811,
          0.988833746898263,
          0.988833746898263,
          0.9925558312655087,
          0.9925558312655087,
          0.9987593052109182,
          0.9987593052109182,
          1,
          1
         ],
         "yaxis": "y"
        }
       ],
       "layout": {
        "height": 650,
        "legend": {
         "title": {
          "text": "Model"
         },
         "tracegroupgap": 0
        },
        "template": {
         "data": {
          "bar": [
           {
            "error_x": {
             "color": "#2a3f5f"
            },
            "error_y": {
             "color": "#2a3f5f"
            },
            "marker": {
             "line": {
              "color": "#E5ECF6",
              "width": 0.5
             },
             "pattern": {
              "fillmode": "overlay",
              "size": 10,
              "solidity": 0.2
             }
            },
            "type": "bar"
           }
          ],
          "barpolar": [
           {
            "marker": {
             "line": {
              "color": "#E5ECF6",
              "width": 0.5
             },
             "pattern": {
              "fillmode": "overlay",
              "size": 10,
              "solidity": 0.2
             }
            },
            "type": "barpolar"
           }
          ],
          "carpet": [
           {
            "aaxis": {
             "endlinecolor": "#2a3f5f",
             "gridcolor": "white",
             "linecolor": "white",
             "minorgridcolor": "white",
             "startlinecolor": "#2a3f5f"
            },
            "baxis": {
             "endlinecolor": "#2a3f5f",
             "gridcolor": "white",
             "linecolor": "white",
             "minorgridcolor": "white",
             "startlinecolor": "#2a3f5f"
            },
            "type": "carpet"
           }
          ],
          "choropleth": [
           {
            "colorbar": {
             "outlinewidth": 0,
             "ticks": ""
            },
            "type": "choropleth"
           }
          ],
          "contour": [
           {
            "colorbar": {
             "outlinewidth": 0,
             "ticks": ""
            },
            "colorscale": [
             [
              0,
              "#0d0887"
             ],
             [
              0.1111111111111111,
              "#46039f"
             ],
             [
              0.2222222222222222,
              "#7201a8"
             ],
             [
              0.3333333333333333,
              "#9c179e"
             ],
             [
              0.4444444444444444,
              "#bd3786"
             ],
             [
              0.5555555555555556,
              "#d8576b"
             ],
             [
              0.6666666666666666,
              "#ed7953"
             ],
             [
              0.7777777777777778,
              "#fb9f3a"
             ],
             [
              0.8888888888888888,
              "#fdca26"
             ],
             [
              1,
              "#f0f921"
             ]
            ],
            "type": "contour"
           }
          ],
          "contourcarpet": [
           {
            "colorbar": {
             "outlinewidth": 0,
             "ticks": ""
            },
            "type": "contourcarpet"
           }
          ],
          "heatmap": [
           {
            "colorbar": {
             "outlinewidth": 0,
             "ticks": ""
            },
            "colorscale": [
             [
              0,
              "#0d0887"
             ],
             [
              0.1111111111111111,
              "#46039f"
             ],
             [
              0.2222222222222222,
              "#7201a8"
             ],
             [
              0.3333333333333333,
              "#9c179e"
             ],
             [
              0.4444444444444444,
              "#bd3786"
             ],
             [
              0.5555555555555556,
              "#d8576b"
             ],
             [
              0.6666666666666666,
              "#ed7953"
             ],
             [
              0.7777777777777778,
              "#fb9f3a"
             ],
             [
              0.8888888888888888,
              "#fdca26"
             ],
             [
              1,
              "#f0f921"
             ]
            ],
            "type": "heatmap"
           }
          ],
          "heatmapgl": [
           {
            "colorbar": {
             "outlinewidth": 0,
             "ticks": ""
            },
            "colorscale": [
             [
              0,
              "#0d0887"
             ],
             [
              0.1111111111111111,
              "#46039f"
             ],
             [
              0.2222222222222222,
              "#7201a8"
             ],
             [
              0.3333333333333333,
              "#9c179e"
             ],
             [
              0.4444444444444444,
              "#bd3786"
             ],
             [
              0.5555555555555556,
              "#d8576b"
             ],
             [
              0.6666666666666666,
              "#ed7953"
             ],
             [
              0.7777777777777778,
              "#fb9f3a"
             ],
             [
              0.8888888888888888,
              "#fdca26"
             ],
             [
              1,
              "#f0f921"
             ]
            ],
            "type": "heatmapgl"
           }
          ],
          "histogram": [
           {
            "marker": {
             "pattern": {
              "fillmode": "overlay",
              "size": 10,
              "solidity": 0.2
             }
            },
            "type": "histogram"
           }
          ],
          "histogram2d": [
           {
            "colorbar": {
             "outlinewidth": 0,
             "ticks": ""
            },
            "colorscale": [
             [
              0,
              "#0d0887"
             ],
             [
              0.1111111111111111,
              "#46039f"
             ],
             [
              0.2222222222222222,
              "#7201a8"
             ],
             [
              0.3333333333333333,
              "#9c179e"
             ],
             [
              0.4444444444444444,
              "#bd3786"
             ],
             [
              0.5555555555555556,
              "#d8576b"
             ],
             [
              0.6666666666666666,
              "#ed7953"
             ],
             [
              0.7777777777777778,
              "#fb9f3a"
             ],
             [
              0.8888888888888888,
              "#fdca26"
             ],
             [
              1,
              "#f0f921"
             ]
            ],
            "type": "histogram2d"
           }
          ],
          "histogram2dcontour": [
           {
            "colorbar": {
             "outlinewidth": 0,
             "ticks": ""
            },
            "colorscale": [
             [
              0,
              "#0d0887"
             ],
             [
              0.1111111111111111,
              "#46039f"
             ],
             [
              0.2222222222222222,
              "#7201a8"
             ],
             [
              0.3333333333333333,
              "#9c179e"
             ],
             [
              0.4444444444444444,
              "#bd3786"
             ],
             [
              0.5555555555555556,
              "#d8576b"
             ],
             [
              0.6666666666666666,
              "#ed7953"
             ],
             [
              0.7777777777777778,
              "#fb9f3a"
             ],
             [
              0.8888888888888888,
              "#fdca26"
             ],
             [
              1,
              "#f0f921"
             ]
            ],
            "type": "histogram2dcontour"
           }
          ],
          "mesh3d": [
           {
            "colorbar": {
             "outlinewidth": 0,
             "ticks": ""
            },
            "type": "mesh3d"
           }
          ],
          "parcoords": [
           {
            "line": {
             "colorbar": {
              "outlinewidth": 0,
              "ticks": ""
             }
            },
            "type": "parcoords"
           }
          ],
          "pie": [
           {
            "automargin": true,
            "type": "pie"
           }
          ],
          "scatter": [
           {
            "fillpattern": {
             "fillmode": "overlay",
             "size": 10,
             "solidity": 0.2
            },
            "type": "scatter"
           }
          ],
          "scatter3d": [
           {
            "line": {
             "colorbar": {
              "outlinewidth": 0,
              "ticks": ""
             }
            },
            "marker": {
             "colorbar": {
              "outlinewidth": 0,
              "ticks": ""
             }
            },
            "type": "scatter3d"
           }
          ],
          "scattercarpet": [
           {
            "marker": {
             "colorbar": {
              "outlinewidth": 0,
              "ticks": ""
             }
            },
            "type": "scattercarpet"
           }
          ],
          "scattergeo": [
           {
            "marker": {
             "colorbar": {
              "outlinewidth": 0,
              "ticks": ""
             }
            },
            "type": "scattergeo"
           }
          ],
          "scattergl": [
           {
            "marker": {
             "colorbar": {
              "outlinewidth": 0,
              "ticks": ""
             }
            },
            "type": "scattergl"
           }
          ],
          "scattermapbox": [
           {
            "marker": {
             "colorbar": {
              "outlinewidth": 0,
              "ticks": ""
             }
            },
            "type": "scattermapbox"
           }
          ],
          "scatterpolar": [
           {
            "marker": {
             "colorbar": {
              "outlinewidth": 0,
              "ticks": ""
             }
            },
            "type": "scatterpolar"
           }
          ],
          "scatterpolargl": [
           {
            "marker": {
             "colorbar": {
              "outlinewidth": 0,
              "ticks": ""
             }
            },
            "type": "scatterpolargl"
           }
          ],
          "scatterternary": [
           {
            "marker": {
             "colorbar": {
              "outlinewidth": 0,
              "ticks": ""
             }
            },
            "type": "scatterternary"
           }
          ],
          "surface": [
           {
            "colorbar": {
             "outlinewidth": 0,
             "ticks": ""
            },
            "colorscale": [
             [
              0,
              "#0d0887"
             ],
             [
              0.1111111111111111,
              "#46039f"
             ],
             [
              0.2222222222222222,
              "#7201a8"
             ],
             [
              0.3333333333333333,
              "#9c179e"
             ],
             [
              0.4444444444444444,
              "#bd3786"
             ],
             [
              0.5555555555555556,
              "#d8576b"
             ],
             [
              0.6666666666666666,
              "#ed7953"
             ],
             [
              0.7777777777777778,
              "#fb9f3a"
             ],
             [
              0.8888888888888888,
              "#fdca26"
             ],
             [
              1,
              "#f0f921"
             ]
            ],
            "type": "surface"
           }
          ],
          "table": [
           {
            "cells": {
             "fill": {
              "color": "#EBF0F8"
             },
             "line": {
              "color": "white"
             }
            },
            "header": {
             "fill": {
              "color": "#C8D4E3"
             },
             "line": {
              "color": "white"
             }
            },
            "type": "table"
           }
          ]
         },
         "layout": {
          "annotationdefaults": {
           "arrowcolor": "#2a3f5f",
           "arrowhead": 0,
           "arrowwidth": 1
          },
          "autotypenumbers": "strict",
          "coloraxis": {
           "colorbar": {
            "outlinewidth": 0,
            "ticks": ""
           }
          },
          "colorscale": {
           "diverging": [
            [
             0,
             "#8e0152"
            ],
            [
             0.1,
             "#c51b7d"
            ],
            [
             0.2,
             "#de77ae"
            ],
            [
             0.3,
             "#f1b6da"
            ],
            [
             0.4,
             "#fde0ef"
            ],
            [
             0.5,
             "#f7f7f7"
            ],
            [
             0.6,
             "#e6f5d0"
            ],
            [
             0.7,
             "#b8e186"
            ],
            [
             0.8,
             "#7fbc41"
            ],
            [
             0.9,
             "#4d9221"
            ],
            [
             1,
             "#276419"
            ]
           ],
           "sequential": [
            [
             0,
             "#0d0887"
            ],
            [
             0.1111111111111111,
             "#46039f"
            ],
            [
             0.2222222222222222,
             "#7201a8"
            ],
            [
             0.3333333333333333,
             "#9c179e"
            ],
            [
             0.4444444444444444,
             "#bd3786"
            ],
            [
             0.5555555555555556,
             "#d8576b"
            ],
            [
             0.6666666666666666,
             "#ed7953"
            ],
            [
             0.7777777777777778,
             "#fb9f3a"
            ],
            [
             0.8888888888888888,
             "#fdca26"
            ],
            [
             1,
             "#f0f921"
            ]
           ],
           "sequentialminus": [
            [
             0,
             "#0d0887"
            ],
            [
             0.1111111111111111,
             "#46039f"
            ],
            [
             0.2222222222222222,
             "#7201a8"
            ],
            [
             0.3333333333333333,
             "#9c179e"
            ],
            [
             0.4444444444444444,
             "#bd3786"
            ],
            [
             0.5555555555555556,
             "#d8576b"
            ],
            [
             0.6666666666666666,
             "#ed7953"
            ],
            [
             0.7777777777777778,
             "#fb9f3a"
            ],
            [
             0.8888888888888888,
             "#fdca26"
            ],
            [
             1,
             "#f0f921"
            ]
           ]
          },
          "colorway": [
           "#636efa",
           "#EF553B",
           "#00cc96",
           "#ab63fa",
           "#FFA15A",
           "#19d3f3",
           "#FF6692",
           "#B6E880",
           "#FF97FF",
           "#FECB52"
          ],
          "font": {
           "color": "#2a3f5f"
          },
          "geo": {
           "bgcolor": "white",
           "lakecolor": "white",
           "landcolor": "#E5ECF6",
           "showlakes": true,
           "showland": true,
           "subunitcolor": "white"
          },
          "hoverlabel": {
           "align": "left"
          },
          "hovermode": "closest",
          "mapbox": {
           "style": "light"
          },
          "paper_bgcolor": "white",
          "plot_bgcolor": "#E5ECF6",
          "polar": {
           "angularaxis": {
            "gridcolor": "white",
            "linecolor": "white",
            "ticks": ""
           },
           "bgcolor": "#E5ECF6",
           "radialaxis": {
            "gridcolor": "white",
            "linecolor": "white",
            "ticks": ""
           }
          },
          "scene": {
           "xaxis": {
            "backgroundcolor": "#E5ECF6",
            "gridcolor": "white",
            "gridwidth": 2,
            "linecolor": "white",
            "showbackground": true,
            "ticks": "",
            "zerolinecolor": "white"
           },
           "yaxis": {
            "backgroundcolor": "#E5ECF6",
            "gridcolor": "white",
            "gridwidth": 2,
            "linecolor": "white",
            "showbackground": true,
            "ticks": "",
            "zerolinecolor": "white"
           },
           "zaxis": {
            "backgroundcolor": "#E5ECF6",
            "gridcolor": "white",
            "gridwidth": 2,
            "linecolor": "white",
            "showbackground": true,
            "ticks": "",
            "zerolinecolor": "white"
           }
          },
          "shapedefaults": {
           "line": {
            "color": "#2a3f5f"
           }
          },
          "ternary": {
           "aaxis": {
            "gridcolor": "white",
            "linecolor": "white",
            "ticks": ""
           },
           "baxis": {
            "gridcolor": "white",
            "linecolor": "white",
            "ticks": ""
           },
           "bgcolor": "#E5ECF6",
           "caxis": {
            "gridcolor": "white",
            "linecolor": "white",
            "ticks": ""
           }
          },
          "title": {
           "x": 0.05
          },
          "xaxis": {
           "automargin": true,
           "gridcolor": "white",
           "linecolor": "white",
           "ticks": "",
           "title": {
            "standoff": 15
           },
           "zerolinecolor": "white",
           "zerolinewidth": 2
          },
          "yaxis": {
           "automargin": true,
           "gridcolor": "white",
           "linecolor": "white",
           "ticks": "",
           "title": {
            "standoff": 15
           },
           "zerolinecolor": "white",
           "zerolinewidth": 2
          }
         }
        },
        "title": {
         "text": "ROC curve"
        },
        "width": 1000,
        "xaxis": {
         "anchor": "y",
         "domain": [
          0,
          1
         ],
         "title": {
          "text": "fpr"
         }
        },
        "yaxis": {
         "anchor": "x",
         "domain": [
          0,
          1
         ],
         "title": {
          "text": "tpr"
         }
        }
       }
      }
     },
     "metadata": {},
     "output_type": "display_data"
    }
   ],
   "source": [
    "models = [\n",
    "    [y_test, y_pred_test_lr_proba, 'Logistic Regression - Unbalanced'],\n",
    "    [y_test, y_pred_test_rf_proba, 'Random Forest - Unbalanced'],\n",
    "    [y_test, y_pred_test_xgb_proba, 'XGBoost - Unbalanced'],\n",
    "    [y_test, y_pred_test_ovrsmpl_lr_proba, 'Logistic Regression - Balanced'],\n",
    "    [y_test, y_pred_test_ovrsmpl_rf_proba, 'Random Forest - Balanced'],\n",
    "    [y_test, y_pred_test_ovrsmpl_xgb_proba, 'XGBoost - Balanced']\n",
    "]\n",
    "\n",
    "threshold_df = roc_curves(values=models, return_threshold_df=True)"
   ]
  },
  {
   "cell_type": "markdown",
   "metadata": {},
   "source": [
    "The best performing model is, as expected, xgboost.\n",
    "\n",
    "Even tho the base model perform well as it is, ill try to adjust the hyperparameters so i can boost its performance a little bit more. "
   ]
  },
  {
   "cell_type": "code",
   "execution_count": 25,
   "metadata": {},
   "outputs": [
    {
     "data": {
      "text/html": [
       "<div>\n",
       "<style scoped>\n",
       "    .dataframe tbody tr th:only-of-type {\n",
       "        vertical-align: middle;\n",
       "    }\n",
       "\n",
       "    .dataframe tbody tr th {\n",
       "        vertical-align: top;\n",
       "    }\n",
       "\n",
       "    .dataframe thead th {\n",
       "        text-align: right;\n",
       "    }\n",
       "</style>\n",
       "<table border=\"1\" class=\"dataframe\">\n",
       "  <thead>\n",
       "    <tr style=\"text-align: right;\">\n",
       "      <th></th>\n",
       "      <th>tpr</th>\n",
       "      <th>fpr</th>\n",
       "      <th>threshold</th>\n",
       "      <th>Model</th>\n",
       "    </tr>\n",
       "  </thead>\n",
       "  <tbody>\n",
       "    <tr>\n",
       "      <th>502</th>\n",
       "      <td>0.939206</td>\n",
       "      <td>0.181818</td>\n",
       "      <td>0.989662</td>\n",
       "      <td>XGBoost - Balanced</td>\n",
       "    </tr>\n",
       "  </tbody>\n",
       "</table>\n",
       "</div>"
      ],
      "text/plain": [
       "          tpr       fpr  threshold               Model\n",
       "502  0.939206  0.181818   0.989662  XGBoost - Balanced"
      ]
     },
     "execution_count": 25,
     "metadata": {},
     "output_type": "execute_result"
    }
   ],
   "source": [
    "tpr_mask = (threshold_df['tpr'] > 0.93) & (threshold_df['tpr'] < 0.94)\n",
    "fpr_mask = (threshold_df['fpr'] > 0.18) & (threshold_df['fpr'] < 0.19)\n",
    "model_mask = threshold_df['Model'] == 'XGBoost - Balanced'\n",
    "\n",
    "threshold_df[model_mask & tpr_mask & fpr_mask]"
   ]
  },
  {
   "cell_type": "markdown",
   "metadata": {},
   "source": [
    "# Threshold modification.\n",
    "\n",
    "Based on the previous results, we can see that the point on the curve closer to the top-left corner which indicates a better trade-off has a threshold of 98%, this would mean that we are prioritizing high sensitivity in order to catch as many true negatives as possible, at the cost of more false positives.\n",
    "\n",
    "Im going to compare this model to the one that i consider the best from the previous ones."
   ]
  },
  {
   "cell_type": "code",
   "execution_count": 26,
   "metadata": {},
   "outputs": [
    {
     "data": {
      "text/html": [
       "<div>\n",
       "<style scoped>\n",
       "    .dataframe tbody tr th:only-of-type {\n",
       "        vertical-align: middle;\n",
       "    }\n",
       "\n",
       "    .dataframe tbody tr th {\n",
       "        vertical-align: top;\n",
       "    }\n",
       "\n",
       "    .dataframe thead th {\n",
       "        text-align: right;\n",
       "    }\n",
       "</style>\n",
       "<table border=\"1\" class=\"dataframe\">\n",
       "  <thead>\n",
       "    <tr style=\"text-align: right;\">\n",
       "      <th></th>\n",
       "      <th>Accuracy</th>\n",
       "      <th>Recall</th>\n",
       "      <th>Precision</th>\n",
       "      <th>Specificity</th>\n",
       "      <th>F1-Score</th>\n",
       "      <th>AUC</th>\n",
       "    </tr>\n",
       "  </thead>\n",
       "  <tbody>\n",
       "    <tr>\n",
       "      <th>Metrics Train</th>\n",
       "      <td>0.9822</td>\n",
       "      <td>0.9644</td>\n",
       "      <td>1.0000</td>\n",
       "      <td>1.0000</td>\n",
       "      <td>0.9819</td>\n",
       "      <td>1.0000</td>\n",
       "    </tr>\n",
       "    <tr>\n",
       "      <th>Metrics Test</th>\n",
       "      <td>0.9348</td>\n",
       "      <td>0.9380</td>\n",
       "      <td>0.9947</td>\n",
       "      <td>0.8182</td>\n",
       "      <td>0.9655</td>\n",
       "      <td>0.9233</td>\n",
       "    </tr>\n",
       "  </tbody>\n",
       "</table>\n",
       "</div>"
      ],
      "text/plain": [
       "               Accuracy  Recall  Precision  Specificity  F1-Score     AUC\n",
       "Metrics Train    0.9822  0.9644     1.0000       1.0000    0.9819  1.0000\n",
       "Metrics Test     0.9348  0.9380     0.9947       0.8182    0.9655  0.9233"
      ]
     },
     "execution_count": 26,
     "metadata": {},
     "output_type": "execute_result"
    },
    {
     "data": {
      "image/png": "[encoded data removed]",
      "text/plain": [
       "<Figure size 640x480 with 1 Axes>"
      ]
     },
     "metadata": {},
     "output_type": "display_data"
    }
   ],
   "source": [
    "# Training xgb with same hyperparameters as before.\n",
    "# baseline parameters\n",
    "baseline_params = {\n",
    "    'objective': 'binary:logistic',  # Binary classification problem\n",
    "    'eval_metric': 'logloss',         # Logarithmic loss for evaluation\n",
    "    'eta': 0.3,                       # Learning rate\n",
    "    'max_depth': 6,                   # Maximum depth of a tree\n",
    "    'min_child_weight': 1,            # Minimum sum of instance weight needed in a child\n",
    "    'subsample': 1.0,                 # Fraction of observations to be randomly sampled for each boosting round\n",
    "    'colsample_bytree': 1.0,          # Fraction of features to be randomly sampled for each boosting round\n",
    "    'gamma': 0,                       # Minimum loss reduction required to make a further partition on a leaf node\n",
    "    'lambda': 1,                      # L2 regularization term on weights\n",
    "    'alpha': 0,                       # L1 regularization term on weights\n",
    "    'scale_pos_weight': 1,            # Controls the balance of positive and negative weights\n",
    "    'n_estimators': 100,              # Number of boosting rounds (trees)\n",
    "    'seed': rnd_st                         # Random seed for reproducibility\n",
    "}\n",
    "\n",
    "model_custom_thresh = XGBClassifier(**baseline_params)\n",
    "model_custom_thresh.fit(X_train_sc_ovrsmpl, y_train_ovrsmpl)\n",
    "\n",
    "# Obtaining predicted probabilities.\n",
    "y_pred_train_proba = model_custom_thresh.predict_proba(X_train_sc_ovrsmpl)\n",
    "y_pred_test_proba = model_custom_thresh.predict_proba(X_test_sc)\n",
    "\n",
    "# Setting custom threshold\n",
    "custom_thresh = threshold_df.loc[model_mask & tpr_mask & fpr_mask, 'threshold'].values[0]\n",
    "\n",
    "# Applying custom threshold to convert probabilities for the positive class.\n",
    "y_pred_train_custom_tresh = (y_pred_train_proba[:,1] > custom_thresh).astype(int)\n",
    "y_pred_test_custom_thresh = (y_pred_test_proba[:,1] > custom_thresh).astype(int)\n",
    "\n",
    "# Evaluating model.\n",
    "data_result = model_metrics(\n",
    "    y_train_ovrsmpl,\n",
    "    y_pred_train_custom_tresh,\n",
    "    y_pred_train_proba,\n",
    "    y_test,\n",
    "    y_pred_test_custom_thresh,\n",
    "    y_pred_test_proba,\n",
    "    plot_conf_mat=True\n",
    ")\n",
    "data_result"
   ]
  },
  {
   "cell_type": "markdown",
   "metadata": {},
   "source": [
    "Here we can see that the model detected more cases as True Negatives but False Negatives almost quadrupled.\n",
    "\n",
    "But by looking at metrics we can see that Precision and specificity were improved, but the other metrics lowered their values.\n",
    "\n",
    "I believe that the tradeoff in this case are good, and modifying the threshold can improve model performance to detect the negative class."
   ]
  },
  {
   "cell_type": "markdown",
   "metadata": {},
   "source": [
    "# Model tunning.\n",
    "\n",
    "Last thing to do is to check different combination of hyperparameters to see if i can improve the model a bit more.\n",
    "\n",
    "Ill use Randomized Search to consider different combinations of hyperparameters, by cross-validating these combinations, im going to be able to identify the set that maximizes models performance.\n",
    "\n",
    "The score ill use to select the best model will be the area under the ROC curve (AUC value)."
   ]
  },
  {
   "cell_type": "code",
   "execution_count": 27,
   "metadata": {},
   "outputs": [
    {
     "name": "stdout",
     "output_type": "stream",
     "text": [
      "Best Parameters:  {'subsample': 0.9, 'seed': 13, 'scale_pos_weight': 2, 'objective': 'binary:logistic', 'n_estimators': 200, 'min_child_weight': 1, 'max_depth': 3, 'learning_rate': 0.1, 'lambda': 1, 'gamma': 0, 'eval_metric': 'auc', 'colsample_bytree': 0.8, 'alpha': 0.1}\n",
      "Best AUC Score:  0.999588331824355\n"
     ]
    }
   ],
   "source": [
    "# Parameter grid including all hyperparameters\n",
    "param_grid = {\n",
    "    'objective': ['binary:logistic'],\n",
    "    'eval_metric': ['logloss', 'auc', 'error'],  # Include other possible options\n",
    "    'learning_rate': [0.01, 0.1, 0.2],\n",
    "    'n_estimators': [100, 200, 300],\n",
    "    'max_depth': [3, 4, 5, 6],\n",
    "    'min_child_weight': [1, 2, 3],\n",
    "    'subsample': [0.8, 0.9, 1.0],\n",
    "    'colsample_bytree': [0.8, 0.9, 1.0],\n",
    "    'gamma': [0, 0.1, 0.2],\n",
    "    'lambda': [0.1, 1, 10],\n",
    "    'alpha': [0.1, 1, 10],\n",
    "    'scale_pos_weight': [1, 2, 3],\n",
    "    'seed': [rnd_st]\n",
    "}\n",
    "\n",
    "# Create an XGBoost classifier\n",
    "xgb_model_gs = XGBClassifier()\n",
    "\n",
    "# Create GridSearchCV object\n",
    "grid_search = RandomizedSearchCV(estimator=xgb_model_gs, param_distributions=param_grid, n_iter=100, scoring='roc_auc', cv=5, verbose=0, error_score='raise', random_state=rnd_st)\n",
    "\n",
    "# Fit the model to the data\n",
    "grid_search.fit(X_train_sc_ovrsmpl, y_train_ovrsmpl)\n",
    "\n",
    "print(\"Best Parameters: \", grid_search.best_params_)\n",
    "print(\"Best AUC Score: \", grid_search.best_score_)"
   ]
  },
  {
   "cell_type": "code",
   "execution_count": 28,
   "metadata": {},
   "outputs": [
    {
     "data": {
      "text/html": [
       "<div>\n",
       "<style scoped>\n",
       "    .dataframe tbody tr th:only-of-type {\n",
       "        vertical-align: middle;\n",
       "    }\n",
       "\n",
       "    .dataframe tbody tr th {\n",
       "        vertical-align: top;\n",
       "    }\n",
       "\n",
       "    .dataframe thead th {\n",
       "        text-align: right;\n",
       "    }\n",
       "</style>\n",
       "<table border=\"1\" class=\"dataframe\">\n",
       "  <thead>\n",
       "    <tr style=\"text-align: right;\">\n",
       "      <th></th>\n",
       "      <th>Accuracy</th>\n",
       "      <th>Recall</th>\n",
       "      <th>Precision</th>\n",
       "      <th>Specificity</th>\n",
       "      <th>F1-Score</th>\n",
       "      <th>AUC</th>\n",
       "    </tr>\n",
       "  </thead>\n",
       "  <tbody>\n",
       "    <tr>\n",
       "      <th>Metrics Train</th>\n",
       "      <td>0.9992</td>\n",
       "      <td>1.0000</td>\n",
       "      <td>0.9984</td>\n",
       "      <td>0.9984</td>\n",
       "      <td>0.9992</td>\n",
       "      <td>1.0000</td>\n",
       "    </tr>\n",
       "    <tr>\n",
       "      <th>Metrics Test</th>\n",
       "      <td>0.9710</td>\n",
       "      <td>0.9864</td>\n",
       "      <td>0.9839</td>\n",
       "      <td>0.4091</td>\n",
       "      <td>0.9851</td>\n",
       "      <td>0.9532</td>\n",
       "    </tr>\n",
       "  </tbody>\n",
       "</table>\n",
       "</div>"
      ],
      "text/plain": [
       "               Accuracy  Recall  Precision  Specificity  F1-Score     AUC\n",
       "Metrics Train    0.9992  1.0000     0.9984       0.9984    0.9992  1.0000\n",
       "Metrics Test     0.9710  0.9864     0.9839       0.4091    0.9851  0.9532"
      ]
     },
     "execution_count": 28,
     "metadata": {},
     "output_type": "execute_result"
    },
    {
     "data": {
      "image/png": "[encoded data removed]",
      "text/plain": [
       "<Figure size 640x480 with 1 Axes>"
      ]
     },
     "metadata": {},
     "output_type": "display_data"
    }
   ],
   "source": [
    "# Obtaining metrics.\n",
    "# Keeping best performing model.\n",
    "best_model_gs = grid_search.best_estimator_\n",
    "\n",
    "# Obtaining predicted probabilities.\n",
    "y_pred_train_proba = best_model_gs.predict_proba(X_train_sc_ovrsmpl)\n",
    "y_pred_test_proba = best_model_gs.predict_proba(X_test_sc)\n",
    "\n",
    "y_pred_train = best_model_gs.predict(X_train_sc_ovrsmpl)\n",
    "y_pred_test = best_model_gs.predict(X_test_sc)\n",
    "\n",
    "# Evaluating model.\n",
    "data_result = model_metrics(\n",
    "    y_train_ovrsmpl,\n",
    "    y_pred_train,\n",
    "    y_pred_train_proba,\n",
    "    y_test,\n",
    "    y_pred_test,\n",
    "    y_pred_test_proba,\n",
    "    plot_conf_mat=True\n",
    ")\n",
    "data_result"
   ]
  },
  {
   "cell_type": "markdown",
   "metadata": {},
   "source": [
    "This model performance is very similar to the baseline, except here we got to reduce by two the false negatives.\n",
    "\n",
    "But still we are not getting the same amount of True Positives as the model in which i modified the threshold.\n",
    "\n",
    "Ill try to modify the threshold of this model, and compare it with baseline + threshold modification."
   ]
  },
  {
   "cell_type": "code",
   "execution_count": 29,
   "metadata": {},
   "outputs": [
    {
     "data": {
      "text/html": [
       "<div>\n",
       "<style scoped>\n",
       "    .dataframe tbody tr th:only-of-type {\n",
       "        vertical-align: middle;\n",
       "    }\n",
       "\n",
       "    .dataframe tbody tr th {\n",
       "        vertical-align: top;\n",
       "    }\n",
       "\n",
       "    .dataframe thead th {\n",
       "        text-align: right;\n",
       "    }\n",
       "</style>\n",
       "<table border=\"1\" class=\"dataframe\">\n",
       "  <thead>\n",
       "    <tr style=\"text-align: right;\">\n",
       "      <th></th>\n",
       "      <th>Accuracy</th>\n",
       "      <th>Recall</th>\n",
       "      <th>Precision</th>\n",
       "      <th>Specificity</th>\n",
       "      <th>F1-Score</th>\n",
       "      <th>AUC</th>\n",
       "    </tr>\n",
       "  </thead>\n",
       "  <tbody>\n",
       "    <tr>\n",
       "      <th>Metrics Train</th>\n",
       "      <td>0.9524</td>\n",
       "      <td>0.9048</td>\n",
       "      <td>1.0000</td>\n",
       "      <td>1.0000</td>\n",
       "      <td>0.9500</td>\n",
       "      <td>1.0000</td>\n",
       "    </tr>\n",
       "    <tr>\n",
       "      <th>Metrics Test</th>\n",
       "      <td>0.8937</td>\n",
       "      <td>0.8945</td>\n",
       "      <td>0.9959</td>\n",
       "      <td>0.8636</td>\n",
       "      <td>0.9425</td>\n",
       "      <td>0.9532</td>\n",
       "    </tr>\n",
       "  </tbody>\n",
       "</table>\n",
       "</div>"
      ],
      "text/plain": [
       "               Accuracy  Recall  Precision  Specificity  F1-Score     AUC\n",
       "Metrics Train    0.9524  0.9048     1.0000       1.0000    0.9500  1.0000\n",
       "Metrics Test     0.8937  0.8945     0.9959       0.8636    0.9425  0.9532"
      ]
     },
     "execution_count": 29,
     "metadata": {},
     "output_type": "execute_result"
    },
    {
     "data": {
      "image/png": "[encoded data removed]",
      "text/plain": [
       "<Figure size 640x480 with 1 Axes>"
      ]
     },
     "metadata": {},
     "output_type": "display_data"
    }
   ],
   "source": [
    "# Modifying threshold.\n",
    "best_model_gs.threshold_ = custom_thresh\n",
    "\n",
    "# Obtaining predicted probabilities.\n",
    "y_pred_train_proba = best_model_gs.predict_proba(X_train_sc_ovrsmpl)\n",
    "y_pred_test_proba = best_model_gs.predict_proba(X_test_sc)\n",
    "\n",
    "# Applying custom threshold to convert probabilities for the positive class.\n",
    "y_pred_train_custom_tresh = (y_pred_train_proba[:,1] > custom_thresh).astype(int)\n",
    "y_pred_test_custom_thresh = (y_pred_test_proba[:,1] > custom_thresh).astype(int)\n",
    "\n",
    "# Evaluating model.\n",
    "data_result = model_metrics(\n",
    "    y_train_ovrsmpl,\n",
    "    y_pred_train_custom_tresh,\n",
    "    y_pred_train_proba,\n",
    "    y_test,\n",
    "    y_pred_test_custom_thresh,\n",
    "    y_pred_test_proba,\n",
    "    plot_conf_mat=True\n",
    ")\n",
    "data_result"
   ]
  },
  {
   "cell_type": "markdown",
   "metadata": {},
   "source": [
    "From here we can see that after gridsearch and threshold modification we were able to reduce the False Positives by one, but that improvement bring with it 35 more False Negatives.\n",
    "\n",
    "By checking the metrics, seeing that only the specificity and the AUC went slightly up, and based on the increment of False Negatives, im going to decide that the best performing model is the one with baseline hyperparameters and threshold modification."
   ]
  },
  {
   "cell_type": "markdown",
   "metadata": {},
   "source": [
    "# Exporting best performing model.\n",
    "\n",
    "Next im going to export the best performing model for later use.\n",
    "\n",
    "Since the best performing model needs a threshold modification, i cant export with that modification, so ill export the trained model.\n",
    "\n",
    "The threshold modification will be done when this model is used for predictions."
   ]
  },
  {
   "cell_type": "code",
   "execution_count": 30,
   "metadata": {},
   "outputs": [],
   "source": [
    "best_model = model_custom_thresh\n",
    "best_params_dict = baseline_params"
   ]
  },
  {
   "cell_type": "code",
   "execution_count": 31,
   "metadata": {},
   "outputs": [
    {
     "data": {
      "text/plain": [
       "['../trained_model/trained_classification_model.joblib']"
      ]
     },
     "execution_count": 31,
     "metadata": {},
     "output_type": "execute_result"
    }
   ],
   "source": [
    "# Saving the trained model to a file using joblib.\n",
    "joblib.dump(best_model, '../trained_model/trained_classification_model.joblib')"
   ]
  },
  {
   "cell_type": "code",
   "execution_count": 32,
   "metadata": {},
   "outputs": [],
   "source": [
    "# Write the best parameters to the file\n",
    "with open('../docker/app/best_params.txt', 'w') as file:\n",
    "    for param, value in best_params_dict.items():\n",
    "        file.write(f\"{param}: {value}\\n\")"
   ]
  },
  {
   "cell_type": "code",
   "execution_count": null,
   "metadata": {},
   "outputs": [],
   "source": []
  }
 ],
 "metadata": {
  "kernelspec": {
   "display_name": "course-approve-detection",
   "language": "python",
   "name": "python3"
  },
  "language_info": {
   "codemirror_mode": {
    "name": "ipython",
    "version": 3
   },
   "file_extension": ".py",
   "mimetype": "text/x-python",
   "name": "python",
   "nbconvert_exporter": "python",
   "pygments_lexer": "ipython3",
   "version": "3.9.13"
  }
 },
 "nbformat": 4,
 "nbformat_minor": 2
}
