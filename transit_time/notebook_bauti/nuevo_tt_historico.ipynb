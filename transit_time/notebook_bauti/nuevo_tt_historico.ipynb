{
 "cells": [
  {
   "cell_type": "code",
   "execution_count": 310,
   "metadata": {},
   "outputs": [],
   "source": [
    "import pandas as pd\n",
    "from datetime import datetime,date\n",
    "import re\n",
    "import os"
   ]
  },
  {
   "cell_type": "code",
   "execution_count": 311,
   "metadata": {},
   "outputs": [],
   "source": [
    "\n",
    "# Paths\n",
    "name_transit_time  = \"../Input_fijo/2019-2022 DMS1__Transit Time.xlsx\"\n",
    "name_transit_time_23 = \"../input_bauti/ultima_campaña/2022-2023 DMS1_Transit Times.xlsx\"\n",
    "\n",
    "# Output\n",
    "path_output = '../input_bauti/historico/'\n",
    "name_output = 'df_historico.xlsx'"
   ]
  },
  {
   "cell_type": "code",
   "execution_count": 312,
   "metadata": {},
   "outputs": [],
   "source": [
    "df_consolidado = pd.read_excel(name_transit_time,\n",
    "                                sheet_name=\"Consolidado\",\n",
    "                                header=0,\n",
    "                                #dtype = {\"tiempo_real\":datetime},\n",
    "                                names = ['id_dms',\n",
    "                                            'año',\n",
    "                                            'zone_x',\n",
    "                                            'subZone',\n",
    "                                            'batch',\n",
    "                                            'truck_num',\n",
    "                                            'truck Type',\n",
    "                                            'delivery_num',\n",
    "                                            'start_dt',\n",
    "                                            'end_dt',\n",
    "                                            'tiempo_min_zone',\n",
    "                                            'tiempo_max_zone',\n",
    "                                            'temp_min',\n",
    "                                            'temp_max',\n",
    "                                            'obs_temp',\n",
    "                                            'tiempo_real',\n",
    "                                            'obs_tiempo',\n",
    "                                            'obs_peso',\n",
    "                                            'kg',\n",
    "                                            'establecimiento',\n",
    "                                            'tiempo',\n",
    "                                            'conteo_batch',\n",
    "                                            'conteo_subzone',\n",
    "                                            'logueo_manual',\n",
    "                                        ]                                                                   \n",
    "                                )\n",
    "df_consolidado_2023 = pd.read_excel(name_transit_time_23,\n",
    "                            sheet_name=\"Sheet1\",\n",
    "                            header=0,\n",
    "                            #dtype = {\"tiempo_real\":datetime},\n",
    "                            names= [\n",
    "                                    'año',\n",
    "                                    'zone_x',\n",
    "                                    'subZone',\n",
    "                                    'batch',\n",
    "                                    'truck_num',\n",
    "                                    'truck Type',\n",
    "                                    'delivery_num',\n",
    "                                    'start_dt',\n",
    "                                    'end_dt',\n",
    "                                    'tiempo_min_zone',\n",
    "                                    'tiempo_max_zone',\n",
    "                                    'temp_min',\n",
    "                                    'temp_max',\n",
    "                                    'obs_temp',\n",
    "                                    'tiempo_real',\n",
    "                                    'obs_tiempo',\n",
    "                                    'obs_peso',\n",
    "                                    'kg',\n",
    "                                    'establecimiento'\n",
    "                            ]\n",
    "                        )"
   ]
  },
  {
   "cell_type": "markdown",
   "metadata": {},
   "source": [
    "### Concatenacion de nuevos registros."
   ]
  },
  {
   "cell_type": "code",
   "execution_count": 313,
   "metadata": {},
   "outputs": [
    {
     "name": "stdout",
     "output_type": "stream",
     "text": [
      "shape antes de elminar = 23943 Filas - 19 Columnas\n",
      "shape luego de elminar = 23101 Filas - 19 Columnas\n"
     ]
    }
   ],
   "source": [
    "# Elimino registros del 2022 - 2023 que no cuentan con zona o subzona asignada.\n",
    "print('shape antes de elminar = %s Filas - %s Columnas' %(df_consolidado_2023.shape[0], df_consolidado_2023.shape[1]))\n",
    "\n",
    "df_consolidado_2023.dropna(axis=0, how='any', subset=['zone_x', 'subZone', 'tiempo_real'], inplace=True)\n",
    "\n",
    "print('shape luego de elminar = %s Filas - %s Columnas' %(df_consolidado_2023.shape[0], df_consolidado_2023.shape[1]))"
   ]
  },
  {
   "cell_type": "code",
   "execution_count": 314,
   "metadata": {},
   "outputs": [
    {
     "data": {
      "text/plain": [
       "(16518, 19)"
      ]
     },
     "execution_count": 314,
     "metadata": {},
     "output_type": "execute_result"
    }
   ],
   "source": [
    "# Me quedo con las columnas en comun.\n",
    "cols_considerar = df_consolidado_2023.columns.to_list()\n",
    "df_consolidado = df_consolidado[cols_considerar]\n",
    "df_consolidado.shape"
   ]
  },
  {
   "cell_type": "code",
   "execution_count": 315,
   "metadata": {},
   "outputs": [],
   "source": [
    "# Funcion para formatear los datos, y generar una columna nueva, que tenga en cuenta el año y la fecha de entrega.\n",
    "def convert_to_datetime (row, date_row):\n",
    "    year = row['año']\n",
    "    date_time_str = row[date_row]\n",
    "    \n",
    "    return datetime.strptime(f\"{year}-{date_time_str}\", \"%Y-%d/%m . %H:%M\")\n",
    "\n",
    "\n",
    "df_consolidado['start_date'] = df_consolidado.apply(lambda x: convert_to_datetime(x, 'start_dt'), axis=1).dt.strftime('%Y-%m-%d %H:%M:%S')\n",
    "df_consolidado['end_date'] = df_consolidado.apply(lambda x: convert_to_datetime(x, 'end_dt'), axis=1).dt.strftime('%Y-%m-%d %H:%M:%S')\n",
    "df_consolidado_2023['start_date'] = df_consolidado_2023.apply(lambda x: convert_to_datetime(x, 'start_dt'), axis=1).dt.strftime('%Y-%m-%d %H:%M:%S')\n",
    "df_consolidado_2023['end_date'] = df_consolidado_2023.apply(lambda x: convert_to_datetime(x, 'end_dt'), axis=1).dt.strftime('%Y-%m-%d %H:%M:%S')"
   ]
  },
  {
   "cell_type": "code",
   "execution_count": 316,
   "metadata": {},
   "outputs": [
    {
     "name": "stdout",
     "output_type": "stream",
     "text": [
      "Registros a agregar - 22285 Filas (de 23101)\n"
     ]
    }
   ],
   "source": [
    "# Obtengo los registros que ya estaban cargados en el input inicial.\n",
    "list_start_date = df_consolidado['start_date'].unique().tolist()\n",
    "list_end_date = df_consolidado['end_date'].unique().tolist()\n",
    "\n",
    "# Filtro las entregas que ya se realizaron\n",
    "cols_antes = df_consolidado_2023.shape[0]\n",
    "\n",
    "mask = ((df_consolidado_2023['start_date'].isin(list_start_date)) & (df_consolidado_2023['end_date'].isin(list_start_date)))\n",
    "df_consolidado_2023 = df_consolidado_2023[~mask]\n",
    "\n",
    "# Dropeo las columnas creadas ya que no seran de utilidad.\n",
    "df_consolidado_2023.drop(columns=['start_date', 'end_date'], axis=1, inplace=True)\n",
    "df_consolidado.drop(columns=['start_date', 'end_date'], axis=1, inplace=True)\n",
    "\n",
    "print('Registros a agregar - %s Filas (de %s)' %(df_consolidado_2023.shape[0], cols_antes))"
   ]
  },
  {
   "cell_type": "code",
   "execution_count": 317,
   "metadata": {},
   "outputs": [
    {
     "name": "stdout",
     "output_type": "stream",
     "text": [
      "Shape = (38768, 19)\n"
     ]
    },
    {
     "data": {
      "text/html": [
       "<div>\n",
       "<style scoped>\n",
       "    .dataframe tbody tr th:only-of-type {\n",
       "        vertical-align: middle;\n",
       "    }\n",
       "\n",
       "    .dataframe tbody tr th {\n",
       "        vertical-align: top;\n",
       "    }\n",
       "\n",
       "    .dataframe thead th {\n",
       "        text-align: right;\n",
       "    }\n",
       "</style>\n",
       "<table border=\"1\" class=\"dataframe\">\n",
       "  <thead>\n",
       "    <tr style=\"text-align: right;\">\n",
       "      <th></th>\n",
       "      <th>año</th>\n",
       "      <th>zone_x</th>\n",
       "      <th>subZone</th>\n",
       "      <th>batch</th>\n",
       "      <th>truck_num</th>\n",
       "      <th>truck Type</th>\n",
       "      <th>delivery_num</th>\n",
       "      <th>start_dt</th>\n",
       "      <th>end_dt</th>\n",
       "      <th>tiempo_min_zone</th>\n",
       "      <th>tiempo_max_zone</th>\n",
       "      <th>temp_min</th>\n",
       "      <th>temp_max</th>\n",
       "      <th>obs_temp</th>\n",
       "      <th>tiempo_real</th>\n",
       "      <th>obs_tiempo</th>\n",
       "      <th>obs_peso</th>\n",
       "      <th>kg</th>\n",
       "      <th>establecimiento</th>\n",
       "    </tr>\n",
       "  </thead>\n",
       "  <tbody>\n",
       "    <tr>\n",
       "      <th>0</th>\n",
       "      <td>2020</td>\n",
       "      <td>F</td>\n",
       "      <td>F3</td>\n",
       "      <td>UF20610N</td>\n",
       "      <td>130915</td>\n",
       "      <td>CH</td>\n",
       "      <td>NaN</td>\n",
       "      <td>01/02 . 12:02</td>\n",
       "      <td>01/02 . 20:19</td>\n",
       "      <td>04:00</td>\n",
       "      <td>05:30</td>\n",
       "      <td>27.3</td>\n",
       "      <td>38.58</td>\n",
       "      <td>OK</td>\n",
       "      <td>01:30:00</td>\n",
       "      <td>Early</td>\n",
       "      <td>OK</td>\n",
       "      <td>22840.0</td>\n",
       "      <td>la tijereta</td>\n",
       "    </tr>\n",
       "    <tr>\n",
       "      <th>1</th>\n",
       "      <td>2020</td>\n",
       "      <td>F</td>\n",
       "      <td>F3</td>\n",
       "      <td>UF20610N</td>\n",
       "      <td>130915</td>\n",
       "      <td>CH</td>\n",
       "      <td>NaN</td>\n",
       "      <td>01/02 . 12:02</td>\n",
       "      <td>01/02 . 20:19</td>\n",
       "      <td>04:00</td>\n",
       "      <td>05:30</td>\n",
       "      <td>27.3</td>\n",
       "      <td>38.58</td>\n",
       "      <td>OK</td>\n",
       "      <td>01:30:00</td>\n",
       "      <td>Early</td>\n",
       "      <td>OK</td>\n",
       "      <td>22840.0</td>\n",
       "      <td>la tijereta</td>\n",
       "    </tr>\n",
       "    <tr>\n",
       "      <th>2</th>\n",
       "      <td>2020</td>\n",
       "      <td>F</td>\n",
       "      <td>F3</td>\n",
       "      <td>UF20610N</td>\n",
       "      <td>130952</td>\n",
       "      <td>CH</td>\n",
       "      <td>NaN</td>\n",
       "      <td>01/02 . 13:57</td>\n",
       "      <td>01/02 . 20:44</td>\n",
       "      <td>04:00</td>\n",
       "      <td>05:30</td>\n",
       "      <td>27.6</td>\n",
       "      <td>37.40</td>\n",
       "      <td>OK</td>\n",
       "      <td>03:35:00</td>\n",
       "      <td>Early</td>\n",
       "      <td>OK</td>\n",
       "      <td>23420.0</td>\n",
       "      <td>la tijereta</td>\n",
       "    </tr>\n",
       "  </tbody>\n",
       "</table>\n",
       "</div>"
      ],
      "text/plain": [
       "    año zone_x subZone     batch truck_num truck Type delivery_num  \\\n",
       "0  2020      F      F3  UF20610N    130915         CH          NaN   \n",
       "1  2020      F      F3  UF20610N    130915         CH          NaN   \n",
       "2  2020      F      F3  UF20610N    130952         CH          NaN   \n",
       "\n",
       "        start_dt         end_dt tiempo_min_zone tiempo_max_zone  temp_min  \\\n",
       "0  01/02 . 12:02  01/02 . 20:19           04:00           05:30      27.3   \n",
       "1  01/02 . 12:02  01/02 . 20:19           04:00           05:30      27.3   \n",
       "2  01/02 . 13:57  01/02 . 20:44           04:00           05:30      27.6   \n",
       "\n",
       "   temp_max obs_temp tiempo_real obs_tiempo obs_peso       kg establecimiento  \n",
       "0     38.58       OK    01:30:00      Early       OK  22840.0     la tijereta  \n",
       "1     38.58       OK    01:30:00      Early       OK  22840.0     la tijereta  \n",
       "2     37.40       OK    03:35:00      Early       OK  23420.0     la tijereta  "
      ]
     },
     "execution_count": 317,
     "metadata": {},
     "output_type": "execute_result"
    }
   ],
   "source": [
    "# Agrego informacion faltante.\n",
    "df_consolidado = pd.concat([df_consolidado, df_consolidado_2023], ignore_index=False)\n",
    "df_consolidado.drop_duplicates(inplace=True)\n",
    "df_consolidado.sort_values(['año', 'start_dt'], inplace=True, ignore_index=True)\n",
    "\n",
    "# Unifico los nombres de los establecimientos.\n",
    "df_consolidado['establecimiento'] = df_consolidado['establecimiento'].str.lower()\n",
    "\n",
    "print('Shape = (%s, %s)' %(df_consolidado.shape[0], df_consolidado.shape[1]))\n",
    "df_consolidado.head(3)"
   ]
  },
  {
   "cell_type": "code",
   "execution_count": 318,
   "metadata": {},
   "outputs": [],
   "source": [
    "# La columna tiempo real tiene que tener los valores en estilo H:M:S, pero algunos\n",
    "# valores vienen en formato '1900-01-01  H:M:S', voy a corregirlo con regex.\n",
    "# Esto se debe a que cuando una hora supera las 24 hs se le agrega la fecha esa.\n",
    "def format_time(value):\n",
    "    value_datetime = pd.to_datetime(value)\n",
    "    \n",
    "    hora_mas_24 = int(value_datetime.hour)+24\n",
    "    minutos = f'{value_datetime.minute:02d}'\n",
    "    segundos =  f'{value_datetime.second:02d}'\n",
    "    \n",
    "    return f'{hora_mas_24}:{minutos}:{segundos}'"
   ]
  },
  {
   "cell_type": "code",
   "execution_count": 319,
   "metadata": {},
   "outputs": [],
   "source": [
    "# Transformo la columna a str, para trabajar con texto.\n",
    "df_consolidado['tiempo_real'] = df_consolidado['tiempo_real'].astype(str)\n",
    "\n",
    "# Obtengo los registros que superan las 24 hs.\n",
    "mask_reg_mas_24hs = df_consolidado['tiempo_real'].str.contains('1900-01-01')\n",
    "\n",
    "\n",
    "df_consolidado.loc[mask_reg_mas_24hs,'tiempo_real'] = df_consolidado.loc[mask_reg_mas_24hs,'tiempo_real'].apply(format_time)\n",
    "\n",
    "# Dropeo horarios vacios.\n",
    "df_consolidado.dropna(subset='tiempo_real', axis=0, how='any', inplace=True)"
   ]
  },
  {
   "cell_type": "code",
   "execution_count": 320,
   "metadata": {},
   "outputs": [],
   "source": [
    "# Creo una nueva carpeta para este archivo historico y guardo el archivo.\n",
    "if not os.path.exists(path_output):\n",
    "    os.makedirs(path_output)\n",
    "\n",
    "df_consolidado.to_excel(path_output+name_output, index=False)\n"
   ]
  }
 ],
 "metadata": {
  "kernelspec": {
   "display_name": "transit_time_bayer",
   "language": "python",
   "name": "python3"
  },
  "language_info": {
   "codemirror_mode": {
    "name": "ipython",
    "version": 3
   },
   "file_extension": ".py",
   "mimetype": "text/x-python",
   "name": "python",
   "nbconvert_exporter": "python",
   "pygments_lexer": "ipython3",
   "version": "3.9.17"
  },
  "orig_nbformat": 4
 },
 "nbformat": 4,
 "nbformat_minor": 2
}
