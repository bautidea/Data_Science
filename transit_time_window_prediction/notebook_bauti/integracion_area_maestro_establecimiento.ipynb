{
 "cells": [
  {
   "cell_type": "code",
   "execution_count": 1,
   "metadata": {},
   "outputs": [],
   "source": [
    "import pandas as pd\n",
    "import os"
   ]
  },
  {
   "cell_type": "code",
   "execution_count": 2,
   "metadata": {},
   "outputs": [],
   "source": [
    "# Voy a integrar el area al maestro de establecimiento, con el objetivo de agregarle mas informacion y poder\n",
    "# distinguir entre las distintas ares."
   ]
  },
  {
   "cell_type": "code",
   "execution_count": 3,
   "metadata": {},
   "outputs": [],
   "source": [
    "# Paths\n",
    "name_establecimientos_fundadora = '../input_bauti/ultima_campaña/Establecimientos Fundadora.xlsx'\n",
    "name_maestro_establecimiento = '../Input_fijo/maestro_establecimientos.xlsx'\n",
    "name_listado_lotes = '../input_bauti/ultima_campaña/Listado de lotes.xlsx'\n",
    "\n",
    "# Output\n",
    "path_output = '../input_bauti/maestro_establecimieto/'\n",
    "name_output = 'maestro_establecimiento_areas.xlsx'"
   ]
  },
  {
   "cell_type": "code",
   "execution_count": 4,
   "metadata": {},
   "outputs": [],
   "source": [
    "# Load\n",
    "df_maestro_establecimiento = pd.read_excel(name_maestro_establecimiento)\n",
    "df_fundadora = pd.read_excel(name_establecimientos_fundadora)\n",
    "df_lotes =  pd.read_excel(name_listado_lotes)"
   ]
  },
  {
   "cell_type": "markdown",
   "metadata": {},
   "source": [
    "### Acomodo campos"
   ]
  },
  {
   "cell_type": "code",
   "execution_count": 5,
   "metadata": {},
   "outputs": [
    {
     "name": "stdout",
     "output_type": "stream",
     "text": [
      "Shape fundadora - 29 Filas / 4 Columnas\n"
     ]
    },
    {
     "data": {
      "text/html": [
       "<div>\n",
       "<style scoped>\n",
       "    .dataframe tbody tr th:only-of-type {\n",
       "        vertical-align: middle;\n",
       "    }\n",
       "\n",
       "    .dataframe tbody tr th {\n",
       "        vertical-align: top;\n",
       "    }\n",
       "\n",
       "    .dataframe thead th {\n",
       "        text-align: right;\n",
       "    }\n",
       "</style>\n",
       "<table border=\"1\" class=\"dataframe\">\n",
       "  <thead>\n",
       "    <tr style=\"text-align: right;\">\n",
       "      <th></th>\n",
       "      <th>zona</th>\n",
       "      <th>establecimiento</th>\n",
       "      <th>good_supplier</th>\n",
       "      <th>area</th>\n",
       "    </tr>\n",
       "  </thead>\n",
       "  <tbody>\n",
       "    <tr>\n",
       "      <th>13</th>\n",
       "      <td>G</td>\n",
       "      <td>mira sierras 2</td>\n",
       "      <td>932926</td>\n",
       "      <td>fundadora</td>\n",
       "    </tr>\n",
       "    <tr>\n",
       "      <th>24</th>\n",
       "      <td>T</td>\n",
       "      <td>la inesita</td>\n",
       "      <td>879005</td>\n",
       "      <td>fundadora</td>\n",
       "    </tr>\n",
       "    <tr>\n",
       "      <th>16</th>\n",
       "      <td>H</td>\n",
       "      <td>los varones</td>\n",
       "      <td>932925</td>\n",
       "      <td>fundadora</td>\n",
       "    </tr>\n",
       "  </tbody>\n",
       "</table>\n",
       "</div>"
      ],
      "text/plain": [
       "   zona establecimiento good_supplier       area\n",
       "13    G  mira sierras 2        932926  fundadora\n",
       "24    T      la inesita        879005  fundadora\n",
       "16    H     los varones        932925  fundadora"
      ]
     },
     "execution_count": 5,
     "metadata": {},
     "output_type": "execute_result"
    }
   ],
   "source": [
    "# Establecimientos fundadora.\n",
    "\n",
    "# Dropea columnas que posean nullos ('Unnamed')\n",
    "df_fundadora.dropna(axis=1, how='all', inplace=True)\n",
    "# Dropeo fillas que contienen algun nulo.\n",
    "df_fundadora.dropna(axis=0, how='any', inplace=True)\n",
    "# Dropeo duplicados.\n",
    "df_fundadora.drop_duplicates(inplace=True)\n",
    "\n",
    "# Selecciono campos de utilidad.\n",
    "df_fundadora = df_fundadora[['Zona', 'Field Master Data', 'Good Supplier']]\n",
    "# Renombro los campos.\n",
    "df_fundadora.columns = ['zona', 'establecimiento', 'good_supplier']\n",
    "\n",
    "# Llevo establecimientos a minuscula.\n",
    "df_fundadora['establecimiento'] = df_fundadora['establecimiento'].str.lower()\n",
    "\n",
    "# Agrego area.\n",
    "df_fundadora['area'] = 'fundadora'\n",
    "\n",
    "print('Shape fundadora - %s Filas / %s Columnas' %(df_fundadora.shape[0], df_fundadora.shape[1]))\n",
    "df_fundadora.sample(3)"
   ]
  },
  {
   "cell_type": "code",
   "execution_count": 6,
   "metadata": {},
   "outputs": [
    {
     "name": "stdout",
     "output_type": "stream",
     "text": [
      "Shape Listado Lotes - 165 Filas / 4 Columnas\n"
     ]
    },
    {
     "data": {
      "text/html": [
       "<div>\n",
       "<style scoped>\n",
       "    .dataframe tbody tr th:only-of-type {\n",
       "        vertical-align: middle;\n",
       "    }\n",
       "\n",
       "    .dataframe tbody tr th {\n",
       "        vertical-align: top;\n",
       "    }\n",
       "\n",
       "    .dataframe thead th {\n",
       "        text-align: right;\n",
       "    }\n",
       "</style>\n",
       "<table border=\"1\" class=\"dataframe\">\n",
       "  <thead>\n",
       "    <tr style=\"text-align: right;\">\n",
       "      <th></th>\n",
       "      <th>zona</th>\n",
       "      <th>establecimiento</th>\n",
       "      <th>good_supplier</th>\n",
       "      <th>area</th>\n",
       "    </tr>\n",
       "  </thead>\n",
       "  <tbody>\n",
       "    <tr>\n",
       "      <th>79</th>\n",
       "      <td>J</td>\n",
       "      <td>san patricio</td>\n",
       "      <td>878956</td>\n",
       "      <td>comercial</td>\n",
       "    </tr>\n",
       "    <tr>\n",
       "      <th>46</th>\n",
       "      <td>F</td>\n",
       "      <td>san jorge</td>\n",
       "      <td>922673</td>\n",
       "      <td>comercial</td>\n",
       "    </tr>\n",
       "    <tr>\n",
       "      <th>163</th>\n",
       "      <td>Z</td>\n",
       "      <td>quinihua</td>\n",
       "      <td>932454</td>\n",
       "      <td>comercial</td>\n",
       "    </tr>\n",
       "  </tbody>\n",
       "</table>\n",
       "</div>"
      ],
      "text/plain": [
       "    zona establecimiento  good_supplier       area\n",
       "79     J    san patricio         878956  comercial\n",
       "46     F       san jorge         922673  comercial\n",
       "163    Z        quinihua         932454  comercial"
      ]
     },
     "execution_count": 6,
     "metadata": {},
     "output_type": "execute_result"
    }
   ],
   "source": [
    "# Listado de lotes.\n",
    "\n",
    "# Selecciono campos de utilidad.\n",
    "df_lotes = df_lotes[['Zona', 'Field Master Data', 'Good Supplier (SAP)', 'Area']]\n",
    "# Renombro los campos.\n",
    "df_lotes.columns = ['zona', 'establecimiento', 'good_supplier', 'area']\n",
    "\n",
    "# Ignoro zonas con nombre \"AT\".\n",
    "mask_no_AT = df_lotes['zona']!='AT'\n",
    "df_lotes = df_lotes.loc[mask_no_AT, :]\n",
    "\n",
    "# Elimino subzonas que pudieran llegar a aparecer.\n",
    "df_lotes['zona'] = df_lotes['zona'].str.replace(r'\\d*','', regex=True)\n",
    "\n",
    "# Agrupo por zona, establecimiento y area para obtener registros unicos en base a esos campos.\n",
    "df_lotes = df_lotes.groupby(['zona', 'establecimiento', 'area']).value_counts().reset_index().drop(columns=0)\n",
    "df_lotes = df_lotes[['zona', 'establecimiento', 'good_supplier', 'area']]\n",
    "\n",
    "# Llevo establecimientos y el area a minuscula.\n",
    "df_lotes['establecimiento'] = df_lotes['establecimiento'].str.lower()\n",
    "df_lotes['area'] = df_lotes['area'].str.lower()\n",
    "\n",
    "\n",
    "print('Shape Listado Lotes - %s Filas / %s Columnas' %(df_lotes.shape[0], df_lotes.shape[1]))\n",
    "df_lotes.sample(3)"
   ]
  },
  {
   "cell_type": "markdown",
   "metadata": {},
   "source": [
    "### Realizo un merge por si hay establecimientos fundadora que no estan siendo considerados."
   ]
  },
  {
   "cell_type": "code",
   "execution_count": 7,
   "metadata": {},
   "outputs": [
    {
     "name": "stdout",
     "output_type": "stream",
     "text": [
      "Shape Listado Lotes - 165 Filas / 4 Columnas\n"
     ]
    },
    {
     "data": {
      "text/html": [
       "<div>\n",
       "<style scoped>\n",
       "    .dataframe tbody tr th:only-of-type {\n",
       "        vertical-align: middle;\n",
       "    }\n",
       "\n",
       "    .dataframe tbody tr th {\n",
       "        vertical-align: top;\n",
       "    }\n",
       "\n",
       "    .dataframe thead th {\n",
       "        text-align: right;\n",
       "    }\n",
       "</style>\n",
       "<table border=\"1\" class=\"dataframe\">\n",
       "  <thead>\n",
       "    <tr style=\"text-align: right;\">\n",
       "      <th></th>\n",
       "      <th>zona</th>\n",
       "      <th>establecimiento</th>\n",
       "      <th>good_supplier</th>\n",
       "      <th>area</th>\n",
       "    </tr>\n",
       "  </thead>\n",
       "  <tbody>\n",
       "    <tr>\n",
       "      <th>134</th>\n",
       "      <td>U</td>\n",
       "      <td>la neja</td>\n",
       "      <td>878930</td>\n",
       "      <td>comercial</td>\n",
       "    </tr>\n",
       "    <tr>\n",
       "      <th>71</th>\n",
       "      <td>J</td>\n",
       "      <td>la argentina</td>\n",
       "      <td>922679</td>\n",
       "      <td>comercial</td>\n",
       "    </tr>\n",
       "    <tr>\n",
       "      <th>83</th>\n",
       "      <td>L</td>\n",
       "      <td>la gramilla</td>\n",
       "      <td>878763</td>\n",
       "      <td>comercial</td>\n",
       "    </tr>\n",
       "  </tbody>\n",
       "</table>\n",
       "</div>"
      ],
      "text/plain": [
       "    zona establecimiento good_supplier       area\n",
       "134    U         la neja        878930  comercial\n",
       "71     J    la argentina        922679  comercial\n",
       "83     L     la gramilla        878763  comercial"
      ]
     },
     "execution_count": 7,
     "metadata": {},
     "output_type": "execute_result"
    }
   ],
   "source": [
    "df_lotes = df_lotes.merge(df_fundadora, on=['zona', 'establecimiento', 'good_supplier', 'area'], how='left')\n",
    "\n",
    "print('Shape Listado Lotes - %s Filas / %s Columnas' %(df_lotes.shape[0], df_lotes.shape[1]))\n",
    "df_lotes.sample(3)"
   ]
  },
  {
   "cell_type": "markdown",
   "metadata": {},
   "source": [
    "### Obtengo un nuevo maestro de establecimientos.\n",
    "\n",
    "Diferenciado por zona y establecimiento, pero manteniendo las coordenadas del maestro de establecimientos."
   ]
  },
  {
   "cell_type": "code",
   "execution_count": 8,
   "metadata": {},
   "outputs": [
    {
     "name": "stdout",
     "output_type": "stream",
     "text": [
      "Shape Maestro Establecimiento - 163 Filas / 4 Columnas\n"
     ]
    },
    {
     "data": {
      "text/html": [
       "<div>\n",
       "<style scoped>\n",
       "    .dataframe tbody tr th:only-of-type {\n",
       "        vertical-align: middle;\n",
       "    }\n",
       "\n",
       "    .dataframe tbody tr th {\n",
       "        vertical-align: top;\n",
       "    }\n",
       "\n",
       "    .dataframe thead th {\n",
       "        text-align: right;\n",
       "    }\n",
       "</style>\n",
       "<table border=\"1\" class=\"dataframe\">\n",
       "  <thead>\n",
       "    <tr style=\"text-align: right;\">\n",
       "      <th></th>\n",
       "      <th>establecimiento</th>\n",
       "      <th>latitud</th>\n",
       "      <th>longitud</th>\n",
       "      <th>Duplicado</th>\n",
       "    </tr>\n",
       "  </thead>\n",
       "  <tbody>\n",
       "    <tr>\n",
       "      <th>121</th>\n",
       "      <td>ojo de agua</td>\n",
       "      <td>-37.977245</td>\n",
       "      <td>-58.012072</td>\n",
       "      <td>0</td>\n",
       "    </tr>\n",
       "    <tr>\n",
       "      <th>70</th>\n",
       "      <td>la adelia</td>\n",
       "      <td>-37.675047</td>\n",
       "      <td>-58.593147</td>\n",
       "      <td>0</td>\n",
       "    </tr>\n",
       "    <tr>\n",
       "      <th>89</th>\n",
       "      <td>los sauces</td>\n",
       "      <td>-33.900007</td>\n",
       "      <td>-60.708386</td>\n",
       "      <td>0</td>\n",
       "    </tr>\n",
       "  </tbody>\n",
       "</table>\n",
       "</div>"
      ],
      "text/plain": [
       "    establecimiento    latitud   longitud  Duplicado\n",
       "121     ojo de agua -37.977245 -58.012072          0\n",
       "70        la adelia -37.675047 -58.593147          0\n",
       "89       los sauces -33.900007 -60.708386          0"
      ]
     },
     "execution_count": 8,
     "metadata": {},
     "output_type": "execute_result"
    }
   ],
   "source": [
    "print('Shape Maestro Establecimiento - %s Filas / %s Columnas' %(df_maestro_establecimiento.shape[0], df_maestro_establecimiento.shape[1]))\n",
    "df_maestro_establecimiento.sample(3)"
   ]
  },
  {
   "cell_type": "code",
   "execution_count": 9,
   "metadata": {},
   "outputs": [
    {
     "name": "stdout",
     "output_type": "stream",
     "text": [
      "Shape Maestro Establecimiento - 165 Filas / 7 Columnas\n"
     ]
    },
    {
     "data": {
      "text/html": [
       "<div>\n",
       "<style scoped>\n",
       "    .dataframe tbody tr th:only-of-type {\n",
       "        vertical-align: middle;\n",
       "    }\n",
       "\n",
       "    .dataframe tbody tr th {\n",
       "        vertical-align: top;\n",
       "    }\n",
       "\n",
       "    .dataframe thead th {\n",
       "        text-align: right;\n",
       "    }\n",
       "</style>\n",
       "<table border=\"1\" class=\"dataframe\">\n",
       "  <thead>\n",
       "    <tr style=\"text-align: right;\">\n",
       "      <th></th>\n",
       "      <th>zona</th>\n",
       "      <th>establecimiento</th>\n",
       "      <th>good_supplier</th>\n",
       "      <th>area</th>\n",
       "      <th>latitud</th>\n",
       "      <th>longitud</th>\n",
       "      <th>Duplicado</th>\n",
       "    </tr>\n",
       "  </thead>\n",
       "  <tbody>\n",
       "    <tr>\n",
       "      <th>110</th>\n",
       "      <td>U</td>\n",
       "      <td>la américa</td>\n",
       "      <td>878939</td>\n",
       "      <td>comercial</td>\n",
       "      <td>-30.927735</td>\n",
       "      <td>-63.908211</td>\n",
       "      <td>0</td>\n",
       "    </tr>\n",
       "    <tr>\n",
       "      <th>86</th>\n",
       "      <td>Y</td>\n",
       "      <td>finca tolloche</td>\n",
       "      <td>878903</td>\n",
       "      <td>comercial</td>\n",
       "      <td>-25.472778</td>\n",
       "      <td>-63.665833</td>\n",
       "      <td>0</td>\n",
       "    </tr>\n",
       "    <tr>\n",
       "      <th>56</th>\n",
       "      <td>J</td>\n",
       "      <td>san patricio</td>\n",
       "      <td>878956</td>\n",
       "      <td>comercial</td>\n",
       "      <td>-34.283647</td>\n",
       "      <td>-60.097014</td>\n",
       "      <td>0</td>\n",
       "    </tr>\n",
       "  </tbody>\n",
       "</table>\n",
       "</div>"
      ],
      "text/plain": [
       "    zona establecimiento good_supplier       area    latitud   longitud  \\\n",
       "110    U      la américa        878939  comercial -30.927735 -63.908211   \n",
       "86     Y  finca tolloche        878903  comercial -25.472778 -63.665833   \n",
       "56     J    san patricio        878956  comercial -34.283647 -60.097014   \n",
       "\n",
       "     Duplicado  \n",
       "110          0  \n",
       "86           0  \n",
       "56           0  "
      ]
     },
     "execution_count": 9,
     "metadata": {},
     "output_type": "execute_result"
    }
   ],
   "source": [
    "df_maestro_establecimiento = df_maestro_establecimiento.merge(df_lotes, on='establecimiento', how='inner')\n",
    "\n",
    "# Ordeno df.\n",
    "df_maestro_establecimiento = df_maestro_establecimiento[['zona', 'establecimiento', 'good_supplier', 'area', 'latitud', 'longitud', 'Duplicado']]\n",
    "print('Shape Maestro Establecimiento - %s Filas / %s Columnas' %(df_maestro_establecimiento.shape[0], df_maestro_establecimiento.shape[1]))\n",
    "df_maestro_establecimiento.sample(3)"
   ]
  },
  {
   "cell_type": "code",
   "execution_count": 10,
   "metadata": {},
   "outputs": [],
   "source": [
    "# Creo una nueva carpeta para este archivo y lo guardo.\n",
    "if not os.path.exists(path_output):\n",
    "    os.makedirs(path_output)\n",
    "\n",
    "df_maestro_establecimiento.to_excel(path_output+name_output, index=False)"
   ]
  }
 ],
 "metadata": {
  "kernelspec": {
   "display_name": "transit_time_bayer",
   "language": "python",
   "name": "python3"
  },
  "language_info": {
   "codemirror_mode": {
    "name": "ipython",
    "version": 3
   },
   "file_extension": ".py",
   "mimetype": "text/x-python",
   "name": "python",
   "nbconvert_exporter": "python",
   "pygments_lexer": "ipython3",
   "version": "3.9.17"
  },
  "orig_nbformat": 4
 },
 "nbformat": 4,
 "nbformat_minor": 2
}
