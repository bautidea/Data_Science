{
 "cells": [
  {
   "cell_type": "code",
   "execution_count": 19,
   "metadata": {},
   "outputs": [],
   "source": [
    "import pandas as pd\n",
    "\n",
    "import timeit\n",
    "import logging\n",
    "\n",
    "# API Handling \n",
    "from dotenv import load_dotenv\n",
    "import requests\n",
    "import os\n",
    "import json"
   ]
  },
  {
   "cell_type": "code",
   "execution_count": 20,
   "metadata": {},
   "outputs": [],
   "source": [
    "# Paths\n",
    "ruta_carpeta_establecimientos = \"../../input_bauti/coordenadas_campos/\"\n",
    "\n",
    "# Path output\n",
    "path_output = '../../input_bauti/coordenadas_campos/establecimientos_geolocalizados/'\n",
    "name_output = 'establecimientos_geolocalizados_mapquest.xlsx'\n",
    "\n",
    "#Logger path\n",
    "path_logger = '../../logging.log'"
   ]
  },
  {
   "cell_type": "code",
   "execution_count": 21,
   "metadata": {},
   "outputs": [],
   "source": [
    "def configure ():\n",
    "    load_dotenv()\n",
    "env = configure()"
   ]
  },
  {
   "cell_type": "code",
   "execution_count": 22,
   "metadata": {},
   "outputs": [],
   "source": [
    "start = timeit.default_timer()\n",
    "logger = logging.getLogger(__name__)\n",
    "logger.setLevel(logging.DEBUG)\n",
    "formatter = logging.Formatter(fmt ='%(asctime)s - %(levelname)s - %(message)s', datefmt='%d-%m-%Y %H:%M')\n",
    "handler = logging.FileHandler(path_logger)\n",
    "handler.setLevel(logging.DEBUG)\n",
    "handler.setFormatter(formatter)\n",
    "logger.addHandler(handler)\n",
    "logger.info(\"----Inicio Geolocalizacion de establecimientos----\")"
   ]
  },
  {
   "cell_type": "code",
   "execution_count": 23,
   "metadata": {},
   "outputs": [],
   "source": [
    "hay_archivos_establecimientos_nuevo = (len(os.listdir(ruta_carpeta_establecimientos)) > 0)\n",
    "archivo_establecimientos_nuevo = \"\"\n",
    "\n",
    "if not hay_archivos_establecimientos_nuevo:\n",
    "    logger.info(\"No hay nuevo archivo de establecimientos. Utilizando los establecimientos existentes\")\n",
    "    stop = timeit.default_timer()\n",
    "    logger.info(f\"Fin de ejecucion{stop-start}\")\n",
    "    exit(0)\n",
    "    \n",
    "else:\n",
    "    archivo_establecimientos_nuevo = ruta_carpeta_establecimientos+os.listdir(ruta_carpeta_establecimientos)[0]\n",
    "    customer_key = os.getenv('CUSTOMER_KEY')\n",
    "    api_route = 'https://www.mapquestapi.com/directions/v2/route?key=%s' %(customer_key)\n",
    "    api_destination = 'https://www.mapquestapi.com/geocoding/v1/reverse?key=%s' %(customer_key)"
   ]
  },
  {
   "cell_type": "code",
   "execution_count": 24,
   "metadata": {},
   "outputs": [],
   "source": [
    "#carga de datos\n",
    "try:\n",
    "    df_cordenadas = pd.read_excel(archivo_establecimientos_nuevo)\n",
    "    \n",
    "    # Dropeo posibles columnas con nombres Unnamed\n",
    "    cols_drop = df_cordenadas.columns[df_cordenadas.columns.str.contains('Unnamed')]\n",
    "    if len(cols_drop) != 0:\n",
    "        df_cordenadas.drop(columns=cols_drop, inplace=True)\n",
    "        \n",
    "except Exception as ex:\n",
    "    logger.warning(\"Error en la carga de datos\",exc_info=True)"
   ]
  },
  {
   "cell_type": "code",
   "execution_count": 25,
   "metadata": {},
   "outputs": [],
   "source": [
    "# Aplicar la función lambda para concatenar latitud y longitud y crear una nueva columna llamada 'coordenadas'\n",
    "df_cordenadas['coordenadas'] = df_cordenadas.apply(lambda row: f\"{row['Lat']},{row['Long']}\", axis=1)"
   ]
  },
  {
   "cell_type": "code",
   "execution_count": 26,
   "metadata": {},
   "outputs": [],
   "source": [
    "# Obtengo las coordenadas de la planta de Bayer, y las convierto en json para pasarsela a requests.\n",
    "bayer_lat = -34.2031478\n",
    "bayer_lon = -60.6939654\n",
    "\n",
    "def obtener_distancia_bayer(ubicacion, modo=\"truck\"):\n",
    "    \"\"\"\n",
    "        Obtiene la distancia y el tiempo entre dos ubicaciones utilizando MapQuest API.\n",
    "        \n",
    "        Parámetros:\n",
    "            ubicacion (str): Coordenadas (latitud, longitud) de la ubicación.\n",
    "            modo (str): Modo de transporte ('driving', 'walking', 'biking', 'truck' o 'transit'). Por defecto es 'truck'.\n",
    "\n",
    "        Retorna:\n",
    "            dict: Un diccionario con datos de la ruta.\n",
    "        \"\"\"\n",
    "    try:\n",
    "        parametros = {\n",
    "            'from': f'{bayer_lat},{bayer_lon}',\n",
    "            'to': ubicacion,\n",
    "            'outFormat': 'json',\n",
    "            'routeType': modo,\n",
    "            'doReverseGeocode':'false',\n",
    "            'unit' : 'k',\n",
    "            'locale' : 'es_ES'\n",
    "        }\n",
    "        response = requests.get(api_route, params=parametros)\n",
    "\n",
    "        datos = response.json()\n",
    "        ruta = datos['route']\n",
    "\n",
    "        distancia = ruta['distance'] # expresado en km\n",
    "        distancia_value = ruta['distance']* 1000 # expresado en km\n",
    "\n",
    "        time = ruta['time'] # expresado en segundos.\n",
    "        realtime = ruta['realTime'] # expresado en segundos.\n",
    "        # Divido los valres por 60 para obtener los minutos, ya que el output esta expresado en segundos.\n",
    "        if realtime > time:\n",
    "            duracion_min = realtime / 60\n",
    "        else:\n",
    "            duracion_min = time / 60\n",
    "\n",
    "        # Obtengo la ciudad y el estado. Para esto genero una request nueva.\n",
    "        # Parametros para el request.\n",
    "        parametros = {\n",
    "            'location' : ubicacion,\n",
    "            'includeNearestIntersection' : 'true'\n",
    "        }\n",
    "\n",
    "        response = requests.get(api_destination, params=parametros)\n",
    "\n",
    "        datos = response.json()\n",
    "\n",
    "        # Obtengo la ciudad\n",
    "        ciudad = datos['results'][0]['locations'][0]['adminArea5']\n",
    "\n",
    "        # Obtengo el estado.\n",
    "        estado = datos['results'][0]['locations'][0]['adminArea3']\n",
    "\n",
    "    except:\n",
    "        distancia, duracion_min,  ciudad, estado = 0, 0, 0, 0\n",
    "        logger.warning(f\"Error no se encuentra localizacion {ubicacion}\")\n",
    "\n",
    "    return distancia, distancia_value, duracion_min, ciudad, estado"
   ]
  },
  {
   "cell_type": "code",
   "execution_count": 28,
   "metadata": {},
   "outputs": [],
   "source": [
    "df_cordenadas['distancia'], df_cordenadas['distancia_value'], df_cordenadas['duracion_min'], \\\n",
    "df_cordenadas['city'], df_cordenadas['state'] \\\n",
    "= zip(*df_cordenadas.apply(lambda row: obtener_distancia_bayer(row['coordenadas']), axis=1))"
   ]
  },
  {
   "cell_type": "code",
   "execution_count": 29,
   "metadata": {},
   "outputs": [],
   "source": [
    "def min_a_hs (min):\n",
    "    horas = int(min /60)\n",
    "    minutos_restantes = int(min % 60)\n",
    "    \n",
    "    return '%s h %s min' %(horas, minutos_restantes)"
   ]
  },
  {
   "cell_type": "code",
   "execution_count": 30,
   "metadata": {},
   "outputs": [
    {
     "name": "stderr",
     "output_type": "stream",
     "text": [
      "C:\\Users\\TALIGENT\\AppData\\Local\\Temp\\ipykernel_19348\\3083860423.py:30: SettingWithCopyWarning: \n",
      "A value is trying to be set on a copy of a slice from a DataFrame.\n",
      "Try using .loc[row_indexer,col_indexer] = value instead\n",
      "\n",
      "See the caveats in the documentation: https://pandas.pydata.org/pandas-docs/stable/user_guide/indexing.html#returning-a-view-versus-a-copy\n",
      "  df_cordenadas['distancia_value_mts'] = df_cordenadas['distancia_value_mts'].astype(int)\n"
     ]
    }
   ],
   "source": [
    "df_cordenadas['duracion'] = df_cordenadas['duracion_min'].apply(min_a_hs)\n",
    "df_cordenadas.rename(columns={\n",
    "    'Zona' : 'zone', \n",
    "    'Campo' : 'establecimiento',\n",
    "    'Good Supplier' : 'good_supplier',\n",
    "    'Area' : 'area', \n",
    "    'Lat' : 'latitud', \n",
    "    'Long' : 'longitud',\n",
    "    'distancia_value' :'distancia_value_mts'\n",
    "    }, \n",
    "    inplace=True\n",
    ")\n",
    "\n",
    "# Cambiamos el orden de las columnas\n",
    "column_order = [\n",
    "    'zone', \n",
    "    'establecimiento',\n",
    "    'good_supplier',\n",
    "    'area', \n",
    "    'latitud', \n",
    "    'longitud', \n",
    "    'distancia',\n",
    "    'distancia_value_mts', \n",
    "    'duracion', \n",
    "    'duracion_min' ,\n",
    "    'city', \n",
    "    'state'\n",
    "]\n",
    "df_cordenadas = df_cordenadas[column_order]\n",
    "df_cordenadas['distancia_value_mts'] = df_cordenadas['distancia_value_mts'].astype(int)"
   ]
  },
  {
   "cell_type": "code",
   "execution_count": 31,
   "metadata": {},
   "outputs": [
    {
     "name": "stderr",
     "output_type": "stream",
     "text": [
      "C:\\Users\\TALIGENT\\AppData\\Local\\Temp\\ipykernel_19348\\3864384283.py:29: SettingWithCopyWarning: \n",
      "A value is trying to be set on a copy of a slice from a DataFrame.\n",
      "Try using .loc[row_indexer,col_indexer] = value instead\n",
      "\n",
      "See the caveats in the documentation: https://pandas.pydata.org/pandas-docs/stable/user_guide/indexing.html#returning-a-view-versus-a-copy\n",
      "  df_cordenadas['state'] = df_cordenadas['state'].map(provincias_argentinas)\n"
     ]
    }
   ],
   "source": [
    "# Mapeamos las columnas de las provicias, para su correcta interpretacion.\n",
    "provincias_argentinas = {\n",
    "    'TM': 'Tucumán',\n",
    "    'CT': 'Catamarca',\n",
    "    'BA': 'Buenos Aires',\n",
    "    'MZ': 'Mendoza',\n",
    "    'SJ': 'San Juan',\n",
    "    'SL': 'San Luis',\n",
    "    'LR': 'La Rioja',\n",
    "    'CB': 'Córdoba',\n",
    "    'SE': 'Santiago del Estero',\n",
    "    'CH': 'Chaco',\n",
    "    'FO': 'Formosa',\n",
    "    'ER': 'Entre Ríos',\n",
    "    'MN': 'Misiones',\n",
    "    'CO': 'Corrientes',\n",
    "    'CN': 'Chubut',\n",
    "    'RN': 'Río Negro',\n",
    "    'NE': 'Neuquén',\n",
    "    'SC': 'Santa Cruz',\n",
    "    'TF': 'Tierra del Fuego, Antártida e Islas del Atlántico Sur',\n",
    "    'SF': 'Santa Fe',\n",
    "    'BA': 'Buenos Aires',\n",
    "    'CABA': 'Ciudad Autónoma de Buenos Aires',\n",
    "    'LP': 'La Pampa',\n",
    "    'SG': 'Santiago del Estero',\n",
    "}\n",
    "\n",
    "df_cordenadas['state'] = df_cordenadas['state'].map(provincias_argentinas)"
   ]
  },
  {
   "cell_type": "code",
   "execution_count": 32,
   "metadata": {},
   "outputs": [],
   "source": [
    "# Creo una nueva carpeta para este archivo y guardo el archivo.\n",
    "if not os.path.exists(path_output):\n",
    "    os.makedirs(path_output)\n",
    "\n",
    "df_cordenadas.to_excel(path_output+name_output, index=False)"
   ]
  },
  {
   "cell_type": "code",
   "execution_count": null,
   "metadata": {},
   "outputs": [],
   "source": []
  }
 ],
 "metadata": {
  "kernelspec": {
   "display_name": "transit_time_bayer",
   "language": "python",
   "name": "python3"
  },
  "language_info": {
   "codemirror_mode": {
    "name": "ipython",
    "version": 3
   },
   "file_extension": ".py",
   "mimetype": "text/x-python",
   "name": "python",
   "nbconvert_exporter": "python",
   "pygments_lexer": "ipython3",
   "version": "3.9.17"
  },
  "orig_nbformat": 4
 },
 "nbformat": 4,
 "nbformat_minor": 2
}
