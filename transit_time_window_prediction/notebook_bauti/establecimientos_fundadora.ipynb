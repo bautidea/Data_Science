{
 "cells": [
  {
   "cell_type": "code",
   "execution_count": 64,
   "metadata": {},
   "outputs": [],
   "source": [
    "import pandas as pd\n",
    "import os\n",
    "import re"
   ]
  },
  {
   "cell_type": "code",
   "execution_count": 65,
   "metadata": {},
   "outputs": [],
   "source": [
    "# Establecimientos Fundadoras\n",
    "#   Voy a tratar de hacer un input similar al que utiliza el modelo (\"coordenadas_campos.xlsx\"),tiene las columnas [\"Zona\",\"Campo\",\"Lat\", \"\"Long].\n",
    "#       Asi de esa manera puedo correr el modelo de geolocalizacion_establecimientos.py, con el archivo generado.\n",
    "#   Voy a crear una carpeta que se llame input_establecimientos, que va a ser consumido por dicho modelo."
   ]
  },
  {
   "cell_type": "code",
   "execution_count": 66,
   "metadata": {},
   "outputs": [],
   "source": [
    "# Paths\n",
    "name_coordenadas_campos = '../Input/coordenadas_campos.xlsx'\n",
    "name_establecimientos_fundadora = '../input_bauti/ultima_campaña/Establecimientos Fundadora.xlsx'\n",
    "\n",
    "# Maestro de establecimientos.\n",
    "name_maestro_establecimientos = '../Input_fijo/maestro_establecimientos.xlsx'\n",
    "\n",
    "# Listado de lotes, de aca obtenemos las distintas areas para todos los establecimientos, ademas del Good Supplier.\n",
    "name_listado_lotes = '../input_bauti/ultima_campaña/Listado de lotes.xlsx'\n",
    "# Output.\n",
    "path_output = '../input_bauti/coordenadas_campos/'\n",
    "name_output = 'establecimientos_coordenadas.xlsx'"
   ]
  },
  {
   "cell_type": "code",
   "execution_count": 67,
   "metadata": {},
   "outputs": [],
   "source": [
    "# Load\n",
    "df_maestro_establecimiento = pd.read_excel(name_maestro_establecimientos)\n",
    "df_coordenadas_campos = pd.read_excel(name_coordenadas_campos)\n",
    "df_fundadora = pd.read_excel(name_establecimientos_fundadora)\n",
    "df_lotes  = pd.read_excel(name_listado_lotes)"
   ]
  },
  {
   "cell_type": "markdown",
   "metadata": {},
   "source": [
    "# Listado Lotes\n",
    "\n",
    "Aca vamos a agrupar por los distintas subzonas que pueda tener un establecmiento, asi tendremos unificado las subzonas para cada establecmiento."
   ]
  },
  {
   "cell_type": "code",
   "execution_count": 68,
   "metadata": {},
   "outputs": [
    {
     "data": {
      "text/html": [
       "<div>\n",
       "<style scoped>\n",
       "    .dataframe tbody tr th:only-of-type {\n",
       "        vertical-align: middle;\n",
       "    }\n",
       "\n",
       "    .dataframe tbody tr th {\n",
       "        vertical-align: top;\n",
       "    }\n",
       "\n",
       "    .dataframe thead th {\n",
       "        text-align: right;\n",
       "    }\n",
       "</style>\n",
       "<table border=\"1\" class=\"dataframe\">\n",
       "  <thead>\n",
       "    <tr style=\"text-align: right;\">\n",
       "      <th></th>\n",
       "      <th>Zona</th>\n",
       "      <th>Subzona</th>\n",
       "      <th>Lote</th>\n",
       "      <th>Field Master Data</th>\n",
       "      <th>Localidad</th>\n",
       "      <th>CAMPO</th>\n",
       "      <th>Km</th>\n",
       "      <th>TMIN</th>\n",
       "      <th>TMAX</th>\n",
       "      <th>Area</th>\n",
       "      <th>Good Supplier (SAP)</th>\n",
       "    </tr>\n",
       "  </thead>\n",
       "  <tbody>\n",
       "    <tr>\n",
       "      <th>265</th>\n",
       "      <td>S</td>\n",
       "      <td>S</td>\n",
       "      <td>XS4733</td>\n",
       "      <td>La Esperanza</td>\n",
       "      <td>Chacabuco</td>\n",
       "      <td>La Esperanza</td>\n",
       "      <td>73.0</td>\n",
       "      <td>01:00:00</td>\n",
       "      <td>02:00:00</td>\n",
       "      <td>Comercial</td>\n",
       "      <td>878875</td>\n",
       "    </tr>\n",
       "  </tbody>\n",
       "</table>\n",
       "</div>"
      ],
      "text/plain": [
       "    Zona Subzona    Lote Field Master Data  Localidad         CAMPO    Km  \\\n",
       "265    S       S  XS4733      La Esperanza  Chacabuco  La Esperanza  73.0   \n",
       "\n",
       "         TMIN      TMAX       Area  Good Supplier (SAP)  \n",
       "265  01:00:00  02:00:00  Comercial               878875  "
      ]
     },
     "execution_count": 68,
     "metadata": {},
     "output_type": "execute_result"
    }
   ],
   "source": [
    "# Veo datos de los lotes.\n",
    "df_lotes.sample(1)"
   ]
  },
  {
   "cell_type": "code",
   "execution_count": 69,
   "metadata": {},
   "outputs": [
    {
     "data": {
      "text/html": [
       "<div>\n",
       "<style scoped>\n",
       "    .dataframe tbody tr th:only-of-type {\n",
       "        vertical-align: middle;\n",
       "    }\n",
       "\n",
       "    .dataframe tbody tr th {\n",
       "        vertical-align: top;\n",
       "    }\n",
       "\n",
       "    .dataframe thead th {\n",
       "        text-align: right;\n",
       "    }\n",
       "</style>\n",
       "<table border=\"1\" class=\"dataframe\">\n",
       "  <thead>\n",
       "    <tr style=\"text-align: right;\">\n",
       "      <th></th>\n",
       "      <th>zona</th>\n",
       "      <th>campo</th>\n",
       "      <th>area</th>\n",
       "      <th>good_supplier</th>\n",
       "    </tr>\n",
       "  </thead>\n",
       "  <tbody>\n",
       "    <tr>\n",
       "      <th>538</th>\n",
       "      <td>B</td>\n",
       "      <td>fran luis</td>\n",
       "      <td>fundadora</td>\n",
       "      <td>879002</td>\n",
       "    </tr>\n",
       "  </tbody>\n",
       "</table>\n",
       "</div>"
      ],
      "text/plain": [
       "    zona      campo       area  good_supplier\n",
       "538    B  fran luis  fundadora         879002"
      ]
     },
     "execution_count": 69,
     "metadata": {},
     "output_type": "execute_result"
    }
   ],
   "source": [
    "# Me quedo con los campos que me interesan.\n",
    "df_lotes = df_lotes[['Zona', 'Field Master Data', 'Area', 'Good Supplier (SAP)']]\n",
    "df_lotes.columns = ['zona', 'campo' ,'area', 'good_supplier']\n",
    "\n",
    "# Elimino subzonas que pudieran llegar a aparecer.\n",
    "df_lotes['zona'] = df_lotes['zona'].str.replace(r'\\d*','', regex=True)\n",
    "\n",
    "# Ignoro zonas con nombre \"AT\".\n",
    "mask_no_AT = df_lotes['zona']!='AT'\n",
    "df_lotes = df_lotes.loc[mask_no_AT, :]\n",
    "\n",
    "df_lotes['campo'] = df_lotes['campo'].str.lower()\n",
    "df_lotes['area'] = df_lotes['area'].str.lower()\n",
    "df_lotes.sample(1)"
   ]
  },
  {
   "cell_type": "code",
   "execution_count": 70,
   "metadata": {},
   "outputs": [
    {
     "name": "stdout",
     "output_type": "stream",
     "text": [
      "Shape Listado Lotes - 165 Filas / 4 Columnas\n"
     ]
    },
    {
     "data": {
      "text/html": [
       "<div>\n",
       "<style scoped>\n",
       "    .dataframe tbody tr th:only-of-type {\n",
       "        vertical-align: middle;\n",
       "    }\n",
       "\n",
       "    .dataframe tbody tr th {\n",
       "        vertical-align: top;\n",
       "    }\n",
       "\n",
       "    .dataframe thead th {\n",
       "        text-align: right;\n",
       "    }\n",
       "</style>\n",
       "<table border=\"1\" class=\"dataframe\">\n",
       "  <thead>\n",
       "    <tr style=\"text-align: right;\">\n",
       "      <th></th>\n",
       "      <th>zona</th>\n",
       "      <th>campo</th>\n",
       "      <th>area</th>\n",
       "      <th>good_supplier</th>\n",
       "    </tr>\n",
       "  </thead>\n",
       "  <tbody>\n",
       "    <tr>\n",
       "      <th>7</th>\n",
       "      <td>C</td>\n",
       "      <td>mistol ancho</td>\n",
       "      <td>comercial</td>\n",
       "      <td>932367</td>\n",
       "    </tr>\n",
       "    <tr>\n",
       "      <th>148</th>\n",
       "      <td>X</td>\n",
       "      <td>el pilar 1</td>\n",
       "      <td>comercial</td>\n",
       "      <td>892157</td>\n",
       "    </tr>\n",
       "    <tr>\n",
       "      <th>121</th>\n",
       "      <td>T</td>\n",
       "      <td>ercole</td>\n",
       "      <td>fundadora</td>\n",
       "      <td>879001</td>\n",
       "    </tr>\n",
       "  </tbody>\n",
       "</table>\n",
       "</div>"
      ],
      "text/plain": [
       "    zona         campo       area  good_supplier\n",
       "7      C  mistol ancho  comercial         932367\n",
       "148    X    el pilar 1  comercial         892157\n",
       "121    T        ercole  fundadora         879001"
      ]
     },
     "execution_count": 70,
     "metadata": {},
     "output_type": "execute_result"
    }
   ],
   "source": [
    "# Agrupo por cada campo para obtener los distitnos establecimientos.\n",
    "df_lotes = df_lotes.groupby(['zona', 'campo', 'area']).value_counts().reset_index().drop(columns=0)\n",
    "df_lotes = df_lotes[['zona', 'campo', 'area', 'good_supplier']]\n",
    "# Este DF se usara para obtener las distintas areas y el good supplier de cada establecmiento.\n",
    "print('Shape Listado Lotes - %s Filas / %s Columnas' %(df_lotes.shape[0], df_lotes.shape[1]))\n",
    "df_lotes.sample(3)"
   ]
  },
  {
   "cell_type": "markdown",
   "metadata": {},
   "source": [
    "# Establecimientos fundadora.\n",
    "\n",
    "Vamos a preparar los datos de establecimiento fundadora. Y ver si estos datos coinciden con el maestro de establecimientos."
   ]
  },
  {
   "cell_type": "code",
   "execution_count": 71,
   "metadata": {},
   "outputs": [],
   "source": [
    "# Dropea columnas que posean nullos ('Unnamed')\n",
    "df_fundadora.dropna(axis=1, how='all', inplace=True)\n",
    "# Dropeo fillas que contienen algun nulo.\n",
    "df_fundadora.dropna(axis=0, how='any', inplace=True)\n",
    "df_fundadora.rename(columns={'Field Master Data' : 'Campo'}, inplace=True)\n",
    "\n",
    "# Selecciono los campo utiles.\n",
    "df_fundadora = df_fundadora[['Zona', 'Campo', 'Good Supplier', 'Lat', 'Long']]\n",
    "df_fundadora.columns = ['zona', 'campo', 'good_supplier', 'lat', 'long']\n",
    "\n",
    "# Convierto los establecimientos a minuscula ya que asi se encuentran en el maestro de materiales.\n",
    "df_fundadora['campo'] = df_fundadora['campo'].str.lower()\n",
    "\n",
    "# Hay presencia de registros duplicados en fundadora.\n",
    "df_fundadora.drop_duplicates(inplace=True)\n",
    "df_fundadora.reset_index(inplace=True, drop=True)"
   ]
  },
  {
   "cell_type": "code",
   "execution_count": 72,
   "metadata": {},
   "outputs": [],
   "source": [
    "# Convierto las Lat y Long a strings para poder aplicar Regex.\n",
    "df_fundadora['lat'] = df_fundadora['lat'].astype(str)\n",
    "df_fundadora['long'] = df_fundadora['long'].astype(str)\n",
    "\n",
    "# La longitud y Latitud se encuentran separadas por ',' en vez de por '.', unifico.\n",
    "patron = '(-\\d{2}),?\\.?(\\d*)'\n",
    "patron_re = re.compile(patron)\n",
    "\n",
    "# Aplico Regex.\n",
    "df_fundadora['lat'] = (df_fundadora['lat'].apply(lambda x: patron_re.search(x).group(1) + '.' + patron_re.search(x).group(2))).astype('float64')\n",
    "df_fundadora['long'] = (df_fundadora['long'].apply(lambda x: patron_re.search(x).group(1) + '.' + patron_re.search(x).group(2))).astype('float64')"
   ]
  },
  {
   "cell_type": "code",
   "execution_count": 73,
   "metadata": {},
   "outputs": [
    {
     "name": "stdout",
     "output_type": "stream",
     "text": [
      "Shape Fundadora - 29 Filas / 5 Columnas\n"
     ]
    },
    {
     "data": {
      "text/html": [
       "<div>\n",
       "<style scoped>\n",
       "    .dataframe tbody tr th:only-of-type {\n",
       "        vertical-align: middle;\n",
       "    }\n",
       "\n",
       "    .dataframe tbody tr th {\n",
       "        vertical-align: top;\n",
       "    }\n",
       "\n",
       "    .dataframe thead th {\n",
       "        text-align: right;\n",
       "    }\n",
       "</style>\n",
       "<table border=\"1\" class=\"dataframe\">\n",
       "  <thead>\n",
       "    <tr style=\"text-align: right;\">\n",
       "      <th></th>\n",
       "      <th>zona</th>\n",
       "      <th>campo</th>\n",
       "      <th>good_supplier</th>\n",
       "      <th>lat</th>\n",
       "      <th>long</th>\n",
       "    </tr>\n",
       "  </thead>\n",
       "  <tbody>\n",
       "    <tr>\n",
       "      <th>4</th>\n",
       "      <td>E</td>\n",
       "      <td>la sarita 2</td>\n",
       "      <td>879007</td>\n",
       "      <td>-33.898870</td>\n",
       "      <td>-60.178470</td>\n",
       "    </tr>\n",
       "    <tr>\n",
       "      <th>17</th>\n",
       "      <td>T</td>\n",
       "      <td>el pelon</td>\n",
       "      <td>932918</td>\n",
       "      <td>-34.122569</td>\n",
       "      <td>-60.671617</td>\n",
       "    </tr>\n",
       "    <tr>\n",
       "      <th>16</th>\n",
       "      <td>T</td>\n",
       "      <td>don domingo</td>\n",
       "      <td>932916</td>\n",
       "      <td>-34.290131</td>\n",
       "      <td>-60.318183</td>\n",
       "    </tr>\n",
       "  </tbody>\n",
       "</table>\n",
       "</div>"
      ],
      "text/plain": [
       "   zona        campo good_supplier        lat       long\n",
       "4     E  la sarita 2        879007 -33.898870 -60.178470\n",
       "17    T     el pelon        932918 -34.122569 -60.671617\n",
       "16    T  don domingo        932916 -34.290131 -60.318183"
      ]
     },
     "execution_count": 73,
     "metadata": {},
     "output_type": "execute_result"
    }
   ],
   "source": [
    "print('Shape Fundadora - %s Filas / %s Columnas' %(df_fundadora.shape[0], df_fundadora.shape[1]))\n",
    "df_fundadora.sample(3)"
   ]
  },
  {
   "cell_type": "code",
   "execution_count": 74,
   "metadata": {},
   "outputs": [
    {
     "data": {
      "text/html": [
       "<div>\n",
       "<style scoped>\n",
       "    .dataframe tbody tr th:only-of-type {\n",
       "        vertical-align: middle;\n",
       "    }\n",
       "\n",
       "    .dataframe tbody tr th {\n",
       "        vertical-align: top;\n",
       "    }\n",
       "\n",
       "    .dataframe thead th {\n",
       "        text-align: right;\n",
       "    }\n",
       "</style>\n",
       "<table border=\"1\" class=\"dataframe\">\n",
       "  <thead>\n",
       "    <tr style=\"text-align: right;\">\n",
       "      <th></th>\n",
       "      <th>zona</th>\n",
       "      <th>campo</th>\n",
       "      <th>good_supplier</th>\n",
       "      <th>lat</th>\n",
       "      <th>long</th>\n",
       "    </tr>\n",
       "  </thead>\n",
       "  <tbody>\n",
       "  </tbody>\n",
       "</table>\n",
       "</div>"
      ],
      "text/plain": [
       "Empty DataFrame\n",
       "Columns: [zona, campo, good_supplier, lat, long]\n",
       "Index: []"
      ]
     },
     "execution_count": 74,
     "metadata": {},
     "output_type": "execute_result"
    }
   ],
   "source": [
    "mask_establecimiento_no_incluido = df_fundadora['campo'].isin(df_maestro_establecimiento['establecimiento']) == False\n",
    "df_fundadora_no_incluidos = df_fundadora.loc[mask_establecimiento_no_incluido,:]\n",
    "# Todos los establecimientos fundadora estan incluidos en el maestro de establecimientos.\n",
    "df_fundadora_no_incluidos"
   ]
  },
  {
   "cell_type": "code",
   "execution_count": 75,
   "metadata": {},
   "outputs": [],
   "source": [
    "# Ahora voy a ver si las coordenadas coinciden entre el maestro de establecimientos y fundadora.\n",
    "# Defino una fucion que me checkee si la fila ingresada es igual a la del maestro fundadora.\n",
    "def comprobacion_coord (row):\n",
    "    campo_fundadora = row['campo']\n",
    "    lat_campo_fundadora = str(row['lat'])\n",
    "    long_campo_fundadora = str(row['long'])\n",
    "    \n",
    "    maestro_establecimiento_row = df_maestro_establecimiento[df_maestro_establecimiento['establecimiento'] == campo_fundadora]\n",
    "    lat_maestro_establecimiento = str(maestro_establecimiento_row['latitud'].values[0])\n",
    "    long_maestro_establecimiento = str(maestro_establecimiento_row['longitud'].values[0])\n",
    "    \n",
    "    condicion_1 = (lat_campo_fundadora == lat_maestro_establecimiento)\n",
    "    condicion_2 = (long_campo_fundadora == long_maestro_establecimiento)\n",
    "    \n",
    "    if (condicion_1) & (condicion_2):\n",
    "        return False\n",
    "    else:\n",
    "        return True"
   ]
  },
  {
   "cell_type": "code",
   "execution_count": 76,
   "metadata": {},
   "outputs": [
    {
     "data": {
      "text/html": [
       "<div>\n",
       "<style scoped>\n",
       "    .dataframe tbody tr th:only-of-type {\n",
       "        vertical-align: middle;\n",
       "    }\n",
       "\n",
       "    .dataframe tbody tr th {\n",
       "        vertical-align: top;\n",
       "    }\n",
       "\n",
       "    .dataframe thead th {\n",
       "        text-align: right;\n",
       "    }\n",
       "</style>\n",
       "<table border=\"1\" class=\"dataframe\">\n",
       "  <thead>\n",
       "    <tr style=\"text-align: right;\">\n",
       "      <th></th>\n",
       "      <th>establecimiento</th>\n",
       "      <th>latitud_fundadora</th>\n",
       "      <th>longitud_fundadora</th>\n",
       "      <th>latitud_maestro</th>\n",
       "      <th>longitud_maestro</th>\n",
       "      <th>Duplicado</th>\n",
       "    </tr>\n",
       "  </thead>\n",
       "  <tbody>\n",
       "    <tr>\n",
       "      <th>0</th>\n",
       "      <td>la sarita 2</td>\n",
       "      <td>-33.898870</td>\n",
       "      <td>-60.178470</td>\n",
       "      <td>-33.397590</td>\n",
       "      <td>-63.574510</td>\n",
       "      <td>0</td>\n",
       "    </tr>\n",
       "    <tr>\n",
       "      <th>1</th>\n",
       "      <td>doña clementina</td>\n",
       "      <td>-33.982989</td>\n",
       "      <td>-59.962711</td>\n",
       "      <td>-33.969508</td>\n",
       "      <td>-59.953436</td>\n",
       "      <td>0</td>\n",
       "    </tr>\n",
       "  </tbody>\n",
       "</table>\n",
       "</div>"
      ],
      "text/plain": [
       "   establecimiento  latitud_fundadora  longitud_fundadora  latitud_maestro  \\\n",
       "0      la sarita 2         -33.898870          -60.178470       -33.397590   \n",
       "1  doña clementina         -33.982989          -59.962711       -33.969508   \n",
       "\n",
       "   longitud_maestro  Duplicado  \n",
       "0        -63.574510          0  \n",
       "1        -59.953436          0  "
      ]
     },
     "execution_count": 76,
     "metadata": {},
     "output_type": "execute_result"
    }
   ],
   "source": [
    "# Creo mascara para ver que establecimientos tienen mal ingresada las coordenadas.\n",
    "mask = df_fundadora.apply(comprobacion_coord, axis=1)\n",
    "# Aplico mascara y genero nuevo df.\n",
    "df_establecimientos_erroneos = df_fundadora.loc[mask,['campo', 'lat', 'long']]\n",
    "\n",
    "df_establecimientos_erroneos.rename(columns={'campo':'establecimiento', 'lat':'latitud','long':'longitud'}, inplace=True)\n",
    "\n",
    "df_establecimientos_erroneos = df_establecimientos_erroneos.merge(\n",
    "    df_maestro_establecimiento,\n",
    "    how='inner',  \n",
    "    on='establecimiento', \n",
    "    suffixes=('_fundadora', '_maestro')\n",
    "    )\n",
    "df_establecimientos_erroneos"
   ]
  },
  {
   "cell_type": "code",
   "execution_count": 77,
   "metadata": {},
   "outputs": [],
   "source": [
    "establecimientos_erroneos = df_establecimientos_erroneos['establecimiento'].values.tolist()\n",
    "\n",
    "for establecimiento in establecimientos_erroneos:\n",
    "    mask_establecimiento_erroneo = df_fundadora['campo'] == establecimiento\n",
    "    \n",
    "    valor_lat_correcto = float(df_establecimientos_erroneos.loc[df_establecimientos_erroneos['establecimiento'] == establecimiento, 'latitud_maestro'])\n",
    "    valor_long_correcto = float(df_establecimientos_erroneos.loc[df_establecimientos_erroneos['establecimiento'] == establecimiento, 'longitud_maestro'])\n",
    "    \n",
    "    df_fundadora.loc[mask_establecimiento_erroneo, 'lat'] = valor_lat_correcto\n",
    "    df_fundadora.loc[mask_establecimiento_erroneo, 'long'] = valor_long_correcto\n"
   ]
  },
  {
   "cell_type": "markdown",
   "metadata": {},
   "source": [
    "# Coordenadas campos\n",
    "\n",
    "Vamos a acomodar los campos, y vamos a agregarle el good supplier"
   ]
  },
  {
   "cell_type": "code",
   "execution_count": 78,
   "metadata": {},
   "outputs": [
    {
     "name": "stdout",
     "output_type": "stream",
     "text": [
      "Shape Coordenadas Campos - 142 Filas / 4 Columnas\n"
     ]
    },
    {
     "data": {
      "text/html": [
       "<div>\n",
       "<style scoped>\n",
       "    .dataframe tbody tr th:only-of-type {\n",
       "        vertical-align: middle;\n",
       "    }\n",
       "\n",
       "    .dataframe tbody tr th {\n",
       "        vertical-align: top;\n",
       "    }\n",
       "\n",
       "    .dataframe thead th {\n",
       "        text-align: right;\n",
       "    }\n",
       "</style>\n",
       "<table border=\"1\" class=\"dataframe\">\n",
       "  <thead>\n",
       "    <tr style=\"text-align: right;\">\n",
       "      <th></th>\n",
       "      <th>zona</th>\n",
       "      <th>campo</th>\n",
       "      <th>lat</th>\n",
       "      <th>long</th>\n",
       "    </tr>\n",
       "  </thead>\n",
       "  <tbody>\n",
       "    <tr>\n",
       "      <th>119</th>\n",
       "      <td>V2</td>\n",
       "      <td>santa maría</td>\n",
       "      <td>-33.524451</td>\n",
       "      <td>-61.897438</td>\n",
       "    </tr>\n",
       "    <tr>\n",
       "      <th>31</th>\n",
       "      <td>F3</td>\n",
       "      <td>la tijereta</td>\n",
       "      <td>-32.846119</td>\n",
       "      <td>-59.830150</td>\n",
       "    </tr>\n",
       "    <tr>\n",
       "      <th>137</th>\n",
       "      <td>Z2</td>\n",
       "      <td>don pancho</td>\n",
       "      <td>-38.136807</td>\n",
       "      <td>-61.441387</td>\n",
       "    </tr>\n",
       "  </tbody>\n",
       "</table>\n",
       "</div>"
      ],
      "text/plain": [
       "    zona        campo        lat       long\n",
       "119   V2  santa maría -33.524451 -61.897438\n",
       "31    F3  la tijereta -32.846119 -59.830150\n",
       "137   Z2   don pancho -38.136807 -61.441387"
      ]
     },
     "execution_count": 78,
     "metadata": {},
     "output_type": "execute_result"
    }
   ],
   "source": [
    "df_coordenadas_campos.columns = ['zona', 'campo', 'lat', 'long']\n",
    "df_coordenadas_campos['campo'] = df_coordenadas_campos['campo'].str.lower()\n",
    "print('Shape Coordenadas Campos - %s Filas / %s Columnas' %(df_coordenadas_campos.shape[0], df_coordenadas_campos.shape[1]))\n",
    "df_coordenadas_campos.sample(3)"
   ]
  },
  {
   "cell_type": "code",
   "execution_count": 79,
   "metadata": {},
   "outputs": [
    {
     "name": "stdout",
     "output_type": "stream",
     "text": [
      "Shape Coordenadas Campos - 142 Filas / 5 Columnas\n"
     ]
    },
    {
     "data": {
      "text/html": [
       "<div>\n",
       "<style scoped>\n",
       "    .dataframe tbody tr th:only-of-type {\n",
       "        vertical-align: middle;\n",
       "    }\n",
       "\n",
       "    .dataframe tbody tr th {\n",
       "        vertical-align: top;\n",
       "    }\n",
       "\n",
       "    .dataframe thead th {\n",
       "        text-align: right;\n",
       "    }\n",
       "</style>\n",
       "<table border=\"1\" class=\"dataframe\">\n",
       "  <thead>\n",
       "    <tr style=\"text-align: right;\">\n",
       "      <th></th>\n",
       "      <th>zona</th>\n",
       "      <th>campo</th>\n",
       "      <th>lat</th>\n",
       "      <th>long</th>\n",
       "      <th>good_supplier</th>\n",
       "    </tr>\n",
       "  </thead>\n",
       "  <tbody>\n",
       "    <tr>\n",
       "      <th>26</th>\n",
       "      <td>F5</td>\n",
       "      <td>la karina</td>\n",
       "      <td>-32.625049</td>\n",
       "      <td>-65.148419</td>\n",
       "      <td>932426.0</td>\n",
       "    </tr>\n",
       "    <tr>\n",
       "      <th>125</th>\n",
       "      <td>X1</td>\n",
       "      <td>la federala 2</td>\n",
       "      <td>-34.097559</td>\n",
       "      <td>-61.035053</td>\n",
       "      <td>922697.0</td>\n",
       "    </tr>\n",
       "    <tr>\n",
       "      <th>138</th>\n",
       "      <td>Z2</td>\n",
       "      <td>la emilia</td>\n",
       "      <td>-37.972461</td>\n",
       "      <td>-61.589788</td>\n",
       "      <td>NaN</td>\n",
       "    </tr>\n",
       "  </tbody>\n",
       "</table>\n",
       "</div>"
      ],
      "text/plain": [
       "    zona          campo        lat       long  good_supplier\n",
       "26    F5      la karina -32.625049 -65.148419       932426.0\n",
       "125   X1  la federala 2 -34.097559 -61.035053       922697.0\n",
       "138   Z2      la emilia -37.972461 -61.589788            NaN"
      ]
     },
     "execution_count": 79,
     "metadata": {},
     "output_type": "execute_result"
    }
   ],
   "source": [
    "# Vamos a agregar el good suplier, mediante un merge.\n",
    "\n",
    "# Previo a esto guardo las subzonas, ya que voy a eliminar las subzonas.\n",
    "save_subzonas = df_coordenadas_campos['zona']\n",
    "\n",
    "# Elimino las subzonas y me quedo unicamente con las zonas, para el merge.\n",
    "df_coordenadas_campos['zona'] = df_coordenadas_campos['zona'].str.replace(r'\\d*','', regex=True)\n",
    "\n",
    "# Ejecuto merge.\n",
    "df_coordenadas_campos = df_coordenadas_campos.merge(df_lotes, how='left', on=['zona', 'campo'])\n",
    "\n",
    "# Selecciono columnas \n",
    "df_coordenadas_campos = df_coordenadas_campos[['zona', 'campo', 'lat', 'long', 'good_supplier']]\n",
    "df_coordenadas_campos['zona'] = save_subzonas\n",
    "\n",
    "print('Shape Coordenadas Campos - %s Filas / %s Columnas' %(df_coordenadas_campos.shape[0], df_coordenadas_campos.shape[1]))\n",
    "df_coordenadas_campos.sample(3)"
   ]
  },
  {
   "cell_type": "markdown",
   "metadata": {},
   "source": [
    "# Concatenacion de datos."
   ]
  },
  {
   "cell_type": "code",
   "execution_count": 80,
   "metadata": {},
   "outputs": [
    {
     "name": "stdout",
     "output_type": "stream",
     "text": [
      "Shape Coordenadas Finales - 167 Filas / 5 Columnas\n"
     ]
    },
    {
     "data": {
      "text/html": [
       "<div>\n",
       "<style scoped>\n",
       "    .dataframe tbody tr th:only-of-type {\n",
       "        vertical-align: middle;\n",
       "    }\n",
       "\n",
       "    .dataframe tbody tr th {\n",
       "        vertical-align: top;\n",
       "    }\n",
       "\n",
       "    .dataframe thead th {\n",
       "        text-align: right;\n",
       "    }\n",
       "</style>\n",
       "<table border=\"1\" class=\"dataframe\">\n",
       "  <thead>\n",
       "    <tr style=\"text-align: right;\">\n",
       "      <th></th>\n",
       "      <th>zona</th>\n",
       "      <th>campo</th>\n",
       "      <th>lat</th>\n",
       "      <th>long</th>\n",
       "      <th>good_supplier</th>\n",
       "    </tr>\n",
       "  </thead>\n",
       "  <tbody>\n",
       "    <tr>\n",
       "      <th>37</th>\n",
       "      <td>F5</td>\n",
       "      <td>preve</td>\n",
       "      <td>-32.534797</td>\n",
       "      <td>-65.162554</td>\n",
       "      <td>932432.0</td>\n",
       "    </tr>\n",
       "    <tr>\n",
       "      <th>25</th>\n",
       "      <td>F2</td>\n",
       "      <td>la genoveva</td>\n",
       "      <td>-33.634366</td>\n",
       "      <td>-60.067745</td>\n",
       "      <td>932425.0</td>\n",
       "    </tr>\n",
       "    <tr>\n",
       "      <th>21</th>\n",
       "      <td>F3</td>\n",
       "      <td>la cabaña 2</td>\n",
       "      <td>-32.761267</td>\n",
       "      <td>-59.839881</td>\n",
       "      <td>922668.0</td>\n",
       "    </tr>\n",
       "  </tbody>\n",
       "</table>\n",
       "</div>"
      ],
      "text/plain": [
       "   zona        campo        lat       long good_supplier\n",
       "37   F5        preve -32.534797 -65.162554      932432.0\n",
       "25   F2  la genoveva -33.634366 -60.067745      932425.0\n",
       "21   F3  la cabaña 2 -32.761267 -59.839881      922668.0"
      ]
     },
     "execution_count": 80,
     "metadata": {},
     "output_type": "execute_result"
    }
   ],
   "source": [
    "# Concateno \n",
    "df_coordenadas_final = pd.concat([df_coordenadas_campos, df_fundadora], ignore_index=True)\n",
    "\n",
    "# Elimino duplicados.\n",
    "df_coordenadas_final.drop_duplicates(inplace=True)\n",
    "\n",
    "# Reseteo indice.\n",
    "df_coordenadas_final.reset_index(drop=True, inplace=True)\n",
    "\n",
    "print('Shape Coordenadas Finales - %s Filas / %s Columnas' %(df_coordenadas_final.shape[0], df_coordenadas_final.shape[1]))\n",
    "df_coordenadas_final.sample(3)\n"
   ]
  },
  {
   "cell_type": "code",
   "execution_count": 81,
   "metadata": {},
   "outputs": [
    {
     "name": "stdout",
     "output_type": "stream",
     "text": [
      "Shape Coordenadas Finales - 167 Filas / 6 Columnas\n"
     ]
    },
    {
     "data": {
      "text/html": [
       "<div>\n",
       "<style scoped>\n",
       "    .dataframe tbody tr th:only-of-type {\n",
       "        vertical-align: middle;\n",
       "    }\n",
       "\n",
       "    .dataframe tbody tr th {\n",
       "        vertical-align: top;\n",
       "    }\n",
       "\n",
       "    .dataframe thead th {\n",
       "        text-align: right;\n",
       "    }\n",
       "</style>\n",
       "<table border=\"1\" class=\"dataframe\">\n",
       "  <thead>\n",
       "    <tr style=\"text-align: right;\">\n",
       "      <th></th>\n",
       "      <th>zona</th>\n",
       "      <th>campo</th>\n",
       "      <th>lat</th>\n",
       "      <th>long</th>\n",
       "      <th>good_supplier</th>\n",
       "      <th>area</th>\n",
       "    </tr>\n",
       "  </thead>\n",
       "  <tbody>\n",
       "    <tr>\n",
       "      <th>15</th>\n",
       "      <td>F3</td>\n",
       "      <td>el milagro</td>\n",
       "      <td>-35.845565</td>\n",
       "      <td>-60.492036</td>\n",
       "      <td>932370.0</td>\n",
       "      <td>comercial</td>\n",
       "    </tr>\n",
       "    <tr>\n",
       "      <th>114</th>\n",
       "      <td>V1</td>\n",
       "      <td>la adelita</td>\n",
       "      <td>-33.805993</td>\n",
       "      <td>-61.452571</td>\n",
       "      <td>878948.0</td>\n",
       "      <td>comercial</td>\n",
       "    </tr>\n",
       "    <tr>\n",
       "      <th>96</th>\n",
       "      <td>S</td>\n",
       "      <td>los angeles</td>\n",
       "      <td>-34.442803</td>\n",
       "      <td>-60.204789</td>\n",
       "      <td>878874.0</td>\n",
       "      <td>comercial</td>\n",
       "    </tr>\n",
       "  </tbody>\n",
       "</table>\n",
       "</div>"
      ],
      "text/plain": [
       "    zona        campo        lat       long good_supplier       area\n",
       "15    F3   el milagro -35.845565 -60.492036      932370.0  comercial\n",
       "114   V1   la adelita -33.805993 -61.452571      878948.0  comercial\n",
       "96     S  los angeles -34.442803 -60.204789      878874.0  comercial"
      ]
     },
     "execution_count": 81,
     "metadata": {},
     "output_type": "execute_result"
    }
   ],
   "source": [
    "# Obtengo el area de cada establecimiento.\n",
    "# Guardo las subzonas.\n",
    "save_subzonas = df_coordenadas_final['zona']\n",
    "\n",
    "# Elimino las subzonas y me quedo unicamente con las zonas, para el merge.\n",
    "df_coordenadas_final['zona'] = df_coordenadas_final['zona'].str.replace(r'\\d*','', regex=True)\n",
    "\n",
    "# Ejecuto merge.\n",
    "df_coordenadas_final = df_coordenadas_final.merge(df_lotes, how='left', on=['zona', 'campo', 'good_supplier'])\n",
    "\n",
    "df_coordenadas_final['zona'] = save_subzonas\n",
    "\n",
    "print('Shape Coordenadas Finales - %s Filas / %s Columnas' %(df_coordenadas_final.shape[0], df_coordenadas_final.shape[1]))\n",
    "df_coordenadas_final.sample(3)"
   ]
  },
  {
   "cell_type": "code",
   "execution_count": 82,
   "metadata": {},
   "outputs": [
    {
     "data": {
      "text/html": [
       "<div>\n",
       "<style scoped>\n",
       "    .dataframe tbody tr th:only-of-type {\n",
       "        vertical-align: middle;\n",
       "    }\n",
       "\n",
       "    .dataframe tbody tr th {\n",
       "        vertical-align: top;\n",
       "    }\n",
       "\n",
       "    .dataframe thead th {\n",
       "        text-align: right;\n",
       "    }\n",
       "</style>\n",
       "<table border=\"1\" class=\"dataframe\">\n",
       "  <thead>\n",
       "    <tr style=\"text-align: right;\">\n",
       "      <th></th>\n",
       "      <th>zona</th>\n",
       "      <th>campo</th>\n",
       "      <th>lat</th>\n",
       "      <th>long</th>\n",
       "      <th>good_supplier</th>\n",
       "      <th>area</th>\n",
       "    </tr>\n",
       "  </thead>\n",
       "  <tbody>\n",
       "    <tr>\n",
       "      <th>134</th>\n",
       "      <td>Z2</td>\n",
       "      <td>la emilia</td>\n",
       "      <td>-37.972461</td>\n",
       "      <td>-61.589788</td>\n",
       "      <td>NaN</td>\n",
       "      <td>NaN</td>\n",
       "    </tr>\n",
       "  </tbody>\n",
       "</table>\n",
       "</div>"
      ],
      "text/plain": [
       "    zona      campo        lat       long good_supplier area\n",
       "134   Z2  la emilia -37.972461 -61.589788           NaN  NaN"
      ]
     },
     "execution_count": 82,
     "metadata": {},
     "output_type": "execute_result"
    }
   ],
   "source": [
    "'''\n",
    "    Puede ser que algunos establecimientos hayan quedado con 'good_supplier' y 'area' en Nan.\n",
    "    Esto se debe a que no estaban presentes en el listado de lotes, y no son establecimientos \n",
    "        fundadora.\n",
    "    good_supplier quedara en Nan, pero area la imputaremos como comercial.\n",
    "'''\n",
    "mask_good_supplier_nan = df_coordenadas_final['good_supplier'].isna()\n",
    "mask_area_nan = df_coordenadas_final['area'].isna()\n",
    "\n",
    "df_coordenadas_final[mask_good_supplier_nan | mask_area_nan]"
   ]
  },
  {
   "cell_type": "code",
   "execution_count": 83,
   "metadata": {},
   "outputs": [],
   "source": [
    "df_coordenadas_final['area'] = df_coordenadas_final['area'].fillna('comercial')\n",
    "\n",
    "# Acomodo columnas.\n",
    "df_coordenadas_final = df_coordenadas_final[['zona', 'campo', 'good_supplier', 'area', 'lat', 'long']]\n",
    "# Acomodo nombre de columna.\n",
    "df_coordenadas_final.columns = ['Zona', 'Campo', 'Good Supplier', 'Area', 'Lat' ,'Long']"
   ]
  },
  {
   "cell_type": "code",
   "execution_count": 84,
   "metadata": {},
   "outputs": [],
   "source": [
    "# Creo una nueva carpeta para este archivo historico y guardo el archivo.\n",
    "if not os.path.exists(path_output):\n",
    "    os.makedirs(path_output)\n",
    "\n",
    "df_coordenadas_final.to_excel(path_output+name_output, index=False)"
   ]
  }
 ],
 "metadata": {
  "kernelspec": {
   "display_name": "transit_time_bayer",
   "language": "python",
   "name": "python3"
  },
  "language_info": {
   "codemirror_mode": {
    "name": "ipython",
    "version": 3
   },
   "file_extension": ".py",
   "mimetype": "text/x-python",
   "name": "python",
   "nbconvert_exporter": "python",
   "pygments_lexer": "ipython3",
   "version": "3.9.17"
  },
  "orig_nbformat": 4
 },
 "nbformat": 4,
 "nbformat_minor": 2
}
