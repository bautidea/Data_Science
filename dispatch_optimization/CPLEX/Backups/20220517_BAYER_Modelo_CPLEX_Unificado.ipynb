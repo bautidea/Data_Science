{
 "cells": [
  {
   "cell_type": "code",
   "execution_count": 1,
   "metadata": {},
   "outputs": [],
   "source": [
    "import pandas as pd\n",
    "import numpy as np\n",
    "import datetime\n",
    "import argparse\n",
    "import shutil\n",
    "import sys\n",
    "import os\n",
    "\n",
    "from docplex.mp.model import Model"
   ]
  },
  {
   "cell_type": "code",
   "execution_count": 2,
   "metadata": {
    "scrolled": true
   },
   "outputs": [],
   "source": [
    "#CAMBIAR CUANDO SE QUIERA CORRER DESDE ACA O CUANDO SE QUIERA DEESCARGAR UNA NUEVA VERSION PARA CORRER AUTOMATICAMENTE\n",
    "\n",
    "#ap = argparse.ArgumentParser()\n",
    "#ap.add_argument(\"-m\", \"--manual\", required=False, help=\"Indicar si es corrida manual corta (1) o larga (2)\", default= 0)\n",
    "#args = vars(ap.parse_args())\n",
    "\n",
    "args = {'manual': '1'}"
   ]
  },
  {
   "cell_type": "markdown",
   "metadata": {},
   "source": [
    "## Paths"
   ]
  },
  {
   "cell_type": "code",
   "execution_count": 3,
   "metadata": {},
   "outputs": [],
   "source": [
    "# Definimos los paths a los cuales vamos a ir a buscar los excels necesarios\n",
    "# y donde vamos a depositar el output.\n",
    "\n",
    "path_excels = 'C:/FTPS/malvina.bernal/Archivos_Variables'\n",
    "\n",
    "\n",
    "path_fijos = 'C:/FTPS/malvina.bernal/fijos'\n",
    "\n",
    "\n",
    "carpeta_a_escuchar = 'C:/FTPS/malvina.bernal'\n",
    "\n",
    "\n",
    "archivos = {'yva': None, 'yq10': None, 'embolse': None,'recepciones': None, 'yvatr': None}"
   ]
  },
  {
   "cell_type": "markdown",
   "metadata": {},
   "source": [
    "## Funciones Útiles"
   ]
  },
  {
   "cell_type": "code",
   "execution_count": 4,
   "metadata": {},
   "outputs": [],
   "source": [
    "# Esta función suma dias habiles a una fecha que le pase\n",
    "\n",
    "def proximo_dia_habil(fecha, dias_a_sumar): \n",
    "    proximo_dia_habil = fecha\n",
    "    while dias_a_sumar != 0:\n",
    "        proximo_dia_habil += datetime.timedelta(days=1)\n",
    "        if proximo_dia_habil.weekday() >= 5:\n",
    "            continue\n",
    "        dias_a_sumar -= 1       \n",
    "    return proximo_dia_habil\n",
    "\n",
    "\n",
    "# Esta función arma el nombre del output dependiendo del día actual y el numero de corrida\n",
    "\n",
    "def armar_output():\n",
    "        i = 0\n",
    "        path_intermedio = 'C:/FTPS/malvina.bernal/Output/' + str(datetime.date.today())\n",
    "        try:\n",
    "            os.mkdir(path_intermedio)\n",
    "                \n",
    "        except FileExistsError:\n",
    "                pass\n",
    "            \n",
    "        while True:\n",
    "            path_out = path_intermedio + '/run_' + str(i)\n",
    "            try:\n",
    "                os.mkdir(path_out)\n",
    "                break\n",
    "            except FileExistsError:\n",
    "                i += 1\n",
    "                continue\n",
    "        return path_out\n",
    "    \n",
    "    \n",
    "# Esta función toma los archivos que se van a usar para el modelo y los copia en la carpeta output\n",
    "\n",
    "\n",
    "def copiar_archivos(path_out):\n",
    "        shutil.copy(path_excels + '/' + archivos['yva'], path_out + '/' + archivos['yva'])\n",
    "        shutil.copy(path_excels + '/' + archivos['yq10'], path_out + '/' + archivos['yq10'])\n",
    "        shutil.copy(path_fijos + '/' + archivos['embolse'], path_out + '/' + archivos['embolse'])\n",
    "        shutil.copy(path_excels + '/' + archivos['yvatr'], path_out + '/' + archivos['yvatr'])\n",
    "        inputs.to_csv(path_out + '/inputs.csv', sep=';', index= False)\n",
    "        \n",
    "\n",
    "# Esta función mira los archivos fijos y los identifica para leerlos posteriormente\n",
    "\n",
    "\n",
    "def identificar_archivos_fijos(path, archivos):\n",
    "    for file in os.listdir(path):\n",
    "        try:\n",
    "            split1 = file.split('_')[1]\n",
    "            if split1 == 'EMBOLSE':\n",
    "                    archivos['embolse'] = file\n",
    "            elif split1 == 'RECEPCIONCENTROS':\n",
    "                archivos['recepciones'] = file\n",
    "            else: \n",
    "                pass\n",
    "        except: pass\n",
    "        \n",
    "        \n",
    "# Esta función mira los archivos variables y los identifica para posterior lectura\n",
    "\n",
    "# CAMBIO ACÁ\n",
    "def identificar_archivos(path, archivos):\n",
    "    for file in os.listdir(path):\n",
    "        split1 = file.split('_')[1]\n",
    "        if split1 == 'YVADKLT':\n",
    "            archivos['yva'] = file\n",
    "        elif split1 == 'YQ10':\n",
    "            archivos['yq10'] = file\n",
    "        elif split1 == 'YVATRDKLT':\n",
    "            archivos['yvatr'] = file\n",
    "        else: \n",
    "            pass\n",
    "        \n",
    "\n",
    "# Funcion que se usa en el proceso de verificar que tenemos todos los archivos necesarios\n",
    "\n",
    "\n",
    "def tengo_archivos(archivos):\n",
    "    return all(archivos.values())\n"
   ]
  },
  {
   "cell_type": "markdown",
   "metadata": {},
   "source": [
    "## Inputs"
   ]
  },
  {
   "cell_type": "code",
   "execution_count": 5,
   "metadata": {
    "scrolled": true
   },
   "outputs": [],
   "source": [
    "# BUSCO LOS ARCHIVOS INPUT\n",
    "\n",
    "identificar_archivos(path_excels, archivos)\n",
    "\n",
    "identificar_archivos_fijos(path_fijos, archivos)\n",
    "\n",
    "if not(tengo_archivos(archivos)):\n",
    "    print('Falta YVA o YQ10 o Embolse')\n",
    "    sys.exit()\n",
    "\n",
    "path_out = armar_output()"
   ]
  },
  {
   "cell_type": "code",
   "execution_count": 6,
   "metadata": {},
   "outputs": [],
   "source": [
    "dateparse = lambda x: pd.datetime.strptime(x, '%d.%m.%Y')"
   ]
  },
  {
   "cell_type": "code",
   "execution_count": 7,
   "metadata": {
    "code_folding": []
   },
   "outputs": [],
   "source": [
    "# Lectura de la YVA\n",
    "# CAMBIO ACÁ\n",
    "data = pd.read_excel(path_excels + '/' + archivos['yva'], sheet_name= 'Sheet1')#, parse_dates=['Fecha_doc', 'Fe_SM_real','FePrefEnt_Cab', 'Fe_entrega','FechaFact'], date_parser=dateparse)\n",
    "\n",
    "fecha_ultimo_pedido = data['Fe_entrega'].max()\n"
   ]
  },
  {
   "cell_type": "code",
   "execution_count": 8,
   "metadata": {},
   "outputs": [],
   "source": [
    "# Si la corrida es manual se toman los inputs originales\n",
    "\n",
    "if int(args['manual']) == 1:\n",
    "    \n",
    "    inputs = pd.read_csv('C:/FTPS/malvina.bernal/inputs.csv', sep=';', encoding='mbcs')\n",
    "\n",
    "\n",
    "# Corrida automatica a largo plazo\n",
    "\n",
    "elif int(args['manual']) == 2:\n",
    "    \n",
    "    inputs = pd.read_csv('C:/FTPS/malvina.bernal/inputs.csv', sep=';', encoding='mbcs')\n",
    "    \n",
    "    inputs['VALOR'].iloc[0] = datetime.date.today()\n",
    "    \n",
    "    inputs['VALOR'].iloc[1] = fecha_ultimo_pedido\n",
    "\n",
    "\n",
    "# Si es automatica se inputa el dia actual y se toman 90 días hábiles en adelante\n",
    "\n",
    "else:\n",
    "    \n",
    "    inputs = pd.read_csv('C:/FTPS/malvina.bernal/inputs.csv', sep=';', encoding='mbcs')\n",
    "    \n",
    "    inputs['VALOR'].iloc[0] = datetime.date.today()\n",
    "    \n",
    "    inputs['VALOR'].iloc[1] = proximo_dia_habil(inputs['VALOR'].iloc[0], 90)"
   ]
  },
  {
   "cell_type": "code",
   "execution_count": 9,
   "metadata": {},
   "outputs": [
    {
     "data": {
      "text/html": [
       "<div>\n",
       "<style scoped>\n",
       "    .dataframe tbody tr th:only-of-type {\n",
       "        vertical-align: middle;\n",
       "    }\n",
       "\n",
       "    .dataframe tbody tr th {\n",
       "        vertical-align: top;\n",
       "    }\n",
       "\n",
       "    .dataframe thead th {\n",
       "        text-align: right;\n",
       "    }\n",
       "</style>\n",
       "<table border=\"1\" class=\"dataframe\">\n",
       "  <thead>\n",
       "    <tr style=\"text-align: right;\">\n",
       "      <th></th>\n",
       "      <th>VALOR</th>\n",
       "      <th>DESCRIPCION</th>\n",
       "    </tr>\n",
       "  </thead>\n",
       "  <tbody>\n",
       "    <tr>\n",
       "      <th>0</th>\n",
       "      <td>05/01/2022</td>\n",
       "      <td>Día a partir del cual se quiere calcular (dia ...</td>\n",
       "    </tr>\n",
       "    <tr>\n",
       "      <th>1</th>\n",
       "      <td>31/12/2022</td>\n",
       "      <td>Día hasta el cual se quiere calcular (ultimo d...</td>\n",
       "    </tr>\n",
       "    <tr>\n",
       "      <th>2</th>\n",
       "      <td>NO</td>\n",
       "      <td>Se desea usar la fecha temprana de siembra  ('...</td>\n",
       "    </tr>\n",
       "    <tr>\n",
       "      <th>3</th>\n",
       "      <td>NO</td>\n",
       "      <td>Se desea usar la fecha tardía de siembra  ('SI...</td>\n",
       "    </tr>\n",
       "    <tr>\n",
       "      <th>4</th>\n",
       "      <td>20000</td>\n",
       "      <td>Capacidad logistica diaria (SSU)</td>\n",
       "    </tr>\n",
       "    <tr>\n",
       "      <th>5</th>\n",
       "      <td>3000</td>\n",
       "      <td>Capacidad REAP por dia (SSU)</td>\n",
       "    </tr>\n",
       "    <tr>\n",
       "      <th>6</th>\n",
       "      <td>Q</td>\n",
       "      <td>Ultima campaña despachable</td>\n",
       "    </tr>\n",
       "    <tr>\n",
       "      <th>7</th>\n",
       "      <td>SI</td>\n",
       "      <td>Calcular fechas erroneas  ('SI' o 'NO')</td>\n",
       "    </tr>\n",
       "    <tr>\n",
       "      <th>8</th>\n",
       "      <td>NO</td>\n",
       "      <td>Correr Por OTD ('SI' o 'NO')</td>\n",
       "    </tr>\n",
       "  </tbody>\n",
       "</table>\n",
       "</div>"
      ],
      "text/plain": [
       "        VALOR                                        DESCRIPCION\n",
       "0  05/01/2022  Día a partir del cual se quiere calcular (dia ...\n",
       "1  31/12/2022  Día hasta el cual se quiere calcular (ultimo d...\n",
       "2          NO  Se desea usar la fecha temprana de siembra  ('...\n",
       "3          NO  Se desea usar la fecha tardía de siembra  ('SI...\n",
       "4       20000                   Capacidad logistica diaria (SSU)\n",
       "5        3000                       Capacidad REAP por dia (SSU)\n",
       "6           Q                         Ultima campaña despachable\n",
       "7          SI            Calcular fechas erroneas  ('SI' o 'NO')\n",
       "8          NO                       Correr Por OTD ('SI' o 'NO')"
      ]
     },
     "execution_count": 9,
     "metadata": {},
     "output_type": "execute_result"
    }
   ],
   "source": [
    "inputs"
   ]
  },
  {
   "cell_type": "code",
   "execution_count": 10,
   "metadata": {},
   "outputs": [],
   "source": [
    "# Copio los archivos en la carpeta de outputs\n",
    "copiar_archivos(path_out) "
   ]
  },
  {
   "cell_type": "code",
   "execution_count": 11,
   "metadata": {},
   "outputs": [],
   "source": [
    "# INPUTS QUE SE VAN A PODER CAMBIAR\n",
    "\n",
    "fecha_de_hoy = pd.to_datetime(inputs['VALOR'].iloc[0], format='%d/%m/%Y') #Fecha del dia en que se hace la optimizacion\n",
    "\n",
    "ultimo_dia = pd.to_datetime(inputs['VALOR'].iloc[1], format='%d/%m/%Y') #ultimo dia que se toma como ventana\n",
    "\n",
    "dias_habiles_disponibles = np.busday_count(fecha_de_hoy.date(), ultimo_dia.date()) # Dias habiles disponibles para despachar o hacer REAP\n",
    "\n",
    "USAR_FECHA_SIEMBRA_TEMPRANA = True if inputs['VALOR'].iloc[2] == 'SI' else False\n",
    "\n",
    "USAR_FECHA_SIEMBRA_TARDIA = True if inputs['VALOR'].iloc[3] == 'SI' else False\n",
    "\n",
    "capacidad_despacho_por_dia = int(inputs['VALOR'].iloc[4]) #Cuantos SSU se pueden despachar por dia (segun camiones)\n",
    "\n",
    "capacidad_reap_por_dia = int(inputs['VALOR'].iloc[5])\n",
    "\n",
    "ultima_campaña_despachable = inputs['VALOR'].iloc[6]\n",
    "\n",
    "calcular_fechas_erroneas = True if inputs['VALOR'].iloc[7] == 'SI' else False\n",
    "\n",
    "nombre_output = path_out + '/OPTIMIZADODISTRIBUCION_' + fecha_de_hoy.strftime(\"%Y%m%d\") + '_' + ultimo_dia.strftime(\"%Y%m%d\") + '_ROJAS' + '.xlsx'\n",
    "\n",
    "correr_otd = True if inputs['VALOR'].iloc[8] == 'SI' else False\n"
   ]
  },
  {
   "cell_type": "code",
   "execution_count": 12,
   "metadata": {
    "scrolled": false
   },
   "outputs": [
    {
     "name": "stderr",
     "output_type": "stream",
     "text": [
      "C:\\ProgramData\\Anaconda3\\lib\\site-packages\\ipykernel_launcher.py:1: FutureWarning: The pandas.datetime class is deprecated and will be removed from pandas in a future version. Import from datetime module instead.\n",
      "  \"\"\"Entry point for launching an IPython kernel.\n"
     ]
    }
   ],
   "source": [
    "# Lectura de todos los archivos necesarios\n",
    "\n",
    "yq10 = pd.read_excel(path_excels + '/' + archivos['yq10'], parse_dates=['Fecha DE'], date_parser=dateparse)\n",
    "\n",
    "embolse = pd.read_excel(path_fijos + '/'  + archivos['embolse'], skiprows=4)\n",
    "\n",
    "prop = pd.read_csv('C:/FTPS/malvina.bernal/fijos/proporcion_de_material_por_hibrido')\n",
    "\n",
    "yvatr = pd.read_excel(path_excels + '/'  + archivos['yvatr'])#, sheet_name='YVA TR GRAL')\n",
    "\n",
    "prioridades = pd.read_excel('C:/FTPS/malvina.bernal/fijos/Prioridades Distribución FEFO.xlsx')\n",
    "\n",
    "zonas = pd.read_excel('C:/FTPS/malvina.bernal/fijos/Detalle Distrib - Final.xlsx', skiprows=3)\n",
    "\n",
    "recep = pd.read_excel(path_fijos + '/'  + archivos['recepciones'])\n",
    "\n",
    "# CAMBIO ACÁ\n",
    "\n",
    "# maestro = pd.read_excel('C:/FTPS/malvina.bernal/fijos/Grupo de clientes.xlsx', sheet_name= 'Base clientes')"
   ]
  },
  {
   "cell_type": "markdown",
   "metadata": {},
   "source": [
    "## Embolse"
   ]
  },
  {
   "cell_type": "code",
   "execution_count": 13,
   "metadata": {},
   "outputs": [
    {
     "data": {
      "text/plain": [
       "Index(['Unnamed: 0', 'Programa  ', 'Cert.', 'Planta de Producción',\n",
       "       'Campaña de producción', 'Híbridos', 'Destino', 'Tecn.',\n",
       "       'Tipo de híbrido', 'Unidad', 'Curado', 'Bolsas estimadas a procesar',\n",
       "       'SSU estimados', 'Fecha inicio ', 'Fecha fin', 'DESTINOS',\n",
       "       'Semana Inicio', 'Semana Fin', 'Fecha disponibilidad', 'Bolsas Reales',\n",
       "       'SSU Reales', 'Bolsas acum. Total', 'Partidas de Clasificación',\n",
       "       'Observaciones'],\n",
       "      dtype='object')"
      ]
     },
     "execution_count": 13,
     "metadata": {},
     "output_type": "execute_result"
    }
   ],
   "source": [
    "embolse.columns"
   ]
  },
  {
   "cell_type": "code",
   "execution_count": 14,
   "metadata": {},
   "outputs": [],
   "source": [
    "embolse.drop(columns= ['Unnamed: 0'], inplace= True)\n",
    "\n",
    "embolse = embolse.dropna(subset=['DESTINOS'])\n",
    "\n",
    "#zonas.drop(columns= ['Unnamed: 0'], inplace= True)"
   ]
  },
  {
   "cell_type": "code",
   "execution_count": 15,
   "metadata": {
    "scrolled": true
   },
   "outputs": [],
   "source": [
    "# Hay embolses que se dividen en los destinos por lo que hay que separarlos\n",
    "\n",
    "embolse = embolse[embolse['DESTINOS'] != 6035] #Filtramos el 6035 porque nos dijeron que no iba más\n",
    "\n",
    "separadas = embolse[(embolse['DESTINOS'] != 6009) & (embolse['DESTINOS'] != 6244) & (embolse['DESTINOS'] != 6592)]\n"
   ]
  },
  {
   "cell_type": "code",
   "execution_count": 16,
   "metadata": {},
   "outputs": [
    {
     "name": "stderr",
     "output_type": "stream",
     "text": [
      "C:\\ProgramData\\Anaconda3\\lib\\site-packages\\ipykernel_launcher.py:4: SettingWithCopyWarning: \n",
      "A value is trying to be set on a copy of a slice from a DataFrame.\n",
      "Try using .loc[row_indexer,col_indexer] = value instead\n",
      "\n",
      "See the caveats in the documentation: https://pandas.pydata.org/pandas-docs/stable/user_guide/indexing.html#returning-a-view-versus-a-copy\n",
      "  after removing the cwd from sys.path.\n"
     ]
    }
   ],
   "source": [
    "# Para los embolses que se mandan a ambos centros en distintas proporciones, armo una linea para cada centro\n",
    "\n",
    "if len(separadas) > 0:\n",
    "    separadas['DESTINOS'] = separadas['DESTINOS'].astype(str)\n",
    "    for ind, row in separadas.iterrows():\n",
    "\n",
    "            copia = row\n",
    "\n",
    "            div1, centro1, div2, centro2 = row['DESTINOS'].split(' ')\n",
    "\n",
    "            if centro1 == '6009':\n",
    "\n",
    "                centro2 = '6244'\n",
    "\n",
    "            else: \n",
    "\n",
    "                centro1 = '6244'\n",
    "\n",
    "            embolse.iloc[ind, embolse.columns.get_loc('DESTINOS')] = centro1\n",
    "\n",
    "            embolse.iloc[ind, embolse.columns.get_loc('SSU estimados')] *= (float(div1[0:2]) / 100)\n",
    "\n",
    "            copia['DESTINOS'] = centro2\n",
    "\n",
    "            copia['SSU estimados'] *= (float(div2[0:2]) / 100)\n",
    "\n",
    "            embolse = embolse.append(copia)\n",
    "\n",
    "\n",
    "    embolse['DESTINOS'] = embolse['DESTINOS'].replace({'6244': 6244, '6009': 6009})\n",
    "\n",
    "\n",
    "#Me quedo con las Filas del embolse que estan entre el primer dia y el ultimo a optimizar\n",
    "\n",
    "embolse['Fecha disponibilidad'] = pd.to_datetime(embolse['Fecha disponibilidad'])\n",
    "\n",
    "embolse = embolse[(embolse['Fecha disponibilidad'] >= fecha_de_hoy) \n",
    "                  & (embolse['Fecha disponibilidad'] <= ultimo_dia)]\n",
    "\n",
    "embolse = embolse[['Híbridos', 'Unidad', 'SSU estimados', 'Fecha disponibilidad', 'DESTINOS']]\n",
    "\n",
    "embolse = embolse.groupby(['Híbridos','Fecha disponibilidad']).sum().reset_index()"
   ]
  },
  {
   "cell_type": "code",
   "execution_count": 17,
   "metadata": {},
   "outputs": [],
   "source": [
    "def estimar_SKU(hy, ssu_total, prop, disponibilidad, destino): # prop es el dataframe que esta metido en el csv \"proporcion_de_material_por_hibrido\"\n",
    "    df = prop[['HY','Material','PROPORCION_DEL_HY']]\n",
    "    df1 = df[df['HY'] == hy]\n",
    "    df1['SSU_A_OBTENER'] = (ssu_total* df1['PROPORCION_DEL_HY']).round()\n",
    "    df1['Fecha disponibilidad'] = disponibilidad\n",
    "    df1['DESTINOS'] = destino\n",
    "    return df1"
   ]
  },
  {
   "cell_type": "code",
   "execution_count": 18,
   "metadata": {},
   "outputs": [],
   "source": [
    "def estimar_embolse(embolse, prop):\n",
    "    df = pd.DataFrame()\n",
    "    for x in range(len(embolse)):\n",
    "        data = estimar_SKU(embolse.iloc[x,0], embolse.iloc[x,2], prop, embolse.iloc[x,1],embolse.iloc[x,3])\n",
    "        df = df.append(data, ignore_index= True) \n",
    "    return df"
   ]
  },
  {
   "cell_type": "code",
   "execution_count": 19,
   "metadata": {
    "scrolled": true
   },
   "outputs": [
    {
     "name": "stderr",
     "output_type": "stream",
     "text": [
      "C:\\ProgramData\\Anaconda3\\lib\\site-packages\\ipykernel_launcher.py:4: SettingWithCopyWarning: \n",
      "A value is trying to be set on a copy of a slice from a DataFrame.\n",
      "Try using .loc[row_indexer,col_indexer] = value instead\n",
      "\n",
      "See the caveats in the documentation: https://pandas.pydata.org/pandas-docs/stable/user_guide/indexing.html#returning-a-view-versus-a-copy\n",
      "  after removing the cwd from sys.path.\n",
      "C:\\ProgramData\\Anaconda3\\lib\\site-packages\\ipykernel_launcher.py:5: SettingWithCopyWarning: \n",
      "A value is trying to be set on a copy of a slice from a DataFrame.\n",
      "Try using .loc[row_indexer,col_indexer] = value instead\n",
      "\n",
      "See the caveats in the documentation: https://pandas.pydata.org/pandas-docs/stable/user_guide/indexing.html#returning-a-view-versus-a-copy\n",
      "  \"\"\"\n",
      "C:\\ProgramData\\Anaconda3\\lib\\site-packages\\ipykernel_launcher.py:6: SettingWithCopyWarning: \n",
      "A value is trying to be set on a copy of a slice from a DataFrame.\n",
      "Try using .loc[row_indexer,col_indexer] = value instead\n",
      "\n",
      "See the caveats in the documentation: https://pandas.pydata.org/pandas-docs/stable/user_guide/indexing.html#returning-a-view-versus-a-copy\n",
      "  \n"
     ]
    }
   ],
   "source": [
    "# ACA PODRÍA PRIMERO SEPARAR POR FECHA Y DESPUES HACER EL IF\n",
    "\n",
    "if len(embolse) != 0:\n",
    "    \n",
    "    embolse['Fecha disponibilidad'] = pd.to_datetime(embolse['Fecha disponibilidad']).dt.date    \n",
    "    \n",
    "    embolse_estimado = estimar_embolse(embolse, prop)\n",
    "    \n",
    "    mat_embolse = embolse_estimado['Material']\n",
    "    \n",
    "    ssu_embolse = embolse_estimado['SSU_A_OBTENER']\n",
    "    \n",
    "    destinos = embolse_estimado['DESTINOS']\n",
    "    \n",
    "    fechas_embolse = pd.to_datetime(embolse_estimado['Fecha disponibilidad'])\n",
    "    \n",
    "    hibridos_embolse = embolse_estimado['HY']\n",
    "        \n",
    "    yq10_embolse = pd.DataFrame({'HY': hibridos_embolse, 'MATERIAL': mat_embolse,'CENTRO': destinos, 'SSU' : ssu_embolse, 'FECHA_DISPONIBILIDAD': fechas_embolse, 'PRIORIDAD_FEFO': 17 })\n",
    "\n",
    "else:\n",
    "    \n",
    "    yq10_embolse = pd.DataFrame(columns=['HY','MATERIAL','CENTRO', 'SSU', 'FECHA_DISPONIBILIDAD', 'PRIORIDAD_FEFO'])\n"
   ]
  },
  {
   "cell_type": "markdown",
   "metadata": {},
   "source": [
    "## YQ10"
   ]
  },
  {
   "cell_type": "code",
   "execution_count": 20,
   "metadata": {},
   "outputs": [
    {
     "data": {
      "text/plain": [
       "Index(['Cultivo', 'Material', 'Denominación', 'Lote', 'DAV Number 1 Argentina',\n",
       "       'DAV Number 2 Argentina', 'Ce.', 'Alm.', 'NºA', 'Denomin.', 'Tp.',\n",
       "       'Ubicación', 'Lote insp.', 'IL Plant', 'Cód.', 'Fecha DE', 'UMB',\n",
       "       'LibrUtiliz', 'No libre', 'Bloqueado', 'Trasl.', 'Total',\n",
       "       'Placa de Siembra', 'Bolsas por pallet',\n",
       "       'SG Peso neto promedio p. bolsa', 'SG Comentarios sobre el lote',\n",
       "       'SG Comentarios sobre el lote2'],\n",
       "      dtype='object')"
      ]
     },
     "execution_count": 20,
     "metadata": {},
     "output_type": "execute_result"
    }
   ],
   "source": [
    "yq10.columns"
   ]
  },
  {
   "cell_type": "code",
   "execution_count": 21,
   "metadata": {},
   "outputs": [],
   "source": [
    "#Elimino las lineas que no tienen habilitacion DAV 1 ni DAV 2\n",
    "\n",
    "yq10.dropna(subset=['DAV Number 1 Argentina', 'DAV Number 2 Argentina'], how='all', inplace=True)\n",
    "\n",
    "\n",
    "yq10 = yq10[((yq10['Ce.'] == 6009) | (yq10['Ce.'] == 6244) | (yq10['Ce.'] == 6592)) \n",
    "            & (yq10['Alm.'] == 'WM01')]\n",
    "\n",
    "yq10 = yq10[(yq10['Cód.'] == 'LIB1') | (yq10['Cód.'] == 'LIB2') | (yq10['Cód.'] == 'LIB3') \n",
    "            | ((yq10['Cód.'] == 'DETA') & ((pd.to_datetime(yq10['Fecha DE']).dt.day > 15)) & (pd.to_datetime(yq10['Fecha DE']).dt.month >= 10) )]\n",
    "\n",
    "\n",
    "yq10 = yq10[(yq10['Ubicación'].str[0:2] != 'RO') & (yq10['Ubicación'].str[0:3] != 'MAN') & (yq10['Ubicación'] != 'STORECV') \n",
    "           & (yq10['Ubicación'] != 'VIRTUAL') & (yq10['Ubicación'] != 'MFDENTRG') & (yq10['Ubicación'] != 0)]\n",
    "\n",
    "yq10 = yq10[yq10['UMB'] == 'BOL']"
   ]
  },
  {
   "cell_type": "code",
   "execution_count": 22,
   "metadata": {},
   "outputs": [],
   "source": [
    "lotes_habilitados = list(np.sort(yq10['Lote'].str[0].unique()))\n",
    "\n",
    "#SI AL LLEGAR A LA Z VUELVE A EMPEZAR POR LA A, ESTE CODIGO NO FUNCIONA BIEN\n",
    "\n",
    "yq10 = yq10[(yq10['Lote'].str[0] > ultima_campaña_despachable)]"
   ]
  },
  {
   "cell_type": "code",
   "execution_count": 23,
   "metadata": {
    "scrolled": true
   },
   "outputs": [
    {
     "name": "stderr",
     "output_type": "stream",
     "text": [
      "C:\\ProgramData\\Anaconda3\\lib\\site-packages\\pandas\\core\\indexing.py:670: SettingWithCopyWarning: \n",
      "A value is trying to be set on a copy of a slice from a DataFrame\n",
      "\n",
      "See the caveats in the documentation: https://pandas.pydata.org/pandas-docs/stable/user_guide/indexing.html#returning-a-view-versus-a-copy\n",
      "  self._setitem_with_indexer(indexer, value)\n"
     ]
    }
   ],
   "source": [
    "yq10.reset_index(drop= True, inplace=True)\n",
    "yq10['HY'] = ''\n",
    "for idx, row in yq10.iterrows():\n",
    "    yq10['HY'].iloc[idx] = row['Denominación'].split(' ')[2]"
   ]
  },
  {
   "cell_type": "code",
   "execution_count": 24,
   "metadata": {},
   "outputs": [],
   "source": [
    "def pasar_a_ssu(yq10_):\n",
    "    \n",
    "    equivSSU = 80\n",
    "    \n",
    "    df1 = yq10_.copy(deep=True)\n",
    "    df1['TamanioBolsa'] = 1\n",
    "    \n",
    "    for idx, row in df1.iterrows():\n",
    "        df1['TamanioBolsa'].iloc[idx] = row['Denominación'].split(' ')[4][:2]\n",
    "        \n",
    "    df1 = df1[(df1['TamanioBolsa'] == '80') |( df1['TamanioBolsa'] == '60') | (df1['TamanioBolsa'] == '40')]\n",
    "    df1['TamanioBolsa'] = df1['TamanioBolsa'].astype(int)\n",
    "    \n",
    "    df1['SSU'] = df1['LibrUtiliz'] * (df1['TamanioBolsa'] / equivSSU)\n",
    "    \n",
    "    return df1\n",
    "   "
   ]
  },
  {
   "cell_type": "code",
   "execution_count": 25,
   "metadata": {
    "scrolled": true
   },
   "outputs": [],
   "source": [
    "yq10.reset_index(drop=True, inplace=True)\n",
    "yq10 = pasar_a_ssu(yq10)"
   ]
  },
  {
   "cell_type": "code",
   "execution_count": 26,
   "metadata": {
    "scrolled": true
   },
   "outputs": [
    {
     "data": {
      "text/html": [
       "<div>\n",
       "<style scoped>\n",
       "    .dataframe tbody tr th:only-of-type {\n",
       "        vertical-align: middle;\n",
       "    }\n",
       "\n",
       "    .dataframe tbody tr th {\n",
       "        vertical-align: top;\n",
       "    }\n",
       "\n",
       "    .dataframe thead th {\n",
       "        text-align: right;\n",
       "    }\n",
       "</style>\n",
       "<table border=\"1\" class=\"dataframe\">\n",
       "  <thead>\n",
       "    <tr style=\"text-align: right;\">\n",
       "      <th></th>\n",
       "      <th>HY</th>\n",
       "      <th>MATERIAL</th>\n",
       "      <th>CENTRO</th>\n",
       "      <th>SSU</th>\n",
       "      <th>FECHA_DISPONIBILIDAD</th>\n",
       "      <th>DE</th>\n",
       "      <th>Campaña</th>\n",
       "      <th>Lote</th>\n",
       "      <th>Ubicación</th>\n",
       "      <th>Peso_bolsa</th>\n",
       "      <th>PRIORIDAD_FEFO</th>\n",
       "    </tr>\n",
       "  </thead>\n",
       "  <tbody>\n",
       "    <tr>\n",
       "      <th>0</th>\n",
       "      <td>LT626VT3P</td>\n",
       "      <td>11495878</td>\n",
       "      <td>6009</td>\n",
       "      <td>1597.0</td>\n",
       "      <td>2022-01-05</td>\n",
       "      <td>LIB3</td>\n",
       "      <td>T</td>\n",
       "      <td>TE1080972</td>\n",
       "      <td>G11L040D</td>\n",
       "      <td>13,63</td>\n",
       "      <td>0.0625</td>\n",
       "    </tr>\n",
       "    <tr>\n",
       "      <th>1</th>\n",
       "      <td>LT626VT3P</td>\n",
       "      <td>11495878</td>\n",
       "      <td>6009</td>\n",
       "      <td>1473.0</td>\n",
       "      <td>2022-01-05</td>\n",
       "      <td>LIB1</td>\n",
       "      <td>T</td>\n",
       "      <td>TE1080979</td>\n",
       "      <td>G11L034D</td>\n",
       "      <td>15,71</td>\n",
       "      <td>0.0625</td>\n",
       "    </tr>\n",
       "    <tr>\n",
       "      <th>2</th>\n",
       "      <td>LT626VT3P</td>\n",
       "      <td>11495878</td>\n",
       "      <td>6009</td>\n",
       "      <td>1365.0</td>\n",
       "      <td>2022-01-05</td>\n",
       "      <td>LIB1</td>\n",
       "      <td>T</td>\n",
       "      <td>TE1080983</td>\n",
       "      <td>G11L044D</td>\n",
       "      <td>17,27</td>\n",
       "      <td>0.0625</td>\n",
       "    </tr>\n",
       "    <tr>\n",
       "      <th>3</th>\n",
       "      <td>LT626VT3P</td>\n",
       "      <td>11495878</td>\n",
       "      <td>6009</td>\n",
       "      <td>1528.0</td>\n",
       "      <td>2022-01-05</td>\n",
       "      <td>LIB1</td>\n",
       "      <td>T</td>\n",
       "      <td>TE1080992</td>\n",
       "      <td>G11L044C</td>\n",
       "      <td>13,86</td>\n",
       "      <td>0.0625</td>\n",
       "    </tr>\n",
       "    <tr>\n",
       "      <th>4</th>\n",
       "      <td>LT626VT3P</td>\n",
       "      <td>11495878</td>\n",
       "      <td>6009</td>\n",
       "      <td>748.0</td>\n",
       "      <td>2022-01-05</td>\n",
       "      <td>LIB1</td>\n",
       "      <td>T</td>\n",
       "      <td>TE1080996</td>\n",
       "      <td>G11L034C</td>\n",
       "      <td>17,33</td>\n",
       "      <td>0.0625</td>\n",
       "    </tr>\n",
       "  </tbody>\n",
       "</table>\n",
       "</div>"
      ],
      "text/plain": [
       "          HY  MATERIAL  CENTRO     SSU FECHA_DISPONIBILIDAD    DE Campaña  \\\n",
       "0  LT626VT3P  11495878    6009  1597.0           2022-01-05  LIB3       T   \n",
       "1  LT626VT3P  11495878    6009  1473.0           2022-01-05  LIB1       T   \n",
       "2  LT626VT3P  11495878    6009  1365.0           2022-01-05  LIB1       T   \n",
       "3  LT626VT3P  11495878    6009  1528.0           2022-01-05  LIB1       T   \n",
       "4  LT626VT3P  11495878    6009   748.0           2022-01-05  LIB1       T   \n",
       "\n",
       "        Lote Ubicación                      Peso_bolsa  PRIORIDAD_FEFO  \n",
       "0  TE1080972  G11L040D                           13,63          0.0625  \n",
       "1  TE1080979  G11L034D                           15,71          0.0625  \n",
       "2  TE1080983  G11L044D                           17,27          0.0625  \n",
       "3  TE1080992  G11L044C                           13,86          0.0625  \n",
       "4  TE1080996  G11L034C                           17,33          0.0625  "
      ]
     },
     "execution_count": 26,
     "metadata": {},
     "output_type": "execute_result"
    }
   ],
   "source": [
    "yq10_final = pd.DataFrame({'HY': yq10['HY'], 'MATERIAL': yq10['Material'],'CENTRO': yq10['Ce.'], 'SSU' : yq10['SSU'], \n",
    "                           'FECHA_DISPONIBILIDAD': fecha_de_hoy, 'DE': yq10['Cód.'], 'AÑO_MAX_CAMP': yq10['Fecha DE'].dt.year, 'Campaña': yq10['Lote'].str[0],\n",
    "                           'Lote': yq10['Lote'], 'Ubicación': yq10['Ubicación'] , 'Peso_bolsa': yq10['SG Peso neto promedio p. bolsa'] })\n",
    "\n",
    "\n",
    "yq10_final = yq10_final.merge(prioridades, how='left', on= ['DE', 'Campaña', 'AÑO_MAX_CAMP'])\n",
    "\n",
    "#Hago esto porque las prioridades no tienen en cuenta la campaña U\n",
    "\n",
    "yq10_final['Prioridad'].fillna(16, inplace= True)\n",
    "\n",
    "\n",
    "# Agrego distintivo para materiales provenientes del embolse\n",
    "\n",
    "yq10_final['Campaña'] = yq10_final['Campaña'].fillna('Embolse')\n",
    "\n",
    "yq10_final.rename(columns={'Prioridad': 'PRIORIDAD_FEFO'}, inplace= True)\n",
    "\n",
    "yq10_final = yq10_final.drop(columns=['AÑO_MAX_CAMP'])\n",
    "\n",
    "\n",
    "if len(yq10_embolse) != 0:\n",
    "    yq10_final = yq10_final.append(yq10_embolse, ignore_index= True)\n",
    "\n",
    "\n",
    "yq10_final['PRIORIDAD_FEFO'].replace([1,2,3,4,5,6,7,8,9,10,11,12,13,14,15,16,17], [17,16,15,14,13,12,11,10,9,8,7,6,5,4,3,2,1], inplace= True)\n",
    "\n",
    "# Normalizo la prioridad FEFO a valores entre 0 y 1\n",
    "\n",
    "yq10_final['PRIORIDAD_FEFO'] = (yq10_final['PRIORIDAD_FEFO'] - 1) / 16\n",
    "\n",
    "yq10_final['FECHA_DISPONIBILIDAD'] = pd.to_datetime(yq10_final['FECHA_DISPONIBILIDAD'])\n",
    "\n",
    "yq10_final['DE'].fillna(value= 'Emb', inplace= True)\n",
    "\n",
    "yq10_final.head()"
   ]
  },
  {
   "cell_type": "code",
   "execution_count": 27,
   "metadata": {},
   "outputs": [
    {
     "data": {
      "text/plain": [
       "True"
      ]
     },
     "execution_count": 27,
     "metadata": {},
     "output_type": "execute_result"
    }
   ],
   "source": [
    "# ME FIJO QUE NO SE DUPLIQUE EL STOCK\n",
    "len(yq10) + len(yq10_embolse) == len(yq10_final)"
   ]
  },
  {
   "cell_type": "code",
   "execution_count": 28,
   "metadata": {},
   "outputs": [],
   "source": [
    "mat_unique = list(yq10_final['MATERIAL'].unique())\n",
    "\n",
    "cantidades = []\n",
    "\n",
    "for m in mat_unique:\n",
    "    \n",
    "    cantidades.append(yq10_final['SSU'][(yq10_final['MATERIAL'] == m)].sum())"
   ]
  },
  {
   "cell_type": "code",
   "execution_count": 29,
   "metadata": {
    "scrolled": false
   },
   "outputs": [
    {
     "data": {
      "text/html": [
       "<div>\n",
       "<style scoped>\n",
       "    .dataframe tbody tr th:only-of-type {\n",
       "        vertical-align: middle;\n",
       "    }\n",
       "\n",
       "    .dataframe tbody tr th {\n",
       "        vertical-align: top;\n",
       "    }\n",
       "\n",
       "    .dataframe thead th {\n",
       "        text-align: right;\n",
       "    }\n",
       "</style>\n",
       "<table border=\"1\" class=\"dataframe\">\n",
       "  <thead>\n",
       "    <tr style=\"text-align: right;\">\n",
       "      <th></th>\n",
       "      <th>Material</th>\n",
       "      <th>Cantidad_Total</th>\n",
       "    </tr>\n",
       "  </thead>\n",
       "  <tbody>\n",
       "    <tr>\n",
       "      <th>0</th>\n",
       "      <td>11495878</td>\n",
       "      <td>7795.0</td>\n",
       "    </tr>\n",
       "    <tr>\n",
       "      <th>1</th>\n",
       "      <td>11789421</td>\n",
       "      <td>16642.0</td>\n",
       "    </tr>\n",
       "    <tr>\n",
       "      <th>2</th>\n",
       "      <td>11789429</td>\n",
       "      <td>347.0</td>\n",
       "    </tr>\n",
       "    <tr>\n",
       "      <th>3</th>\n",
       "      <td>12324867</td>\n",
       "      <td>23393.0</td>\n",
       "    </tr>\n",
       "    <tr>\n",
       "      <th>4</th>\n",
       "      <td>12324877</td>\n",
       "      <td>16195.0</td>\n",
       "    </tr>\n",
       "    <tr>\n",
       "      <th>...</th>\n",
       "      <td>...</td>\n",
       "      <td>...</td>\n",
       "    </tr>\n",
       "    <tr>\n",
       "      <th>337</th>\n",
       "      <td>12731898</td>\n",
       "      <td>9784.0</td>\n",
       "    </tr>\n",
       "    <tr>\n",
       "      <th>338</th>\n",
       "      <td>12732099</td>\n",
       "      <td>100.0</td>\n",
       "    </tr>\n",
       "    <tr>\n",
       "      <th>339</th>\n",
       "      <td>12732105</td>\n",
       "      <td>591.0</td>\n",
       "    </tr>\n",
       "    <tr>\n",
       "      <th>340</th>\n",
       "      <td>12732106</td>\n",
       "      <td>660.0</td>\n",
       "    </tr>\n",
       "    <tr>\n",
       "      <th>341</th>\n",
       "      <td>12732109</td>\n",
       "      <td>1783.0</td>\n",
       "    </tr>\n",
       "  </tbody>\n",
       "</table>\n",
       "<p>342 rows × 2 columns</p>\n",
       "</div>"
      ],
      "text/plain": [
       "     Material  Cantidad_Total\n",
       "0    11495878          7795.0\n",
       "1    11789421         16642.0\n",
       "2    11789429           347.0\n",
       "3    12324867         23393.0\n",
       "4    12324877         16195.0\n",
       "..        ...             ...\n",
       "337  12731898          9784.0\n",
       "338  12732099           100.0\n",
       "339  12732105           591.0\n",
       "340  12732106           660.0\n",
       "341  12732109          1783.0\n",
       "\n",
       "[342 rows x 2 columns]"
      ]
     },
     "execution_count": 29,
     "metadata": {},
     "output_type": "execute_result"
    }
   ],
   "source": [
    "yq10_nueva = pd.DataFrame({'Material': mat_unique, 'Cantidad_Total': cantidades})\n",
    "yq10_nueva"
   ]
  },
  {
   "cell_type": "markdown",
   "metadata": {},
   "source": [
    "## Prioridades"
   ]
  },
  {
   "cell_type": "code",
   "execution_count": 30,
   "metadata": {},
   "outputs": [],
   "source": [
    "def asignar_fechas_entrega(ytr):\n",
    "    asignados = ytr[(ytr['Lote'].isna()) & (ytr['Fe_SM_real'].isna())]\n",
    "    maximo = capacidad_despacho_por_dia / 2\n",
    "    dia = 1\n",
    "    suma = 0\n",
    "    if(len(asignados) > 0):\n",
    "        for indice in range(len(asignados)):\n",
    "            asignados['Doc_venta'].iloc[indice] = str(asignados['Doc_venta'].iloc[indice]) + '-' + str(indice)\n",
    "            if (suma + asignados['Ctd_entr'].iloc[indice]) < maximo:\n",
    "                suma += asignados['Ctd_entr'].iloc[indice]\n",
    "                asignados['Fe_entrega'].iloc[indice] = proximo_dia_habil(fecha_de_hoy, dia)\n",
    "            else:\n",
    "                suma = asignados['Ctd_entr'].iloc[indice]\n",
    "                dia += 1\n",
    "                asignados['Fe_entrega'].iloc[indice] = proximo_dia_habil(fecha_de_hoy, dia)\n",
    "\n",
    "        asignados.rename(columns={'Ctd_fact': 'Ctd_fact', 'Ctd_conf': 'Ctd_conf.',\n",
    "                                  'Ctd_entr': 'Ctd_entr', 'Fe_SM_real': 'Fe_SM_real'}, inplace=True)\n",
    "        asignados['Status'] = 'Liberado'\n",
    "        asignados['Prioridad'] = 500000\n",
    "        asignados['ERROR_FECHA_ENTREGA'] = 'NO'\n",
    "        asignados['Recepcion'] = 'Recibe'\n",
    "        asignados = asignados[['Doc_venta', 'ClVt', 'Solic', 'Nomb_Dest_Mcia', 'GClt', 'Dest_Mcia', 'Oficina_de_Venta',\n",
    "           'Material', 'SSU', 'Fe_entrega', 'Recepcion','ERROR_FECHA_ENTREGA', 'Status', 'FechaFact', 'FePrefEnt_Cab', 'BqEn', 'Prioridad']]\n",
    "        asignados.rename(columns={'Nomb_Dest_Mcia': 'Cliente'}, inplace=True)\n",
    "    return asignados"
   ]
  },
  {
   "cell_type": "code",
   "execution_count": 31,
   "metadata": {},
   "outputs": [],
   "source": [
    "# Funciones para \"calcular\" prioridades\n",
    "anio_actual = datetime.date.today().year\n",
    "\n",
    "anio_anterior = anio_actual - 1\n",
    "\n",
    "prio1 = 100000\n",
    "\n",
    "prio2 = 10000\n",
    "\n",
    "prioridad_pedido = 1000\n",
    "\n",
    "def obtener_prioridad(potencia):\n",
    "    return prioridad_pedido / (2 ** potencia)\n",
    "\n",
    "\n",
    "# REGLA DE LAS FILAS 3 Y 4 (Tipo Pedido)\n",
    "def prioridad_Clvt(df):\n",
    "    regla1 = (df['ClVt'] == 'ZMKG') | (df['ClVt'] == 'ZBKG')\n",
    "    regla2 = (df['ClVt'] == 'ZROG') | (df['ClVt'] == 'ZCHG')\n",
    "    regla3 = (df['ClVt'] == 'ZSCG') | (df['ClVt'] == 'ZRQG') | (df['ClVt'] == 'ZVQG') \n",
    "    df['Prioridad_Clvt'] = 0\n",
    "    df['Prioridad_Clvt'][regla1] = prio1\n",
    "    df['Prioridad_Clvt'][regla2] = prio2\n",
    "    df['Prioridad_Clvt'][regla3] = obtener_prioridad(1)\n",
    "    return df\n",
    "\n",
    "\n",
    "# REGLA DE LA FILA 5 (Fecha Factura)\n",
    "def prioridad_ff(df):\n",
    "    df['Prioridad_ff'] = 0\n",
    "    df['Prioridad_ff'][df['FechaFact'].dt.year == anio_anterior] = obtener_prioridad(2)\n",
    "    df['Prioridad_ff'][(df['FechaFact'].dt.year == anio_actual) & (df['FechaFact'].dt.month <= 4)] = obtener_prioridad(3)\n",
    "    df['Prioridad_ff'][(df['FechaFact'].dt.year == anio_actual) & (df['FechaFact'].dt.month > 4)] = obtener_prioridad(4)\n",
    "    return df\n",
    "\n",
    "\n",
    "#REGLA FILA 6 (Tipo Cliente)\n",
    "\n",
    "def prioridad_tc(df):\n",
    "    df['Prioridad_tc'] = 0\n",
    "    df['Prioridad_tc'][(df['GClt'] == 'EK') & (df['GClt'] == 'ES')] = obtener_prioridad(5)\n",
    "    df['Prioridad_tc'][(df['GClt'] == 'EL') & (df['GClt'] == 'E5')] = obtener_prioridad(6) \n",
    "    df['Prioridad_tc'][(df['GClt'] == 'EF')] = obtener_prioridad(7)\n",
    "    df['Prioridad_tc'][(df['GClt'] == 'E2')] = obtener_prioridad(8)\n",
    "    df['Prioridad_tc'][(df['GClt'] == 'EC')] = obtener_prioridad(9)\n",
    "    df['Prioridad_tc'][(df['GClt'] == 'E7')] = obtener_prioridad(10)\n",
    "    df['Prioridad_tc'][(df['GClt'] == 'EY')] = obtener_prioridad(11)\n",
    "    return df\n",
    "\n",
    "\n",
    "# REGLA DE LA FILA 7 (Fecha Deseada)\n",
    "def prioridad_fd(df):\n",
    "    df['Prioridad_fd'] = 0\n",
    "    df['Prioridad_fd'][df['FePrefEnt_Cab'].dt.year == anio_anterior] = obtener_prioridad(12)\n",
    "    df['Prioridad_fd'][(df['FePrefEnt_Cab'].dt.year == anio_actual) & (df['FePrefEnt_Cab'].dt.month < 4)] = obtener_prioridad(13)\n",
    "    df['Prioridad_fd'][(df['FePrefEnt_Cab'].dt.year == anio_actual) & (df['FePrefEnt_Cab'].dt.month < 7)] = obtener_prioridad(14)\n",
    "    df['Prioridad_fd'][(df['FePrefEnt_Cab'].dt.year == anio_actual) & (df['FePrefEnt_Cab'].dt.month < 10)] = obtener_prioridad(15)\n",
    "    df['Prioridad_fd'][(df['FePrefEnt_Cab'].dt.year == anio_actual) & (df['FePrefEnt_Cab'].dt.month > 10)] = obtener_prioridad(16)\n",
    "    return df\n",
    "\n",
    "\n",
    "def prioridad_yva(df):\n",
    "    df = prioridad_Clvt(df)\n",
    "    df= prioridad_ff(df)\n",
    "    df= prioridad_tc(df)\n",
    "    df = prioridad_fd(df)\n",
    "    df['Prioridad'] = df['Prioridad_Clvt'] + df['Prioridad_fd'] + df['Prioridad_ff'] + df['Prioridad_tc']\n",
    "    df.drop(columns=['Prioridad_Clvt', 'Prioridad_fd', 'Prioridad_ff', 'Prioridad_tc'], inplace= True)\n",
    "    \n",
    "    return df"
   ]
  },
  {
   "cell_type": "markdown",
   "metadata": {},
   "source": [
    "## YVA (DATA)"
   ]
  },
  {
   "cell_type": "code",
   "execution_count": 32,
   "metadata": {
    "scrolled": false
   },
   "outputs": [
    {
     "name": "stderr",
     "output_type": "stream",
     "text": [
      "C:\\ProgramData\\Anaconda3\\lib\\site-packages\\pandas\\core\\frame.py:4133: SettingWithCopyWarning: \n",
      "A value is trying to be set on a copy of a slice from a DataFrame\n",
      "\n",
      "See the caveats in the documentation: https://pandas.pydata.org/pandas-docs/stable/user_guide/indexing.html#returning-a-view-versus-a-copy\n",
      "  errors=errors,\n"
     ]
    }
   ],
   "source": [
    "# Obtengo las fechas de Inicio y Fin de Siembra temprana y tardía\n",
    "\n",
    "feZonas = zonas[['Sales Office description', 'Inicio ', 'Fin', 'Inicio .1', 'Fin.1']]\n",
    "\n",
    "feZonas.rename(columns= {'Sales Office description': 'Oficina_de_Venta', 'Inicio ':'Inicio Siembra Temprana',\n",
    "                         'Fin':'Fin Siembra Temprana', 'Inicio .1':'Inicio Siembra Tardia',\n",
    "                         'Fin.1':'Fin Siembra Tardia' },inplace=True)"
   ]
  },
  {
   "cell_type": "code",
   "execution_count": 33,
   "metadata": {
    "scrolled": false
   },
   "outputs": [],
   "source": [
    "# Obtengo la fecha a partir de la cuál cada centro puede recibir mercadería\n",
    "\n",
    "recep2 = recep[['ID', 'Recepción de bolsas']]\n",
    "\n",
    "recep2.rename(columns={'ID': 'Dest_Mcia', 'Recepción de bolsas': 'Fecha Recepcion'}, inplace= True)"
   ]
  },
  {
   "cell_type": "code",
   "execution_count": 34,
   "metadata": {},
   "outputs": [],
   "source": [
    "# Agrego a la YVA las fechas de siembra y de recepción\n",
    "\n",
    "data.rename(columns= {'Fe_entrega': 'Fe_entrega'},inplace=True)\n",
    "\n",
    "data = data.merge(feZonas, how='left', on= 'Oficina_de_Venta')\n",
    "\n",
    "data = data.merge(recep2, how='left', on= 'Dest_Mcia')"
   ]
  },
  {
   "cell_type": "code",
   "execution_count": 35,
   "metadata": {
    "scrolled": true
   },
   "outputs": [
    {
     "name": "stderr",
     "output_type": "stream",
     "text": [
      "C:\\ProgramData\\Anaconda3\\lib\\site-packages\\pandas\\core\\indexing.py:670: SettingWithCopyWarning: \n",
      "A value is trying to be set on a copy of a slice from a DataFrame\n",
      "\n",
      "See the caveats in the documentation: https://pandas.pydata.org/pandas-docs/stable/user_guide/indexing.html#returning-a-view-versus-a-copy\n",
      "  self._setitem_with_indexer(indexer, value)\n"
     ]
    }
   ],
   "source": [
    "# Completamos las fechas de recepción vacias y cambiamos las que no reciben\n",
    "\n",
    "recibe_siempre = pd.to_datetime(str(fecha_de_hoy.year) + '-01-01')\n",
    "\n",
    "no_recibe = pd.to_datetime(str(fecha_de_hoy.year) + '-12-31')\n",
    "\n",
    "# Si estan en nulo reciben siempre entoces lleno con 1 de enero\n",
    "\n",
    "data['Fecha Recepcion'].fillna(value= recibe_siempre, inplace=True)\n",
    "\n",
    "data['Recepcion'] = data['Fecha Recepcion']\n",
    "\n",
    "# Los que por alguna razon no reciben, tienen la razón en la columna, por lo que lo cambio\n",
    "# a fin de año.\n",
    "\n",
    "data['Fecha Recepcion'] = pd.to_datetime(data['Fecha Recepcion'], errors='coerce')\n",
    "\n",
    "reciben = data['Fecha Recepcion'][(data['Fecha Recepcion'].notna())].index.to_list()\n",
    "\n",
    "data.Recepcion.iloc[reciben] = 'Recibe'\n",
    "\n",
    "data['Fecha Recepcion'].fillna(no_recibe, inplace= True)"
   ]
  },
  {
   "cell_type": "code",
   "execution_count": 36,
   "metadata": {
    "scrolled": false
   },
   "outputs": [
    {
     "name": "stderr",
     "output_type": "stream",
     "text": [
      "C:\\ProgramData\\Anaconda3\\lib\\site-packages\\ipykernel_launcher.py:6: SettingWithCopyWarning: \n",
      "A value is trying to be set on a copy of a slice from a DataFrame\n",
      "\n",
      "See the caveats in the documentation: https://pandas.pydata.org/pandas-docs/stable/user_guide/indexing.html#returning-a-view-versus-a-copy\n",
      "  \n",
      "C:\\ProgramData\\Anaconda3\\lib\\site-packages\\ipykernel_launcher.py:21: SettingWithCopyWarning: \n",
      "A value is trying to be set on a copy of a slice from a DataFrame\n",
      "\n",
      "See the caveats in the documentation: https://pandas.pydata.org/pandas-docs/stable/user_guide/indexing.html#returning-a-view-versus-a-copy\n"
     ]
    }
   ],
   "source": [
    "# Marco los pedidos que tienen error en la fecha de entrega = Fecha de entrega < Fecha de Recepción\n",
    "\n",
    "data['ERROR_FECHA_ENTREGA'] = 'NO'\n",
    "\n",
    "data['ERROR_FECHA_ENTREGA'][(pd.to_datetime(data['Fe_entrega']) > pd.to_datetime(data['Inicio Siembra Temprana'])) | \n",
    "                            (pd.to_datetime(data['Fe_entrega']) < pd.to_datetime(data['Fecha Recepcion']))] = 'SI'\n",
    "\n",
    "# Separo aquellos pedidos flagueados con error en fecha de entrega porque en el output los voy a mostrar separados para que sean analizados\n",
    "\n",
    "error_fecha = data[data['ERROR_FECHA_ENTREGA'] == 'SI']\n",
    "\n",
    "error_fecha = error_fecha[['Doc_venta', 'Dest_Mcia', 'Material', 'SSU', 'Fe_entrega', 'Inicio Siembra Temprana', 'Fin Siembra Temprana',\n",
    "                           'Inicio Siembra Tardia', 'Fin Siembra Tardia', 'Recepcion', 'Fecha Recepcion', 'Status','BqEn', 'ERROR_FECHA_ENTREGA']]\n",
    "\n",
    "if not(calcular_fechas_erroneas):\n",
    "    \n",
    "    data = data[data['ERROR_FECHA_ENTREGA'] != 'SI']\n",
    "    \n",
    "else: \n",
    "    \n",
    "    data['Fe_entrega'][pd.to_datetime(data['Fe_entrega']) > pd.to_datetime(data['Inicio Siembra Temprana'])] = pd.to_datetime(data['Inicio Siembra Temprana']) - pd.Timedelta(value= 7, unit='D')"
   ]
  },
  {
   "cell_type": "code",
   "execution_count": 37,
   "metadata": {},
   "outputs": [],
   "source": [
    "if USAR_FECHA_SIEMBRA_TEMPRANA:\n",
    "    \n",
    "    yvaDK = data[['Doc_venta', 'ClVt', 'Solic', 'Nomb_Dest_Mcia', 'GClt', 'Dest_Mcia', 'Material', 'SSU', 'Oficina_de_Venta', 'Fe_entrega', 'Inicio Siembra Temprana', 'Fin Siembra Temprana', 'Inicio Siembra Tardia', 'Fin Siembra Tardia', 'Recepcion', 'Fecha Recepcion', 'FechaFact', 'FePrefEnt_Cab', 'Status','BqEn', 'ERROR_FECHA_ENTREGA']]\n",
    "    \n",
    "    yvaDK['Fe_entrega'] = yvaDK['Inicio Siembra Temprana']\n",
    "    \n",
    "    #ultimo_dia = yvaDK['Fin Siembra Temprana'].max() -> Comento esta linea porque genera que entren todos los pedidos\n",
    "\n",
    "elif USAR_FECHA_SIEMBRA_TARDIA:\n",
    "    \n",
    "    yvaDK = data[['Doc_venta', 'ClVt', 'Solic', 'Nomb_Dest_Mcia', 'GClt', 'Dest_Mcia', 'Material', 'SSU', 'Oficina_de_Venta', 'Fe_entrega', 'Inicio Siembra Temprana', 'Fin Siembra Temprana', 'Inicio Siembra Tardia', 'Fin Siembra Tardia', 'Recepcion', 'Fecha Recepcion', 'FechaFact', 'FePrefEnt_Cab', 'Status','BqEn', 'ERROR_FECHA_ENTREGA']]\n",
    "    \n",
    "    yvaDK['Fe_entrega'] = yvaDK['Inicio Siembra Tardia']\n",
    "    \n",
    "    #ultimo_dia = yvaDK['Fin Siembra Tardia'].max()\n",
    "\n",
    "else:\n",
    "    \n",
    "    yvaDK = data[['Doc_venta', 'ClVt', 'Solic', 'Nomb_Dest_Mcia', 'GClt', 'Dest_Mcia', 'Material', 'SSU', 'Oficina_de_Venta', 'Fe_entrega', 'Inicio Siembra Temprana', 'Fin Siembra Temprana', 'Inicio Siembra Tardia', 'Fin Siembra Tardia', 'Recepcion', 'Fecha Recepcion', 'Status', 'FechaFact', 'FePrefEnt_Cab','BqEn', 'ERROR_FECHA_ENTREGA']]\n",
    "\n",
    "yvaDK.rename(columns={'Nomb_Dest_Mcia': 'Cliente'}, inplace= True)\n"
   ]
  },
  {
   "cell_type": "code",
   "execution_count": 38,
   "metadata": {
    "scrolled": false
   },
   "outputs": [
    {
     "name": "stderr",
     "output_type": "stream",
     "text": [
      "C:\\ProgramData\\Anaconda3\\lib\\site-packages\\ipykernel_launcher.py:1: SettingWithCopyWarning: \n",
      "A value is trying to be set on a copy of a slice from a DataFrame.\n",
      "Try using .loc[row_indexer,col_indexer] = value instead\n",
      "\n",
      "See the caveats in the documentation: https://pandas.pydata.org/pandas-docs/stable/user_guide/indexing.html#returning-a-view-versus-a-copy\n",
      "  \"\"\"Entry point for launching an IPython kernel.\n",
      "C:\\ProgramData\\Anaconda3\\lib\\site-packages\\ipykernel_launcher.py:3: SettingWithCopyWarning: \n",
      "A value is trying to be set on a copy of a slice from a DataFrame.\n",
      "Try using .loc[row_indexer,col_indexer] = value instead\n",
      "\n",
      "See the caveats in the documentation: https://pandas.pydata.org/pandas-docs/stable/user_guide/indexing.html#returning-a-view-versus-a-copy\n",
      "  This is separate from the ipykernel package so we can avoid doing imports until\n",
      "C:\\ProgramData\\Anaconda3\\lib\\site-packages\\ipykernel_launcher.py:5: SettingWithCopyWarning: \n",
      "A value is trying to be set on a copy of a slice from a DataFrame.\n",
      "Try using .loc[row_indexer,col_indexer] = value instead\n",
      "\n",
      "See the caveats in the documentation: https://pandas.pydata.org/pandas-docs/stable/user_guide/indexing.html#returning-a-view-versus-a-copy\n",
      "  \"\"\"\n"
     ]
    },
    {
     "data": {
      "text/plain": [
       "array(['Reserva sin fac', 'Bloq Fac', 'Liberado'], dtype=object)"
      ]
     },
     "execution_count": 38,
     "metadata": {},
     "output_type": "execute_result"
    }
   ],
   "source": [
    "yvaDK['Fe_entrega'] = pd.to_datetime(yvaDK['Fe_entrega'])\n",
    "\n",
    "yvaDK['FePrefEnt_Cab'] = pd.to_datetime(yvaDK['FePrefEnt_Cab'])\n",
    "\n",
    "yvaDK['FechaFact'] = pd.to_datetime(yvaDK['FechaFact'])\n",
    "yvaDK['Status'].unique()"
   ]
  },
  {
   "cell_type": "code",
   "execution_count": 39,
   "metadata": {},
   "outputs": [
    {
     "data": {
      "text/html": [
       "<div>\n",
       "<style scoped>\n",
       "    .dataframe tbody tr th:only-of-type {\n",
       "        vertical-align: middle;\n",
       "    }\n",
       "\n",
       "    .dataframe tbody tr th {\n",
       "        vertical-align: top;\n",
       "    }\n",
       "\n",
       "    .dataframe thead th {\n",
       "        text-align: right;\n",
       "    }\n",
       "</style>\n",
       "<table border=\"1\" class=\"dataframe\">\n",
       "  <thead>\n",
       "    <tr style=\"text-align: right;\">\n",
       "      <th></th>\n",
       "      <th>Doc_venta</th>\n",
       "      <th>ClVt</th>\n",
       "      <th>Solic</th>\n",
       "      <th>Cliente</th>\n",
       "      <th>GClt</th>\n",
       "      <th>Dest_Mcia</th>\n",
       "      <th>Material</th>\n",
       "      <th>SSU</th>\n",
       "      <th>Oficina_de_Venta</th>\n",
       "      <th>Fe_entrega</th>\n",
       "      <th>...</th>\n",
       "      <th>Fin Siembra Temprana</th>\n",
       "      <th>Inicio Siembra Tardia</th>\n",
       "      <th>Fin Siembra Tardia</th>\n",
       "      <th>Recepcion</th>\n",
       "      <th>Fecha Recepcion</th>\n",
       "      <th>Status</th>\n",
       "      <th>FechaFact</th>\n",
       "      <th>FePrefEnt_Cab</th>\n",
       "      <th>BqEn</th>\n",
       "      <th>ERROR_FECHA_ENTREGA</th>\n",
       "    </tr>\n",
       "  </thead>\n",
       "  <tbody>\n",
       "    <tr>\n",
       "      <th>39</th>\n",
       "      <td>828355349</td>\n",
       "      <td>ZSCG</td>\n",
       "      <td>3077270</td>\n",
       "      <td>AGL SA</td>\n",
       "      <td>EF</td>\n",
       "      <td>1911491</td>\n",
       "      <td>12697670</td>\n",
       "      <td>67.5</td>\n",
       "      <td>NaN</td>\n",
       "      <td>2022-10-15</td>\n",
       "      <td>...</td>\n",
       "      <td>NaT</td>\n",
       "      <td>NaT</td>\n",
       "      <td>NaT</td>\n",
       "      <td>Recibe</td>\n",
       "      <td>2022-01-01</td>\n",
       "      <td>Reserva sin fac</td>\n",
       "      <td>NaT</td>\n",
       "      <td>2022-10-15</td>\n",
       "      <td>6</td>\n",
       "      <td>NO</td>\n",
       "    </tr>\n",
       "    <tr>\n",
       "      <th>40</th>\n",
       "      <td>828355349</td>\n",
       "      <td>ZSCG</td>\n",
       "      <td>3077270</td>\n",
       "      <td>AGL SA</td>\n",
       "      <td>EF</td>\n",
       "      <td>1911491</td>\n",
       "      <td>12787701</td>\n",
       "      <td>10.0</td>\n",
       "      <td>NaN</td>\n",
       "      <td>2022-10-15</td>\n",
       "      <td>...</td>\n",
       "      <td>NaT</td>\n",
       "      <td>NaT</td>\n",
       "      <td>NaT</td>\n",
       "      <td>Recibe</td>\n",
       "      <td>2022-01-01</td>\n",
       "      <td>Reserva sin fac</td>\n",
       "      <td>NaT</td>\n",
       "      <td>2022-10-15</td>\n",
       "      <td>6</td>\n",
       "      <td>NO</td>\n",
       "    </tr>\n",
       "    <tr>\n",
       "      <th>91</th>\n",
       "      <td>828355058</td>\n",
       "      <td>ZSCG</td>\n",
       "      <td>1911491</td>\n",
       "      <td>AGL SA</td>\n",
       "      <td>E2</td>\n",
       "      <td>1911491</td>\n",
       "      <td>30114421</td>\n",
       "      <td>160.0</td>\n",
       "      <td>NaN</td>\n",
       "      <td>2022-10-15</td>\n",
       "      <td>...</td>\n",
       "      <td>NaT</td>\n",
       "      <td>NaT</td>\n",
       "      <td>NaT</td>\n",
       "      <td>Recibe</td>\n",
       "      <td>2022-01-01</td>\n",
       "      <td>Reserva sin fac</td>\n",
       "      <td>NaT</td>\n",
       "      <td>2022-10-15</td>\n",
       "      <td>36</td>\n",
       "      <td>NO</td>\n",
       "    </tr>\n",
       "    <tr>\n",
       "      <th>92</th>\n",
       "      <td>828355058</td>\n",
       "      <td>ZSCG</td>\n",
       "      <td>1911491</td>\n",
       "      <td>AGL SA</td>\n",
       "      <td>E2</td>\n",
       "      <td>1911491</td>\n",
       "      <td>12787690</td>\n",
       "      <td>15.0</td>\n",
       "      <td>NaN</td>\n",
       "      <td>2022-10-15</td>\n",
       "      <td>...</td>\n",
       "      <td>NaT</td>\n",
       "      <td>NaT</td>\n",
       "      <td>NaT</td>\n",
       "      <td>Recibe</td>\n",
       "      <td>2022-01-01</td>\n",
       "      <td>Reserva sin fac</td>\n",
       "      <td>NaT</td>\n",
       "      <td>2022-10-15</td>\n",
       "      <td>36</td>\n",
       "      <td>NO</td>\n",
       "    </tr>\n",
       "    <tr>\n",
       "      <th>93</th>\n",
       "      <td>828355058</td>\n",
       "      <td>ZSCG</td>\n",
       "      <td>1911491</td>\n",
       "      <td>AGL SA</td>\n",
       "      <td>E2</td>\n",
       "      <td>1911491</td>\n",
       "      <td>30168271</td>\n",
       "      <td>7.5</td>\n",
       "      <td>NaN</td>\n",
       "      <td>2022-10-15</td>\n",
       "      <td>...</td>\n",
       "      <td>NaT</td>\n",
       "      <td>NaT</td>\n",
       "      <td>NaT</td>\n",
       "      <td>Recibe</td>\n",
       "      <td>2022-01-01</td>\n",
       "      <td>Reserva sin fac</td>\n",
       "      <td>NaT</td>\n",
       "      <td>2022-10-15</td>\n",
       "      <td>36</td>\n",
       "      <td>NO</td>\n",
       "    </tr>\n",
       "    <tr>\n",
       "      <th>...</th>\n",
       "      <td>...</td>\n",
       "      <td>...</td>\n",
       "      <td>...</td>\n",
       "      <td>...</td>\n",
       "      <td>...</td>\n",
       "      <td>...</td>\n",
       "      <td>...</td>\n",
       "      <td>...</td>\n",
       "      <td>...</td>\n",
       "      <td>...</td>\n",
       "      <td>...</td>\n",
       "      <td>...</td>\n",
       "      <td>...</td>\n",
       "      <td>...</td>\n",
       "      <td>...</td>\n",
       "      <td>...</td>\n",
       "      <td>...</td>\n",
       "      <td>...</td>\n",
       "      <td>...</td>\n",
       "      <td>...</td>\n",
       "      <td>...</td>\n",
       "    </tr>\n",
       "    <tr>\n",
       "      <th>26795</th>\n",
       "      <td>826982019</td>\n",
       "      <td>ZSCG</td>\n",
       "      <td>1797640</td>\n",
       "      <td>AGRO NOBLE SRL</td>\n",
       "      <td>EF</td>\n",
       "      <td>3266434</td>\n",
       "      <td>12820551</td>\n",
       "      <td>9.0</td>\n",
       "      <td>Cba Centro</td>\n",
       "      <td>2022-08-01</td>\n",
       "      <td>...</td>\n",
       "      <td>NaT</td>\n",
       "      <td>NaT</td>\n",
       "      <td>NaT</td>\n",
       "      <td>Recibe</td>\n",
       "      <td>2022-01-01</td>\n",
       "      <td>Bloq Fac</td>\n",
       "      <td>2019-04-26</td>\n",
       "      <td>2022-08-01</td>\n",
       "      <td>35</td>\n",
       "      <td>NO</td>\n",
       "    </tr>\n",
       "    <tr>\n",
       "      <th>26796</th>\n",
       "      <td>826961191</td>\n",
       "      <td>ZSCG</td>\n",
       "      <td>1802849</td>\n",
       "      <td>BELGRANO CEREALES S R L</td>\n",
       "      <td>EW</td>\n",
       "      <td>1802849</td>\n",
       "      <td>12820589</td>\n",
       "      <td>200.0</td>\n",
       "      <td>Nucleo y Cuenca</td>\n",
       "      <td>2022-08-11</td>\n",
       "      <td>...</td>\n",
       "      <td>NaT</td>\n",
       "      <td>NaT</td>\n",
       "      <td>NaT</td>\n",
       "      <td>Recibe</td>\n",
       "      <td>2022-01-01</td>\n",
       "      <td>Liberado</td>\n",
       "      <td>2019-05-31</td>\n",
       "      <td>2019-04-12</td>\n",
       "      <td>NaN</td>\n",
       "      <td>NO</td>\n",
       "    </tr>\n",
       "    <tr>\n",
       "      <th>26797</th>\n",
       "      <td>826953674</td>\n",
       "      <td>ZSCG</td>\n",
       "      <td>1853102</td>\n",
       "      <td>PELAYO AGRONOMIA S.A.</td>\n",
       "      <td>ET</td>\n",
       "      <td>1853102</td>\n",
       "      <td>12961873</td>\n",
       "      <td>100.0</td>\n",
       "      <td>Sur Cordoba-San Luis</td>\n",
       "      <td>2022-08-06</td>\n",
       "      <td>...</td>\n",
       "      <td>NaT</td>\n",
       "      <td>NaT</td>\n",
       "      <td>NaT</td>\n",
       "      <td>Recibe</td>\n",
       "      <td>2022-01-01</td>\n",
       "      <td>Bloq Fac</td>\n",
       "      <td>2019-04-10</td>\n",
       "      <td>2022-08-06</td>\n",
       "      <td>39</td>\n",
       "      <td>NO</td>\n",
       "    </tr>\n",
       "    <tr>\n",
       "      <th>26798</th>\n",
       "      <td>826893959</td>\n",
       "      <td>ZSCG</td>\n",
       "      <td>3571811</td>\n",
       "      <td>CENTRO AGROPECUARIO MODELO SA</td>\n",
       "      <td>EF</td>\n",
       "      <td>1805378</td>\n",
       "      <td>12264150</td>\n",
       "      <td>115.0</td>\n",
       "      <td>CBA SUR</td>\n",
       "      <td>2022-08-06</td>\n",
       "      <td>...</td>\n",
       "      <td>NaT</td>\n",
       "      <td>NaT</td>\n",
       "      <td>NaT</td>\n",
       "      <td>Recibe</td>\n",
       "      <td>2022-01-01</td>\n",
       "      <td>Bloq Fac</td>\n",
       "      <td>2019-02-21</td>\n",
       "      <td>2022-08-06</td>\n",
       "      <td>6</td>\n",
       "      <td>NO</td>\n",
       "    </tr>\n",
       "    <tr>\n",
       "      <th>26799</th>\n",
       "      <td>826893959</td>\n",
       "      <td>ZSCG</td>\n",
       "      <td>3571811</td>\n",
       "      <td>CENTRO AGROPECUARIO MODELO SA</td>\n",
       "      <td>EF</td>\n",
       "      <td>1805378</td>\n",
       "      <td>11759502</td>\n",
       "      <td>285.0</td>\n",
       "      <td>CBA SUR</td>\n",
       "      <td>2022-08-06</td>\n",
       "      <td>...</td>\n",
       "      <td>NaT</td>\n",
       "      <td>NaT</td>\n",
       "      <td>NaT</td>\n",
       "      <td>Recibe</td>\n",
       "      <td>2022-01-01</td>\n",
       "      <td>Bloq Fac</td>\n",
       "      <td>2019-02-21</td>\n",
       "      <td>2022-08-06</td>\n",
       "      <td>6</td>\n",
       "      <td>NO</td>\n",
       "    </tr>\n",
       "  </tbody>\n",
       "</table>\n",
       "<p>1352 rows × 21 columns</p>\n",
       "</div>"
      ],
      "text/plain": [
       "       Doc_venta  ClVt    Solic                        Cliente GClt  \\\n",
       "39     828355349  ZSCG  3077270                         AGL SA   EF   \n",
       "40     828355349  ZSCG  3077270                         AGL SA   EF   \n",
       "91     828355058  ZSCG  1911491                         AGL SA   E2   \n",
       "92     828355058  ZSCG  1911491                         AGL SA   E2   \n",
       "93     828355058  ZSCG  1911491                         AGL SA   E2   \n",
       "...          ...   ...      ...                            ...  ...   \n",
       "26795  826982019  ZSCG  1797640                 AGRO NOBLE SRL   EF   \n",
       "26796  826961191  ZSCG  1802849        BELGRANO CEREALES S R L   EW   \n",
       "26797  826953674  ZSCG  1853102          PELAYO AGRONOMIA S.A.   ET   \n",
       "26798  826893959  ZSCG  3571811  CENTRO AGROPECUARIO MODELO SA   EF   \n",
       "26799  826893959  ZSCG  3571811  CENTRO AGROPECUARIO MODELO SA   EF   \n",
       "\n",
       "       Dest_Mcia  Material    SSU      Oficina_de_Venta Fe_entrega  ...  \\\n",
       "39       1911491  12697670   67.5                   NaN 2022-10-15  ...   \n",
       "40       1911491  12787701   10.0                   NaN 2022-10-15  ...   \n",
       "91       1911491  30114421  160.0                   NaN 2022-10-15  ...   \n",
       "92       1911491  12787690   15.0                   NaN 2022-10-15  ...   \n",
       "93       1911491  30168271    7.5                   NaN 2022-10-15  ...   \n",
       "...          ...       ...    ...                   ...        ...  ...   \n",
       "26795    3266434  12820551    9.0            Cba Centro 2022-08-01  ...   \n",
       "26796    1802849  12820589  200.0       Nucleo y Cuenca 2022-08-11  ...   \n",
       "26797    1853102  12961873  100.0  Sur Cordoba-San Luis 2022-08-06  ...   \n",
       "26798    1805378  12264150  115.0               CBA SUR 2022-08-06  ...   \n",
       "26799    1805378  11759502  285.0               CBA SUR 2022-08-06  ...   \n",
       "\n",
       "      Fin Siembra Temprana Inicio Siembra Tardia Fin Siembra Tardia Recepcion  \\\n",
       "39                     NaT                   NaT                NaT    Recibe   \n",
       "40                     NaT                   NaT                NaT    Recibe   \n",
       "91                     NaT                   NaT                NaT    Recibe   \n",
       "92                     NaT                   NaT                NaT    Recibe   \n",
       "93                     NaT                   NaT                NaT    Recibe   \n",
       "...                    ...                   ...                ...       ...   \n",
       "26795                  NaT                   NaT                NaT    Recibe   \n",
       "26796                  NaT                   NaT                NaT    Recibe   \n",
       "26797                  NaT                   NaT                NaT    Recibe   \n",
       "26798                  NaT                   NaT                NaT    Recibe   \n",
       "26799                  NaT                   NaT                NaT    Recibe   \n",
       "\n",
       "      Fecha Recepcion           Status  FechaFact FePrefEnt_Cab BqEn  \\\n",
       "39         2022-01-01  Reserva sin fac        NaT    2022-10-15    6   \n",
       "40         2022-01-01  Reserva sin fac        NaT    2022-10-15    6   \n",
       "91         2022-01-01  Reserva sin fac        NaT    2022-10-15   36   \n",
       "92         2022-01-01  Reserva sin fac        NaT    2022-10-15   36   \n",
       "93         2022-01-01  Reserva sin fac        NaT    2022-10-15   36   \n",
       "...               ...              ...        ...           ...  ...   \n",
       "26795      2022-01-01         Bloq Fac 2019-04-26    2022-08-01   35   \n",
       "26796      2022-01-01         Liberado 2019-05-31    2019-04-12  NaN   \n",
       "26797      2022-01-01         Bloq Fac 2019-04-10    2022-08-06   39   \n",
       "26798      2022-01-01         Bloq Fac 2019-02-21    2022-08-06    6   \n",
       "26799      2022-01-01         Bloq Fac 2019-02-21    2022-08-06    6   \n",
       "\n",
       "      ERROR_FECHA_ENTREGA  \n",
       "39                     NO  \n",
       "40                     NO  \n",
       "91                     NO  \n",
       "92                     NO  \n",
       "93                     NO  \n",
       "...                   ...  \n",
       "26795                  NO  \n",
       "26796                  NO  \n",
       "26797                  NO  \n",
       "26798                  NO  \n",
       "26799                  NO  \n",
       "\n",
       "[1352 rows x 21 columns]"
      ]
     },
     "execution_count": 39,
     "metadata": {},
     "output_type": "execute_result"
    }
   ],
   "source": [
    "# Filtro del YVA los pedidos que se vencen en el tiempo que se eligio\n",
    "\n",
    "yvaDK = yvaDK[(yvaDK['Fe_entrega'] <= ultimo_dia) & (yvaDK['Fe_entrega'] >= fecha_de_hoy)]\n",
    "yvaDK\n"
   ]
  },
  {
   "cell_type": "code",
   "execution_count": 40,
   "metadata": {},
   "outputs": [
    {
     "name": "stderr",
     "output_type": "stream",
     "text": [
      "C:\\ProgramData\\Anaconda3\\lib\\site-packages\\ipykernel_launcher.py:22: SettingWithCopyWarning: \n",
      "A value is trying to be set on a copy of a slice from a DataFrame\n",
      "\n",
      "See the caveats in the documentation: https://pandas.pydata.org/pandas-docs/stable/user_guide/indexing.html#returning-a-view-versus-a-copy\n",
      "C:\\ProgramData\\Anaconda3\\lib\\site-packages\\ipykernel_launcher.py:23: SettingWithCopyWarning: \n",
      "A value is trying to be set on a copy of a slice from a DataFrame\n",
      "\n",
      "See the caveats in the documentation: https://pandas.pydata.org/pandas-docs/stable/user_guide/indexing.html#returning-a-view-versus-a-copy\n",
      "C:\\ProgramData\\Anaconda3\\lib\\site-packages\\ipykernel_launcher.py:24: SettingWithCopyWarning: \n",
      "A value is trying to be set on a copy of a slice from a DataFrame\n",
      "\n",
      "See the caveats in the documentation: https://pandas.pydata.org/pandas-docs/stable/user_guide/indexing.html#returning-a-view-versus-a-copy\n",
      "C:\\ProgramData\\Anaconda3\\lib\\site-packages\\ipykernel_launcher.py:31: SettingWithCopyWarning: \n",
      "A value is trying to be set on a copy of a slice from a DataFrame\n",
      "\n",
      "See the caveats in the documentation: https://pandas.pydata.org/pandas-docs/stable/user_guide/indexing.html#returning-a-view-versus-a-copy\n",
      "C:\\ProgramData\\Anaconda3\\lib\\site-packages\\ipykernel_launcher.py:32: SettingWithCopyWarning: \n",
      "A value is trying to be set on a copy of a slice from a DataFrame\n",
      "\n",
      "See the caveats in the documentation: https://pandas.pydata.org/pandas-docs/stable/user_guide/indexing.html#returning-a-view-versus-a-copy\n",
      "C:\\ProgramData\\Anaconda3\\lib\\site-packages\\ipykernel_launcher.py:41: SettingWithCopyWarning: \n",
      "A value is trying to be set on a copy of a slice from a DataFrame\n",
      "\n",
      "See the caveats in the documentation: https://pandas.pydata.org/pandas-docs/stable/user_guide/indexing.html#returning-a-view-versus-a-copy\n",
      "C:\\ProgramData\\Anaconda3\\lib\\site-packages\\ipykernel_launcher.py:42: SettingWithCopyWarning: \n",
      "A value is trying to be set on a copy of a slice from a DataFrame\n",
      "\n",
      "See the caveats in the documentation: https://pandas.pydata.org/pandas-docs/stable/user_guide/indexing.html#returning-a-view-versus-a-copy\n",
      "C:\\ProgramData\\Anaconda3\\lib\\site-packages\\ipykernel_launcher.py:43: SettingWithCopyWarning: \n",
      "A value is trying to be set on a copy of a slice from a DataFrame\n",
      "\n",
      "See the caveats in the documentation: https://pandas.pydata.org/pandas-docs/stable/user_guide/indexing.html#returning-a-view-versus-a-copy\n",
      "C:\\ProgramData\\Anaconda3\\lib\\site-packages\\ipykernel_launcher.py:54: SettingWithCopyWarning: \n",
      "A value is trying to be set on a copy of a slice from a DataFrame\n",
      "\n",
      "See the caveats in the documentation: https://pandas.pydata.org/pandas-docs/stable/user_guide/indexing.html#returning-a-view-versus-a-copy\n",
      "C:\\ProgramData\\Anaconda3\\lib\\site-packages\\ipykernel_launcher.py:55: SettingWithCopyWarning: \n",
      "A value is trying to be set on a copy of a slice from a DataFrame\n",
      "\n",
      "See the caveats in the documentation: https://pandas.pydata.org/pandas-docs/stable/user_guide/indexing.html#returning-a-view-versus-a-copy\n",
      "C:\\ProgramData\\Anaconda3\\lib\\site-packages\\ipykernel_launcher.py:56: SettingWithCopyWarning: \n",
      "A value is trying to be set on a copy of a slice from a DataFrame\n",
      "\n",
      "See the caveats in the documentation: https://pandas.pydata.org/pandas-docs/stable/user_guide/indexing.html#returning-a-view-versus-a-copy\n",
      "C:\\ProgramData\\Anaconda3\\lib\\site-packages\\ipykernel_launcher.py:57: SettingWithCopyWarning: \n",
      "A value is trying to be set on a copy of a slice from a DataFrame\n",
      "\n",
      "See the caveats in the documentation: https://pandas.pydata.org/pandas-docs/stable/user_guide/indexing.html#returning-a-view-versus-a-copy\n",
      "C:\\ProgramData\\Anaconda3\\lib\\site-packages\\ipykernel_launcher.py:58: SettingWithCopyWarning: \n",
      "A value is trying to be set on a copy of a slice from a DataFrame\n",
      "\n",
      "See the caveats in the documentation: https://pandas.pydata.org/pandas-docs/stable/user_guide/indexing.html#returning-a-view-versus-a-copy\n",
      "C:\\ProgramData\\Anaconda3\\lib\\site-packages\\pandas\\core\\indexing.py:670: SettingWithCopyWarning: \n",
      "A value is trying to be set on a copy of a slice from a DataFrame\n",
      "\n",
      "See the caveats in the documentation: https://pandas.pydata.org/pandas-docs/stable/user_guide/indexing.html#returning-a-view-versus-a-copy\n",
      "  self._setitem_with_indexer(indexer, value)\n",
      "C:\\ProgramData\\Anaconda3\\lib\\site-packages\\ipykernel_launcher.py:8: SettingWithCopyWarning: \n",
      "A value is trying to be set on a copy of a slice from a DataFrame\n",
      "\n",
      "See the caveats in the documentation: https://pandas.pydata.org/pandas-docs/stable/user_guide/indexing.html#returning-a-view-versus-a-copy\n",
      "  \n",
      "C:\\ProgramData\\Anaconda3\\lib\\site-packages\\ipykernel_launcher.py:11: SettingWithCopyWarning: \n",
      "A value is trying to be set on a copy of a slice from a DataFrame\n",
      "\n",
      "See the caveats in the documentation: https://pandas.pydata.org/pandas-docs/stable/user_guide/indexing.html#returning-a-view-versus-a-copy\n",
      "  # This is added back by InteractiveShellApp.init_path()\n",
      "C:\\ProgramData\\Anaconda3\\lib\\site-packages\\pandas\\core\\frame.py:4133: SettingWithCopyWarning: \n",
      "A value is trying to be set on a copy of a slice from a DataFrame\n",
      "\n",
      "See the caveats in the documentation: https://pandas.pydata.org/pandas-docs/stable/user_guide/indexing.html#returning-a-view-versus-a-copy\n",
      "  errors=errors,\n",
      "C:\\ProgramData\\Anaconda3\\lib\\site-packages\\ipykernel_launcher.py:19: SettingWithCopyWarning: \n",
      "A value is trying to be set on a copy of a slice from a DataFrame.\n",
      "Try using .loc[row_indexer,col_indexer] = value instead\n",
      "\n",
      "See the caveats in the documentation: https://pandas.pydata.org/pandas-docs/stable/user_guide/indexing.html#returning-a-view-versus-a-copy\n",
      "C:\\ProgramData\\Anaconda3\\lib\\site-packages\\ipykernel_launcher.py:20: SettingWithCopyWarning: \n",
      "A value is trying to be set on a copy of a slice from a DataFrame.\n",
      "Try using .loc[row_indexer,col_indexer] = value instead\n",
      "\n",
      "See the caveats in the documentation: https://pandas.pydata.org/pandas-docs/stable/user_guide/indexing.html#returning-a-view-versus-a-copy\n",
      "C:\\ProgramData\\Anaconda3\\lib\\site-packages\\ipykernel_launcher.py:21: SettingWithCopyWarning: \n",
      "A value is trying to be set on a copy of a slice from a DataFrame.\n",
      "Try using .loc[row_indexer,col_indexer] = value instead\n",
      "\n",
      "See the caveats in the documentation: https://pandas.pydata.org/pandas-docs/stable/user_guide/indexing.html#returning-a-view-versus-a-copy\n",
      "C:\\ProgramData\\Anaconda3\\lib\\site-packages\\ipykernel_launcher.py:22: SettingWithCopyWarning: \n",
      "A value is trying to be set on a copy of a slice from a DataFrame.\n",
      "Try using .loc[row_indexer,col_indexer] = value instead\n",
      "\n",
      "See the caveats in the documentation: https://pandas.pydata.org/pandas-docs/stable/user_guide/indexing.html#returning-a-view-versus-a-copy\n"
     ]
    },
    {
     "data": {
      "text/plain": [
       "array(['Reserva sin fac', 'Liberado', 'Bloq Fac'], dtype=object)"
      ]
     },
     "execution_count": 40,
     "metadata": {},
     "output_type": "execute_result"
    }
   ],
   "source": [
    "# Se agrega a la YVA el GClt\n",
    "\n",
    "# CAMBIO ACÁ\n",
    "#maestro = maestro[['Solic', 'GClt']]\n",
    "\n",
    "#yvaDK = yvaDK.merge(maestro, on='Solic', how='left')\n",
    "\n",
    "# Asigno prioridad a los pedidos\n",
    "\n",
    "yvaDK = prioridad_yva(yvaDK)\n",
    "\n",
    "despachos = asignar_fechas_entrega(yvatr)\n",
    "\n",
    "#despachos = despachos.merge(maestro, on='Solic', how='left')\n",
    "\n",
    "despachos = despachos.merge(feZonas, how='left', on= 'Oficina_de_Venta')\n",
    "\n",
    "despachos = despachos.merge(recep2, how='left', on= 'Dest_Mcia')\n",
    "yvaDK['Status'].unique()"
   ]
  },
  {
   "cell_type": "code",
   "execution_count": 41,
   "metadata": {},
   "outputs": [],
   "source": [
    "#Los que tienen fecha de recepción\n",
    "despachos['Fecha Recepcion'] = pd.to_datetime(data['Fecha Recepcion'], errors='coerce')\n",
    "\n",
    "despachos['Fecha Recepcion'].fillna(value= fecha_de_hoy, inplace=True)"
   ]
  },
  {
   "cell_type": "code",
   "execution_count": 42,
   "metadata": {},
   "outputs": [],
   "source": [
    "#Chequeo que haya envios para que no pinche y concateno\n",
    "\n",
    "if(len(despachos) > 0):\n",
    "    despachos = despachos[['Doc_venta', 'ClVt', 'Solic', 'Cliente', 'GClt', 'Dest_Mcia',\n",
    "       'Material', 'SSU', 'Oficina_de_Venta', 'Fe_entrega', 'Inicio Siembra Temprana',\n",
    "       'Fin Siembra Temprana', 'Inicio Siembra Tardia', 'Fin Siembra Tardia', 'Recepcion',\n",
    "       'Fecha Recepcion', 'Status', 'FechaFact', 'FePrefEnt_Cab', 'BqEn',\n",
    "       'ERROR_FECHA_ENTREGA', 'Prioridad']]\n",
    "    # Se agregan los despachos a la YVA\n",
    "    yvaDK = yvaDK.append(despachos, ignore_index=True)"
   ]
  },
  {
   "cell_type": "code",
   "execution_count": 43,
   "metadata": {},
   "outputs": [],
   "source": [
    "# Dejo las prioridades entre 1 y 10\n",
    "#yvaDK['Prioridad'] = 1 + ( (( yvaDK['Prioridad'] - yvaDK['Prioridad'].min()) * (10 - 1)) / (yvaDK['Prioridad'].max() - yvaDK['Prioridad'].min()))"
   ]
  },
  {
   "cell_type": "code",
   "execution_count": 44,
   "metadata": {
    "code_folding": []
   },
   "outputs": [
    {
     "name": "stderr",
     "output_type": "stream",
     "text": [
      "C:\\ProgramData\\Anaconda3\\lib\\site-packages\\ipykernel_launcher.py:3: SettingWithCopyWarning: \n",
      "A value is trying to be set on a copy of a slice from a DataFrame\n",
      "\n",
      "See the caveats in the documentation: https://pandas.pydata.org/pandas-docs/stable/user_guide/indexing.html#returning-a-view-versus-a-copy\n",
      "  This is separate from the ipykernel package so we can avoid doing imports until\n"
     ]
    }
   ],
   "source": [
    "# Si hay un pedido pendiente con fecha pasada, se le reasigna la fecha de entrega al último día de los que tomé\n",
    "\n",
    "yvaDK['Fe_entrega'][yvaDK['Fe_entrega'] <= datetime.datetime.today()] = proximo_dia_habil(fecha_de_hoy, 7)#pd.to_datetime('20/06/2021')\n",
    "\n",
    "# Hago un nuevo DF con el material en stock del material solicitado en el pedido\n",
    "\n",
    "yvaDK = yvaDK.merge(yq10_nueva,how= 'left', on='Material' )"
   ]
  },
  {
   "cell_type": "code",
   "execution_count": 45,
   "metadata": {
    "scrolled": true
   },
   "outputs": [
    {
     "name": "stderr",
     "output_type": "stream",
     "text": [
      "C:\\ProgramData\\Anaconda3\\lib\\site-packages\\pandas\\core\\generic.py:6245: SettingWithCopyWarning: \n",
      "A value is trying to be set on a copy of a slice from a DataFrame\n",
      "\n",
      "See the caveats in the documentation: https://pandas.pydata.org/pandas-docs/stable/user_guide/indexing.html#returning-a-view-versus-a-copy\n",
      "  self._update_inplace(new_data)\n"
     ]
    },
    {
     "data": {
      "text/html": [
       "<div>\n",
       "<style scoped>\n",
       "    .dataframe tbody tr th:only-of-type {\n",
       "        vertical-align: middle;\n",
       "    }\n",
       "\n",
       "    .dataframe tbody tr th {\n",
       "        vertical-align: top;\n",
       "    }\n",
       "\n",
       "    .dataframe thead th {\n",
       "        text-align: right;\n",
       "    }\n",
       "</style>\n",
       "<table border=\"1\" class=\"dataframe\">\n",
       "  <thead>\n",
       "    <tr style=\"text-align: right;\">\n",
       "      <th></th>\n",
       "      <th>Doc_venta</th>\n",
       "      <th>ClVt</th>\n",
       "      <th>Solic</th>\n",
       "      <th>Cliente</th>\n",
       "      <th>GClt</th>\n",
       "      <th>Dest_Mcia</th>\n",
       "      <th>Material</th>\n",
       "      <th>SSU</th>\n",
       "      <th>Oficina_de_Venta</th>\n",
       "      <th>Fe_entrega</th>\n",
       "      <th>...</th>\n",
       "      <th>Fin Siembra Tardia</th>\n",
       "      <th>Recepcion</th>\n",
       "      <th>Fecha Recepcion</th>\n",
       "      <th>Status</th>\n",
       "      <th>FechaFact</th>\n",
       "      <th>FePrefEnt_Cab</th>\n",
       "      <th>BqEn</th>\n",
       "      <th>ERROR_FECHA_ENTREGA</th>\n",
       "      <th>Prioridad</th>\n",
       "      <th>Cantidad_Total</th>\n",
       "    </tr>\n",
       "  </thead>\n",
       "  <tbody>\n",
       "    <tr>\n",
       "      <th>0</th>\n",
       "      <td>828355349</td>\n",
       "      <td>ZSCG</td>\n",
       "      <td>3077270</td>\n",
       "      <td>AGL SA</td>\n",
       "      <td>EF</td>\n",
       "      <td>1911491</td>\n",
       "      <td>12697670</td>\n",
       "      <td>67.5</td>\n",
       "      <td>NaN</td>\n",
       "      <td>2022-10-15</td>\n",
       "      <td>...</td>\n",
       "      <td>NaT</td>\n",
       "      <td>Recibe</td>\n",
       "      <td>2022-01-01</td>\n",
       "      <td>Reserva sin fac</td>\n",
       "      <td>NaT</td>\n",
       "      <td>2022-10-15</td>\n",
       "      <td>6</td>\n",
       "      <td>NO</td>\n",
       "      <td>507.81250</td>\n",
       "      <td>15663.75</td>\n",
       "    </tr>\n",
       "    <tr>\n",
       "      <th>1</th>\n",
       "      <td>828355349</td>\n",
       "      <td>ZSCG</td>\n",
       "      <td>3077270</td>\n",
       "      <td>AGL SA</td>\n",
       "      <td>EF</td>\n",
       "      <td>1911491</td>\n",
       "      <td>12787701</td>\n",
       "      <td>10.0</td>\n",
       "      <td>NaN</td>\n",
       "      <td>2022-10-15</td>\n",
       "      <td>...</td>\n",
       "      <td>NaT</td>\n",
       "      <td>Recibe</td>\n",
       "      <td>2022-01-01</td>\n",
       "      <td>Reserva sin fac</td>\n",
       "      <td>NaT</td>\n",
       "      <td>2022-10-15</td>\n",
       "      <td>6</td>\n",
       "      <td>NO</td>\n",
       "      <td>507.81250</td>\n",
       "      <td>6457.00</td>\n",
       "    </tr>\n",
       "    <tr>\n",
       "      <th>2</th>\n",
       "      <td>828355058</td>\n",
       "      <td>ZSCG</td>\n",
       "      <td>1911491</td>\n",
       "      <td>AGL SA</td>\n",
       "      <td>E2</td>\n",
       "      <td>1911491</td>\n",
       "      <td>30114421</td>\n",
       "      <td>160.0</td>\n",
       "      <td>NaN</td>\n",
       "      <td>2022-10-15</td>\n",
       "      <td>...</td>\n",
       "      <td>NaT</td>\n",
       "      <td>Recibe</td>\n",
       "      <td>2022-01-01</td>\n",
       "      <td>Reserva sin fac</td>\n",
       "      <td>NaT</td>\n",
       "      <td>2022-10-15</td>\n",
       "      <td>36</td>\n",
       "      <td>NO</td>\n",
       "      <td>503.90625</td>\n",
       "      <td>0.00</td>\n",
       "    </tr>\n",
       "    <tr>\n",
       "      <th>3</th>\n",
       "      <td>828355058</td>\n",
       "      <td>ZSCG</td>\n",
       "      <td>1911491</td>\n",
       "      <td>AGL SA</td>\n",
       "      <td>E2</td>\n",
       "      <td>1911491</td>\n",
       "      <td>12787690</td>\n",
       "      <td>15.0</td>\n",
       "      <td>NaN</td>\n",
       "      <td>2022-10-15</td>\n",
       "      <td>...</td>\n",
       "      <td>NaT</td>\n",
       "      <td>Recibe</td>\n",
       "      <td>2022-01-01</td>\n",
       "      <td>Reserva sin fac</td>\n",
       "      <td>NaT</td>\n",
       "      <td>2022-10-15</td>\n",
       "      <td>36</td>\n",
       "      <td>NO</td>\n",
       "      <td>503.90625</td>\n",
       "      <td>38609.00</td>\n",
       "    </tr>\n",
       "    <tr>\n",
       "      <th>4</th>\n",
       "      <td>828355058</td>\n",
       "      <td>ZSCG</td>\n",
       "      <td>1911491</td>\n",
       "      <td>AGL SA</td>\n",
       "      <td>E2</td>\n",
       "      <td>1911491</td>\n",
       "      <td>30168271</td>\n",
       "      <td>7.5</td>\n",
       "      <td>NaN</td>\n",
       "      <td>2022-10-15</td>\n",
       "      <td>...</td>\n",
       "      <td>NaT</td>\n",
       "      <td>Recibe</td>\n",
       "      <td>2022-01-01</td>\n",
       "      <td>Reserva sin fac</td>\n",
       "      <td>NaT</td>\n",
       "      <td>2022-10-15</td>\n",
       "      <td>36</td>\n",
       "      <td>NO</td>\n",
       "      <td>503.90625</td>\n",
       "      <td>1601.25</td>\n",
       "    </tr>\n",
       "  </tbody>\n",
       "</table>\n",
       "<p>5 rows × 23 columns</p>\n",
       "</div>"
      ],
      "text/plain": [
       "   Doc_venta  ClVt    Solic Cliente GClt  Dest_Mcia  Material    SSU  \\\n",
       "0  828355349  ZSCG  3077270  AGL SA   EF    1911491  12697670   67.5   \n",
       "1  828355349  ZSCG  3077270  AGL SA   EF    1911491  12787701   10.0   \n",
       "2  828355058  ZSCG  1911491  AGL SA   E2    1911491  30114421  160.0   \n",
       "3  828355058  ZSCG  1911491  AGL SA   E2    1911491  12787690   15.0   \n",
       "4  828355058  ZSCG  1911491  AGL SA   E2    1911491  30168271    7.5   \n",
       "\n",
       "  Oficina_de_Venta Fe_entrega  ... Fin Siembra Tardia Recepcion  \\\n",
       "0              NaN 2022-10-15  ...                NaT    Recibe   \n",
       "1              NaN 2022-10-15  ...                NaT    Recibe   \n",
       "2              NaN 2022-10-15  ...                NaT    Recibe   \n",
       "3              NaN 2022-10-15  ...                NaT    Recibe   \n",
       "4              NaN 2022-10-15  ...                NaT    Recibe   \n",
       "\n",
       "  Fecha Recepcion           Status FechaFact FePrefEnt_Cab BqEn  \\\n",
       "0      2022-01-01  Reserva sin fac       NaT    2022-10-15    6   \n",
       "1      2022-01-01  Reserva sin fac       NaT    2022-10-15    6   \n",
       "2      2022-01-01  Reserva sin fac       NaT    2022-10-15   36   \n",
       "3      2022-01-01  Reserva sin fac       NaT    2022-10-15   36   \n",
       "4      2022-01-01  Reserva sin fac       NaT    2022-10-15   36   \n",
       "\n",
       "  ERROR_FECHA_ENTREGA  Prioridad Cantidad_Total  \n",
       "0                  NO  507.81250       15663.75  \n",
       "1                  NO  507.81250        6457.00  \n",
       "2                  NO  503.90625           0.00  \n",
       "3                  NO  503.90625       38609.00  \n",
       "4                  NO  503.90625        1601.25  \n",
       "\n",
       "[5 rows x 23 columns]"
      ]
     },
     "execution_count": 45,
     "metadata": {},
     "output_type": "execute_result"
    }
   ],
   "source": [
    "# Separo los pedidos liberados de los bloqueados ya que se van a correr de forma separada\n",
    "\n",
    "liberados = yvaDK[yvaDK['Status'] == 'Liberado']\n",
    "\n",
    "bloqueados = yvaDK[yvaDK['Status'] != 'Liberado']\n",
    "# Cambio los NaN por ceros\n",
    "liberados.fillna(value= {'Cantidad_Total': 0} , inplace= True)\n",
    "\n",
    "bloqueados.fillna(value= {'Cantidad_Total': 0} , inplace= True)\n",
    "bloqueados.head()\n"
   ]
  },
  {
   "cell_type": "markdown",
   "metadata": {},
   "source": [
    "#### ----------------------------------------------------COSAS PARA TESTEAR - COMIENZO------------------------------------------------------------------------------"
   ]
  },
  {
   "cell_type": "markdown",
   "metadata": {},
   "source": [
    "#### --------------------------------------------COSAS PARA TESTEAR - FIN-------------------------------------------------------------------------------------------------"
   ]
  },
  {
   "cell_type": "code",
   "execution_count": 46,
   "metadata": {},
   "outputs": [],
   "source": [
    "# Reseteo los indices para que queden ordenados para usarlos sin problema\n",
    "\n",
    "liberados.reset_index(inplace= True,drop= True)\n",
    "\n",
    "yq10_final = yq10_final[yq10_final['SSU'] >= 0]\n",
    "\n",
    "yq10_final.reset_index(inplace= True, drop= True)"
   ]
  },
  {
   "cell_type": "markdown",
   "metadata": {},
   "source": [
    "## CPLEX"
   ]
  },
  {
   "cell_type": "code",
   "execution_count": 47,
   "metadata": {},
   "outputs": [],
   "source": [
    "# Listas que voy a utilizar para armar las variables que necesita el modelo\n",
    "\n",
    "indices_yq10 = yq10_final.index.to_list()\n",
    "\n",
    "yq10_final['Indice_Modelo'] = indices_yq10\n",
    "\n",
    "pedidos_unicos = liberados['Doc_venta'].unique()"
   ]
  },
  {
   "cell_type": "code",
   "execution_count": 48,
   "metadata": {},
   "outputs": [],
   "source": [
    "modelo = Model(name=\"pedidos\")"
   ]
  },
  {
   "cell_type": "code",
   "execution_count": 49,
   "metadata": {},
   "outputs": [],
   "source": [
    "# Una variable binaria por cada pedido que indica si será despachado o no\n",
    "\n",
    "binarios = modelo.binary_var_dict(pedidos_unicos)\n",
    "\n",
    "# Una variable discreta por cada material (producto) que indica cuanto se va a despachar\n",
    "\n",
    "#cant_material_a_despachar = modelo.integer_var_dict(indices_yq10)\n",
    "cant_material_a_despachar = modelo.continuous_var_dict(indices_yq10)"
   ]
  },
  {
   "cell_type": "code",
   "execution_count": 50,
   "metadata": {},
   "outputs": [],
   "source": [
    "yq10_final['SSU'] = (yq10_final['SSU']).astype(int)"
   ]
  },
  {
   "cell_type": "markdown",
   "metadata": {},
   "source": [
    "## CONSTRAINTS"
   ]
  },
  {
   "cell_type": "code",
   "execution_count": 51,
   "metadata": {},
   "outputs": [],
   "source": [
    "materiales_pedidos = liberados['Material'].unique()"
   ]
  },
  {
   "cell_type": "code",
   "execution_count": 52,
   "metadata": {},
   "outputs": [],
   "source": [
    "promedio_despacho = liberados['SSU'].mean()"
   ]
  },
  {
   "cell_type": "code",
   "execution_count": 53,
   "metadata": {},
   "outputs": [],
   "source": [
    "dias_df = pd.DataFrame({'Fecha' : pd.date_range(fecha_de_hoy, ultimo_dia, freq='D')})\n",
    "\n",
    "def constraint_3(model,yq10_,yva_):\n",
    "    \n",
    "    yvaCons = yva_.copy(deep=True)\n",
    "    yq10Cons = yq10_.copy(deep=True)\n",
    "    pedKeys = list(binarios.keys()).copy()\n",
    "    pedVals = list(binarios.values()).copy()\n",
    "    stockKeys = list(cant_material_a_despachar.keys()).copy()\n",
    "    stockVals = list(cant_material_a_despachar.values()).copy()\n",
    "    \n",
    "    materiales_pedidos = yvaCons['Material'].unique()\n",
    "    dfBin = pd.DataFrame({'Doc_venta': pedKeys, 'Despacho': pedVals})\n",
    "    stockCons = pd.DataFrame({'Indice_Modelo': stockKeys, 'Despacho': stockVals})\n",
    "\n",
    "    dfResult = pd.DataFrame(columns=['Fecha', 'cumSumStock', 'cumSumDesp', 'Resta', 'RestaMin'])\n",
    "    \n",
    "    for m in materiales_pedidos:\n",
    "        \n",
    "        pedidos_por_material = yvaCons[['Fe_entrega', 'Doc_venta', 'SSU', 'Material']][yvaCons['Material'] == m]\n",
    "        pedidos_por_material = pedidos_por_material.merge(dfBin, how='left', on='Doc_venta', copy=False)\n",
    "        pedidos_por_material['Fe_entrega'] = pd.to_datetime(pedidos_por_material['Fe_entrega'])\n",
    "        \n",
    "        pedidos_por_material['cantPorDesp'] = pedidos_por_material['SSU'] * pedidos_por_material['Despacho']\n",
    "        \n",
    "        pedidos_mat_dia = dias_df.merge(pedidos_por_material, how='left', left_on='Fecha', right_on ='Fe_entrega').fillna(0)\n",
    "        \n",
    "        dfResult_mat = pedidos_mat_dia[['Fecha', 'cantPorDesp']]\n",
    "        dfResult_mat = dfResult_mat.groupby(by='Fecha').sum().reset_index()\n",
    "        dfResult_mat['cumSumDesp'] = np.cumsum(dfResult_mat['cantPorDesp'])\n",
    "        \n",
    "        \n",
    "        stock_por_material = yq10Cons[['FECHA_DISPONIBILIDAD', 'Indice_Modelo']][(yq10Cons['MATERIAL'] == m) & (yq10Cons['CENTRO'] == 6009)]\n",
    "        stock_por_material = stock_por_material.merge(stockCons, how='left', on='Indice_Modelo', copy=False)\n",
    "        \n",
    "        stock_mat_dia = dias_df.merge(stock_por_material, how='left', left_on='Fecha', right_on ='FECHA_DISPONIBILIDAD').fillna(0)\n",
    "        \n",
    "        dfResult_stock = stock_mat_dia[['Fecha', 'Despacho']]\n",
    "        dfResult_stock = dfResult_stock.groupby(by='Fecha').sum().reset_index()\n",
    "        dfResult_stock['cumSumStock'] = np.cumsum(dfResult_stock['Despacho'])\n",
    "        \n",
    "        dfResult_p = dfResult_stock[['Fecha', 'cumSumStock']].merge(dfResult_mat[['Fecha', 'cumSumDesp']], how='left', on='Fecha', copy=False)\n",
    "        dfResult_p['Resta'] = np.nan\n",
    "        #dfResult_p['RestaMax'] = np.nan\n",
    "        \n",
    "        for idx, row in dfResult_p.iterrows():\n",
    "            dfResult_p['Resta'].iloc[idx] = dfResult_p['cumSumDesp'].iloc[idx] - dfResult_p['cumSumStock'].iloc[idx]\n",
    "            #dfResult_p['RestaMax'].iloc[idx] = model.max(dfResult_p['Resta'].iloc[idx],0)\n",
    "        \n",
    "        dfResult = dfResult.append(dfResult_p, ignore_index=True)\n",
    "        \n",
    "    dfResult_final = dfResult.groupby(by='Fecha').sum().reset_index()\n",
    "    \n",
    "    for idx, row in dfResult_final.iterrows():\n",
    "        difDias = np.busday_count(fecha_de_hoy.date(), pd.to_datetime(dfResult_final['Fecha'].iloc[idx]).date())\n",
    "        reapPosible = capacidad_reap_por_dia * difDias\n",
    "        model.add_constraint(dfResult_p['Resta'].iloc[idx] <= reapPosible)"
   ]
  },
  {
   "cell_type": "code",
   "execution_count": 54,
   "metadata": {},
   "outputs": [],
   "source": [
    "# Armo constraint para que la cantidad a despachar de un material no supere la cantidad disponible de ese material\n",
    "def constraint_1(model,yq10_):\n",
    "    for ind in list(cant_material_a_despachar.keys()):\n",
    "        model.add_constraint(cant_material_a_despachar[ind] <= yq10_['SSU'].iloc[ind])\n",
    "        \n",
    "        \n",
    "# Armo una constraint para que la suma de la cantidad a despachar por cada material sea igual a la cantidad que hay que despachar\n",
    "def constraint_2(model,yq10_,yva_):\n",
    "    for mat in yq10_['MATERIAL'].unique():\n",
    "        # Armo un DF filtrado por un material (me trae las distintas calidades de ese material)\n",
    "        materiales = yq10_[yq10_['MATERIAL'] == mat]\n",
    "        # Armo un DF de los pedidos filtrado por un material\n",
    "        yva = yva_[yva_['Material'] == mat]\n",
    "        pedidos = yva['Doc_venta'].unique()\n",
    "        # Armo una lista con los indices asi despues los busco en mis variables enteras\n",
    "        lista_indices = materiales.index\n",
    "        \n",
    "        model.add_constraint(model.sum(cant_material_a_despachar[ind] for ind in lista_indices) \n",
    "                              == model.sum(binarios[ped] * yva['SSU'][(yva['Doc_venta'] == ped) & (yva['Material'] == mat)].sum()\n",
    "                                           for ped in pedidos))\n",
    "        \n",
    "        \n",
    "# Constraint para asegurar que no se pueda superar la capacidad de REAP por día\n",
    "# def constraint_3(model,yq10_,yva_):\n",
    "#     dias_con_pedido = (yva_['Fe_entrega'].unique()).astype(str)\n",
    "#     dias_con_pedido = pd.to_datetime(dias_con_pedido)\n",
    "#     for fecha in dias_con_pedido:\n",
    "#         diferencia_dias = np.busday_count(fecha_de_hoy.date(), fecha.date())\n",
    "#         yva = yva_[yva_['Fe_entrega'] == fecha]\n",
    "#         yq10 = yq10_[yq10_['FECHA_DISPONIBILIDAD'] <= fecha]\n",
    "#         nro_pedidos = yva['Doc_venta'].unique() #Son los numeros de pedidos de cada día\n",
    "#         mat_yva = yva['Material'].unique()\n",
    "\n",
    "#         model.add_constraint(model.sum((binarios[ped] * yva['SSU'][(yva['Doc_venta'] == ped) & (yva['Material'] == mat)].sum()) \n",
    "#                    - (yq10['SSU'][(yq10['CENTRO'] == 6009) & (yq10['MATERIAL'] == mat)].sum())\n",
    "#                    for mat in mat_yva for ped in nro_pedidos) <= (capacidad_reap_por_dia * (diferencia_dias + 1)))   \n",
    "        \n",
    "\n",
    "             \n",
    "# Por cada material, chequea que la suma de las cantidades por pedido de ese material sea menor o igual \n",
    "# al stock\n",
    "def constraint_4(model,yq10_,yva_):\n",
    "    materiales_pedidos = yva_['Material'].unique()\n",
    "    for m in materiales_pedidos:\n",
    "        yva2 = yva_[yva_['Material'] == m]\n",
    "        dias_distintos = (yva2['Fe_entrega'].unique()).astype(str)\n",
    "        dias_distintos = pd.to_datetime(dias_distintos)\n",
    "        for dia in dias_distintos:\n",
    "            yva_fecha = yva2[yva2['Fe_entrega'] <= dia]\n",
    "            unicos = yva_fecha['Doc_venta'].unique()\n",
    "            yq10_fecha = yq10_[(yq10_['FECHA_DISPONIBILIDAD'] <= dia) & (yq10_['MATERIAL'] == m)]\n",
    "            indices_disp = yq10_fecha['Indice_Modelo'].unique()\n",
    "            model.add_constraint(model.sum(binarios[p] * (yva_fecha['SSU'][(yva_fecha['Doc_venta'] == p)].sum()) \n",
    "                                             for p in unicos) <= (model.sum(cant_material_a_despachar[ind] for ind in indices_disp)))\n",
    "# Con la ultima linea me aseguro que la suma de lo que se va a sacar, sea menor al stock que hay \n",
    "\n",
    "\n",
    "# El problema de esta constraint es que: por ahi se descartan pedidos por no poder satisfacerlos un dia pero se podria despachar de a poco en dias anteriores\n",
    "# Se asegura que por día, no se pueda despachar mas que el máximo\n",
    "def constraint_5(model,yva_):\n",
    "    dias_con_peido = yva_['Fe_entrega'].unique()\n",
    "    for fecha in dias_con_peido:\n",
    "        #diferencia_dias = np.busday_count(fecha_de_hoy.date(), fecha.date())\n",
    "        diferencia_dias = np.busday_count(fecha_de_hoy.date(), pd.to_datetime(fecha).date())\n",
    "        yva = yva_[yva_['Fe_entrega'] == fecha]\n",
    "        numeros_pedidos = yva['Doc_venta'].unique()\n",
    "        model.add_constraint((model.sum(binarios[i] * yva['SSU'][(yva['Doc_venta'] == i)].sum() \n",
    "                                          for i in numeros_pedidos)) <= capacidad_despacho_por_dia * diferencia_dias)\n",
    "        \n",
    "        \n",
    "# La suma de SSU de todos los materiales no puede superar la maxima cantidad por dia * cantidad de dias que estoy tomando\n",
    "#def constraint_6(model,yva_):\n",
    "#    model.add_constraint((model.sum(binarios[i] * yva_['SSU'][(yva_['Doc_venta'] == i)].sum() \n",
    "#                                      for i in binarios)) <= (dias_habiles_disponibles * capacidad_despacho_por_dia))"
   ]
  },
  {
   "cell_type": "code",
   "execution_count": 55,
   "metadata": {},
   "outputs": [],
   "source": [
    "dias_distintos = (liberados['Fe_entrega'].unique()).astype(str)\n",
    "dias_distintos = pd.to_datetime(dias_distintos)"
   ]
  },
  {
   "cell_type": "code",
   "execution_count": 56,
   "metadata": {},
   "outputs": [],
   "source": [
    "#%%time\n",
    "constraint_1(modelo,yq10_final)"
   ]
  },
  {
   "cell_type": "code",
   "execution_count": 57,
   "metadata": {},
   "outputs": [],
   "source": [
    "#%%time\n",
    "constraint_2(modelo,yq10_final,liberados)"
   ]
  },
  {
   "cell_type": "code",
   "execution_count": 58,
   "metadata": {},
   "outputs": [
    {
     "name": "stdout",
     "output_type": "stream",
     "text": [
      "Model: pedidos\n",
      " - number of variables: 2534\n",
      "   - binary=154, integer=0, continuous=2380\n",
      " - number of constraints: 2722\n",
      "   - linear=2722\n",
      " - parameters: defaults\n",
      " - problem type is: MILP\n"
     ]
    }
   ],
   "source": [
    "modelo.print_information()"
   ]
  },
  {
   "cell_type": "code",
   "execution_count": 59,
   "metadata": {
    "scrolled": true
   },
   "outputs": [
    {
     "name": "stderr",
     "output_type": "stream",
     "text": [
      "C:\\ProgramData\\Anaconda3\\lib\\site-packages\\pandas\\core\\indexing.py:670: SettingWithCopyWarning: \n",
      "A value is trying to be set on a copy of a slice from a DataFrame\n",
      "\n",
      "See the caveats in the documentation: https://pandas.pydata.org/pandas-docs/stable/user_guide/indexing.html#returning-a-view-versus-a-copy\n",
      "  self._setitem_with_indexer(indexer, value)\n"
     ]
    }
   ],
   "source": [
    "#%%time\n",
    "constraint_3(modelo,yq10_final,liberados)"
   ]
  },
  {
   "cell_type": "code",
   "execution_count": 60,
   "metadata": {},
   "outputs": [
    {
     "name": "stdout",
     "output_type": "stream",
     "text": [
      "Model: pedidos\n",
      " - number of variables: 2534\n",
      "   - binary=154, integer=0, continuous=2380\n",
      " - number of constraints: 3083\n",
      "   - linear=3083\n",
      " - parameters: defaults\n",
      " - problem type is: MILP\n"
     ]
    }
   ],
   "source": [
    "modelo.print_information()"
   ]
  },
  {
   "cell_type": "code",
   "execution_count": 61,
   "metadata": {},
   "outputs": [],
   "source": [
    "#%%time\n",
    "constraint_4(modelo,yq10_final,liberados)"
   ]
  },
  {
   "cell_type": "code",
   "execution_count": 62,
   "metadata": {},
   "outputs": [],
   "source": [
    "#%%time\n",
    "constraint_5(modelo,liberados)"
   ]
  },
  {
   "cell_type": "markdown",
   "metadata": {},
   "source": [
    "## FUNCION OBJETIVO"
   ]
  },
  {
   "cell_type": "code",
   "execution_count": 63,
   "metadata": {
    "scrolled": true
   },
   "outputs": [
    {
     "data": {
      "text/html": [
       "<div>\n",
       "<style scoped>\n",
       "    .dataframe tbody tr th:only-of-type {\n",
       "        vertical-align: middle;\n",
       "    }\n",
       "\n",
       "    .dataframe tbody tr th {\n",
       "        vertical-align: top;\n",
       "    }\n",
       "\n",
       "    .dataframe thead th {\n",
       "        text-align: right;\n",
       "    }\n",
       "</style>\n",
       "<table border=\"1\" class=\"dataframe\">\n",
       "  <thead>\n",
       "    <tr style=\"text-align: right;\">\n",
       "      <th></th>\n",
       "      <th>Prioridad</th>\n",
       "      <th>Doc_venta</th>\n",
       "    </tr>\n",
       "  </thead>\n",
       "  <tbody>\n",
       "    <tr>\n",
       "      <th>0</th>\n",
       "      <td>570.3125</td>\n",
       "      <td>828354738</td>\n",
       "    </tr>\n",
       "    <tr>\n",
       "      <th>1</th>\n",
       "      <td>570.3125</td>\n",
       "      <td>828354738</td>\n",
       "    </tr>\n",
       "    <tr>\n",
       "      <th>2</th>\n",
       "      <td>570.3125</td>\n",
       "      <td>828354738</td>\n",
       "    </tr>\n",
       "    <tr>\n",
       "      <th>3</th>\n",
       "      <td>570.3125</td>\n",
       "      <td>828353590</td>\n",
       "    </tr>\n",
       "    <tr>\n",
       "      <th>4</th>\n",
       "      <td>570.3125</td>\n",
       "      <td>828353590</td>\n",
       "    </tr>\n",
       "  </tbody>\n",
       "</table>\n",
       "</div>"
      ],
      "text/plain": [
       "   Prioridad  Doc_venta\n",
       "0   570.3125  828354738\n",
       "1   570.3125  828354738\n",
       "2   570.3125  828354738\n",
       "3   570.3125  828353590\n",
       "4   570.3125  828353590"
      ]
     },
     "execution_count": 63,
     "metadata": {},
     "output_type": "execute_result"
    }
   ],
   "source": [
    "liberados[['Prioridad', 'Doc_venta']].head()"
   ]
  },
  {
   "cell_type": "code",
   "execution_count": 64,
   "metadata": {},
   "outputs": [],
   "source": [
    "# Si se decide correr por OTD (On Time Delivery), el modelo va a intentar  despachar la mayor cantidad de pedidos posibles\n",
    "# teniendo en cuenta que debe sacar los más prioritarios también y utilizando los materiales mas prioritarios\n",
    "\n",
    "if correr_otd:\n",
    "    \n",
    "    modelo.maximize(( 2 * promedio_despacho * modelo.sum(binarios)) \n",
    "                    + (modelo.sum(cant_material_a_despachar[k] * yq10_final['PRIORIDAD_FEFO'].iloc[k] for k in cant_material_a_despachar)))\n",
    "else:\n",
    "    \n",
    "    # Si se decide sacar pedidos por prioridad, el modelo intentará sacar los pedidos maás prioritarios con los materiales\n",
    "    # más prioritarios sin importar si puede sacar más pedidos utilizando otra combinación.\n",
    "    \n",
    "    prio_yva = modelo.sum(binarios[i] * liberados['Prioridad'][liberados['Doc_venta'] == i].unique()[0] for i in binarios)\n",
    "    \n",
    "    prio_fefo = modelo.sum(cant_material_a_despachar[k] * yq10_final['PRIORIDAD_FEFO'].iloc[k] for k in cant_material_a_despachar)\n",
    "    \n",
    "    modelo.maximize(prio_yva + prio_fefo)"
   ]
  },
  {
   "cell_type": "code",
   "execution_count": 65,
   "metadata": {
    "scrolled": false
   },
   "outputs": [
    {
     "name": "stdout",
     "output_type": "stream",
     "text": [
      "Model: pedidos\n",
      " - number of variables: 2534\n",
      "   - binary=154, integer=0, continuous=2380\n",
      " - number of constraints: 3357\n",
      "   - linear=3357\n",
      " - parameters: defaults\n",
      " - problem type is: MILP\n"
     ]
    }
   ],
   "source": [
    "modelo.print_information()"
   ]
  },
  {
   "cell_type": "code",
   "execution_count": 66,
   "metadata": {},
   "outputs": [],
   "source": [
    "solucion = modelo.solve()"
   ]
  },
  {
   "cell_type": "code",
   "execution_count": 67,
   "metadata": {
    "scrolled": true
   },
   "outputs": [
    {
     "name": "stdout",
     "output_type": "stream",
     "text": [
      "status  = integer optimal solution\n",
      "time    = 0.125 s.\n",
      "problem = MILP\n",
      "gap     = 0%\n",
      "\n"
     ]
    }
   ],
   "source": [
    "print(modelo.get_solve_details())"
   ]
  },
  {
   "cell_type": "code",
   "execution_count": 68,
   "metadata": {},
   "outputs": [],
   "source": [
    "soluciones = solucion.get_all_values()"
   ]
  },
  {
   "cell_type": "code",
   "execution_count": 69,
   "metadata": {},
   "outputs": [],
   "source": [
    "despachos = soluciones[:len(binarios)]"
   ]
  },
  {
   "cell_type": "code",
   "execution_count": 70,
   "metadata": {},
   "outputs": [],
   "source": [
    "despachos_pedidos = pd.DataFrame({'Doc_venta': pedidos_unicos, 'SE_DESPACHA': despachos})"
   ]
  },
  {
   "cell_type": "code",
   "execution_count": 71,
   "metadata": {},
   "outputs": [],
   "source": [
    "despachos_pedidos = despachos_pedidos.replace([1.0,0.0], ['SI', 'NO'])"
   ]
  },
  {
   "cell_type": "code",
   "execution_count": 72,
   "metadata": {
    "scrolled": true
   },
   "outputs": [
    {
     "data": {
      "text/html": [
       "<div>\n",
       "<style scoped>\n",
       "    .dataframe tbody tr th:only-of-type {\n",
       "        vertical-align: middle;\n",
       "    }\n",
       "\n",
       "    .dataframe tbody tr th {\n",
       "        vertical-align: top;\n",
       "    }\n",
       "\n",
       "    .dataframe thead th {\n",
       "        text-align: right;\n",
       "    }\n",
       "</style>\n",
       "<table border=\"1\" class=\"dataframe\">\n",
       "  <thead>\n",
       "    <tr style=\"text-align: right;\">\n",
       "      <th></th>\n",
       "      <th>Doc_venta</th>\n",
       "      <th>SE_DESPACHA</th>\n",
       "    </tr>\n",
       "  </thead>\n",
       "  <tbody>\n",
       "    <tr>\n",
       "      <th>0</th>\n",
       "      <td>828354738</td>\n",
       "      <td>SI</td>\n",
       "    </tr>\n",
       "    <tr>\n",
       "      <th>1</th>\n",
       "      <td>828353590</td>\n",
       "      <td>NO</td>\n",
       "    </tr>\n",
       "    <tr>\n",
       "      <th>2</th>\n",
       "      <td>828352587</td>\n",
       "      <td>NO</td>\n",
       "    </tr>\n",
       "    <tr>\n",
       "      <th>3</th>\n",
       "      <td>828348392</td>\n",
       "      <td>SI</td>\n",
       "    </tr>\n",
       "    <tr>\n",
       "      <th>4</th>\n",
       "      <td>828346393</td>\n",
       "      <td>SI</td>\n",
       "    </tr>\n",
       "    <tr>\n",
       "      <th>...</th>\n",
       "      <td>...</td>\n",
       "      <td>...</td>\n",
       "    </tr>\n",
       "    <tr>\n",
       "      <th>149</th>\n",
       "      <td>827970288</td>\n",
       "      <td>SI</td>\n",
       "    </tr>\n",
       "    <tr>\n",
       "      <th>150</th>\n",
       "      <td>827342914</td>\n",
       "      <td>SI</td>\n",
       "    </tr>\n",
       "    <tr>\n",
       "      <th>151</th>\n",
       "      <td>827342909</td>\n",
       "      <td>SI</td>\n",
       "    </tr>\n",
       "    <tr>\n",
       "      <th>152</th>\n",
       "      <td>826961191</td>\n",
       "      <td>NO</td>\n",
       "    </tr>\n",
       "    <tr>\n",
       "      <th>153</th>\n",
       "      <td>828306691-0</td>\n",
       "      <td>SI</td>\n",
       "    </tr>\n",
       "  </tbody>\n",
       "</table>\n",
       "<p>154 rows × 2 columns</p>\n",
       "</div>"
      ],
      "text/plain": [
       "       Doc_venta SE_DESPACHA\n",
       "0      828354738          SI\n",
       "1      828353590          NO\n",
       "2      828352587          NO\n",
       "3      828348392          SI\n",
       "4      828346393          SI\n",
       "..           ...         ...\n",
       "149    827970288          SI\n",
       "150    827342914          SI\n",
       "151    827342909          SI\n",
       "152    826961191          NO\n",
       "153  828306691-0          SI\n",
       "\n",
       "[154 rows x 2 columns]"
      ]
     },
     "execution_count": 72,
     "metadata": {},
     "output_type": "execute_result"
    }
   ],
   "source": [
    "despachos_pedidos"
   ]
  },
  {
   "cell_type": "code",
   "execution_count": 73,
   "metadata": {},
   "outputs": [],
   "source": [
    "liberados = liberados.merge(despachos_pedidos, how= 'left', on= 'Doc_venta')"
   ]
  },
  {
   "cell_type": "code",
   "execution_count": 74,
   "metadata": {},
   "outputs": [],
   "source": [
    "despachos_materiales = soluciones[len(binarios):]"
   ]
  },
  {
   "cell_type": "markdown",
   "metadata": {},
   "source": [
    "## Asignaciones"
   ]
  },
  {
   "cell_type": "code",
   "execution_count": 75,
   "metadata": {},
   "outputs": [],
   "source": [
    "yq10_final['Campaña'].fillna('Embolse', inplace= True)"
   ]
  },
  {
   "cell_type": "code",
   "execution_count": 76,
   "metadata": {
    "scrolled": true
   },
   "outputs": [],
   "source": [
    "yq10_final['CANT_A_DESPACHAR'] = despachos_materiales"
   ]
  },
  {
   "cell_type": "code",
   "execution_count": 77,
   "metadata": {},
   "outputs": [],
   "source": [
    "def clasificar_no_despachados(desp):\n",
    "    desp['RAZON'] = '-'\n",
    "    desp.loc[desp['SE_DESPACHA'] == 'NO', 'RAZON'] = 0\n",
    "    desp.loc[(desp['RAZON'] == 0) & (desp['SSU'] > desp['Cantidad_Total']), 'RAZON'] = 'Sin stock del material'\n",
    "    for ped in desp['Doc_venta'].unique():\n",
    "        if (desp['RAZON'][desp['Doc_venta'] == ped] == 'Sin stock del material').any():\n",
    "            desp.loc[(desp['RAZON'] == 0) & (desp['Doc_venta'] == ped), 'RAZON'] = 'Falta stock de un material en este pedido'\n",
    "    for mat in desp['Material'][desp['RAZON'] == 0].unique():\n",
    "        for index , row in desp[(desp['Material'] == mat) & (desp['RAZON'] == 0)].iterrows():\n",
    "            if ((desp['SSU'][(desp['Material'] == mat) & (desp['SE_DESPACHA'] == 'SI')].sum() + row['SSU']) \n",
    "                > row['Cantidad_Total']):\n",
    "                desp['RAZON'].iloc[index] = 'OTD'\n",
    "    for ped in desp['Doc_venta'][desp['RAZON'] == 0]:\n",
    "        if any(desp['RAZON'][desp['Doc_venta'] == ped] == 'OTD'):\n",
    "            desp['RAZON'][desp['Doc_venta'] == ped] = 'OTD'\n",
    "        else:\n",
    "            desp['RAZON'][desp['Doc_venta'] == ped] = 'Stock llega mas tarde o falta de capacidad logística'\n",
    "    return desp\n",
    "    "
   ]
  },
  {
   "cell_type": "code",
   "execution_count": 78,
   "metadata": {},
   "outputs": [],
   "source": [
    "yq10_final.reset_index(drop=True, inplace=True)\n",
    "yq10_final['ID'] = yq10_final.index.values\n",
    "#yq10_final['ID'] = yq10_final['MATERIAL'].astype(str) + yq10_final['DE'] + yq10_final['Lote'] + yq10_final['Ubicación'].astype(str) + yq10_final['CENTRO'].astype(str)"
   ]
  },
  {
   "cell_type": "code",
   "execution_count": 79,
   "metadata": {},
   "outputs": [],
   "source": [
    "def asignar_materiales_a_pedidos(liberados_, yq10_):\n",
    "    resultado = pd.DataFrame(columns=['Doc_venta', 'Cliente', 'Oficina_de_Venta', 'Fe_entrega', 'Fecha Recepcion',\n",
    "                                     'Dest_Mcia', 'Prioridad', 'Status', 'Material', 'ID_Material_Asignado', 'HY',\n",
    "                                     'SSU', 'FECHA_DISPONIBILIDAD', 'CENTRO', 'Lote', 'DE', 'Ubicación'])\n",
    "    liberados_si = liberados_[liberados_['SE_DESPACHA'] == 'SI']\n",
    "    liberados_si.sort_values(['Fe_entrega','Prioridad'], ascending=[True, False], inplace= True)\n",
    "    liberados_si.reset_index(drop=True, inplace=True)\n",
    "    yq10_si = yq10_[yq10_['CANT_A_DESPACHAR'] > 0]\n",
    "    yq10_si.sort_values(['FECHA_DISPONIBILIDAD', 'PRIORIDAD_FEFO', 'Peso_bolsa', 'Campaña'], ascending=[True, False, False, True], inplace= True)\n",
    "    for indice in range(len(liberados_si)):\n",
    "        material = liberados_si['Material'].iloc[indice]\n",
    "        fecha = liberados_si['Fe_entrega'].iloc[indice]\n",
    "        mat_posibles = yq10_si[(yq10_si['MATERIAL'] == material) & (yq10_si['FECHA_DISPONIBILIDAD'] <= fecha)]\n",
    "        count = 0\n",
    "        suma = 0\n",
    "        while ((suma < liberados_si['SSU'].iloc[indice]) & (count < 10)):\n",
    "            mat_posibles = mat_posibles[mat_posibles['CANT_A_DESPACHAR'] > 0]\n",
    "            if ((mat_posibles['CANT_A_DESPACHAR'].iloc[0] + suma) >= liberados_si['SSU'].iloc[indice]):\n",
    "                resultado = resultado.append({'Doc_venta': liberados_si['Doc_venta'].iloc[indice],\n",
    "                                              'Cliente': liberados_si['Cliente'].iloc[indice],\n",
    "                                              'Oficina_de_Venta': liberados_si['Oficina_de_Venta'].iloc[indice],\n",
    "                                              'Fe_entrega': liberados_si['Fe_entrega'].iloc[indice],\n",
    "                                              'Fecha Recepcion': liberados_si['Fecha Recepcion'].iloc[indice],\n",
    "                                              'Dest_Mcia': liberados_si['Dest_Mcia'].iloc[indice],\n",
    "                                              'Prioridad': liberados_si['Prioridad'].iloc[indice],\n",
    "                                              'Status': liberados_si['Status'].iloc[indice],\n",
    "                                              'Oficina_de_Venta': liberados_si['Oficina_de_Venta'].iloc[indice],\n",
    "                                              'Material': liberados_si['Material'].iloc[indice],\n",
    "                                              'ID_Material_Asignado': mat_posibles['ID'].iloc[0],\n",
    "                                              'SSU': liberados_si['SSU'].iloc[indice] - suma,\n",
    "                                              'HY': mat_posibles['HY'].iloc[0],\n",
    "                                              'FECHA_DISPONIBILIDAD': mat_posibles['FECHA_DISPONIBILIDAD'].iloc[0],\n",
    "                                              'CENTRO': mat_posibles['CENTRO'].iloc[0],\n",
    "                                              'Lote': mat_posibles['Lote'].iloc[0],\n",
    "                                              'DE': mat_posibles['DE'].iloc[0],\n",
    "                                              'Ubicación': mat_posibles['Ubicación'].iloc[0]}, ignore_index= True)\n",
    "                suma = liberados_si['SSU'].iloc[indice]\n",
    "                yq10_si['CANT_A_DESPACHAR'][(yq10_si['ID'] == mat_posibles['ID'].iloc[0])] -= (liberados_si['SSU'].iloc[indice] - suma)\n",
    "                mat_posibles['CANT_A_DESPACHAR'].iloc[0] -= (liberados_si['SSU'].iloc[indice] - suma)\n",
    "            elif((mat_posibles['CANT_A_DESPACHAR'].iloc[0] + suma) < liberados_si['SSU'].iloc[indice]):\n",
    "                resultado = resultado.append({'Doc_venta': liberados_si['Doc_venta'].iloc[indice],\n",
    "                                  'Fe_entrega': liberados_si['Fe_entrega'].iloc[indice],\n",
    "                                  'Fecha Recepcion': liberados_si['Fecha Recepcion'].iloc[indice],\n",
    "                                  'Dest_Mcia': liberados_si['Dest_Mcia'].iloc[indice],\n",
    "                                  'Prioridad': liberados_si['Prioridad'].iloc[indice],\n",
    "                                  'Status': liberados_si['Status'].iloc[indice],\n",
    "                                  'Material': liberados_si['Material'].iloc[indice],\n",
    "                                  'ID_Material_Asignado': mat_posibles['ID'].iloc[0],\n",
    "                                  'SSU': mat_posibles['CANT_A_DESPACHAR'].iloc[0],\n",
    "                                  'HY': mat_posibles['HY'].iloc[0],\n",
    "                                  'FECHA_DISPONIBILIDAD': mat_posibles['FECHA_DISPONIBILIDAD'].iloc[0],\n",
    "                                  'CENTRO': mat_posibles['CENTRO'].iloc[0],\n",
    "                                  'Lote': mat_posibles['Lote'].iloc[0],\n",
    "                                  'DE': mat_posibles['DE'].iloc[0],\n",
    "                                  'Ubicación': mat_posibles['Ubicación'].iloc[0]}, ignore_index= True)\n",
    "                yq10_si['CANT_A_DESPACHAR'][(yq10_si['ID'] == mat_posibles['ID'].iloc[0])] -= 0\n",
    "                suma += mat_posibles['CANT_A_DESPACHAR'].iloc[0]\n",
    "                mat_posibles['CANT_A_DESPACHAR'].iloc[0] = 0\n",
    "                count += 1\n",
    "    return resultado"
   ]
  },
  {
   "cell_type": "code",
   "execution_count": 80,
   "metadata": {},
   "outputs": [
    {
     "name": "stderr",
     "output_type": "stream",
     "text": [
      "C:\\ProgramData\\Anaconda3\\lib\\site-packages\\pandas\\core\\indexing.py:670: SettingWithCopyWarning: \n",
      "A value is trying to be set on a copy of a slice from a DataFrame\n",
      "\n",
      "See the caveats in the documentation: https://pandas.pydata.org/pandas-docs/stable/user_guide/indexing.html#returning-a-view-versus-a-copy\n",
      "  self._setitem_with_indexer(indexer, value)\n"
     ]
    }
   ],
   "source": [
    "liberados['Doc_venta'] = liberados['Doc_venta'].astype(str)\n",
    "for indice in range(len(liberados)):\n",
    "    liberados['Doc_venta'].iloc[indice] = liberados['Doc_venta'].iloc[indice].split('-')[0]"
   ]
  },
  {
   "cell_type": "code",
   "execution_count": 81,
   "metadata": {
    "scrolled": false
   },
   "outputs": [
    {
     "name": "stderr",
     "output_type": "stream",
     "text": [
      "C:\\ProgramData\\Anaconda3\\lib\\site-packages\\ipykernel_launcher.py:15: SettingWithCopyWarning: \n",
      "A value is trying to be set on a copy of a slice from a DataFrame\n",
      "\n",
      "See the caveats in the documentation: https://pandas.pydata.org/pandas-docs/stable/user_guide/indexing.html#returning-a-view-versus-a-copy\n",
      "  from ipykernel import kernelapp as app\n"
     ]
    }
   ],
   "source": [
    "liberados = liberados.reset_index(drop= True)\n",
    "liberados = clasificar_no_despachados(liberados)\n",
    "liberados = liberados.drop(columns=['Cantidad_Total'])"
   ]
  },
  {
   "cell_type": "code",
   "execution_count": 82,
   "metadata": {
    "scrolled": true
   },
   "outputs": [
    {
     "name": "stderr",
     "output_type": "stream",
     "text": [
      "C:\\ProgramData\\Anaconda3\\lib\\site-packages\\ipykernel_launcher.py:6: SettingWithCopyWarning: \n",
      "A value is trying to be set on a copy of a slice from a DataFrame\n",
      "\n",
      "See the caveats in the documentation: https://pandas.pydata.org/pandas-docs/stable/user_guide/indexing.html#returning-a-view-versus-a-copy\n",
      "  \n",
      "C:\\ProgramData\\Anaconda3\\lib\\site-packages\\ipykernel_launcher.py:9: SettingWithCopyWarning: \n",
      "A value is trying to be set on a copy of a slice from a DataFrame\n",
      "\n",
      "See the caveats in the documentation: https://pandas.pydata.org/pandas-docs/stable/user_guide/indexing.html#returning-a-view-versus-a-copy\n",
      "  if __name__ == '__main__':\n",
      "C:\\ProgramData\\Anaconda3\\lib\\site-packages\\ipykernel_launcher.py:38: SettingWithCopyWarning: \n",
      "A value is trying to be set on a copy of a slice from a DataFrame\n",
      "\n",
      "See the caveats in the documentation: https://pandas.pydata.org/pandas-docs/stable/user_guide/indexing.html#returning-a-view-versus-a-copy\n",
      "C:\\ProgramData\\Anaconda3\\lib\\site-packages\\pandas\\core\\generic.py:8767: SettingWithCopyWarning: \n",
      "A value is trying to be set on a copy of a slice from a DataFrame\n",
      "\n",
      "See the caveats in the documentation: https://pandas.pydata.org/pandas-docs/stable/user_guide/indexing.html#returning-a-view-versus-a-copy\n",
      "  self._update_inplace(new_data)\n",
      "C:\\ProgramData\\Anaconda3\\lib\\site-packages\\ipykernel_launcher.py:56: SettingWithCopyWarning: \n",
      "A value is trying to be set on a copy of a slice from a DataFrame\n",
      "\n",
      "See the caveats in the documentation: https://pandas.pydata.org/pandas-docs/stable/user_guide/indexing.html#returning-a-view-versus-a-copy\n"
     ]
    }
   ],
   "source": [
    "asignacion_liberados = asignar_materiales_a_pedidos(liberados, yq10_final)"
   ]
  },
  {
   "cell_type": "code",
   "execution_count": 83,
   "metadata": {},
   "outputs": [],
   "source": [
    "liberados['Fe_entrega'] = pd.to_datetime(liberados['Fe_entrega']).dt.date\n",
    "liberados['FechaFact'] = pd.to_datetime(liberados['FechaFact']).dt.date\n",
    "liberados['FePrefEnt_Cab'] = pd.to_datetime(liberados['FePrefEnt_Cab']).dt.date\n",
    "liberados['Fecha Recepcion'] = pd.to_datetime(liberados['Fecha Recepcion']).dt.date"
   ]
  },
  {
   "cell_type": "code",
   "execution_count": null,
   "metadata": {},
   "outputs": [],
   "source": []
  },
  {
   "cell_type": "code",
   "execution_count": 84,
   "metadata": {},
   "outputs": [
    {
     "data": {
      "text/plain": [
       "'C:/FTPS/malvina.bernal/Output/2022-05-16/run_2/OPTIMIZADODISTRIBUCION_20220105_20221231_ROJAS.xlsx'"
      ]
     },
     "execution_count": 84,
     "metadata": {},
     "output_type": "execute_result"
    }
   ],
   "source": [
    "nombre_output"
   ]
  },
  {
   "cell_type": "code",
   "execution_count": null,
   "metadata": {},
   "outputs": [],
   "source": []
  },
  {
   "cell_type": "code",
   "execution_count": 85,
   "metadata": {},
   "outputs": [],
   "source": [
    "yq10_liberados = yq10_final.copy(deep=True)\n",
    "yq10_liberados.sort_values('CANT_A_DESPACHAR', ascending= False, inplace= True)\n",
    "#liberados.sort_values('SE_DESPACHA', ascending= False, inplace= True)\n",
    "writer = pd.ExcelWriter(nombre_output, date_format='mm/dd/yyyy',engine='xlsxwriter', datetime_format='mm/dd/yyyy',)\n",
    "inputs.to_excel(writer, sheet_name='INPUTS', index=False)\n",
    "liberados.to_excel(writer, sheet_name='yva_liberados', index=False)\n",
    "yq10_liberados.to_excel(writer, sheet_name='yq10_liberados', index=False)\n",
    "asignacion_liberados.to_excel(writer, sheet_name='pedido_materiales', index=False)\n",
    "error_fecha.to_excel(writer, sheet_name='error_fecha', index=False)"
   ]
  },
  {
   "cell_type": "code",
   "execution_count": 86,
   "metadata": {},
   "outputs": [],
   "source": [
    "yq10_para_bloqueados = yq10_final.copy(deep=True)\n",
    "yq10_para_bloqueados.reset_index(inplace= True, drop= True)\n",
    "yq10_para_bloqueados['SSU'] = yq10_para_bloqueados['SSU'] - yq10_para_bloqueados['CANT_A_DESPACHAR']\n",
    "yq10_para_bloqueados['CANT_A_DESPACHAR'] = 0"
   ]
  },
  {
   "cell_type": "code",
   "execution_count": 87,
   "metadata": {},
   "outputs": [],
   "source": [
    "indices_yq10_bloq = yq10_para_bloqueados.index.to_list()\n",
    "yq10_para_bloqueados['Indice_Modelo'] = indices_yq10_bloq"
   ]
  },
  {
   "cell_type": "code",
   "execution_count": 88,
   "metadata": {},
   "outputs": [],
   "source": [
    "bloqueados.reset_index(inplace=True, drop=True)\n",
    "bloqueados = bloqueados.drop(columns= 'Cantidad_Total')"
   ]
  },
  {
   "cell_type": "code",
   "execution_count": 89,
   "metadata": {},
   "outputs": [],
   "source": [
    "mat_unique_bloq = list(yq10_para_bloqueados['MATERIAL'].unique())\n",
    "cantidades_bloq = []\n",
    "for m in mat_unique_bloq:\n",
    "    cantidades_bloq.append(yq10_para_bloqueados['SSU'][(yq10_para_bloqueados['MATERIAL'] == m)].sum())"
   ]
  },
  {
   "cell_type": "code",
   "execution_count": 90,
   "metadata": {},
   "outputs": [
    {
     "data": {
      "text/html": [
       "<div>\n",
       "<style scoped>\n",
       "    .dataframe tbody tr th:only-of-type {\n",
       "        vertical-align: middle;\n",
       "    }\n",
       "\n",
       "    .dataframe tbody tr th {\n",
       "        vertical-align: top;\n",
       "    }\n",
       "\n",
       "    .dataframe thead th {\n",
       "        text-align: right;\n",
       "    }\n",
       "</style>\n",
       "<table border=\"1\" class=\"dataframe\">\n",
       "  <thead>\n",
       "    <tr style=\"text-align: right;\">\n",
       "      <th></th>\n",
       "      <th>Material</th>\n",
       "      <th>Cantidad_Total</th>\n",
       "    </tr>\n",
       "  </thead>\n",
       "  <tbody>\n",
       "    <tr>\n",
       "      <th>0</th>\n",
       "      <td>11495878</td>\n",
       "      <td>7631.0</td>\n",
       "    </tr>\n",
       "    <tr>\n",
       "      <th>1</th>\n",
       "      <td>11789421</td>\n",
       "      <td>15898.0</td>\n",
       "    </tr>\n",
       "    <tr>\n",
       "      <th>2</th>\n",
       "      <td>11789429</td>\n",
       "      <td>277.0</td>\n",
       "    </tr>\n",
       "    <tr>\n",
       "      <th>3</th>\n",
       "      <td>12324867</td>\n",
       "      <td>20808.0</td>\n",
       "    </tr>\n",
       "    <tr>\n",
       "      <th>4</th>\n",
       "      <td>12324877</td>\n",
       "      <td>16195.0</td>\n",
       "    </tr>\n",
       "    <tr>\n",
       "      <th>...</th>\n",
       "      <td>...</td>\n",
       "      <td>...</td>\n",
       "    </tr>\n",
       "    <tr>\n",
       "      <th>337</th>\n",
       "      <td>12731898</td>\n",
       "      <td>9464.0</td>\n",
       "    </tr>\n",
       "    <tr>\n",
       "      <th>338</th>\n",
       "      <td>12732099</td>\n",
       "      <td>100.0</td>\n",
       "    </tr>\n",
       "    <tr>\n",
       "      <th>339</th>\n",
       "      <td>12732105</td>\n",
       "      <td>591.0</td>\n",
       "    </tr>\n",
       "    <tr>\n",
       "      <th>340</th>\n",
       "      <td>12732106</td>\n",
       "      <td>660.0</td>\n",
       "    </tr>\n",
       "    <tr>\n",
       "      <th>341</th>\n",
       "      <td>12732109</td>\n",
       "      <td>1783.0</td>\n",
       "    </tr>\n",
       "  </tbody>\n",
       "</table>\n",
       "<p>342 rows × 2 columns</p>\n",
       "</div>"
      ],
      "text/plain": [
       "     Material  Cantidad_Total\n",
       "0    11495878          7631.0\n",
       "1    11789421         15898.0\n",
       "2    11789429           277.0\n",
       "3    12324867         20808.0\n",
       "4    12324877         16195.0\n",
       "..        ...             ...\n",
       "337  12731898          9464.0\n",
       "338  12732099           100.0\n",
       "339  12732105           591.0\n",
       "340  12732106           660.0\n",
       "341  12732109          1783.0\n",
       "\n",
       "[342 rows x 2 columns]"
      ]
     },
     "execution_count": 90,
     "metadata": {},
     "output_type": "execute_result"
    }
   ],
   "source": [
    "yq10_nueva_bloq = pd.DataFrame({'Material': mat_unique_bloq, 'Cantidad_Total': cantidades_bloq})\n",
    "yq10_nueva_bloq"
   ]
  },
  {
   "cell_type": "code",
   "execution_count": 91,
   "metadata": {},
   "outputs": [],
   "source": [
    "bloqueados = bloqueados.merge(yq10_nueva_bloq,how= 'left', on='Material' )\n",
    "bloqueados['Cantidad_Total'].fillna(0, inplace= True)"
   ]
  },
  {
   "cell_type": "code",
   "execution_count": 92,
   "metadata": {},
   "outputs": [],
   "source": [
    "modelo_2 = Model(name=\"bloqueados\")"
   ]
  },
  {
   "cell_type": "code",
   "execution_count": 93,
   "metadata": {},
   "outputs": [],
   "source": [
    "pedidos_bloqueados = bloqueados['Doc_venta'].unique()"
   ]
  },
  {
   "cell_type": "code",
   "execution_count": 94,
   "metadata": {},
   "outputs": [],
   "source": [
    "binarios = modelo_2.binary_var_dict(pedidos_bloqueados)"
   ]
  },
  {
   "cell_type": "code",
   "execution_count": 95,
   "metadata": {},
   "outputs": [],
   "source": [
    "#cant_material_a_despachar = modelo_2.integer_var_dict(indices_yq10_bloq)\n",
    "cant_material_a_despachar = modelo_2.continuous_var_dict(indices_yq10_bloq)"
   ]
  },
  {
   "cell_type": "code",
   "execution_count": 96,
   "metadata": {},
   "outputs": [],
   "source": [
    "materiales_pedidos = bloqueados['Material'].unique()"
   ]
  },
  {
   "cell_type": "code",
   "execution_count": 97,
   "metadata": {},
   "outputs": [],
   "source": [
    "promedio_despacho = bloqueados['SSU'].mean()"
   ]
  },
  {
   "cell_type": "code",
   "execution_count": 98,
   "metadata": {},
   "outputs": [],
   "source": [
    "#%%time\n",
    "constraint_1(modelo_2,yq10_para_bloqueados)"
   ]
  },
  {
   "cell_type": "code",
   "execution_count": 99,
   "metadata": {},
   "outputs": [],
   "source": [
    "#%%time\n",
    "constraint_2(modelo_2,yq10_para_bloqueados,bloqueados)"
   ]
  },
  {
   "cell_type": "code",
   "execution_count": 100,
   "metadata": {
    "scrolled": true
   },
   "outputs": [
    {
     "name": "stderr",
     "output_type": "stream",
     "text": [
      "C:\\ProgramData\\Anaconda3\\lib\\site-packages\\pandas\\core\\indexing.py:670: SettingWithCopyWarning: \n",
      "A value is trying to be set on a copy of a slice from a DataFrame\n",
      "\n",
      "See the caveats in the documentation: https://pandas.pydata.org/pandas-docs/stable/user_guide/indexing.html#returning-a-view-versus-a-copy\n",
      "  self._setitem_with_indexer(indexer, value)\n"
     ]
    },
    {
     "ename": "DOcplexException",
     "evalue": "Expecting constraint, got: True with type: <class 'numpy.bool_'>",
     "output_type": "error",
     "traceback": [
      "\u001b[1;31m---------------------------------------------------------------------------\u001b[0m",
      "\u001b[1;31mDOcplexException\u001b[0m                          Traceback (most recent call last)",
      "\u001b[1;32m<ipython-input-100-33359513d4c9>\u001b[0m in \u001b[0;36m<module>\u001b[1;34m\u001b[0m\n\u001b[0;32m      1\u001b[0m \u001b[1;31m#%%time\u001b[0m\u001b[1;33m\u001b[0m\u001b[1;33m\u001b[0m\u001b[1;33m\u001b[0m\u001b[0m\n\u001b[1;32m----> 2\u001b[1;33m \u001b[0mconstraint_3\u001b[0m\u001b[1;33m(\u001b[0m\u001b[0mmodelo_2\u001b[0m\u001b[1;33m,\u001b[0m\u001b[0myq10_para_bloqueados\u001b[0m\u001b[1;33m,\u001b[0m\u001b[0mbloqueados\u001b[0m\u001b[1;33m)\u001b[0m\u001b[1;33m\u001b[0m\u001b[1;33m\u001b[0m\u001b[0m\n\u001b[0m",
      "\u001b[1;32m<ipython-input-53-e91db0f66190>\u001b[0m in \u001b[0;36mconstraint_3\u001b[1;34m(model, yq10_, yva_)\u001b[0m\n\u001b[0;32m     55\u001b[0m         \u001b[0mdifDias\u001b[0m \u001b[1;33m=\u001b[0m \u001b[0mnp\u001b[0m\u001b[1;33m.\u001b[0m\u001b[0mbusday_count\u001b[0m\u001b[1;33m(\u001b[0m\u001b[0mfecha_de_hoy\u001b[0m\u001b[1;33m.\u001b[0m\u001b[0mdate\u001b[0m\u001b[1;33m(\u001b[0m\u001b[1;33m)\u001b[0m\u001b[1;33m,\u001b[0m \u001b[0mpd\u001b[0m\u001b[1;33m.\u001b[0m\u001b[0mto_datetime\u001b[0m\u001b[1;33m(\u001b[0m\u001b[0mdfResult_final\u001b[0m\u001b[1;33m[\u001b[0m\u001b[1;34m'Fecha'\u001b[0m\u001b[1;33m]\u001b[0m\u001b[1;33m.\u001b[0m\u001b[0miloc\u001b[0m\u001b[1;33m[\u001b[0m\u001b[0midx\u001b[0m\u001b[1;33m]\u001b[0m\u001b[1;33m)\u001b[0m\u001b[1;33m.\u001b[0m\u001b[0mdate\u001b[0m\u001b[1;33m(\u001b[0m\u001b[1;33m)\u001b[0m\u001b[1;33m)\u001b[0m\u001b[1;33m\u001b[0m\u001b[1;33m\u001b[0m\u001b[0m\n\u001b[0;32m     56\u001b[0m         \u001b[0mreapPosible\u001b[0m \u001b[1;33m=\u001b[0m \u001b[0mcapacidad_reap_por_dia\u001b[0m \u001b[1;33m*\u001b[0m \u001b[0mdifDias\u001b[0m\u001b[1;33m\u001b[0m\u001b[1;33m\u001b[0m\u001b[0m\n\u001b[1;32m---> 57\u001b[1;33m         \u001b[0mmodel\u001b[0m\u001b[1;33m.\u001b[0m\u001b[0madd_constraint\u001b[0m\u001b[1;33m(\u001b[0m\u001b[0mdfResult_p\u001b[0m\u001b[1;33m[\u001b[0m\u001b[1;34m'Resta'\u001b[0m\u001b[1;33m]\u001b[0m\u001b[1;33m.\u001b[0m\u001b[0miloc\u001b[0m\u001b[1;33m[\u001b[0m\u001b[0midx\u001b[0m\u001b[1;33m]\u001b[0m \u001b[1;33m<=\u001b[0m \u001b[0mreapPosible\u001b[0m\u001b[1;33m)\u001b[0m\u001b[1;33m\u001b[0m\u001b[1;33m\u001b[0m\u001b[0m\n\u001b[0m",
      "\u001b[1;32mC:\\ProgramData\\Anaconda3\\lib\\site-packages\\docplex\\mp\\model.py\u001b[0m in \u001b[0;36madd_constraint\u001b[1;34m(self, ct, ctname)\u001b[0m\n\u001b[0;32m   3485\u001b[0m             \u001b[1;33m:\u001b[0m\u001b[0mfunc\u001b[0m\u001b[1;33m:\u001b[0m\u001b[0;31m`\u001b[0m\u001b[0madd_constraint_\u001b[0m\u001b[0;31m`\u001b[0m\u001b[1;33m\u001b[0m\u001b[1;33m\u001b[0m\u001b[0m\n\u001b[0;32m   3486\u001b[0m         \"\"\"\n\u001b[1;32m-> 3487\u001b[1;33m         \u001b[0mct\u001b[0m \u001b[1;33m=\u001b[0m \u001b[0mself\u001b[0m\u001b[1;33m.\u001b[0m\u001b[0m_add_constraint_internal\u001b[0m\u001b[1;33m(\u001b[0m\u001b[0mct\u001b[0m\u001b[1;33m,\u001b[0m \u001b[0mctname\u001b[0m\u001b[1;33m)\u001b[0m\u001b[1;33m\u001b[0m\u001b[1;33m\u001b[0m\u001b[0m\n\u001b[0m\u001b[0;32m   3488\u001b[0m         \u001b[1;32mreturn\u001b[0m \u001b[0mct\u001b[0m\u001b[1;33m\u001b[0m\u001b[1;33m\u001b[0m\u001b[0m\n\u001b[0;32m   3489\u001b[0m \u001b[1;33m\u001b[0m\u001b[0m\n",
      "\u001b[1;32mC:\\ProgramData\\Anaconda3\\lib\\site-packages\\docplex\\mp\\model.py\u001b[0m in \u001b[0;36m_add_constraint_internal\u001b[1;34m(self, ct, ctname)\u001b[0m\n\u001b[0;32m   2963\u001b[0m \u001b[1;33m\u001b[0m\u001b[0m\n\u001b[0;32m   2964\u001b[0m         \u001b[0mcheck_trivial\u001b[0m \u001b[1;33m=\u001b[0m \u001b[0mself\u001b[0m\u001b[1;33m.\u001b[0m\u001b[0m_checker\u001b[0m\u001b[1;33m.\u001b[0m\u001b[0mcheck_trivial_constraints\u001b[0m\u001b[1;33m(\u001b[0m\u001b[1;33m)\u001b[0m\u001b[1;33m\u001b[0m\u001b[1;33m\u001b[0m\u001b[0m\n\u001b[1;32m-> 2965\u001b[1;33m         \u001b[1;32mif\u001b[0m \u001b[0mself\u001b[0m\u001b[1;33m.\u001b[0m\u001b[0m_prepare_constraint\u001b[0m\u001b[1;33m(\u001b[0m\u001b[0mct\u001b[0m\u001b[1;33m,\u001b[0m \u001b[0mused_ct_name\u001b[0m\u001b[1;33m,\u001b[0m \u001b[0mcheck_for_trivial_ct\u001b[0m\u001b[1;33m=\u001b[0m\u001b[0mcheck_trivial\u001b[0m\u001b[1;33m)\u001b[0m\u001b[1;33m:\u001b[0m\u001b[1;33m\u001b[0m\u001b[1;33m\u001b[0m\u001b[0m\n\u001b[0m\u001b[0;32m   2966\u001b[0m             \u001b[0mself\u001b[0m\u001b[1;33m.\u001b[0m\u001b[0m_post_constraint\u001b[0m\u001b[1;33m(\u001b[0m\u001b[0mct\u001b[0m\u001b[1;33m)\u001b[0m\u001b[1;33m\u001b[0m\u001b[1;33m\u001b[0m\u001b[0m\n\u001b[0;32m   2967\u001b[0m             \u001b[1;32mreturn\u001b[0m \u001b[0mct\u001b[0m\u001b[1;33m\u001b[0m\u001b[1;33m\u001b[0m\u001b[0m\n",
      "\u001b[1;32mC:\\ProgramData\\Anaconda3\\lib\\site-packages\\docplex\\mp\\model.py\u001b[0m in \u001b[0;36m_prepare_constraint\u001b[1;34m(self, ct, ctname, check_for_trivial_ct, arg_checker)\u001b[0m\n\u001b[0;32m   2942\u001b[0m \u001b[1;33m\u001b[0m\u001b[0m\n\u001b[0;32m   2943\u001b[0m         \u001b[1;32melse\u001b[0m\u001b[1;33m:\u001b[0m\u001b[1;33m\u001b[0m\u001b[1;33m\u001b[0m\u001b[0m\n\u001b[1;32m-> 2944\u001b[1;33m             \u001b[0mchecker\u001b[0m\u001b[1;33m.\u001b[0m\u001b[0mtypecheck_ct_to_add\u001b[0m\u001b[1;33m(\u001b[0m\u001b[0mct\u001b[0m\u001b[1;33m,\u001b[0m \u001b[0mself\u001b[0m\u001b[1;33m,\u001b[0m \u001b[1;34m'add_constraint'\u001b[0m\u001b[1;33m)\u001b[0m\u001b[1;33m\u001b[0m\u001b[1;33m\u001b[0m\u001b[0m\n\u001b[0m\u001b[0;32m   2945\u001b[0m             \u001b[1;31m# -- watch for trivial cts e.g. linexpr(0) <= linexpr(1)\u001b[0m\u001b[1;33m\u001b[0m\u001b[1;33m\u001b[0m\u001b[1;33m\u001b[0m\u001b[0m\n\u001b[0;32m   2946\u001b[0m             \u001b[1;32mif\u001b[0m \u001b[0mcheck_for_trivial_ct\u001b[0m \u001b[1;32mand\u001b[0m \u001b[0mct\u001b[0m\u001b[1;33m.\u001b[0m\u001b[0mis_trivial\u001b[0m\u001b[1;33m(\u001b[0m\u001b[1;33m)\u001b[0m\u001b[1;33m:\u001b[0m\u001b[1;33m\u001b[0m\u001b[1;33m\u001b[0m\u001b[0m\n",
      "\u001b[1;32mC:\\ProgramData\\Anaconda3\\lib\\site-packages\\docplex\\mp\\tck.py\u001b[0m in \u001b[0;36mtypecheck_ct_to_add\u001b[1;34m(self, ct, mdl, caller)\u001b[0m\n\u001b[0;32m    332\u001b[0m     \u001b[1;32mdef\u001b[0m \u001b[0mtypecheck_ct_to_add\u001b[0m\u001b[1;33m(\u001b[0m\u001b[0mself\u001b[0m\u001b[1;33m,\u001b[0m \u001b[0mct\u001b[0m\u001b[1;33m,\u001b[0m \u001b[0mmdl\u001b[0m\u001b[1;33m,\u001b[0m \u001b[0mcaller\u001b[0m\u001b[1;33m)\u001b[0m\u001b[1;33m:\u001b[0m\u001b[1;33m\u001b[0m\u001b[1;33m\u001b[0m\u001b[0m\n\u001b[0;32m    333\u001b[0m         \u001b[1;32mif\u001b[0m \u001b[1;32mnot\u001b[0m \u001b[0misinstance\u001b[0m\u001b[1;33m(\u001b[0m\u001b[0mct\u001b[0m\u001b[1;33m,\u001b[0m \u001b[0mAbstractConstraint\u001b[0m\u001b[1;33m)\u001b[0m\u001b[1;33m:\u001b[0m\u001b[1;33m\u001b[0m\u001b[1;33m\u001b[0m\u001b[0m\n\u001b[1;32m--> 334\u001b[1;33m             \u001b[0mself\u001b[0m\u001b[1;33m.\u001b[0m\u001b[0mfatal\u001b[0m\u001b[1;33m(\u001b[0m\u001b[1;34m\"Expecting constraint, got: {0!r} with type: {1!s}\"\u001b[0m\u001b[1;33m,\u001b[0m \u001b[0mct\u001b[0m\u001b[1;33m,\u001b[0m \u001b[0mtype\u001b[0m\u001b[1;33m(\u001b[0m\u001b[0mct\u001b[0m\u001b[1;33m)\u001b[0m\u001b[1;33m)\u001b[0m\u001b[1;33m\u001b[0m\u001b[1;33m\u001b[0m\u001b[0m\n\u001b[0m\u001b[0;32m    335\u001b[0m         \u001b[0mself\u001b[0m\u001b[1;33m.\u001b[0m\u001b[0mtypecheck_in_model\u001b[0m\u001b[1;33m(\u001b[0m\u001b[0mmdl\u001b[0m\u001b[1;33m,\u001b[0m \u001b[0mct\u001b[0m\u001b[1;33m,\u001b[0m \u001b[0mcaller\u001b[0m\u001b[1;33m)\u001b[0m\u001b[1;33m\u001b[0m\u001b[1;33m\u001b[0m\u001b[0m\n\u001b[0;32m    336\u001b[0m \u001b[1;33m\u001b[0m\u001b[0m\n",
      "\u001b[1;32mC:\\ProgramData\\Anaconda3\\lib\\site-packages\\docplex\\mp\\tck.py\u001b[0m in \u001b[0;36mfatal\u001b[1;34m(self, msg, *args)\u001b[0m\n\u001b[0;32m    236\u001b[0m \u001b[1;33m\u001b[0m\u001b[0m\n\u001b[0;32m    237\u001b[0m     \u001b[1;32mdef\u001b[0m \u001b[0mfatal\u001b[0m\u001b[1;33m(\u001b[0m\u001b[0mself\u001b[0m\u001b[1;33m,\u001b[0m \u001b[0mmsg\u001b[0m\u001b[1;33m,\u001b[0m \u001b[1;33m*\u001b[0m\u001b[0margs\u001b[0m\u001b[1;33m)\u001b[0m\u001b[1;33m:\u001b[0m\u001b[1;33m\u001b[0m\u001b[1;33m\u001b[0m\u001b[0m\n\u001b[1;32m--> 238\u001b[1;33m         \u001b[0mself\u001b[0m\u001b[1;33m.\u001b[0m\u001b[0m_logger\u001b[0m\u001b[1;33m.\u001b[0m\u001b[0mfatal\u001b[0m\u001b[1;33m(\u001b[0m\u001b[0mmsg\u001b[0m\u001b[1;33m,\u001b[0m \u001b[0margs\u001b[0m\u001b[1;33m)\u001b[0m\u001b[1;33m\u001b[0m\u001b[1;33m\u001b[0m\u001b[0m\n\u001b[0m\u001b[0;32m    239\u001b[0m \u001b[1;33m\u001b[0m\u001b[0m\n\u001b[0;32m    240\u001b[0m     \u001b[1;32mdef\u001b[0m \u001b[0merror\u001b[0m\u001b[1;33m(\u001b[0m\u001b[0mself\u001b[0m\u001b[1;33m,\u001b[0m \u001b[0mmsg\u001b[0m\u001b[1;33m,\u001b[0m \u001b[1;33m*\u001b[0m\u001b[0margs\u001b[0m\u001b[1;33m)\u001b[0m\u001b[1;33m:\u001b[0m  \u001b[1;31m# pragma: no cover\u001b[0m\u001b[1;33m\u001b[0m\u001b[1;33m\u001b[0m\u001b[0m\n",
      "\u001b[1;32mC:\\ProgramData\\Anaconda3\\lib\\site-packages\\docplex\\mp\\error_handler.py\u001b[0m in \u001b[0;36mfatal\u001b[1;34m(self, msg, args)\u001b[0m\n\u001b[0;32m    208\u001b[0m         \u001b[0mresolved_message\u001b[0m \u001b[1;33m=\u001b[0m \u001b[0mresolve_pattern\u001b[0m\u001b[1;33m(\u001b[0m\u001b[0mmsg\u001b[0m\u001b[1;33m,\u001b[0m \u001b[0margs\u001b[0m\u001b[1;33m)\u001b[0m\u001b[1;33m\u001b[0m\u001b[1;33m\u001b[0m\u001b[0m\n\u001b[0;32m    209\u001b[0m         \u001b[0mdocplex_error_stop_here\u001b[0m\u001b[1;33m(\u001b[0m\u001b[1;33m)\u001b[0m\u001b[1;33m\u001b[0m\u001b[1;33m\u001b[0m\u001b[0m\n\u001b[1;32m--> 210\u001b[1;33m         \u001b[1;32mraise\u001b[0m \u001b[0mDOcplexException\u001b[0m\u001b[1;33m(\u001b[0m\u001b[0mresolved_message\u001b[0m\u001b[1;33m)\u001b[0m\u001b[1;33m\u001b[0m\u001b[1;33m\u001b[0m\u001b[0m\n\u001b[0m\u001b[0;32m    211\u001b[0m \u001b[1;33m\u001b[0m\u001b[0m\n\u001b[0;32m    212\u001b[0m     \u001b[1;32mdef\u001b[0m \u001b[0mfatal_limits_exceeded\u001b[0m\u001b[1;33m(\u001b[0m\u001b[0mself\u001b[0m\u001b[1;33m)\u001b[0m\u001b[1;33m:\u001b[0m\u001b[1;33m\u001b[0m\u001b[1;33m\u001b[0m\u001b[0m\n",
      "\u001b[1;31mDOcplexException\u001b[0m: Expecting constraint, got: True with type: <class 'numpy.bool_'>"
     ]
    }
   ],
   "source": [
    "#%%time\n",
    "constraint_3(modelo_2,yq10_para_bloqueados,bloqueados)"
   ]
  },
  {
   "cell_type": "code",
   "execution_count": 112,
   "metadata": {},
   "outputs": [],
   "source": [
    "dias_df = pd.DataFrame({'Fecha' : pd.date_range(fecha_de_hoy, ultimo_dia, freq='D')})\n",
    "\n",
    "def tstconstraint_3(model,yq10_,yva_):\n",
    "    \n",
    "    yvaCons = yva_.copy(deep=True)\n",
    "    yq10Cons = yq10_.copy(deep=True)\n",
    "    pedKeys = list(binarios.keys()).copy()\n",
    "    pedVals = list(binarios.values()).copy()\n",
    "    stockKeys = list(cant_material_a_despachar.keys()).copy()\n",
    "    stockVals = list(cant_material_a_despachar.values()).copy()\n",
    "    \n",
    "    materiales_pedidos = yvaCons['Material'].unique()\n",
    "    dfBin = pd.DataFrame({'Doc_venta': pedKeys, 'Despacho': pedVals})\n",
    "    stockCons = pd.DataFrame({'Indice_Modelo': stockKeys, 'Despacho': stockVals})\n",
    "\n",
    "    dfResult = pd.DataFrame(columns=['Fecha', 'cumSumStock', 'cumSumDesp', 'Resta', 'RestaMin'])\n",
    "    \n",
    "    for m in materiales_pedidos:\n",
    "        \n",
    "        pedidos_por_material = yvaCons[['Fe_entrega', 'Doc_venta', 'SSU', 'Material']][yvaCons['Material'] == m]\n",
    "        pedidos_por_material = pedidos_por_material.merge(dfBin, how='left', on='Doc_venta', copy=False)\n",
    "        pedidos_por_material['Fe_entrega'] = pd.to_datetime(pedidos_por_material['Fe_entrega'])\n",
    "        \n",
    "        pedidos_por_material['cantPorDesp'] = pedidos_por_material['SSU'] * pedidos_por_material['Despacho']\n",
    "        \n",
    "        pedidos_mat_dia = dias_df.merge(pedidos_por_material, how='left', left_on='Fecha', right_on ='Fe_entrega').fillna(0)\n",
    "        \n",
    "        dfResult_mat = pedidos_mat_dia[['Fecha', 'cantPorDesp']]\n",
    "        dfResult_mat = dfResult_mat.groupby(by='Fecha').sum().reset_index()\n",
    "        dfResult_mat['cumSumDesp'] = np.cumsum(dfResult_mat['cantPorDesp'])\n",
    "        \n",
    "        \n",
    "        stock_por_material = yq10Cons[['FECHA_DISPONIBILIDAD', 'Indice_Modelo']][(yq10Cons['MATERIAL'] == m) & (yq10Cons['CENTRO'] == 6009)]\n",
    "        stock_por_material = stock_por_material.merge(stockCons, how='left', on='Indice_Modelo', copy=False)\n",
    "        \n",
    "        stock_mat_dia = dias_df.merge(stock_por_material, how='left', left_on='Fecha', right_on ='FECHA_DISPONIBILIDAD').fillna(0)\n",
    "        \n",
    "        dfResult_stock = stock_mat_dia[['Fecha', 'Despacho']]\n",
    "        dfResult_stock = dfResult_stock.groupby(by='Fecha').sum().reset_index()\n",
    "        dfResult_stock['cumSumStock'] = np.cumsum(dfResult_stock['Despacho'])\n",
    "        \n",
    "        dfResult_p = dfResult_stock[['Fecha', 'cumSumStock']].merge(dfResult_mat[['Fecha', 'cumSumDesp']], how='left', on='Fecha', copy=False)\n",
    "        dfResult_p['Resta'] = np.nan\n",
    "        #dfResult_p['RestaMax'] = np.nan\n",
    "        \n",
    "        for idx, row in dfResult_p.iterrows():\n",
    "            dfResult_p['Resta'].iloc[idx] = dfResult_p['cumSumDesp'].iloc[idx] - dfResult_p['cumSumStock'].iloc[idx]\n",
    "            #dfResult_p['RestaMax'].iloc[idx] = model.max(dfResult_p['Resta'].iloc[idx],0)\n",
    "        \n",
    "        dfResult = dfResult.append(dfResult_p, ignore_index=True)\n",
    "        \n",
    "    dfResult_final = dfResult.groupby(by='Fecha').sum().reset_index()\n",
    "    \n",
    "    return dfResult_final, dfResult_p\n",
    "    \n",
    "    for idx, row in dfResult_final.iterrows():\n",
    "        difDias = np.busday_count(fecha_de_hoy.date(), pd.to_datetime(dfResult_final['Fecha'].iloc[idx]).date())\n",
    "        reapPosible = capacidad_reap_por_dia * difDias\n",
    "        model.add_constraint(dfResult_p['Resta'].iloc[idx] <= reapPosible)"
   ]
  },
  {
   "cell_type": "code",
   "execution_count": 111,
   "metadata": {
    "scrolled": true
   },
   "outputs": [
    {
     "data": {
      "text/html": [
       "<div>\n",
       "<style scoped>\n",
       "    .dataframe tbody tr th:only-of-type {\n",
       "        vertical-align: middle;\n",
       "    }\n",
       "\n",
       "    .dataframe tbody tr th {\n",
       "        vertical-align: top;\n",
       "    }\n",
       "\n",
       "    .dataframe thead th {\n",
       "        text-align: right;\n",
       "    }\n",
       "</style>\n",
       "<table border=\"1\" class=\"dataframe\">\n",
       "  <thead>\n",
       "    <tr style=\"text-align: right;\">\n",
       "      <th></th>\n",
       "      <th>Fecha</th>\n",
       "      <th>cumSumStock</th>\n",
       "      <th>cumSumDesp</th>\n",
       "      <th>Resta</th>\n",
       "      <th>RestaMin</th>\n",
       "    </tr>\n",
       "  </thead>\n",
       "  <tbody>\n",
       "    <tr>\n",
       "      <th>0</th>\n",
       "      <td>2022-01-05</td>\n",
       "      <td>x215+x216+x217+x218+x219+x220+x221+x222+x223+x...</td>\n",
       "      <td>0</td>\n",
       "      <td>-x215-x216-x217-x218-x219-x220-x221-x222-x223-...</td>\n",
       "      <td>0</td>\n",
       "    </tr>\n",
       "    <tr>\n",
       "      <th>1</th>\n",
       "      <td>2022-01-06</td>\n",
       "      <td>x215+x216+x217+x218+x219+x220+x221+x222+x223+x...</td>\n",
       "      <td>0</td>\n",
       "      <td>-x215-x216-x217-x218-x219-x220-x221-x222-x223-...</td>\n",
       "      <td>0</td>\n",
       "    </tr>\n",
       "    <tr>\n",
       "      <th>2</th>\n",
       "      <td>2022-01-07</td>\n",
       "      <td>x215+x216+x217+x218+x219+x220+x221+x222+x223+x...</td>\n",
       "      <td>0</td>\n",
       "      <td>-x215-x216-x217-x218-x219-x220-x221-x222-x223-...</td>\n",
       "      <td>0</td>\n",
       "    </tr>\n",
       "    <tr>\n",
       "      <th>3</th>\n",
       "      <td>2022-01-08</td>\n",
       "      <td>x215+x216+x217+x218+x219+x220+x221+x222+x223+x...</td>\n",
       "      <td>0</td>\n",
       "      <td>-x215-x216-x217-x218-x219-x220-x221-x222-x223-...</td>\n",
       "      <td>0</td>\n",
       "    </tr>\n",
       "    <tr>\n",
       "      <th>4</th>\n",
       "      <td>2022-01-09</td>\n",
       "      <td>x215+x216+x217+x218+x219+x220+x221+x222+x223+x...</td>\n",
       "      <td>0</td>\n",
       "      <td>-x215-x216-x217-x218-x219-x220-x221-x222-x223-...</td>\n",
       "      <td>0</td>\n",
       "    </tr>\n",
       "    <tr>\n",
       "      <th>...</th>\n",
       "      <td>...</td>\n",
       "      <td>...</td>\n",
       "      <td>...</td>\n",
       "      <td>...</td>\n",
       "      <td>...</td>\n",
       "    </tr>\n",
       "    <tr>\n",
       "      <th>356</th>\n",
       "      <td>2022-12-27</td>\n",
       "      <td>x215+x216+x217+x218+x219+x220+x221+x222+x223+x...</td>\n",
       "      <td>77.500x1+182.500x2+356x3+100x4+110x5+519x6+140...</td>\n",
       "      <td>77.500x1+182.500x2+356x3+100x4+110x5+519x6+140...</td>\n",
       "      <td>0</td>\n",
       "    </tr>\n",
       "    <tr>\n",
       "      <th>357</th>\n",
       "      <td>2022-12-28</td>\n",
       "      <td>x215+x216+x217+x218+x219+x220+x221+x222+x223+x...</td>\n",
       "      <td>77.500x1+182.500x2+356x3+100x4+110x5+519x6+140...</td>\n",
       "      <td>77.500x1+182.500x2+356x3+100x4+110x5+519x6+140...</td>\n",
       "      <td>0</td>\n",
       "    </tr>\n",
       "    <tr>\n",
       "      <th>358</th>\n",
       "      <td>2022-12-29</td>\n",
       "      <td>x215+x216+x217+x218+x219+x220+x221+x222+x223+x...</td>\n",
       "      <td>77.500x1+182.500x2+356x3+100x4+110x5+519x6+140...</td>\n",
       "      <td>77.500x1+182.500x2+356x3+100x4+110x5+519x6+140...</td>\n",
       "      <td>0</td>\n",
       "    </tr>\n",
       "    <tr>\n",
       "      <th>359</th>\n",
       "      <td>2022-12-30</td>\n",
       "      <td>x215+x216+x217+x218+x219+x220+x221+x222+x223+x...</td>\n",
       "      <td>77.500x1+182.500x2+356x3+100x4+110x5+519x6+140...</td>\n",
       "      <td>77.500x1+182.500x2+356x3+100x4+110x5+519x6+140...</td>\n",
       "      <td>0</td>\n",
       "    </tr>\n",
       "    <tr>\n",
       "      <th>360</th>\n",
       "      <td>2022-12-31</td>\n",
       "      <td>x215+x216+x217+x218+x219+x220+x221+x222+x223+x...</td>\n",
       "      <td>77.500x1+182.500x2+356x3+100x4+110x5+519x6+140...</td>\n",
       "      <td>77.500x1+182.500x2+356x3+100x4+110x5+519x6+140...</td>\n",
       "      <td>0</td>\n",
       "    </tr>\n",
       "  </tbody>\n",
       "</table>\n",
       "<p>361 rows × 5 columns</p>\n",
       "</div>"
      ],
      "text/plain": [
       "         Fecha                                        cumSumStock  \\\n",
       "0   2022-01-05  x215+x216+x217+x218+x219+x220+x221+x222+x223+x...   \n",
       "1   2022-01-06  x215+x216+x217+x218+x219+x220+x221+x222+x223+x...   \n",
       "2   2022-01-07  x215+x216+x217+x218+x219+x220+x221+x222+x223+x...   \n",
       "3   2022-01-08  x215+x216+x217+x218+x219+x220+x221+x222+x223+x...   \n",
       "4   2022-01-09  x215+x216+x217+x218+x219+x220+x221+x222+x223+x...   \n",
       "..         ...                                                ...   \n",
       "356 2022-12-27  x215+x216+x217+x218+x219+x220+x221+x222+x223+x...   \n",
       "357 2022-12-28  x215+x216+x217+x218+x219+x220+x221+x222+x223+x...   \n",
       "358 2022-12-29  x215+x216+x217+x218+x219+x220+x221+x222+x223+x...   \n",
       "359 2022-12-30  x215+x216+x217+x218+x219+x220+x221+x222+x223+x...   \n",
       "360 2022-12-31  x215+x216+x217+x218+x219+x220+x221+x222+x223+x...   \n",
       "\n",
       "                                            cumSumDesp  \\\n",
       "0                                                    0   \n",
       "1                                                    0   \n",
       "2                                                    0   \n",
       "3                                                    0   \n",
       "4                                                    0   \n",
       "..                                                 ...   \n",
       "356  77.500x1+182.500x2+356x3+100x4+110x5+519x6+140...   \n",
       "357  77.500x1+182.500x2+356x3+100x4+110x5+519x6+140...   \n",
       "358  77.500x1+182.500x2+356x3+100x4+110x5+519x6+140...   \n",
       "359  77.500x1+182.500x2+356x3+100x4+110x5+519x6+140...   \n",
       "360  77.500x1+182.500x2+356x3+100x4+110x5+519x6+140...   \n",
       "\n",
       "                                                 Resta  RestaMin  \n",
       "0    -x215-x216-x217-x218-x219-x220-x221-x222-x223-...         0  \n",
       "1    -x215-x216-x217-x218-x219-x220-x221-x222-x223-...         0  \n",
       "2    -x215-x216-x217-x218-x219-x220-x221-x222-x223-...         0  \n",
       "3    -x215-x216-x217-x218-x219-x220-x221-x222-x223-...         0  \n",
       "4    -x215-x216-x217-x218-x219-x220-x221-x222-x223-...         0  \n",
       "..                                                 ...       ...  \n",
       "356  77.500x1+182.500x2+356x3+100x4+110x5+519x6+140...         0  \n",
       "357  77.500x1+182.500x2+356x3+100x4+110x5+519x6+140...         0  \n",
       "358  77.500x1+182.500x2+356x3+100x4+110x5+519x6+140...         0  \n",
       "359  77.500x1+182.500x2+356x3+100x4+110x5+519x6+140...         0  \n",
       "360  77.500x1+182.500x2+356x3+100x4+110x5+519x6+140...         0  \n",
       "\n",
       "[361 rows x 5 columns]"
      ]
     },
     "execution_count": 111,
     "metadata": {},
     "output_type": "execute_result"
    }
   ],
   "source": [
    "tst_constraint_3"
   ]
  },
  {
   "cell_type": "code",
   "execution_count": 113,
   "metadata": {},
   "outputs": [
    {
     "name": "stderr",
     "output_type": "stream",
     "text": [
      "C:\\ProgramData\\Anaconda3\\lib\\site-packages\\pandas\\core\\indexing.py:670: SettingWithCopyWarning: \n",
      "A value is trying to be set on a copy of a slice from a DataFrame\n",
      "\n",
      "See the caveats in the documentation: https://pandas.pydata.org/pandas-docs/stable/user_guide/indexing.html#returning-a-view-versus-a-copy\n",
      "  self._setitem_with_indexer(indexer, value)\n"
     ]
    }
   ],
   "source": [
    "tst_constraint_3, test_dfResult_p = tstconstraint_3(modelo_2,yq10_para_bloqueados,bloqueados)\n"
   ]
  },
  {
   "cell_type": "code",
   "execution_count": null,
   "metadata": {
    "scrolled": true
   },
   "outputs": [],
   "source": [
    "tst_constraint_3"
   ]
  },
  {
   "cell_type": "code",
   "execution_count": 114,
   "metadata": {},
   "outputs": [],
   "source": [
    "list_reap = []\n",
    "for idx, row in tst_constraint_3.iterrows():\n",
    "    difDias = np.busday_count(fecha_de_hoy.date(), pd.to_datetime(tst_constraint_3['Fecha'].iloc[idx]).date())\n",
    "    reapPosible = capacidad_reap_por_dia * difDias\n",
    "    list_reap.append(test_dfResult_p['Resta'].iloc[idx])\n",
    "    #model.add_constraint(dfResult_p['Resta'].iloc[idx] <= reapPosible)"
   ]
  },
  {
   "cell_type": "code",
   "execution_count": 115,
   "metadata": {},
   "outputs": [
    {
     "data": {
      "text/plain": [
       "[0.0,\n",
       " 0.0,\n",
       " 0.0,\n",
       " 0.0,\n",
       " 0.0,\n",
       " 0.0,\n",
       " 0.0,\n",
       " 0.0,\n",
       " 0.0,\n",
       " 0.0,\n",
       " 0.0,\n",
       " 0.0,\n",
       " 0.0,\n",
       " 0.0,\n",
       " 0.0,\n",
       " 0.0,\n",
       " 0.0,\n",
       " 0.0,\n",
       " 0.0,\n",
       " 0.0,\n",
       " 0.0,\n",
       " 0.0,\n",
       " 0.0,\n",
       " 0.0,\n",
       " 0.0,\n",
       " 0.0,\n",
       " 0.0,\n",
       " 0.0,\n",
       " 0.0,\n",
       " 0.0,\n",
       " 0.0,\n",
       " 0.0,\n",
       " 0.0,\n",
       " 0.0,\n",
       " 0.0,\n",
       " 0.0,\n",
       " 0.0,\n",
       " 0.0,\n",
       " 0.0,\n",
       " 0.0,\n",
       " 0.0,\n",
       " 0.0,\n",
       " 0.0,\n",
       " 0.0,\n",
       " 0.0,\n",
       " 0.0,\n",
       " 0.0,\n",
       " 0.0,\n",
       " 0.0,\n",
       " 0.0,\n",
       " 0.0,\n",
       " 0.0,\n",
       " 0.0,\n",
       " 0.0,\n",
       " 0.0,\n",
       " 0.0,\n",
       " 0.0,\n",
       " 0.0,\n",
       " 0.0,\n",
       " 0.0,\n",
       " 0.0,\n",
       " 0.0,\n",
       " 0.0,\n",
       " 0.0,\n",
       " 0.0,\n",
       " 0.0,\n",
       " 0.0,\n",
       " 0.0,\n",
       " 0.0,\n",
       " 0.0,\n",
       " 0.0,\n",
       " 0.0,\n",
       " 0.0,\n",
       " 0.0,\n",
       " 0.0,\n",
       " 0.0,\n",
       " 0.0,\n",
       " 0.0,\n",
       " 0.0,\n",
       " 0.0,\n",
       " 0.0,\n",
       " 0.0,\n",
       " 0.0,\n",
       " 0.0,\n",
       " 0.0,\n",
       " 0.0,\n",
       " 0.0,\n",
       " 0.0,\n",
       " 0.0,\n",
       " 0.0,\n",
       " 0.0,\n",
       " 0.0,\n",
       " 0.0,\n",
       " 0.0,\n",
       " 0.0,\n",
       " 0.0,\n",
       " 0.0,\n",
       " 0.0,\n",
       " 0.0,\n",
       " 0.0,\n",
       " 0.0,\n",
       " 0.0,\n",
       " 0.0,\n",
       " 0.0,\n",
       " 0.0,\n",
       " 0.0,\n",
       " 0.0,\n",
       " 0.0,\n",
       " 0.0,\n",
       " 0.0,\n",
       " 0.0,\n",
       " 0.0,\n",
       " 0.0,\n",
       " 0.0,\n",
       " 0.0,\n",
       " 0.0,\n",
       " 0.0,\n",
       " 0.0,\n",
       " 0.0,\n",
       " 0.0,\n",
       " 0.0,\n",
       " 0.0,\n",
       " 0.0,\n",
       " 0.0,\n",
       " 0.0,\n",
       " 0.0,\n",
       " 0.0,\n",
       " 0.0,\n",
       " 0.0,\n",
       " 0.0,\n",
       " 0.0,\n",
       " 0.0,\n",
       " 0.0,\n",
       " 0.0,\n",
       " 0.0,\n",
       " 0.0,\n",
       " 0.0,\n",
       " 0.0,\n",
       " 0.0,\n",
       " 0.0,\n",
       " 0.0,\n",
       " 0.0,\n",
       " 0.0,\n",
       " 0.0,\n",
       " 0.0,\n",
       " 0.0,\n",
       " 0.0,\n",
       " 0.0,\n",
       " 0.0,\n",
       " 0.0,\n",
       " 0.0,\n",
       " 0.0,\n",
       " 0.0,\n",
       " 0.0,\n",
       " 0.0,\n",
       " 0.0,\n",
       " 0.0,\n",
       " 0.0,\n",
       " 0.0,\n",
       " 0.0,\n",
       " 0.0,\n",
       " 0.0,\n",
       " 0.0,\n",
       " 0.0,\n",
       " 0.0,\n",
       " 0.0,\n",
       " 0.0,\n",
       " 0.0,\n",
       " 0.0,\n",
       " 0.0,\n",
       " 0.0,\n",
       " 0.0,\n",
       " 0.0,\n",
       " 0.0,\n",
       " 0.0,\n",
       " 0.0,\n",
       " 0.0,\n",
       " 0.0,\n",
       " 0.0,\n",
       " 0.0,\n",
       " 0.0,\n",
       " 0.0,\n",
       " 0.0,\n",
       " 0.0,\n",
       " 0.0,\n",
       " 0.0,\n",
       " 0.0,\n",
       " 0.0,\n",
       " 0.0,\n",
       " 0.0,\n",
       " 0.0,\n",
       " 0.0,\n",
       " 0.0,\n",
       " 0.0,\n",
       " 0.0,\n",
       " 0.0,\n",
       " 0.0,\n",
       " 0.0,\n",
       " 0.0,\n",
       " 0.0,\n",
       " 0.0,\n",
       " 0.0,\n",
       " 0.0,\n",
       " 0.0,\n",
       " 0.0,\n",
       " 0.0,\n",
       " 0.0,\n",
       " 0.0,\n",
       " 0.0,\n",
       " 0.0,\n",
       " 0.0,\n",
       " 0.0,\n",
       " 0.0,\n",
       " docplex.mp.LinearExpr(285x214),\n",
       " docplex.mp.LinearExpr(285x214),\n",
       " docplex.mp.LinearExpr(285x214),\n",
       " docplex.mp.LinearExpr(285x214),\n",
       " docplex.mp.LinearExpr(285x214),\n",
       " docplex.mp.LinearExpr(285x214),\n",
       " docplex.mp.LinearExpr(285x214),\n",
       " docplex.mp.LinearExpr(285x214),\n",
       " docplex.mp.LinearExpr(285x214),\n",
       " docplex.mp.LinearExpr(285x214),\n",
       " docplex.mp.LinearExpr(285x214),\n",
       " docplex.mp.LinearExpr(285x214),\n",
       " docplex.mp.LinearExpr(285x214),\n",
       " docplex.mp.LinearExpr(285x214),\n",
       " docplex.mp.LinearExpr(285x214),\n",
       " docplex.mp.LinearExpr(285x214),\n",
       " docplex.mp.LinearExpr(285x214),\n",
       " docplex.mp.LinearExpr(285x214),\n",
       " docplex.mp.LinearExpr(285x214),\n",
       " docplex.mp.LinearExpr(285x214),\n",
       " docplex.mp.LinearExpr(285x214),\n",
       " docplex.mp.LinearExpr(285x214),\n",
       " docplex.mp.LinearExpr(285x214),\n",
       " docplex.mp.LinearExpr(285x214),\n",
       " docplex.mp.LinearExpr(285x214),\n",
       " docplex.mp.LinearExpr(285x214),\n",
       " docplex.mp.LinearExpr(285x214),\n",
       " docplex.mp.LinearExpr(285x214),\n",
       " docplex.mp.LinearExpr(285x214),\n",
       " docplex.mp.LinearExpr(285x214),\n",
       " docplex.mp.LinearExpr(285x214),\n",
       " docplex.mp.LinearExpr(285x214),\n",
       " docplex.mp.LinearExpr(285x214),\n",
       " docplex.mp.LinearExpr(285x214),\n",
       " docplex.mp.LinearExpr(285x214),\n",
       " docplex.mp.LinearExpr(285x214),\n",
       " docplex.mp.LinearExpr(285x214),\n",
       " docplex.mp.LinearExpr(285x214),\n",
       " docplex.mp.LinearExpr(285x214),\n",
       " docplex.mp.LinearExpr(285x214),\n",
       " docplex.mp.LinearExpr(285x214),\n",
       " docplex.mp.LinearExpr(285x214),\n",
       " docplex.mp.LinearExpr(285x214),\n",
       " docplex.mp.LinearExpr(285x214),\n",
       " docplex.mp.LinearExpr(285x214),\n",
       " docplex.mp.LinearExpr(285x214),\n",
       " docplex.mp.LinearExpr(285x214),\n",
       " docplex.mp.LinearExpr(285x214),\n",
       " docplex.mp.LinearExpr(285x214),\n",
       " docplex.mp.LinearExpr(285x214),\n",
       " docplex.mp.LinearExpr(285x214),\n",
       " docplex.mp.LinearExpr(285x214),\n",
       " docplex.mp.LinearExpr(285x214),\n",
       " docplex.mp.LinearExpr(285x214),\n",
       " docplex.mp.LinearExpr(285x214),\n",
       " docplex.mp.LinearExpr(285x214),\n",
       " docplex.mp.LinearExpr(285x214),\n",
       " docplex.mp.LinearExpr(285x214),\n",
       " docplex.mp.LinearExpr(285x214),\n",
       " docplex.mp.LinearExpr(285x214),\n",
       " docplex.mp.LinearExpr(285x214),\n",
       " docplex.mp.LinearExpr(285x214),\n",
       " docplex.mp.LinearExpr(285x214),\n",
       " docplex.mp.LinearExpr(285x214),\n",
       " docplex.mp.LinearExpr(285x214),\n",
       " docplex.mp.LinearExpr(285x214),\n",
       " docplex.mp.LinearExpr(285x214),\n",
       " docplex.mp.LinearExpr(285x214),\n",
       " docplex.mp.LinearExpr(285x214),\n",
       " docplex.mp.LinearExpr(285x214),\n",
       " docplex.mp.LinearExpr(285x214),\n",
       " docplex.mp.LinearExpr(285x214),\n",
       " docplex.mp.LinearExpr(285x214),\n",
       " docplex.mp.LinearExpr(285x214),\n",
       " docplex.mp.LinearExpr(285x214),\n",
       " docplex.mp.LinearExpr(285x214),\n",
       " docplex.mp.LinearExpr(285x214),\n",
       " docplex.mp.LinearExpr(285x214),\n",
       " docplex.mp.LinearExpr(285x214),\n",
       " docplex.mp.LinearExpr(285x214),\n",
       " docplex.mp.LinearExpr(285x214),\n",
       " docplex.mp.LinearExpr(285x214),\n",
       " docplex.mp.LinearExpr(285x214),\n",
       " docplex.mp.LinearExpr(285x214),\n",
       " docplex.mp.LinearExpr(285x214),\n",
       " docplex.mp.LinearExpr(285x214),\n",
       " docplex.mp.LinearExpr(285x214),\n",
       " docplex.mp.LinearExpr(285x214),\n",
       " docplex.mp.LinearExpr(285x214),\n",
       " docplex.mp.LinearExpr(285x214),\n",
       " docplex.mp.LinearExpr(285x214),\n",
       " docplex.mp.LinearExpr(285x214),\n",
       " docplex.mp.LinearExpr(285x214),\n",
       " docplex.mp.LinearExpr(285x214),\n",
       " docplex.mp.LinearExpr(285x214),\n",
       " docplex.mp.LinearExpr(285x214),\n",
       " docplex.mp.LinearExpr(285x214),\n",
       " docplex.mp.LinearExpr(285x214),\n",
       " docplex.mp.LinearExpr(285x214),\n",
       " docplex.mp.LinearExpr(285x214),\n",
       " docplex.mp.LinearExpr(285x214),\n",
       " docplex.mp.LinearExpr(285x214),\n",
       " docplex.mp.LinearExpr(285x214),\n",
       " docplex.mp.LinearExpr(285x214),\n",
       " docplex.mp.LinearExpr(285x214),\n",
       " docplex.mp.LinearExpr(285x214),\n",
       " docplex.mp.LinearExpr(285x214),\n",
       " docplex.mp.LinearExpr(285x214),\n",
       " docplex.mp.LinearExpr(285x214),\n",
       " docplex.mp.LinearExpr(285x214),\n",
       " docplex.mp.LinearExpr(285x214),\n",
       " docplex.mp.LinearExpr(285x214),\n",
       " docplex.mp.LinearExpr(285x214),\n",
       " docplex.mp.LinearExpr(285x214),\n",
       " docplex.mp.LinearExpr(285x214),\n",
       " docplex.mp.LinearExpr(285x214),\n",
       " docplex.mp.LinearExpr(285x214),\n",
       " docplex.mp.LinearExpr(285x214),\n",
       " docplex.mp.LinearExpr(285x214),\n",
       " docplex.mp.LinearExpr(285x214),\n",
       " docplex.mp.LinearExpr(285x214),\n",
       " docplex.mp.LinearExpr(285x214),\n",
       " docplex.mp.LinearExpr(285x214),\n",
       " docplex.mp.LinearExpr(285x214),\n",
       " docplex.mp.LinearExpr(285x214),\n",
       " docplex.mp.LinearExpr(285x214),\n",
       " docplex.mp.LinearExpr(285x214),\n",
       " docplex.mp.LinearExpr(285x214),\n",
       " docplex.mp.LinearExpr(285x214),\n",
       " docplex.mp.LinearExpr(285x214),\n",
       " docplex.mp.LinearExpr(285x214),\n",
       " docplex.mp.LinearExpr(285x214),\n",
       " docplex.mp.LinearExpr(285x214),\n",
       " docplex.mp.LinearExpr(285x214),\n",
       " docplex.mp.LinearExpr(285x214),\n",
       " docplex.mp.LinearExpr(285x214),\n",
       " docplex.mp.LinearExpr(285x214),\n",
       " docplex.mp.LinearExpr(285x214),\n",
       " docplex.mp.LinearExpr(285x214),\n",
       " docplex.mp.LinearExpr(285x214),\n",
       " docplex.mp.LinearExpr(285x214),\n",
       " docplex.mp.LinearExpr(285x214),\n",
       " docplex.mp.LinearExpr(285x214),\n",
       " docplex.mp.LinearExpr(285x214),\n",
       " docplex.mp.LinearExpr(285x214),\n",
       " docplex.mp.LinearExpr(285x214),\n",
       " docplex.mp.LinearExpr(285x214),\n",
       " docplex.mp.LinearExpr(285x214)]"
      ]
     },
     "execution_count": 115,
     "metadata": {},
     "output_type": "execute_result"
    }
   ],
   "source": [
    "list_reap"
   ]
  },
  {
   "cell_type": "code",
   "execution_count": null,
   "metadata": {},
   "outputs": [],
   "source": [
    "#%%time\n",
    "constraint_4(modelo_2,yq10_para_bloqueados,bloqueados)\n"
   ]
  },
  {
   "cell_type": "code",
   "execution_count": null,
   "metadata": {},
   "outputs": [],
   "source": [
    "#%%time\n",
    "constraint_5(modelo_2,bloqueados)"
   ]
  },
  {
   "cell_type": "code",
   "execution_count": null,
   "metadata": {},
   "outputs": [],
   "source": [
    "if correr_otd:\n",
    "    modelo_2.maximize((2 * promedio_despacho * modelo_2.sum(binarios)) \n",
    "                + (modelo_2.sum(cant_material_a_despachar[k] * yq10_para_bloqueados['PRIORIDAD_FEFO'].iloc[k] for k in cant_material_a_despachar)))\n",
    "else:\n",
    "    prio_yva_bloq = modelo_2.sum(binarios[i] * bloqueados['Prioridad'][bloqueados['Doc_venta'] == i].unique()[0] for i in binarios)\n",
    "    prio_fefo_bloq = modelo_2.sum(cant_material_a_despachar[k] * yq10_para_bloqueados['PRIORIDAD_FEFO'].iloc[k] for k in cant_material_a_despachar)\n",
    "    modelo_2.maximize(prio_yva_bloq + prio_fefo_bloq)"
   ]
  },
  {
   "cell_type": "code",
   "execution_count": null,
   "metadata": {
    "scrolled": true
   },
   "outputs": [],
   "source": [
    "modelo_2.print_information()"
   ]
  },
  {
   "cell_type": "code",
   "execution_count": null,
   "metadata": {},
   "outputs": [],
   "source": [
    "solucion_bloq = modelo_2.solve()"
   ]
  },
  {
   "cell_type": "code",
   "execution_count": null,
   "metadata": {},
   "outputs": [],
   "source": [
    "soluciones_bloqueados = solucion_bloq.get_all_values()"
   ]
  },
  {
   "cell_type": "code",
   "execution_count": null,
   "metadata": {},
   "outputs": [],
   "source": [
    "print(modelo_2.get_solve_details())"
   ]
  },
  {
   "cell_type": "code",
   "execution_count": null,
   "metadata": {},
   "outputs": [],
   "source": [
    "despachos_bloqueados = soluciones_bloqueados[:len(binarios)]"
   ]
  },
  {
   "cell_type": "code",
   "execution_count": null,
   "metadata": {},
   "outputs": [],
   "source": [
    "despachos_pedidos_bloqueados = pd.DataFrame({'Doc_venta': pedidos_bloqueados, 'SE_DESPACHA': despachos_bloqueados})"
   ]
  },
  {
   "cell_type": "code",
   "execution_count": null,
   "metadata": {},
   "outputs": [],
   "source": [
    "despachos_pedidos_bloqueados = despachos_pedidos_bloqueados.replace([1.0,0.0], ['SI', 'NO'])"
   ]
  },
  {
   "cell_type": "code",
   "execution_count": null,
   "metadata": {},
   "outputs": [],
   "source": [
    "bloqueados = bloqueados.merge(despachos_pedidos_bloqueados, how= 'left', on= 'Doc_venta')"
   ]
  },
  {
   "cell_type": "code",
   "execution_count": null,
   "metadata": {},
   "outputs": [],
   "source": [
    "despachos_materiales_bloqueados = soluciones_bloqueados[len(binarios):]"
   ]
  },
  {
   "cell_type": "code",
   "execution_count": null,
   "metadata": {},
   "outputs": [],
   "source": [
    "yq10_para_bloqueados['CANT_A_DESPACHAR'] = despachos_materiales_bloqueados"
   ]
  },
  {
   "cell_type": "markdown",
   "metadata": {},
   "source": [
    "## OUTPUT"
   ]
  },
  {
   "cell_type": "code",
   "execution_count": null,
   "metadata": {},
   "outputs": [],
   "source": [
    "yq10_para_bloqueados['FECHA_DISPONIBILIDAD'] = pd.to_datetime(yq10_final['FECHA_DISPONIBILIDAD']).dt.date\n",
    "yq10_para_bloqueados.sort_values('CANT_A_DESPACHAR', ascending= False, inplace= True)\n",
    "bloqueados['Fe_entrega'] = pd.to_datetime(bloqueados['Fe_entrega']).dt.date\n",
    "bloqueados.sort_values('SE_DESPACHA', ascending= False, inplace= True)"
   ]
  },
  {
   "cell_type": "code",
   "execution_count": null,
   "metadata": {},
   "outputs": [],
   "source": [
    "bloqueados['FechaFact'] = pd.to_datetime(bloqueados['FechaFact']).dt.date\n",
    "bloqueados['FePrefEnt_Cab'] = pd.to_datetime(bloqueados['FePrefEnt_Cab']).dt.date\n",
    "bloqueados['Fecha Recepcion'] = pd.to_datetime(bloqueados['Fecha Recepcion']).dt.date"
   ]
  },
  {
   "cell_type": "code",
   "execution_count": null,
   "metadata": {},
   "outputs": [],
   "source": [
    "yq10_para_bloqueados.sort_values('CANT_A_DESPACHAR', ascending= False, inplace= True)\n",
    "yq10_para_bloqueados['ID'] = yq10_para_bloqueados['MATERIAL'].astype(str) + yq10_para_bloqueados['DE'] + yq10_para_bloqueados['Lote'] + yq10_para_bloqueados['Ubicación'].astype(str) + yq10_para_bloqueados['CENTRO'].astype(str)"
   ]
  },
  {
   "cell_type": "code",
   "execution_count": null,
   "metadata": {},
   "outputs": [],
   "source": [
    "bloqueados.sort_values('SE_DESPACHA', ascending= False, inplace= True)"
   ]
  },
  {
   "cell_type": "code",
   "execution_count": null,
   "metadata": {},
   "outputs": [],
   "source": [
    "bloqueados = bloqueados.reset_index(drop= True)\n",
    "bloqueados = clasificar_no_despachados(bloqueados)"
   ]
  },
  {
   "cell_type": "code",
   "execution_count": null,
   "metadata": {},
   "outputs": [],
   "source": [
    "bloqueados['SSU'][bloqueados['SE_DESPACHA'] == 'SI'].sum()"
   ]
  },
  {
   "cell_type": "code",
   "execution_count": null,
   "metadata": {},
   "outputs": [],
   "source": [
    "yq10_para_bloqueados['CANT_A_DESPACHAR'].sum()"
   ]
  },
  {
   "cell_type": "code",
   "execution_count": null,
   "metadata": {},
   "outputs": [],
   "source": [
    "len(yq10_para_bloqueados['ID'].unique())"
   ]
  },
  {
   "cell_type": "code",
   "execution_count": null,
   "metadata": {},
   "outputs": [],
   "source": [
    "len(yq10_para_bloqueados)"
   ]
  },
  {
   "cell_type": "code",
   "execution_count": null,
   "metadata": {
    "scrolled": true
   },
   "outputs": [],
   "source": [
    "asignacion_bloqueados = asignar_materiales_a_pedidos(bloqueados, yq10_para_bloqueados)"
   ]
  },
  {
   "cell_type": "code",
   "execution_count": null,
   "metadata": {},
   "outputs": [],
   "source": [
    "bloqueados.to_excel(writer, sheet_name='yva_bloqueados', index=False)\n",
    "yq10_para_bloqueados.to_excel(writer, sheet_name='yq10_bloqueados', index=False)\n",
    "asignacion_bloqueados.to_excel(writer, sheet_name='pedido_materiales_bloq', index=False)\n",
    "#df_kpi.to_excel(writer, sheet_name='KPIs', index=False)"
   ]
  },
  {
   "cell_type": "code",
   "execution_count": null,
   "metadata": {},
   "outputs": [],
   "source": [
    "print('Modelo Finalizado')"
   ]
  },
  {
   "cell_type": "code",
   "execution_count": null,
   "metadata": {},
   "outputs": [],
   "source": [
    "writer.save()\n",
    "writer.close()"
   ]
  },
  {
   "cell_type": "code",
   "execution_count": null,
   "metadata": {},
   "outputs": [],
   "source": [
    "bloqueados_si = bloqueados[bloqueados['SE_DESPACHA'] == 'SI']\n",
    "bloqueados_si.sort_values('Prioridad', ascending= False, inplace= True)\n",
    "yq10_si = yq10_para_bloqueados[yq10_para_bloqueados['CANT_A_DESPACHAR'] > 0]\n",
    "yq10_si.sort_values(['FECHA_DISPONIBILIDAD', 'PRIORIDAD_FEFO', 'Peso_bolsa', 'Campaña'], ascending=[True, False, False, True], inplace= True)        "
   ]
  },
  {
   "cell_type": "code",
   "execution_count": null,
   "metadata": {},
   "outputs": [],
   "source": []
  },
  {
   "cell_type": "code",
   "execution_count": null,
   "metadata": {},
   "outputs": [],
   "source": []
  }
 ],
 "metadata": {
  "kernelspec": {
   "display_name": "Python 3",
   "language": "python",
   "name": "python3"
  },
  "language_info": {
   "codemirror_mode": {
    "name": "ipython",
    "version": 3
   },
   "file_extension": ".py",
   "mimetype": "text/x-python",
   "name": "python",
   "nbconvert_exporter": "python",
   "pygments_lexer": "ipython3",
   "version": "3.7.6"
  }
 },
 "nbformat": 4,
 "nbformat_minor": 4
}
