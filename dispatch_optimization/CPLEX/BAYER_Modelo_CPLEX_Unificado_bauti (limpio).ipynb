{
 "cells": [
  {
   "cell_type": "code",
   "execution_count": 1,
   "metadata": {},
   "outputs": [],
   "source": [
    "import pandas as pd\n",
    "import numpy as np\n",
    "import datetime\n",
    "import argparse\n",
    "import shutil\n",
    "import sys\n",
    "import os\n",
    "\n",
    "from docplex.mp.model import Model"
   ]
  },
  {
   "cell_type": "code",
   "execution_count": 2,
   "metadata": {
    "scrolled": true
   },
   "outputs": [],
   "source": [
    "#CAMBIAR CUANDO SE QUIERA CORRER DESDE ACA O CUANDO SE QUIERA DEESCARGAR UNA NUEVA VERSION PARA CORRER AUTOMATICAMENTE\n",
    "\n",
    "#ap = argparse.ArgumentParser()\n",
    "#ap.add_argument(\"-m\", \"--manual\", required=False, help=\"Indicar si es corrida manual corta (1) o larga (2)\", default= 0)\n",
    "#args = vars(ap.parse_args())\n",
    "\n",
    "args = {'manual': '1'}"
   ]
  },
  {
   "cell_type": "markdown",
   "metadata": {},
   "source": [
    "## Paths"
   ]
  },
  {
   "cell_type": "code",
   "execution_count": 3,
   "metadata": {},
   "outputs": [],
   "source": [
    "# Definimos los paths a los cuales vamos a ir a buscar los excels necesarios\n",
    "# y donde vamos a depositar el output.\n",
    "\n",
    "path_excels = '../Archivos_Variables/'\n",
    "\n",
    "\n",
    "path_fijos = '../fijos/'\n",
    "\n",
    "\n",
    "carpeta_a_escuchar = 'C:/Users/TALIGENT/Documents/De Angelis Juan Bautista/Celula AA/1- Optimizador de despachos/malvina.bernal'\n",
    "\n",
    "archivo_input = '../inputs.csv'\n",
    "\n",
    "archivos = {'yva': None, 'yq10': None, 'embolse': None,'recepciones': None, 'yvatr': None}"
   ]
  },
  {
   "cell_type": "markdown",
   "metadata": {},
   "source": [
    "## Funciones Útiles"
   ]
  },
  {
   "cell_type": "code",
   "execution_count": 4,
   "metadata": {},
   "outputs": [],
   "source": [
    "# Esta función suma dias habiles a una fecha que le pase\n",
    "\n",
    "def proximo_dia_habil(fecha, dias_a_sumar): \n",
    "    proximo_dia_habil = fecha\n",
    "    while dias_a_sumar != 0:\n",
    "        proximo_dia_habil += datetime.timedelta(days=1)\n",
    "        if proximo_dia_habil.weekday() >= 5:\n",
    "            continue\n",
    "        dias_a_sumar -= 1       \n",
    "    return proximo_dia_habil\n",
    "\n",
    "\n",
    "# Esta función arma el nombre del output dependiendo del día actual y el numero de corrida\n",
    "\n",
    "def armar_output():\n",
    "        i = 0\n",
    "        path_intermedio = '../Output/' + str(datetime.date.today())\n",
    "        try:\n",
    "            os.mkdir(path_intermedio)\n",
    "                \n",
    "        except FileExistsError:\n",
    "                pass\n",
    "            \n",
    "        while True:\n",
    "            path_out = path_intermedio + '/run_' + str(i)\n",
    "            try:\n",
    "                os.mkdir(path_out)\n",
    "                break\n",
    "            except FileExistsError:\n",
    "                i += 1\n",
    "                continue\n",
    "        return path_out\n",
    "    \n",
    "    \n",
    "# Esta función toma los archivos que se van a usar para el modelo y los copia en la carpeta output\n",
    "\n",
    "\n",
    "def copiar_archivos(path_out):\n",
    "        shutil.copy(path_excels + '/' + archivos['yva'], path_out + '/' + archivos['yva'])\n",
    "        shutil.copy(path_excels + '/' + archivos['yq10'], path_out + '/' + archivos['yq10'])\n",
    "        shutil.copy(path_fijos + '/' + archivos['embolse'], path_out + '/' + archivos['embolse'])\n",
    "        shutil.copy(path_excels + '/' + archivos['yvatr'], path_out + '/' + archivos['yvatr'])\n",
    "        inputs.to_csv(path_out + '/inputs.csv', sep=';', index= False)\n",
    "        \n",
    "\n",
    "# Esta función mira los archivos fijos y los identifica para leerlos posteriormente\n",
    "\n",
    "\n",
    "def identificar_archivos_fijos(path, archivos):\n",
    "    for file in os.listdir(path):\n",
    "        try:\n",
    "            split1 = file.split('_')[1]\n",
    "            if split1 == 'EMBOLSE':\n",
    "                    archivos['embolse'] = file\n",
    "            elif split1 == 'RECEPCIONCENTROS':\n",
    "                archivos['recepciones'] = file\n",
    "            else: \n",
    "                pass\n",
    "        except: pass\n",
    "        \n",
    "        \n",
    "# Esta función mira los archivos variables y los identifica para posterior lectura\n",
    "\n",
    "# CAMBIO ACÁ\n",
    "def identificar_archivos(path, archivos):\n",
    "    for file in os.listdir(path):\n",
    "        split1 = file.split('_')[1]\n",
    "        if split1 == 'YVADKLT':\n",
    "            archivos['yva'] = file\n",
    "        elif split1 == 'YQ10':\n",
    "            archivos['yq10'] = file\n",
    "        elif split1 == 'YVATRDKLT':\n",
    "            archivos['yvatr'] = file\n",
    "        else: \n",
    "            pass\n",
    "        \n",
    "\n",
    "# Funcion que se usa en el proceso de verificar que tenemos todos los archivos necesarios\n",
    "\n",
    "\n",
    "def tengo_archivos(archivos):\n",
    "    return all(archivos.values())\n"
   ]
  },
  {
   "cell_type": "markdown",
   "metadata": {},
   "source": [
    "## Inputs"
   ]
  },
  {
   "cell_type": "code",
   "execution_count": 5,
   "metadata": {
    "scrolled": true
   },
   "outputs": [],
   "source": [
    "# BUSCO LOS ARCHIVOS INPUT\n",
    "\n",
    "identificar_archivos(path_excels, archivos)\n",
    "\n",
    "identificar_archivos_fijos(path_fijos, archivos)\n",
    "\n",
    "if not(tengo_archivos(archivos)):\n",
    "    print('Falta YVA o YQ10 o Embolse')\n",
    "    sys.exit()\n",
    "\n",
    "path_out = armar_output()"
   ]
  },
  {
   "cell_type": "code",
   "execution_count": 6,
   "metadata": {},
   "outputs": [],
   "source": [
    "dateparse = lambda x: pd.datetime.strptime(str(x), '%d.%m.%Y')"
   ]
  },
  {
   "cell_type": "code",
   "execution_count": 7,
   "metadata": {
    "code_folding": []
   },
   "outputs": [],
   "source": [
    "# Lectura de la YVA\n",
    "# CAMBIO ACÁ\n",
    "data = pd.read_excel(path_excels + '/' + archivos['yva'], sheet_name= 'Sheet1')#, parse_dates=['Fecha_doc', 'Fe_SM_real','FePrefEnt_Cab', 'Fe_entrega','FechaFact'], date_parser=dateparse)\n",
    "\n",
    "fecha_ultimo_pedido = data['Fe_entrega'].max()"
   ]
  },
  {
   "cell_type": "code",
   "execution_count": 8,
   "metadata": {},
   "outputs": [],
   "source": [
    "# Si la corrida es manual se toman los inputs originales\n",
    "\n",
    "if int(args['manual']) == 1:\n",
    "    \n",
    "    inputs = pd.read_csv(archivo_input, sep=';', encoding='mbcs')\n",
    "\n",
    "\n",
    "# Corrida automatica a largo plazo\n",
    "\n",
    "elif int(args['manual']) == 2:\n",
    "    \n",
    "    inputs = pd.read_csv(archivo_input, sep=';', encoding='mbcs')\n",
    "    \n",
    "    inputs['VALOR'].iloc[0] = datetime.date.today()\n",
    "    \n",
    "    inputs['VALOR'].iloc[1] = fecha_ultimo_pedido\n",
    "\n",
    "\n",
    "# Si es automatica se inputa el dia actual y se toman 90 días hábiles en adelante\n",
    "\n",
    "else:\n",
    "    \n",
    "    inputs = pd.read_csv(archivo_input, sep=';', encoding='mbcs')\n",
    "    \n",
    "    inputs['VALOR'].iloc[0] = datetime.date.today()\n",
    "    \n",
    "    inputs['VALOR'].iloc[1] = proximo_dia_habil(inputs['VALOR'].iloc[0], 90)"
   ]
  },
  {
   "cell_type": "code",
   "execution_count": 9,
   "metadata": {},
   "outputs": [
    {
     "data": {
      "text/html": [
       "<div>\n",
       "<style scoped>\n",
       "    .dataframe tbody tr th:only-of-type {\n",
       "        vertical-align: middle;\n",
       "    }\n",
       "\n",
       "    .dataframe tbody tr th {\n",
       "        vertical-align: top;\n",
       "    }\n",
       "\n",
       "    .dataframe thead th {\n",
       "        text-align: right;\n",
       "    }\n",
       "</style>\n",
       "<table border=\"1\" class=\"dataframe\">\n",
       "  <thead>\n",
       "    <tr style=\"text-align: right;\">\n",
       "      <th></th>\n",
       "      <th>VALOR</th>\n",
       "      <th>DESCRIPCION</th>\n",
       "    </tr>\n",
       "  </thead>\n",
       "  <tbody>\n",
       "    <tr>\n",
       "      <th>0</th>\n",
       "      <td>10/2/2023</td>\n",
       "      <td>Día a partir del cual se quiere calcular (dia ...</td>\n",
       "    </tr>\n",
       "    <tr>\n",
       "      <th>1</th>\n",
       "      <td>7/7/2023</td>\n",
       "      <td>Día hasta el cual se quiere calcular (ultimo d...</td>\n",
       "    </tr>\n",
       "    <tr>\n",
       "      <th>2</th>\n",
       "      <td>NO</td>\n",
       "      <td>Se desea usar la fecha temprana de siembra  ('...</td>\n",
       "    </tr>\n",
       "    <tr>\n",
       "      <th>3</th>\n",
       "      <td>NO</td>\n",
       "      <td>Se desea usar la fecha tardía de siembra  ('SI...</td>\n",
       "    </tr>\n",
       "    <tr>\n",
       "      <th>4</th>\n",
       "      <td>12500</td>\n",
       "      <td>Capacidad logistica diaria (SSU)</td>\n",
       "    </tr>\n",
       "    <tr>\n",
       "      <th>5</th>\n",
       "      <td>3000</td>\n",
       "      <td>Capacidad REAP por dia (SSU)</td>\n",
       "    </tr>\n",
       "    <tr>\n",
       "      <th>6</th>\n",
       "      <td>Q</td>\n",
       "      <td>Ultima campaña despachable</td>\n",
       "    </tr>\n",
       "    <tr>\n",
       "      <th>7</th>\n",
       "      <td>SI</td>\n",
       "      <td>Calcular fechas erroneas  ('SI' o 'NO')</td>\n",
       "    </tr>\n",
       "    <tr>\n",
       "      <th>8</th>\n",
       "      <td>NO</td>\n",
       "      <td>Correr Por OTD ('SI' o 'NO')</td>\n",
       "    </tr>\n",
       "  </tbody>\n",
       "</table>\n",
       "</div>"
      ],
      "text/plain": [
       "       VALOR                                        DESCRIPCION\n",
       "0  10/2/2023  Día a partir del cual se quiere calcular (dia ...\n",
       "1   7/7/2023  Día hasta el cual se quiere calcular (ultimo d...\n",
       "2         NO  Se desea usar la fecha temprana de siembra  ('...\n",
       "3         NO  Se desea usar la fecha tardía de siembra  ('SI...\n",
       "4      12500                   Capacidad logistica diaria (SSU)\n",
       "5       3000                       Capacidad REAP por dia (SSU)\n",
       "6          Q                         Ultima campaña despachable\n",
       "7         SI            Calcular fechas erroneas  ('SI' o 'NO')\n",
       "8         NO                       Correr Por OTD ('SI' o 'NO')"
      ]
     },
     "execution_count": 9,
     "metadata": {},
     "output_type": "execute_result"
    }
   ],
   "source": [
    "inputs"
   ]
  },
  {
   "cell_type": "code",
   "execution_count": 10,
   "metadata": {},
   "outputs": [],
   "source": [
    "# Copio los archivos en la carpeta de outputs\n",
    "copiar_archivos(path_out) "
   ]
  },
  {
   "cell_type": "code",
   "execution_count": 11,
   "metadata": {},
   "outputs": [],
   "source": [
    "# INPUTS QUE SE VAN A PODER CAMBIAR\n",
    "\n",
    "fecha_de_hoy = pd.to_datetime(inputs['VALOR'].iloc[0], format='%d/%m/%Y') #Fecha del dia en que se hace la optimizacion\n",
    "\n",
    "ultimo_dia = pd.to_datetime(inputs['VALOR'].iloc[1], format='%d/%m/%Y')\n",
    "\n",
    "dias_habiles_disponibles = np.busday_count(fecha_de_hoy.date(), ultimo_dia.date()) # Dias habiles disponibles para despachar o hacer REAP\n",
    "\n",
    "USAR_FECHA_SIEMBRA_TEMPRANA = True if inputs['VALOR'].iloc[2] == 'SI' else False\n",
    "\n",
    "USAR_FECHA_SIEMBRA_TARDIA = True if inputs['VALOR'].iloc[3] == 'SI' else False\n",
    "\n",
    "capacidad_despacho_por_dia = int(inputs['VALOR'].iloc[4]) #Cuantos SSU se pueden despachar por dia (segun camiones)\n",
    "\n",
    "capacidad_reap_por_dia = int(inputs['VALOR'].iloc[5])\n",
    "\n",
    "ultima_campaña_despachable = inputs['VALOR'].iloc[6]\n",
    "\n",
    "calcular_fechas_erroneas = True if inputs['VALOR'].iloc[7] == 'SI' else False\n",
    "\n",
    "nombre_output = path_out + '/OPTIMIZADODISTRIBUCION_' + fecha_de_hoy.strftime(\"%Y%m%d\") + '_' + ultimo_dia.strftime(\"%Y%m%d\") + '_ROJAS' + '.xlsx'\n",
    "\n",
    "correr_otd = True if inputs['VALOR'].iloc[8] == 'SI' else False"
   ]
  },
  {
   "cell_type": "code",
   "execution_count": 12,
   "metadata": {
    "scrolled": false
   },
   "outputs": [],
   "source": [
    "# Lectura de todos los archivos necesarios\n",
    "\n",
    "yq10 = pd.read_excel(path_excels + archivos['yq10']) #,parse_dates=['Fecha DE'], date_parser=dateparse)\n",
    "\n",
    "embolse = pd.read_excel(path_fijos + archivos['embolse'], skiprows=5, sheet_name='Hoja 1')\n",
    "\n",
    "prop = pd.read_csv(path_fijos + 'proporcion_de_material_por_hibrido')\n",
    "\n",
    "yvatr = pd.read_excel(path_excels + archivos['yvatr'], sheet_name='Sheet1') #sheet_name='YVA TR GRAL')\n",
    "\n",
    "prioridades = pd.read_excel(path_fijos + 'Prioridades Distribución FEFO.xlsx')\n",
    "\n",
    "zonas = pd.read_excel(path_fijos + 'Detalle Distrib - Final.xlsx', skiprows=3)\n",
    "\n",
    "recep = pd.read_excel(path_fijos + '/'  + archivos['recepciones'])\n",
    "\n",
    "# CAMBIO ACÁ\n",
    "\n",
    "# maestro = pd.read_excel('C:/FTPS/malvina.bernal/fijos/Grupo de clientes.xlsx', sheet_name= 'Base clientes')"
   ]
  },
  {
   "cell_type": "code",
   "execution_count": 13,
   "metadata": {},
   "outputs": [
    {
     "data": {
      "text/plain": [
       "('../fijos/202302140705_EMBOLSE_ROJAS.xlsx',)"
      ]
     },
     "execution_count": 13,
     "metadata": {},
     "output_type": "execute_result"
    }
   ],
   "source": [
    "path_fijos + archivos['embolse'],"
   ]
  },
  {
   "cell_type": "code",
   "execution_count": null,
   "metadata": {},
   "outputs": [],
   "source": [
    "embolse"
   ]
  },
  {
   "cell_type": "markdown",
   "metadata": {},
   "source": [
    "## Embolse"
   ]
  },
  {
   "cell_type": "code",
   "execution_count": 83,
   "metadata": {},
   "outputs": [],
   "source": [
    "embolse.drop(columns= ['Unnamed: 0', 'Unnamed: 25', 'Unnamed: 26'], inplace= True)\n",
    "\n",
    "embolse = embolse.dropna(subset=['Centro'])\n",
    "\n",
    "#zonas.drop(columns= ['Unnamed: 0'], inplace= True)"
   ]
  },
  {
   "cell_type": "code",
   "execution_count": 84,
   "metadata": {
    "scrolled": true
   },
   "outputs": [],
   "source": [
    "# Hay embolses que se dividen en los destinos por lo que hay que separarlos\n",
    "\n",
    "# Edicion Bauti:\n",
    "#   /// En el nuevo archivo de embolse no puede verse la presencia del centro 6035.\n",
    "embolse = embolse[embolse['Centro'] != 6035] #Filtramos el 6035 porque nos dijeron que no iba más\n",
    "\n",
    "separadas = embolse[(embolse['Centro'] != 6009) & (embolse['Centro'] != 6244)] # & (embolse['Centro'] != 6592)]\n"
   ]
  },
  {
   "cell_type": "code",
   "execution_count": 85,
   "metadata": {},
   "outputs": [],
   "source": [
    "# Para los embolses que se mandan a ambos centros en distintas proporciones, armo una linea para cada centro\n",
    "\n",
    "if len(separadas) > 0:\n",
    "    separadas['Centro'] = separadas['Centro'].astype(str)\n",
    "    for ind, row in separadas.iterrows():\n",
    "\n",
    "            copia = row\n",
    "\n",
    "            div1, centro1, div2, centro2 = row['Centro'].split(' ')\n",
    "\n",
    "            if centro1 == '6009':\n",
    "\n",
    "                centro2 = '6244'\n",
    "\n",
    "            else: \n",
    "\n",
    "                centro1 = '6244'\n",
    "\n",
    "            embolse.iloc[ind, embolse.columns.get_loc('Centro')] = centro1\n",
    "\n",
    "            embolse.iloc[ind, embolse.columns.get_loc('SSU estimados')] *= (float(div1[0:2]) / 100)\n",
    "\n",
    "            copia['Centro'] = centro2\n",
    "\n",
    "            copia['SSU estimados'] *= (float(div2[0:2]) / 100)\n",
    "\n",
    "            embolse = embolse.append(copia)\n",
    "\n",
    "\n",
    "    embolse['Centro'] = embolse['Centro'].replace({'6244': 6244, '6009': 6009})\n",
    "\n",
    "\n",
    "#Me quedo con las Filas del embolse que estan entre el primer dia y el ultimo a optimizar\n",
    "embolse['Fecha disponibilidad'] = pd.to_datetime(embolse['Fecha disponibilidad'])\n",
    "\n",
    "embolse = embolse[(embolse['Fecha disponibilidad'] >= fecha_de_hoy) \n",
    "                  & (embolse['Fecha disponibilidad'] <= ultimo_dia)]\n",
    "\n",
    "embolse = embolse[['Híbridos', 'Unidad', 'SSU estimados', 'Fecha disponibilidad', 'Centro']]\n",
    "\n",
    "embolse = embolse.groupby(['Híbridos','Fecha disponibilidad']).sum(numeric_only=True).reset_index()"
   ]
  },
  {
   "cell_type": "code",
   "execution_count": 86,
   "metadata": {},
   "outputs": [],
   "source": [
    "def estimar_SKU(hy, ssu_total, prop, disponibilidad, destino): # prop es el dataframe que esta metido en el csv \"proporcion_de_material_por_hibrido\"\n",
    "    df = prop[['HY','Material','PROPORCION_DEL_HY']]\n",
    "    df = df[df['HY'] == hy]\n",
    "    df['SSU_A_OBTENER'] = (ssu_total* df['PROPORCION_DEL_HY']).round()\n",
    "    df['Fecha disponibilidad'] = disponibilidad\n",
    "    df['DESTINOS'] = destino\n",
    "    return df"
   ]
  },
  {
   "cell_type": "code",
   "execution_count": 87,
   "metadata": {},
   "outputs": [],
   "source": [
    "def estimar_embolse(embolse, prop):\n",
    "    df = pd.DataFrame()\n",
    "    for x in range(len(embolse)):\n",
    "        data = estimar_SKU(embolse.iloc[x,0], embolse.iloc[x,2], prop, embolse.iloc[x,1],embolse.iloc[x,3])\n",
    "        df = pd.concat([df, data], ignore_index=True)\n",
    "    return df"
   ]
  },
  {
   "cell_type": "code",
   "execution_count": 88,
   "metadata": {
    "scrolled": true
   },
   "outputs": [],
   "source": [
    "# ACA PODRÍA PRIMERO SEPARAR POR FECHA Y DESPUES HACER EL IF\n",
    "\n",
    "if len(embolse) != 0:\n",
    "    \n",
    "    embolse['Fecha disponibilidad'] = pd.to_datetime(embolse['Fecha disponibilidad']).dt.date    \n",
    "    \n",
    "    embolse_estimado = estimar_embolse(embolse, prop)\n",
    "    \n",
    "    mat_embolse = embolse_estimado['Material']\n",
    "    \n",
    "    ssu_embolse = embolse_estimado['SSU_A_OBTENER']\n",
    "    \n",
    "    destinos = embolse_estimado['DESTINOS']\n",
    "    \n",
    "    fechas_embolse = pd.to_datetime(embolse_estimado['Fecha disponibilidad'])\n",
    "    \n",
    "    hibridos_embolse = embolse_estimado['HY']\n",
    "        \n",
    "    yq10_embolse = pd.DataFrame({'HY': hibridos_embolse, 'MATERIAL': mat_embolse,'CENTRO': destinos, 'SSU' : ssu_embolse, 'FECHA_DISPONIBILIDAD': fechas_embolse, 'PRIORIDAD_FEFO': 17 })\n",
    "\n",
    "else:\n",
    "    \n",
    "    yq10_embolse = pd.DataFrame(columns=['HY','MATERIAL','CENTRO', 'SSU', 'FECHA_DISPONIBILIDAD', 'PRIORIDAD_FEFO'])"
   ]
  },
  {
   "cell_type": "markdown",
   "metadata": {},
   "source": [
    "## YQ10"
   ]
  },
  {
   "cell_type": "code",
   "execution_count": 89,
   "metadata": {},
   "outputs": [],
   "source": [
    "#Elimino las lineas que no tienen habilitacion DAV 1 ni DAV 2\n",
    "\n",
    "yq10.dropna(subset=['DAV Number 1 Argentina', 'DAV Number 2 Argentina'], how='all', inplace=True)\n",
    "\n",
    "\n",
    "yq10 = yq10[((yq10['Ce.'] == 6009) | (yq10['Ce.'] == 6244) | (yq10['Ce.'] == 6592)) & (yq10['Alm.'] == 'WM01')]\n",
    "\n",
    "mask_1 = (yq10['Cód.'] == 'LIB1') | (yq10['Cód.'] == 'LIB2') | (yq10['Cód.'] == 'LIB3') \n",
    "mask_2 = ((yq10['Cód.'] == 'DETA') & ((pd.to_datetime(yq10['Fecha DE'], format='%d.%m.%Y').dt.day > 15)) & (pd.to_datetime(yq10['Fecha DE'], format='%d.%m.%Y').dt.month >= 10))\n",
    "\n",
    "yq10 = yq10[ mask_1 | mask_2 ]\n",
    "\n",
    "yq10 = yq10[\n",
    "            (yq10['Ubicación'].str[0:2] != 'RO') & \n",
    "            (yq10['Ubicación'].str[0:3] != 'MAN') & \n",
    "            (yq10['Ubicación'] != 'STORECV') & \n",
    "            (yq10['Ubicación'] != 'VIRTUAL') & \n",
    "            (yq10['Ubicación'] != 'MFDENTRG') & \n",
    "            (yq10['Ubicación'] != 0)\n",
    "        ]\n",
    "\n",
    "yq10 = yq10[yq10['UMB'] == 'BOL']"
   ]
  },
  {
   "cell_type": "code",
   "execution_count": 90,
   "metadata": {},
   "outputs": [],
   "source": [
    "lotes_habilitados = list(np.sort(yq10['Lote'].str[0].unique()))\n",
    "\n",
    "#SI AL LLEGAR A LA Z VUELVE A EMPEZAR POR LA A, ESTE CODIGO NO FUNCIONA BIEN\n",
    "# Edicion Bauti:\n",
    "#   /// Aca se me ocurre darle valor a las letras y de esa manera cuando llega a la AA va a tener un valor numerico\n",
    "#   /// y va a ser mas facil filtrar.\n",
    "#   /// Ademas cambie el '>' por '>=' ya que en el input dice que la campaña especificada es considerada.\n",
    "yq10 = yq10[(yq10['Lote'].str[0] >= ultima_campaña_despachable)]"
   ]
  },
  {
   "cell_type": "code",
   "execution_count": 91,
   "metadata": {
    "scrolled": true
   },
   "outputs": [],
   "source": [
    "yq10.reset_index(drop= True, inplace=True)\n",
    "yq10['HY'] = yq10['Denominación'].apply(lambda x: x.split(' ')[2])"
   ]
  },
  {
   "cell_type": "code",
   "execution_count": 92,
   "metadata": {},
   "outputs": [],
   "source": [
    "def pasar_a_ssu(yq10_):\n",
    "    \n",
    "    equivSSU = 80\n",
    "    \n",
    "    df1 = yq10_.copy(deep=True)\n",
    "    \n",
    "    df1['TamanioBolsa'] = df1['Denominación'].apply(lambda x: x.split(' ')[4][:2])\n",
    "    \n",
    "    df1 = df1[((df1['TamanioBolsa'] == '80') | ( df1['TamanioBolsa'] == '60') | (df1['TamanioBolsa'] == '40'))]\n",
    "    df1['TamanioBolsa'] = df1['TamanioBolsa'].astype(int)\n",
    "    \n",
    "    '''\n",
    "    Toma de la yq10 y la pasa a tarima o pallet. LibrUtiliz son las cantidades de bolsas que tengo.\n",
    "    Aca lo que hace es normalizar segun bolsa de 80 kg.\n",
    "    Hace una regla de 3 para saber cuanto le va a ocupar en 'SSU' una bolsa de determinado tamaño.\n",
    "    80 -------------- 1 Unidad 'LibrUtiliz'\n",
    "    'TamanioBolsa' --- x \n",
    "    '''\n",
    "    df1['SSU'] = df1['LibrUtiliz'] * (df1['TamanioBolsa'] / equivSSU) \n",
    "    \n",
    "    return df1"
   ]
  },
  {
   "cell_type": "code",
   "execution_count": 93,
   "metadata": {
    "scrolled": true
   },
   "outputs": [],
   "source": [
    "yq10.reset_index(drop=True, inplace=True)\n",
    "yq10 = pasar_a_ssu(yq10)"
   ]
  },
  {
   "cell_type": "code",
   "execution_count": 94,
   "metadata": {
    "scrolled": true
   },
   "outputs": [],
   "source": [
    "yq10_final = pd.DataFrame({'HY': yq10['HY'], 'MATERIAL': yq10['Material'],'CENTRO': yq10['Ce.'], 'SSU' : yq10['SSU'], \n",
    "                           'FECHA_DISPONIBILIDAD': fecha_de_hoy, 'DE': yq10['Cód.'], 'AÑO_MAX_CAMP': pd.to_datetime(yq10['Fecha DE'], format='%d.%m.%Y').dt.year, 'Campaña': yq10['Lote'].str[0],\n",
    "                           'Lote': yq10['Lote'], 'Ubicación': yq10['Ubicación'] , 'Peso_bolsa': yq10['SG Peso neto promedio p. bolsa'] })\n",
    "\n",
    "\n",
    "yq10_final = yq10_final.merge(prioridades, how='left', on= ['DE', 'Campaña', 'AÑO_MAX_CAMP'])\n",
    "\n",
    "#Hago esto porque las prioridades no tienen en cuenta la campaña U\n",
    "yq10_final['Prioridad'].fillna(16, inplace= True)\n",
    "\n",
    "\n",
    "# Agrego distintivo para materiales provenientes del embolse\n",
    "yq10_final['Campaña'] = yq10_final['Campaña'].fillna('Embolse')\n",
    "\n",
    "yq10_final.rename(columns={'Prioridad': 'PRIORIDAD_FEFO'}, inplace= True)\n",
    "\n",
    "yq10_final = yq10_final.drop(columns=['AÑO_MAX_CAMP'])\n",
    "\n",
    "\n",
    "if len(yq10_embolse) != 0:\n",
    "    yq10_final = pd.concat([yq10_final, yq10_embolse], ignore_index=True)\n",
    "\n",
    "\n",
    "# yq10_final['PRIORIDAD_FEFO'].replace([1,2,3,4,5,6,7,8,9,10,11,12,13,14,15,16,17], [17,16,15,14,13,12,11,10,9,8,7,6,5,4,3,2,1], inplace= True)\n",
    "# Edicion Bauti:\n",
    "#   /// Ya que esto esta hardcodeado y podria haber una prioridad mayor a 17, modifico el codigo.\n",
    "#   /// En 'PRIORIDAD_FEFO', una prioridad = 1 es la mas alta prioridad, pero, como se trata de un problema de maximizacion y la prioridad es un escalar, \n",
    "#   /// al momento de multiplicar este escalar por algun valor se necesita que el valor sea lo mas grande. Entonces en el problema de maximizacion\n",
    "#   /// una prioridad de 17 implicaria una alta prioridad.\n",
    "prioridad = list(range(1,int(yq10_final['PRIORIDAD_FEFO'].unique().max() + 1)))\n",
    "prioridad_inversa = prioridad[::-1]\n",
    "yq10_final['PRIORIDAD_FEFO'].replace(prioridad, prioridad_inversa,inplace=True)\n",
    "\n",
    "# Normalizo la prioridad FEFO a valores entre 0 y 1.\n",
    "yq10_final['PRIORIDAD_FEFO'] = (yq10_final['PRIORIDAD_FEFO'] - 1) / (yq10_final['PRIORIDAD_FEFO'].unique().max() - 1)\n",
    "\n",
    "yq10_final['FECHA_DISPONIBILIDAD'] = pd.to_datetime(yq10_final['FECHA_DISPONIBILIDAD'])\n",
    "\n",
    "yq10_final['DE'].fillna(value= 'Emb', inplace= True)\n"
   ]
  },
  {
   "cell_type": "code",
   "execution_count": 95,
   "metadata": {},
   "outputs": [
    {
     "data": {
      "text/plain": [
       "True"
      ]
     },
     "execution_count": 95,
     "metadata": {},
     "output_type": "execute_result"
    }
   ],
   "source": [
    "# ME FIJO QUE NO SE DUPLIQUE EL STOCK\n",
    "len(yq10) + len(yq10_embolse) == len(yq10_final)"
   ]
  },
  {
   "cell_type": "code",
   "execution_count": 96,
   "metadata": {},
   "outputs": [],
   "source": [
    "yq10_nueva = yq10_final.groupby(['MATERIAL'])['SSU'].sum()\n",
    "yq10_nueva = pd.DataFrame({'Material' : yq10_nueva.index, 'Cantidad_Total' : yq10_nueva.values})"
   ]
  },
  {
   "cell_type": "markdown",
   "metadata": {},
   "source": [
    "## Prioridades"
   ]
  },
  {
   "cell_type": "code",
   "execution_count": 97,
   "metadata": {},
   "outputs": [
    {
     "data": {
      "text/plain": [
       "12500"
      ]
     },
     "execution_count": 97,
     "metadata": {},
     "output_type": "execute_result"
    }
   ],
   "source": [
    "capacidad_despacho_por_dia"
   ]
  },
  {
   "cell_type": "code",
   "execution_count": 98,
   "metadata": {},
   "outputs": [],
   "source": [
    "def asignar_fechas_entrega(ytr):\n",
    "    # Esta funcion agarra pedidos historicos pendientes de entrega y le asigna nuevas fechas.\n",
    "    asignados = ytr[(ytr['Lote'].isna()) & (ytr['Fe_SM_real'].isna())]\n",
    "    # Edicion Bauti:\n",
    "    #   /// Pregunta: Por que divide la capacidad por 2?\n",
    "    #   /// Respuesta: debe ser porque se asignan dos turnos al dia.\n",
    "    #   /// Pregunta: Podria ser que en la tabla YVATR haya pedidos que no fueron entregados?\n",
    "    #   /// de ser asi se les da la maxima prioridad a estos envios pendientes?\n",
    "    maximo = capacidad_despacho_por_dia / 2\n",
    "    dia = 1\n",
    "    suma = 0\n",
    "    if(len(asignados) > 0):\n",
    "        for indice in asignados.index.to_list():\n",
    "            asignados.loc[indice, 'Doc_venta'] = str(asignados.loc[indice, 'Doc_venta']) + '-' + str(indice)\n",
    "            if (suma + asignados.loc[indice, 'Ctd_entr']) < maximo:\n",
    "                suma += asignados.loc[indice, 'Ctd_entr']\n",
    "                asignados.loc[indice, 'Fe_entrega'] = proximo_dia_habil(fecha_de_hoy, dia)\n",
    "            else:\n",
    "                suma = asignados.loc[indice, 'Ctd_entr']\n",
    "                dia += 1\n",
    "                asignados.loc[indice, 'Fe_entrega'] = proximo_dia_habil(fecha_de_hoy, dia)\n",
    "    \n",
    "        #asignados.rename(columns={'  Ctd.fact.': ' Ctd.fact.', '  Ctd.conf.': ' Ctd.conf.',\n",
    "        #                          '  Ctd.entr.': ' Ctd.entr.', 'Fe-SM real': 'Fe.SM real'}, inplace=True)\n",
    "        asignados = asignados.copy()\n",
    "        asignados.loc[:, 'Status'] = 'Liberado'\n",
    "        \n",
    "        # Fuerza la prioridad mas alta para sacarse de encima estos pedidos pendientes\n",
    "        asignados.loc[:, 'Prioridad'] = 500000\n",
    "        asignados.loc[:, 'ERROR_FECHA_ENTREGA'] = 'NO'\n",
    "        asignados.loc[:, 'Recepcion'] = 'Recibe'\n",
    "        asignados = asignados[\n",
    "            [\n",
    "            'Doc_venta', \n",
    "            'ClVt', \n",
    "            'Solic', \n",
    "            'Nomb_Dest_Mcia', \n",
    "            'GClt', \n",
    "            'Dest_Mcia', \n",
    "            'Oficina_de_Venta',\n",
    "            'Material', \n",
    "            'SSU', \n",
    "            'Fe_entrega', \n",
    "            'Recepcion',\n",
    "            'ERROR_FECHA_ENTREGA', \n",
    "            'Status', \n",
    "            'FechaFact', \n",
    "            'FePrefEnt_Cab', \n",
    "            'BqEn', \n",
    "            'Prioridad'\n",
    "            ]]\n",
    "        \n",
    "        # Edicion Bauti:\n",
    "        #   /// Comento el cambio de nombre a la columna, ya que cuando se realiza el append\n",
    "        #   /// entre el DF 'despachos' y 'yvaDK' las columnas estas difieren en el nombre\n",
    "        #   /// lo que provoca un error de concatenacion.\n",
    "        # asignados.rename(columns={'Nomb_Dest_Mcia': 'Cliente'}, inplace=True)\n",
    "    return asignados"
   ]
  },
  {
   "cell_type": "code",
   "execution_count": 99,
   "metadata": {},
   "outputs": [],
   "source": [
    "# Funciones para \"calcular\" prioridades\n",
    "anio_actual = fecha_de_hoy.year\n",
    "\n",
    "anio_anterior = anio_actual - 1\n",
    "\n",
    "prio1 = 100000\n",
    "\n",
    "prio2 = 10000\n",
    "\n",
    "prioridad_pedido = 1000\n",
    "\n",
    "def obtener_prioridad(potencia):\n",
    "    return prioridad_pedido / (2 ** potencia)\n",
    "\n",
    "\n",
    "# REGLA DE LAS FILAS 3 Y 4 (Tipo Pedido)\n",
    "def prioridad_Clvt(df):\n",
    "    regla1_tp = (df['ClVt'] == 'ZMKG') | (df['ClVt'] == 'ZBKG')\n",
    "    regla2_tp = (df['ClVt'] == 'ZROG') | (df['ClVt'] == 'ZCHG')\n",
    "    regla3_tp = (df['ClVt'] == 'ZSCG') | (df['ClVt'] == 'ZRQG') | (df['ClVt'] == 'ZVQG') \n",
    "    \n",
    "    df.loc[:,'Prioridad_Clvt'] = 0\n",
    "    df.loc[regla1_tp, 'Prioridad_Clvt'] = prio1\n",
    "    df.loc[regla2_tp, 'Prioridad_Clvt'] = prio2\n",
    "    df.loc[regla3_tp, 'Prioridad_Clvt'] = obtener_prioridad(1)\n",
    "    \n",
    "    return df\n",
    "\n",
    "\n",
    "# REGLA DE LA FILA 5 (Fecha Factura)\n",
    "def prioridad_ff(df):\n",
    "    regla1_ff = df['FechaFact'].dt.year == anio_anterior\n",
    "    regla2_ff = df['FechaFact'].dt.year == anio_actual\n",
    "    regla3_ff = df['FechaFact'].dt.month <= 4\n",
    "    regla4_ff = df['FechaFact'].dt.month > 4\n",
    "    \n",
    "    df.loc[:,'Prioridad_ff'] = 0\n",
    "    df.loc[regla1_ff, 'Prioridad_ff'] = obtener_prioridad(2)\n",
    "    df.loc[regla2_ff & regla3_ff, 'Prioridad_ff'] = obtener_prioridad(3)\n",
    "    df.loc[regla2_ff & regla4_ff, 'Prioridad_ff'] = obtener_prioridad(4)\n",
    "    \n",
    "    return df\n",
    "\n",
    "\n",
    "#REGLA FILA 6 (Tipo Cliente)\n",
    "def prioridad_tc(df):\n",
    "    regla1_tc = (df['GClt'] == 'EK') & (df['GClt'] == 'ES')\n",
    "    regla2_tc = (df['GClt'] == 'EL') & (df['GClt'] == 'E5')\n",
    "    regla3_tc =df['GClt'] == 'EF'\n",
    "    regla4_tc =df['GClt'] == 'E2'\n",
    "    regla5_tc = df['GClt'] == 'EC'\n",
    "    regla6_tc = df['GClt'] == 'E7'\n",
    "    regla7_tc = df['GClt'] == 'EY'\n",
    "    \n",
    "    df.loc[:, 'Prioridad_tc'] = 0\n",
    "    df.loc[regla1_tc, 'Prioridad_tc'] = obtener_prioridad(5)\n",
    "    df.loc[regla2_tc, 'Prioridad_tc'] = obtener_prioridad(6) \n",
    "    df.loc[regla3_tc, 'Prioridad_tc'] = obtener_prioridad(7)\n",
    "    df.loc[regla4_tc, 'Prioridad_tc'] = obtener_prioridad(8)\n",
    "    df.loc[regla5_tc, 'Prioridad_tc'] = obtener_prioridad(9)\n",
    "    df.loc[regla6_tc, 'Prioridad_tc'] = obtener_prioridad(10)\n",
    "    df.loc[regla7_tc, 'Prioridad_tc'] = obtener_prioridad(11)\n",
    "    \n",
    "    return df\n",
    "\n",
    "\n",
    "# REGLA DE LA FILA 7 (Fecha Deseada)\n",
    "def prioridad_fd(df):\n",
    "    regla1_fd = df['FePrefEnt_Cab'].dt.year == anio_anterior\n",
    "    regla2_fd = df['FePrefEnt_Cab'].dt.year == anio_actual\n",
    "    regla3_fd = df['FePrefEnt_Cab'].dt.month <= 4\n",
    "    regla4_fd = df['FePrefEnt_Cab'].dt.month.between(4, 7, inclusive='left')\n",
    "    regla5_fd = df['FePrefEnt_Cab'].dt.month.between(7, 10, inclusive='left')\n",
    "    regla6_fd = df['FePrefEnt_Cab'].dt.month > 10\n",
    "    \n",
    "    df.loc[:, 'Prioridad_fd'] = 0\n",
    "    df.loc[ regla1_fd, 'Prioridad_fd'] = obtener_prioridad(12)\n",
    "    df.loc[ (regla2_fd & regla3_fd), 'Prioridad_fd'] = obtener_prioridad(13)\n",
    "    df.loc[ (regla2_fd & regla4_fd), 'Prioridad_fd'] = obtener_prioridad(14)\n",
    "    df.loc[ (regla2_fd & regla5_fd), 'Prioridad_fd'] = obtener_prioridad(15)\n",
    "    df.loc[ (regla2_fd & regla6_fd), 'Prioridad_fd'] = obtener_prioridad(16)\n",
    "    \n",
    "    return df\n",
    "\n",
    "\n",
    "def prioridad_yva(df):\n",
    "    df = prioridad_Clvt(df)\n",
    "    df = prioridad_ff(df)\n",
    "    df = prioridad_tc(df)\n",
    "    df = prioridad_fd(df)\n",
    "    df['Prioridad'] = df['Prioridad_Clvt'] + df['Prioridad_fd'] + df['Prioridad_ff'] + df['Prioridad_tc']\n",
    "    df.drop(columns=['Prioridad_Clvt', 'Prioridad_fd', 'Prioridad_ff', 'Prioridad_tc'], inplace= True)\n",
    "    \n",
    "    return df"
   ]
  },
  {
   "cell_type": "markdown",
   "metadata": {},
   "source": [
    "## YVA (DATA)"
   ]
  },
  {
   "cell_type": "code",
   "execution_count": 100,
   "metadata": {
    "scrolled": false
   },
   "outputs": [],
   "source": [
    "# Obtengo las fechas de Inicio y Fin de Siembra temprana y tardía\n",
    "# Primero \n",
    "feZonas = zonas[['Sales Office description', 'Inicio ', 'Fin', 'Inicio .1', 'Fin.1']].copy()\n",
    "\n",
    "feZonas.rename(\n",
    "    columns= {\n",
    "        'Sales Office description': 'Oficina_de_Venta', \n",
    "        'Inicio ':'Inicio Siembra Temprana',\n",
    "        'Fin':'Fin Siembra Temprana', \n",
    "        'Inicio .1':'Inicio Siembra Tardia',\n",
    "        'Fin.1':'Fin Siembra Tardia'\n",
    "        },\n",
    "    inplace=True\n",
    "    )"
   ]
  },
  {
   "cell_type": "code",
   "execution_count": 101,
   "metadata": {
    "scrolled": false
   },
   "outputs": [],
   "source": [
    "# Obtengo la fecha a partir de la cuál cada centro puede recibir mercadería\n",
    "\n",
    "recep2 = recep[['ID', 'Recepción de bolsas']].copy()\n",
    "\n",
    "recep2.rename(columns={'ID': 'Dest_Mcia', 'Recepción de bolsas': 'Fecha Recepcion'}, inplace= True)\n",
    "# Dropeo duplicados ya que me genera conflicto en el merge.\n",
    "recep2.drop_duplicates(subset='Dest_Mcia', inplace=True)"
   ]
  },
  {
   "cell_type": "code",
   "execution_count": 102,
   "metadata": {},
   "outputs": [],
   "source": [
    "# Agrego a la YVA las fechas de siembra y de recepción\n",
    "\n",
    "data.rename(columns= {'Fe-entrega': 'Fe_entrega'},inplace=True)\n",
    "\n",
    "data = data.merge(feZonas, how='left', on= 'Oficina_de_Venta')\n",
    "\n",
    "data = data.merge(recep2, how='left', on= 'Dest_Mcia')"
   ]
  },
  {
   "cell_type": "code",
   "execution_count": 103,
   "metadata": {
    "scrolled": true
   },
   "outputs": [],
   "source": [
    "# Completamos las fechas de recepción vacias y cambiamos las que no reciben\n",
    "\n",
    "recibe_siempre = pd.to_datetime(str(fecha_de_hoy.year) + '-01-01')\n",
    "\n",
    "no_recibe = pd.to_datetime(str(fecha_de_hoy.year) + '-12-31')\n",
    "\n",
    "# Si estan en nulo reciben siempre entoces lleno con 1 de enero\n",
    "\n",
    "data['Fecha Recepcion'].fillna(value= recibe_siempre, inplace=True)\n",
    "\n",
    "data['Recepcion'] = data['Fecha Recepcion']\n",
    "\n",
    "# Los que por alguna razon no reciben, tienen la razón en la columna, por lo que lo cambio\n",
    "# a fin de año.\n",
    "\n",
    "data['Fecha Recepcion'] = pd.to_datetime(data['Fecha Recepcion'], errors='coerce')\n",
    "\n",
    "reciben = data.loc[data['Fecha Recepcion'].notna(),'Fecha Recepcion'].index.to_list()\n",
    "\n",
    "data.loc[reciben,'Recepcion'] = 'Recibe'\n",
    "\n",
    "data['Fecha Recepcion'].fillna(no_recibe, inplace= True)"
   ]
  },
  {
   "cell_type": "code",
   "execution_count": 104,
   "metadata": {
    "scrolled": false
   },
   "outputs": [],
   "source": [
    "# Marco los pedidos que tienen error en la fecha de entrega = Fecha de entrega < Fecha de Recepción\n",
    "\n",
    "data['ERROR_FECHA_ENTREGA'] = 'NO'\n",
    "\n",
    "mask_entrega_mayor_siembraT = pd.to_datetime(data['Fe_entrega']) > pd.to_datetime(data['Inicio Siembra Temprana'])\n",
    "mask_entrega_menor_recepcion = pd.to_datetime(data['Fe_entrega']) < pd.to_datetime(data['Fecha Recepcion'])\n",
    "\n",
    "data.loc[mask_entrega_mayor_siembraT | mask_entrega_menor_recepcion,'ERROR_FECHA_ENTREGA'] = 'SI'\n",
    "\n",
    "# Separo aquellos pedidos flagueados con error en fecha de entrega porque en el output los voy a mostrar separados para que sean analizados\n",
    "\n",
    "error_fecha = data[data['ERROR_FECHA_ENTREGA'] == 'SI']\n",
    "\n",
    "error_fecha = error_fecha[\n",
    "    [\n",
    "        'Doc_venta', \n",
    "        'Dest_Mcia', \n",
    "        'Material', \n",
    "        'SSU', \n",
    "        'Fe_entrega', \n",
    "        'Inicio Siembra Temprana', \n",
    "        'Fin Siembra Temprana',\n",
    "        'Inicio Siembra Tardia', \n",
    "        'Fin Siembra Tardia', \n",
    "        'Recepcion', \n",
    "        'Fecha Recepcion', \n",
    "        'Status',\n",
    "        'BqEn', \n",
    "        'ERROR_FECHA_ENTREGA'\n",
    "    ]]\n",
    "\n",
    "if not(calcular_fechas_erroneas):           \n",
    "    data = data[data['ERROR_FECHA_ENTREGA'] != 'SI']\n",
    "else: \n",
    "    data.loc[mask_entrega_mayor_siembraT, 'Fe_entrega'] = pd.to_datetime(data['Inicio Siembra Temprana']) - pd.Timedelta(value= 7, unit='D')    "
   ]
  },
  {
   "cell_type": "code",
   "execution_count": 105,
   "metadata": {},
   "outputs": [],
   "source": [
    "yvaDK = data[['Doc_venta', 'ClVt', 'Solic', 'Nomb_Dest_Mcia', 'GClt', 'Dest_Mcia', 'Material', 'SSU', 'Oficina_de_Venta', 'Fe_entrega', 'Inicio Siembra Temprana', 'Fin Siembra Temprana', 'Inicio Siembra Tardia', 'Fin Siembra Tardia', 'Recepcion', 'Fecha Recepcion', 'FechaFact', 'FePrefEnt_Cab', 'Status','BqEn', 'ERROR_FECHA_ENTREGA']]\n",
    "\n",
    "# Edicion Bauti:\n",
    "#   /// Ya que se puede ver pedidos con SSU nulo, procedere a filtrarlos, asi no traen problemas.\n",
    "yvaDK_ssu_nulo = yvaDK[yvaDK['SSU'] == 0]\n",
    "yvaDK = yvaDK[yvaDK['SSU'] != 0]\n",
    "\n",
    "if USAR_FECHA_SIEMBRA_TEMPRANA:\n",
    "    yvaDK['Fe_entrega'] = yvaDK['Inicio Siembra Temprana']\n",
    "    \n",
    "    #ultimo_dia = yvaDK['Fin Siembra Temprana'].max() -> Comento esta linea porque genera que entren todos los pedidos\n",
    "\n",
    "elif USAR_FECHA_SIEMBRA_TARDIA:\n",
    "    yvaDK['Fe_entrega'] = yvaDK['Inicio Siembra Tardia']\n",
    "    \n",
    "    #ultimo_dia = yvaDK['Fin Siembra Tardia'].max()\n",
    "\n",
    "else:\n",
    "    pass\n",
    "\n",
    "yvaDK = yvaDK.copy()    # Para que no arroje warning.\n",
    "yvaDK.rename(columns={'Nomb_Dest_Mcia': 'Cliente'}, inplace= True)\n",
    "yvaDK.reset_index(drop=True, inplace=True)"
   ]
  },
  {
   "cell_type": "code",
   "execution_count": 106,
   "metadata": {
    "scrolled": false
   },
   "outputs": [],
   "source": [
    "yvaDK['Fe_entrega'] = pd.to_datetime(yvaDK['Fe_entrega'])\n",
    "\n",
    "yvaDK['FePrefEnt_Cab'] = pd.to_datetime(yvaDK['FePrefEnt_Cab'])\n",
    "\n",
    "yvaDK['FechaFact'] = pd.to_datetime(yvaDK['FechaFact'])"
   ]
  },
  {
   "cell_type": "code",
   "execution_count": 107,
   "metadata": {},
   "outputs": [],
   "source": [
    "# Filtro del YVA los pedidos que se vencen en el tiempo que se eligio\n",
    "yvaDK = yvaDK[(yvaDK['Fe_entrega'] >= fecha_de_hoy) & (yvaDK['Fe_entrega'] <= ultimo_dia)]"
   ]
  },
  {
   "cell_type": "code",
   "execution_count": 108,
   "metadata": {},
   "outputs": [],
   "source": [
    "# Se agrega a la YVA el GClt\n",
    "\n",
    "# CAMBIO ACÁ\n",
    "#maestro = maestro[['Solic.', 'GClt']]\n",
    "\n",
    "#yvaDK = yvaDK.merge(maestro, on='Solic.', how='left')\n",
    "\n",
    "# Asigno prioridad a los pedidos\n",
    "\n",
    "yvaDK = prioridad_yva(yvaDK)\n",
    "\n",
    "despachos = asignar_fechas_entrega(yvatr)\n",
    "\n",
    "#despjkkachos = despachos.merge(maestro, on='Solic.', how='left')\n",
    "\n",
    "despachos = despachos.merge(feZonas, how='left', on= 'Oficina_de_Venta')\n",
    "despachos = despachos.merge(recep2, how='left', on= 'Dest_Mcia')"
   ]
  },
  {
   "cell_type": "code",
   "execution_count": 109,
   "metadata": {},
   "outputs": [],
   "source": [
    "despachos['Fecha Recepcion'].fillna(value= fecha_de_hoy, inplace=True)\n",
    "\n",
    "#Los que tienen fecha de recepción\n",
    "despachos['Fecha Recepcion'] = pd.to_datetime(data['Fecha Recepcion'], errors='coerce')"
   ]
  },
  {
   "cell_type": "code",
   "execution_count": 110,
   "metadata": {},
   "outputs": [],
   "source": [
    "#Chequeo que haya envios para que no pinche y concateno\n",
    "\n",
    "if(len(despachos) > 0):\n",
    "    despachos = despachos[\n",
    "    [\n",
    "        'Doc_venta', \n",
    "        'ClVt', \n",
    "        'Solic', \n",
    "        'Nomb_Dest_Mcia', \n",
    "        'GClt', \n",
    "        'Dest_Mcia',\n",
    "        'Material', \n",
    "        'SSU', \n",
    "        'Oficina_de_Venta', \n",
    "        'Fe_entrega', \n",
    "        'Inicio Siembra Temprana',\n",
    "        'Fin Siembra Temprana', \n",
    "        'Inicio Siembra Tardia', \n",
    "        'Fin Siembra Tardia', \n",
    "        'Recepcion',\n",
    "        'Fecha Recepcion', \n",
    "        'Status', \n",
    "        'FechaFact', \n",
    "        'FePrefEnt_Cab', \n",
    "        'BqEn',\n",
    "        'ERROR_FECHA_ENTREGA', \n",
    "        'Prioridad'\n",
    "    ]]\n",
    "    # Se agregan los despachos a la YVA\n",
    "    #yvaDK = yvaDK.append(despachos, ignore_index=True)\n",
    "    yvaDK = pd.concat([yvaDK, despachos], ignore_index=True)"
   ]
  },
  {
   "cell_type": "code",
   "execution_count": 111,
   "metadata": {},
   "outputs": [],
   "source": [
    "# Dejo las prioridades entre 1 y 10\n",
    "#yvaDK['Prioridad'] = 1 + ( (( yvaDK['Prioridad'] - yvaDK['Prioridad'].min()) * (10 - 1)) / (yvaDK['Prioridad'].max() - yvaDK['Prioridad'].min()))"
   ]
  },
  {
   "cell_type": "code",
   "execution_count": 112,
   "metadata": {
    "code_folding": []
   },
   "outputs": [],
   "source": [
    "# Si hay un pedido pendiente con fecha pasada, se le reasigna la fecha de entrega al último día de los que tomé\n",
    "yvaDK.loc[yvaDK['Fe_entrega'] <= datetime.datetime.today(),'Fe_entrega'] = proximo_dia_habil(fecha_de_hoy, 7)#pd.to_datetime('20/06/2021')\n",
    "\n",
    "# Hago un nuevo DF con el material en stock del material solicitado en el pedido\n",
    "yvaDK = yvaDK.merge(yq10_nueva,how= 'left', on='Material')"
   ]
  },
  {
   "cell_type": "code",
   "execution_count": 113,
   "metadata": {
    "scrolled": true
   },
   "outputs": [],
   "source": [
    "# Separo los pedidos liberados de los bloqueados ya que se van a correr de forma separada\n",
    "liberados = yvaDK[yvaDK['Status'] == 'Liberado'].copy().reset_index(drop=True)\n",
    "bloqueados = yvaDK[yvaDK['Status'] != 'Liberado'].copy().reset_index(drop=True)\n",
    "\n",
    "# Cambio los NaN por ceros\n",
    "liberados.fillna(value= {'Cantidad_Total': 0} , inplace= True)\n",
    "\n",
    "bloqueados.fillna(value= {'Cantidad_Total': 0} , inplace= True)"
   ]
  },
  {
   "cell_type": "markdown",
   "metadata": {},
   "source": [
    "#### ----------------------------------------------------COSAS PARA TESTEAR - COMIENZO------------------------------------------------------------------------------"
   ]
  },
  {
   "cell_type": "markdown",
   "metadata": {},
   "source": [
    "#### --------------------------------------------COSAS PARA TESTEAR - FIN-------------------------------------------------------------------------------------------------"
   ]
  },
  {
   "cell_type": "code",
   "execution_count": 114,
   "metadata": {},
   "outputs": [],
   "source": [
    "yq10_final = yq10_final[yq10_final['SSU'] >= 0]\n",
    "\n",
    "yq10_final.reset_index(inplace= True, drop= True)"
   ]
  },
  {
   "cell_type": "markdown",
   "metadata": {},
   "source": [
    "## CPLEX"
   ]
  },
  {
   "cell_type": "code",
   "execution_count": 116,
   "metadata": {},
   "outputs": [],
   "source": [
    "# Listas que voy a utilizar para armar las variables que necesita el modelo\n",
    "\n",
    "indices_yq10 = yq10_final.index.to_list()\n",
    "\n",
    "yq10_final['Indice_Modelo'] = indices_yq10\n",
    "\n",
    "pedidos_unicos = liberados['Doc_venta'].unique()"
   ]
  },
  {
   "cell_type": "code",
   "execution_count": 117,
   "metadata": {},
   "outputs": [],
   "source": [
    "modelo = Model(name=\"pedidos\")"
   ]
  },
  {
   "cell_type": "code",
   "execution_count": 118,
   "metadata": {},
   "outputs": [],
   "source": [
    "# Una variable binaria por cada pedido que indica si será despachado o no\n",
    "\n",
    "binarios = modelo.binary_var_dict(pedidos_unicos, name='binaria')\n",
    "\n",
    "# Una variable discreta por cada material (producto) que indica cuanto se va a despachar\n",
    "#cant_material_a_despachar = modelo.integer_var_dict(indices_yq10)\n",
    "cant_material_a_despachar = modelo.continuous_var_dict(indices_yq10, name='cantidad')"
   ]
  },
  {
   "cell_type": "code",
   "execution_count": 119,
   "metadata": {},
   "outputs": [
    {
     "name": "stdout",
     "output_type": "stream",
     "text": [
      "Model: pedidos\n",
      " - number of variables: 135\n",
      "   - binary=3, integer=0, continuous=132\n",
      " - number of constraints: 0\n",
      "   - linear=0\n",
      " - parameters: defaults\n",
      " - objective: none\n",
      " - problem type is: MILP\n"
     ]
    }
   ],
   "source": [
    "modelo.print_information()"
   ]
  },
  {
   "cell_type": "code",
   "execution_count": 120,
   "metadata": {},
   "outputs": [],
   "source": [
    "yq10_final['SSU'] = yq10_final['SSU'].astype(int)\n",
    "yq10_final['CENTRO'] = yq10_final['CENTRO'].astype(int)"
   ]
  },
  {
   "cell_type": "markdown",
   "metadata": {},
   "source": [
    "## CONSTRAINTS"
   ]
  },
  {
   "cell_type": "code",
   "execution_count": 121,
   "metadata": {},
   "outputs": [],
   "source": [
    "materiales_pedidos = liberados['Material'].unique()\n",
    "promedio_despacho = liberados['SSU'].mean()"
   ]
  },
  {
   "cell_type": "code",
   "execution_count": 122,
   "metadata": {},
   "outputs": [
    {
     "name": "stdout",
     "output_type": "stream",
     "text": [
      "Model: pedidos\n",
      " - number of variables: 135\n",
      "   - binary=3, integer=0, continuous=132\n",
      " - number of constraints: 132\n",
      "   - linear=132\n",
      " - parameters: defaults\n",
      " - objective: none\n",
      " - problem type is: MILP\n"
     ]
    }
   ],
   "source": [
    "# La cantidad a despachar de un material no supere la cantidad disponible de ese material\n",
    "def constraint_1(model,yq10_):\n",
    "    # Lista de indices de las variables.\n",
    "    var_ind = list(cant_material_a_despachar.keys())\n",
    "    for ind in var_ind:\n",
    "        \n",
    "        # Un unico material no puede superar la cantidad de stock que se tiene (para ESE material) \n",
    "        model.add_constraint(\n",
    "            cant_material_a_despachar[ind]\n",
    "            <=\n",
    "            yq10_['SSU'].iloc[ind]\n",
    "            )\n",
    "\n",
    "#%%time\n",
    "constraint_1(modelo,yq10_final)\n",
    "\n",
    "modelo.print_information()"
   ]
  },
  {
   "cell_type": "code",
   "execution_count": 123,
   "metadata": {},
   "outputs": [
    {
     "name": "stdout",
     "output_type": "stream",
     "text": [
      "Model: pedidos\n",
      " - number of variables: 135\n",
      "   - binary=3, integer=0, continuous=132\n",
      " - number of constraints: 143\n",
      "   - linear=143\n",
      " - parameters: defaults\n",
      " - objective: none\n",
      " - problem type is: MILP\n"
     ]
    }
   ],
   "source": [
    "# La suma de la cantidad a despachar por cada material sea igual a la cantidad que hay que despachar\n",
    "# Lo que me piden es igual a lo que voy a despachar.\n",
    "def constraint_2(model,yq10_,yva_):\n",
    "    # Array con los materiales unicos en stock.\n",
    "    materiales_stock = yq10_['MATERIAL'].unique()\n",
    "    for m in materiales_stock:\n",
    "        \n",
    "        # DF con la cantidad que tengo en STOCK del material 'm'\n",
    "        materiales = yq10_[yq10_['MATERIAL'] == m]\n",
    "        # DF con la cantidad que tengo que ENVIAR del material 'm'\n",
    "        yva = yva_[yva_['Material'] == m]\n",
    "        \n",
    "        # Array con los id's de venta, del material 'm'.\n",
    "        pedidos = yva['Doc_venta'].unique()\n",
    "        # Array con los indices del material 'm' en stock, \n",
    "        # se corresponden con los indices de las variables continuas\n",
    "        lista_indices = materiales.index\n",
    "        \n",
    "        # La suma de TODOS los materiales 'm' que tengo en stock y tengo que despachar (variables)\n",
    "        # tiene que ser IGUAL a la cantidad de material 'm' a enviar en el pedido 'ped'.\n",
    "        model.add_constraint(\n",
    "                            model.sum(\n",
    "                                    cant_material_a_despachar[ind] for ind in lista_indices\n",
    "                                    )\n",
    "                            ==\n",
    "                            model.sum(\n",
    "                                    binarios[ped] * yva.loc[(yva['Doc_venta'] == ped) & (yva['Material'] == m), 'SSU'].sum() for ped in pedidos\n",
    "                                    )\n",
    "                            )\n",
    "        \n",
    "#%%time\n",
    "constraint_2(modelo,yq10_final,liberados)\n",
    "\n",
    "modelo.print_information()"
   ]
  },
  {
   "cell_type": "code",
   "execution_count": 124,
   "metadata": {},
   "outputs": [
    {
     "name": "stdout",
     "output_type": "stream",
     "text": [
      "Model: pedidos\n",
      " - number of variables: 135\n",
      "   - binary=3, integer=0, continuous=132\n",
      " - number of constraints: 291\n",
      "   - linear=291\n",
      " - parameters: defaults\n",
      " - objective: none\n",
      " - problem type is: MILP\n"
     ]
    }
   ],
   "source": [
    "\n",
    "dias_df = pd.DataFrame({'Fecha' : pd.date_range(fecha_de_hoy, ultimo_dia, freq='D')})\n",
    "\n",
    "# Constraint para asegurar que no se pueda superar la capacidad de REAP por día.\n",
    "def constraint_3(model,yq10_,yva_):\n",
    "    \n",
    "    yva = yva_.copy(deep=True)\n",
    "    yq10 = yq10_.copy(deep=True)\n",
    "    \n",
    "    # Obtengo los numeros de pedidos unicos (sin repetidos, \n",
    "    # puede haber varios pedidos con un numero de pedido igual)\n",
    "    pedKeys = list(binarios.keys()).copy()\n",
    "    # Obtengo las variables binarias para cada numero de pedido unico.\n",
    "    pedVals = list(binarios.values()).copy()\n",
    "    \n",
    "    # Obtengo el id (de la yq10) de cada material disponible en cada centro.\n",
    "    stockKeys = list(cant_material_a_despachar.keys()).copy()\n",
    "    # Obtengo las variables (cuanto de cada material en stock voy a despachar).\n",
    "    stockVals = list(cant_material_a_despachar.values()).copy()\n",
    "    \n",
    "    # Array que contiene todos los materiales pendientes de entrega.\n",
    "    materiales_pedidos = yva['Material'].unique()\n",
    "    \n",
    "    # DF que almacena un unico numero de pedido con su correspondiente variable.\n",
    "    dfBin = pd.DataFrame({'Doc_venta': pedKeys, 'Despacho': pedVals})\n",
    "    \n",
    "    # DF con los indices de la yq10 (materiales) y con sus correspondientes variables.\n",
    "    stockCons = pd.DataFrame({'Indice_Modelo': stockKeys, 'Despacho': stockVals})\n",
    "    \n",
    "    # Por cada material pendiente de entrega, voy a restar dia a dia lo que voy a ir enviando de lo que tengo en stock.\n",
    "    for m in materiales_pedidos:\n",
    "        # Filtro los pedidos que tienen el material 'm'.      \n",
    "        pedidos_por_material = yva.loc[yva['Material'] == m, ['Fe_entrega', 'Doc_venta', 'SSU', 'Material']]\n",
    "        # Mergeo los pedidos con las variables binarias.\n",
    "        pedidos_por_material = pedidos_por_material.merge(dfBin, how='left', on='Doc_venta', copy=False)\n",
    "        \n",
    "        pedidos_por_material['Fe_entrega'] = pd.to_datetime(pedidos_por_material['Fe_entrega'])\n",
    "        \n",
    "        # Multiplico la variable binaria por la cantidad a despachar.\n",
    "        pedidos_por_material['cantPorDesp'] = pedidos_por_material['SSU'] * pedidos_por_material['Despacho']\n",
    "        \n",
    "        # Materiales pedidos por dia, para el rango de fechas en 'dias_df', va a haber fechas vacias relleno NaN con 0.\n",
    "        pedidos_mat_dia = pedidos_por_material.merge(dias_df, how='right', left_on = 'Fe_entrega', right_on = 'Fecha').fillna(0)\n",
    "        \n",
    "        # Obtengo la cantidad acumulada de materiales a despachar dia a dia.\n",
    "        dfResult_mat = pedidos_mat_dia[['Fecha', 'cantPorDesp']]\n",
    "        dfResult_mat = dfResult_mat.groupby('Fecha').sum().reset_index()\n",
    "        dfResult_mat['cumSumDesp'] = np.cumsum(dfResult_mat['cantPorDesp'])\n",
    "        \n",
    "        \n",
    "        \n",
    "        # Me quedo con la cantidad del material 'm' que hay disponible en el centro 6009\n",
    "        mask = (yq10['CENTRO'] == 6009) & (yq10['MATERIAL'] == m)\n",
    "        stock_por_material = yq10.loc[mask, ['FECHA_DISPONIBILIDAD', 'Indice_Modelo']]\n",
    "        # Agrego las variables de la cantidad a despachar, de los materiales disponibles en la 6009.\n",
    "        stock_por_material = stock_por_material.merge(stockCons, how='left', on='Indice_Modelo', copy=False)\n",
    "        \n",
    "        # Stock de materiales por dia, para el rango de fechas en 'dias_df', relleno nulos.\n",
    "        stock_mat_dia = stock_por_material.merge(dias_df, how='right', left_on = 'FECHA_DISPONIBILIDAD', right_on = 'Fecha').fillna(0)\n",
    "        \n",
    "        # Obtengo las cantidades acumuladas en stock dia a dia.\n",
    "        dfResult_stock = stock_mat_dia[['Fecha', 'Despacho']]\n",
    "        dfResult_stock = dfResult_stock.groupby('Fecha').sum().reset_index()\n",
    "        dfResult_stock['cumSumStock'] = np.cumsum(dfResult_stock['Despacho'])\n",
    "        \n",
    "        # Dataframe en donde me va a figurar la cantidad de material que tengo en stock y la que tengo que despachar para cada dia\n",
    "        dfResult = dfResult_stock[['Fecha', 'cumSumStock']].merge(dfResult_mat[['Fecha', 'cumSumDesp']], how='left', on='Fecha', copy=False)\n",
    "        # Edicion Bauti:\n",
    "        #   /// Pregunta: Esta bien que se reste lo que tengo en stock a lo que tengo que despachar, no seria al revez?\n",
    "        dfResult['Resta'] = dfResult['cumSumDesp'] - dfResult['cumSumStock']\n",
    "    \n",
    "    dfResult = dfResult.groupby('Fecha').sum().reset_index()\n",
    "    \n",
    "    for i in dfResult.index.to_list():\n",
    "        # Cuento el numero de dias habiles entre la fecha de que se hace la optimizacion (valor obtenido del input)\n",
    "        # y la fecha de entrega.\n",
    "        difDias = np.busday_count(fecha_de_hoy.date(), pd.to_datetime(dfResult.loc[i, 'Fecha']).date())\n",
    "        # Obtengo el reaprovisionamiento para el intervalo de fechas considerado.\n",
    "        reaprov_posible = capacidad_reap_por_dia * difDias\n",
    "        \n",
    "        dfResult.loc[i, 'dias_acumulados']= reaprov_posible\n",
    "        # La diferencia de lo que tengo que enviar y lo que tengo en stock NO PUEDE ser mayor a lo que va a entrar.\n",
    "        model.add_constraint(\n",
    "            dfResult.loc[i, 'Resta'] <= reaprov_posible\n",
    "            )\n",
    "        \n",
    "    #return dfResult\n",
    "#%%time\n",
    "constraint_3(modelo,yq10_final,liberados)\n",
    "\n",
    "modelo.print_information()"
   ]
  },
  {
   "cell_type": "code",
   "execution_count": 125,
   "metadata": {},
   "outputs": [
    {
     "name": "stdout",
     "output_type": "stream",
     "text": [
      "Model: pedidos\n",
      " - number of variables: 135\n",
      "   - binary=3, integer=0, continuous=132\n",
      " - number of constraints: 296\n",
      "   - linear=296\n",
      " - parameters: defaults\n",
      " - objective: none\n",
      " - problem type is: MILP\n"
     ]
    }
   ],
   "source": [
    "dias_distintos = (liberados['Fe_entrega'].unique()).astype(str)\n",
    "dias_distintos = pd.to_datetime(dias_distintos)\n",
    "\n",
    "# Por cada material, chequea que la suma de las cantidades por pedido de ese material sea menor o igual al stock\n",
    "def constraint_4(model,yq10_,yva_):\n",
    "    # Creo array con los pedidos unicos pendientes de entrega.\n",
    "    materiales_pedidos = yva_['Material'].unique()\n",
    "    \n",
    "    # Por cada material.\n",
    "    for m in materiales_pedidos:\n",
    "        # Creo un slice del DF con los pedidos que tienen ese material para entregar.\n",
    "        yva2 = yva_[yva_['Material'] == m]\n",
    "        \n",
    "        # Obtengo los distintos dias en los que se van a estar entregando materiales.\n",
    "        dias_con_pedidos = yva2['Fe_entrega'].unique().astype(str)\n",
    "        dias_con_pedidos = pd.to_datetime(dias_con_pedidos)\n",
    "        \n",
    "        # Para cada dia de entrega me fijo el stock disponible y los pedidos a realizar.\n",
    "        for dia in dias_con_pedidos:\n",
    "            # Creo slice de los pedidos pendientes de entrega considerando las entregas del dia del loop y las anteriores.\n",
    "            # Esto se hace para considerar las entregas que se realizaron previamente a la fecha ('dia')\n",
    "            # asi de esa manera tengo en cuenta cuanta cantidad del material 'm' ya se envio y se desconto del stock.\n",
    "            yva_fecha = yva2[yva2['Fe_entrega'] <= dia]\n",
    "            \n",
    "            # Pedidos realizados en las fechas consideradas.\n",
    "            pedidos_unicos = yva_fecha['Doc_venta'].unique()\n",
    "            \n",
    "            # Veo el stock disponible del material 'm' hasta el dia considerado.\n",
    "            mask1 = yq10_['FECHA_DISPONIBILIDAD'] <= dia\n",
    "            mask2 = yq10_['MATERIAL'] == m \n",
    "            stock_yq10_fecha = yq10_[mask1 & mask2]\n",
    "            \n",
    "            # Variables de los materiales en stock.\n",
    "            variables_disp = stock_yq10_fecha['Indice_Modelo'].unique()\n",
    "            \n",
    "            # La suma de los materiales a despachar para el periodo de fecha considerado tiene que ser menor o igual\n",
    "            # a el stock disponible en dichas fechas.\n",
    "            model.add_constraint(\n",
    "                model.sum(\n",
    "                        cant_material_a_despachar[var] for var in variables_disp\n",
    "                        )\n",
    "                >=\n",
    "                model.sum(\n",
    "                        binarios[nro_pedido] * (yva_fecha.loc[yva_fecha['Doc_venta'] == nro_pedido, 'SSU']).sum() for nro_pedido in pedidos_unicos\n",
    "                        )\n",
    "            )\n",
    "\n",
    "#%%time\n",
    "constraint_4(modelo,yq10_final,liberados)\n",
    "\n",
    "modelo.print_information()"
   ]
  },
  {
   "cell_type": "code",
   "execution_count": 126,
   "metadata": {},
   "outputs": [
    {
     "name": "stdout",
     "output_type": "stream",
     "text": [
      "Model: pedidos\n",
      " - number of variables: 135\n",
      "   - binary=3, integer=0, continuous=132\n",
      " - number of constraints: 297\n",
      "   - linear=297\n",
      " - parameters: defaults\n",
      " - objective: none\n",
      " - problem type is: MILP\n"
     ]
    }
   ],
   "source": [
    "# El problema de esta constraint es que: por ahi se descartan pedidos por no poder satisfacerlos un dia pero se podria despachar de a poco en dias anteriores\n",
    "# Se asegura que no se sobrepase la cantidad maxima que es posible despachar en un dia.\n",
    "def constraint_5(model,yva_):\n",
    "    # Distintos dias en los que se va a estar entregando materiales.\n",
    "    dias_con_pedidos = yva_['Fe_entrega'].unique()\n",
    "    dias_con_pedidos = pd.to_datetime(dias_con_pedidos)\n",
    "    \n",
    "    # Por cada dia\n",
    "    for fecha in dias_con_pedidos:\n",
    "        # Cuento el numero de dias habiles entre la fecha de que se hace la optimizacion (valor obtenido del input)\n",
    "        # y la fecha considerada en el loop.\n",
    "        difDias = np.busday_count(fecha_de_hoy.date(), fecha.date())\n",
    "        \n",
    "        # Obtengo los pedidos pendientes de entrega para la fecha considerada en el loop.\n",
    "        yva_fecha = yva_[yva_['Fe_entrega'] == fecha]\n",
    "        # Y los id's de los pedidos para esa fecha.\n",
    "        pedidos_unicos = yva_fecha['Doc_venta'].unique()\n",
    "        \n",
    "        # La cantidad de material a despachar en todos los pedidos en la fecha considerada en el loop DEBE ser menor o igual\n",
    "        # a la capacidad de despacho por dia.\n",
    "        # Edicion Bauti:\n",
    "        #   /// Pregunta: no habria que generar un rango de fechas para el periodo considerado, asi de esa manera tengo la capacidad de despacho dia a dia.\n",
    "        #   /// en vez de tener la capacidad de despacho. \n",
    "        model.add_constraint(\n",
    "                (\n",
    "                model.sum(\n",
    "                    binarios[nro_pedido] * yva_fecha.loc[yva_fecha['Doc_venta'] == nro_pedido, 'SSU'].sum() for nro_pedido in pedidos_unicos\n",
    "                    )\n",
    "                ) \n",
    "                <= capacidad_despacho_por_dia * difDias # Aca aumenta la capacidad a despachar dia a dia, pero la cantidad solicitada es siempre la misma (no es que se va considerando lo enviado previamente). \n",
    "            )\n",
    "\n",
    "#%%time\n",
    "constraint_5(modelo,liberados)\n",
    "modelo.print_information()"
   ]
  },
  {
   "cell_type": "markdown",
   "metadata": {},
   "source": [
    "## FUNCION OBJETIVO"
   ]
  },
  {
   "cell_type": "code",
   "execution_count": 127,
   "metadata": {},
   "outputs": [],
   "source": [
    "# Si se decide correr por OTD (On Time Delivery), el modelo va a intentar  despachar la mayor cantidad de pedidos posibles\n",
    "# teniendo en cuenta que debe sacar los más prioritarios también y utilizando los materiales mas prioritarios\n",
    "\n",
    "if correr_otd:\n",
    "    \n",
    "    modelo.maximize(( 2 * promedio_despacho * modelo.sum(binarios)) \n",
    "                    + (modelo.sum(cant_material_a_despachar[k] * yq10_final['PRIORIDAD_FEFO'].iloc[k] for k in cant_material_a_despachar)))\n",
    "else:\n",
    "    \n",
    "    # Si se decide sacar pedidos por prioridad, el modelo intentará sacar los pedidos maás prioritarios con los materiales\n",
    "    # más prioritarios sin importar si puede sacar más pedidos utilizando otra combinación.\n",
    "    \n",
    "    prio_yva = modelo.sum(binarios[i] * liberados['Prioridad'][liberados['Doc_venta'] == i].unique()[0] for i in binarios)\n",
    "    \n",
    "    prio_fefo = modelo.sum(cant_material_a_despachar[k] * yq10_final['PRIORIDAD_FEFO'].iloc[k] for k in cant_material_a_despachar)\n",
    "    \n",
    "    modelo.maximize(prio_yva + prio_fefo)"
   ]
  },
  {
   "cell_type": "code",
   "execution_count": 128,
   "metadata": {
    "scrolled": false
   },
   "outputs": [
    {
     "name": "stdout",
     "output_type": "stream",
     "text": [
      "Model: pedidos\n",
      " - number of variables: 135\n",
      "   - binary=3, integer=0, continuous=132\n",
      " - number of constraints: 297\n",
      "   - linear=297\n",
      " - parameters: defaults\n",
      " - objective: maximize\n",
      " - problem type is: MILP\n"
     ]
    }
   ],
   "source": [
    "modelo.print_information()"
   ]
  },
  {
   "cell_type": "code",
   "execution_count": 129,
   "metadata": {},
   "outputs": [],
   "source": [
    "solucion = modelo.solve()"
   ]
  },
  {
   "cell_type": "code",
   "execution_count": 130,
   "metadata": {
    "scrolled": true
   },
   "outputs": [
    {
     "name": "stdout",
     "output_type": "stream",
     "text": [
      "status  = integer optimal solution\n",
      "time    = 0.016 s.\n",
      "problem = MILP\n",
      "gap     = 0%\n",
      "\n"
     ]
    }
   ],
   "source": [
    "print(modelo.get_solve_details())"
   ]
  },
  {
   "cell_type": "code",
   "execution_count": 131,
   "metadata": {},
   "outputs": [],
   "source": [
    "solucion_binaria = solucion.get_value_dict(binarios)\n",
    "despachos_pedidos = pd.DataFrame({'Doc_venta' : solucion_binaria.keys(), 'SE_DESPACHA' : solucion_binaria.values()}).replace([1.0, 0.0], ['SI', 'NO'])\n",
    "\n",
    "liberados = liberados.merge(despachos_pedidos, how= 'left', on= 'Doc_venta')"
   ]
  },
  {
   "cell_type": "code",
   "execution_count": 132,
   "metadata": {},
   "outputs": [],
   "source": [
    "solucion_cantidad_despachar = solucion.get_value_dict(cant_material_a_despachar)\n",
    "despachos_cantidad = pd.DataFrame({'Indice_Modelo' : solucion_cantidad_despachar.keys(), 'CANT_A_DESPACHAR' : solucion_cantidad_despachar.values()})\n",
    "\n",
    "yq10_final = yq10_final.merge(despachos_cantidad, how='left', on='Indice_Modelo')\n",
    "yq10_final['Campaña'].fillna('Embolse', inplace = True)"
   ]
  },
  {
   "cell_type": "markdown",
   "metadata": {},
   "source": [
    "## Asignaciones"
   ]
  },
  {
   "cell_type": "code",
   "execution_count": 133,
   "metadata": {},
   "outputs": [],
   "source": [
    "def clasificar_no_despachados(desp):\n",
    "    desp['RAZON'] = '-'\n",
    "    \n",
    "    desp.loc[desp['SE_DESPACHA'] == 'NO', 'RAZON'] = 0\n",
    "    \n",
    "    desp.loc[(desp['RAZON'] == 0) & (desp['SSU'] > desp['Cantidad_Total']), 'RAZON'] = 'Sin stock del material'\n",
    "    \n",
    "    for ped in desp['Doc_venta'].unique():\n",
    "        \n",
    "        razon_no_despacho = desp.loc[desp['Doc_venta'] == ped, 'RAZON']\n",
    "        if (razon_no_despacho == 'Sin stock del material').any():\n",
    "            \n",
    "            desp.loc[(desp['Doc_venta'] == ped) & (desp['RAZON'] == 0), 'RAZON'] = 'Falta stock de un material en este pedido'\n",
    "    \n",
    "    for mat in desp.loc[desp['RAZON'] == 0, 'Material'].unique():\n",
    "        \n",
    "        for index , row in desp[(desp['Material'] == mat) & (desp['RAZON'] == 0)].iterrows():\n",
    "            \n",
    "            if ((desp.loc[(desp['Material'] == mat) & (desp['SE_DESPACHA'] == 'SI'), 'SSU'].sum() + row['SSU']) > row['Cantidad_Total']):\n",
    "                \n",
    "                desp['RAZON'].iloc[index] = 'OTD'\n",
    "    \n",
    "    for ped in desp.loc[desp['RAZON'] == 0, 'Doc_venta']:\n",
    "        \n",
    "        if any(desp.loc[desp['Doc_venta'] == ped, 'RAZON'] == 'OTD'):\n",
    "            \n",
    "            desp.loc[desp['Doc_venta'] == ped, 'RAZON'] = 'OTD'\n",
    "            \n",
    "        else:\n",
    "            \n",
    "            desp.loc[desp['Doc_venta'] == ped, 'RAZON'] = 'Stock llega mas tarde o falta de capacidad logística'\n",
    "    \n",
    "    return desp"
   ]
  },
  {
   "cell_type": "code",
   "execution_count": 134,
   "metadata": {},
   "outputs": [],
   "source": [
    "yq10_final.reset_index(drop=True, inplace=True)\n",
    "yq10_final['ID'] = yq10_final.index.values\n",
    "#yq10_final['ID'] = yq10_final['MATERIAL'].astype(str) + yq10_final['DE'] + yq10_final['Lote'] + yq10_final['Ubicación'].astype(str) + yq10_final['CENTRO'].astype(str)"
   ]
  },
  {
   "cell_type": "code",
   "execution_count": 135,
   "metadata": {},
   "outputs": [],
   "source": [
    "def asignar_materiales_a_pedidos(liberados_, yq10_):\n",
    "    \n",
    "    resultado = pd.DataFrame(\n",
    "        columns=[\n",
    "            'Doc_venta', 'Cliente', 'Oficina_de_Venta', 'Fe_entrega', 'Fecha Recepcion',\n",
    "            'Dest_Mcia', 'Prioridad', 'Status', 'Material', 'ID_Material_Asignado', 'HY',\n",
    "            'SSU', 'FECHA_DISPONIBILIDAD', 'CENTRO', 'Lote', 'DE', 'Ubicación'\n",
    "            ]\n",
    "        )\n",
    "    \n",
    "    # Pedidos liberados (YVA), que es posible realizar el envio.\n",
    "    liberados_si = liberados_[liberados_['SE_DESPACHA'] == 'SI'].copy()\n",
    "    liberados_si.sort_values(['Fe_entrega','Prioridad'], ascending=[True, False], inplace= True)\n",
    "    liberados_si.reset_index(drop=True, inplace=True)\n",
    "    \n",
    "    # Obtengo los materiales que se van a despachar desde el 6009 (YQ10)\n",
    "    yq10_si = yq10_[yq10_['CANT_A_DESPACHAR'] > 0].copy()\n",
    "    yq10_si.sort_values(['FECHA_DISPONIBILIDAD', 'PRIORIDAD_FEFO', 'Peso_bolsa', 'Campaña'], ascending=[True, False, False, True], inplace= True)\n",
    "    \n",
    "    # Por cada pedido que es posible responder.\n",
    "    pedidos_indices = liberados_si.index.to_list()\n",
    "    for ind in pedidos_indices:\n",
    "        material = liberados_si.loc[ind, 'Material']\n",
    "        fecha = liberados_si.loc[ind, 'Fe_entrega']\n",
    "        # Me quedo con todos los materiales que tengo en stock (YQ10), iguales al solicitado en el pedido, cuya fecha de disponibilidad es menor a la fecha de entrega.\n",
    "        mat_posibles = yq10_si[(yq10_si['MATERIAL'] == material) & (yq10_si['FECHA_DISPONIBILIDAD'] <= fecha)]\n",
    "        \n",
    "        count = 0\n",
    "        # Esta variable tiene en cuenta la cantidad pedida de material en el envio, vera cuanto de esa cantidad podra responder con el stock que tiene en la YQ10.\n",
    "        suma = 0\n",
    "        \n",
    "        while (suma < liberados_si.loc[ind, 'SSU']) & (count < 10):\n",
    "            \n",
    "            mat_posibles = mat_posibles.loc[mat_posibles['CANT_A_DESPACHAR'] > 0, :]\n",
    "            mat_posibles = mat_posibles.reset_index(drop=True)\n",
    "            \n",
    "            if (mat_posibles.loc[0, 'CANT_A_DESPACHAR'] + suma) >= liberados_si.loc[ind, 'SSU']:\n",
    "                \n",
    "                add = pd.DataFrame(\n",
    "                                            {\n",
    "                                                'Doc_venta': liberados_si.loc[ind, 'Doc_venta'],\n",
    "                                                'Cliente': liberados_si.loc[ind, 'Nomb_Dest_Mcia'],\n",
    "                                                'Oficina_de_Venta': liberados_si.loc[ind, 'Oficina_de_Venta'],\n",
    "                                                'Fe_entrega': liberados_si.loc[ind, 'Fe_entrega'],\n",
    "                                                'Fecha Recepcion': liberados_si.loc[ind, 'Fecha Recepcion'],\n",
    "                                                'Dest_Mcia': liberados_si.loc[ind, 'Dest_Mcia'],\n",
    "                                                'Prioridad': liberados_si.loc[ind, 'Prioridad'],\n",
    "                                                'Status': liberados_si.loc[ind, 'Status'],\n",
    "                                                'Material': liberados_si.loc[ind, 'Material'],\n",
    "                                                'ID_Material_Asignado': mat_posibles.loc[0, 'ID'],\n",
    "                                                'HY': mat_posibles.loc[0, 'HY'],\n",
    "                                                'SSU': liberados_si.loc[ind, 'SSU'] - suma,\n",
    "                                                'FECHA_DISPONIBILIDAD': mat_posibles.loc[0, 'FECHA_DISPONIBILIDAD'],\n",
    "                                                'CENTRO': mat_posibles.loc[0, 'CENTRO'],\n",
    "                                                'Lote': mat_posibles.loc[0, 'Lote'],\n",
    "                                                'DE': mat_posibles.loc[0, 'DE'],\n",
    "                                                'Ubicación': mat_posibles.loc[0, 'Ubicación']\n",
    "                                            },\n",
    "                                        index= [0]\n",
    "                                        )\n",
    "                resultado = pd.concat([resultado, add], ignore_index=True)\n",
    "                \n",
    "                suma = liberados_si.loc[ind, 'SSU']\n",
    "                \n",
    "                yq10_si.loc[yq10_si['ID'] == mat_posibles.loc[0, 'ID'], 'CANT_A_DESPACHAR'] -= liberados_si.loc[ind, 'SSU'] - suma\n",
    "            \n",
    "            elif (mat_posibles.loc[0, 'CANT_A_DESPACHAR'] + suma) < liberados_si.loc[ind, 'SSU']:\n",
    "                \n",
    "                add = pd.DataFrame(\n",
    "                                            {   \n",
    "                                                'Doc_venta': liberados_si.loc[ind, 'Doc_venta'],\n",
    "                                                'Fe_entrega': liberados_si.loc[ind, 'Fe_entrega'],\n",
    "                                                'Fecha Recepcion': liberados_si.loc[ind, 'Fecha Recepcion'],\n",
    "                                                'Dest_Mcia': liberados_si.loc[ind, 'Dest_Mcia'],\n",
    "                                                'Prioridad': liberados_si.loc[ind, 'Prioridad'],\n",
    "                                                'Status': liberados_si.loc[ind, 'Status'],\n",
    "                                                'Material': liberados_si.loc[ind, 'Material'],\n",
    "                                                'ID_Material_Asignado': mat_posibles.loc[0, 'ID'],\n",
    "                                                'HY': mat_posibles.loc[0, 'HY'],\n",
    "                                                'SSU': mat_posibles.loc[0, 'CANT_A_DESPACHAR'],\n",
    "                                                'FECHA_DISPONIBILIDAD': mat_posibles.loc[0, 'FECHA_DISPONIBILIDAD'],\n",
    "                                                'CENTRO': mat_posibles.loc[0, 'CENTRO'],\n",
    "                                                'Lote': mat_posibles.loc[0, 'Lote'],\n",
    "                                                'DE': mat_posibles.loc[0, 'DE'],\n",
    "                                                'Ubicación': mat_posibles.loc[0, 'Ubicación']\n",
    "                                            },\n",
    "                                        index= [0]\n",
    "                                        )\n",
    "                resultado = pd.concat([resultado, add], ignore_index=True)\n",
    "                \n",
    "                yq10_si.loc[yq10_si['ID'] == mat_posibles.loc[0, 'ID'], 'CANT_A_DESPACHAR'] -= 0\n",
    "                \n",
    "                suma += mat_posibles.loc[0, 'CANT_A_DESPACHAR']\n",
    "                mat_posibles.loc[0, 'CANT_A_DESPACHAR'] = 0\n",
    "                count += 1\n",
    "            \n",
    "    return resultado"
   ]
  },
  {
   "cell_type": "code",
   "execution_count": 136,
   "metadata": {},
   "outputs": [],
   "source": [
    "liberados['Doc_venta'] = liberados['Doc_venta'].astype(str)\n",
    "for indice in liberados.index.to_list():\n",
    "    liberados.loc[indice, 'Doc_venta'] = liberados.loc[indice, 'Doc_venta'].split('-')[0]"
   ]
  },
  {
   "cell_type": "code",
   "execution_count": 137,
   "metadata": {
    "scrolled": false
   },
   "outputs": [],
   "source": [
    "liberados = liberados.reset_index(drop= True)\n",
    "liberados = clasificar_no_despachados(liberados)\n",
    "liberados = liberados.drop(columns=['Cantidad_Total'])"
   ]
  },
  {
   "cell_type": "code",
   "execution_count": 138,
   "metadata": {},
   "outputs": [],
   "source": [
    "asignacion_liberados = asignar_materiales_a_pedidos(liberados, yq10_final)"
   ]
  },
  {
   "cell_type": "code",
   "execution_count": 139,
   "metadata": {},
   "outputs": [],
   "source": [
    "liberados['Fe_entrega'] = pd.to_datetime(liberados['Fe_entrega']).dt.date\n",
    "liberados['Fecha Recepcion'] = pd.to_datetime(liberados['Fecha Recepcion']).dt.date\n",
    "liberados['FechaFact'] = pd.to_datetime(liberados['FechaFact']).dt.date\n",
    "liberados['FePrefEnt_Cab'] = pd.to_datetime(liberados['FePrefEnt_Cab']).dt.date\n",
    "\n",
    "yq10_final['FECHA_DISPONIBILIDAD'] = pd.to_datetime(yq10_final['FECHA_DISPONIBILIDAD']).dt.date"
   ]
  },
  {
   "cell_type": "code",
   "execution_count": 140,
   "metadata": {},
   "outputs": [],
   "source": [
    "yq10_liberados = yq10_final.copy(deep=True)\n",
    "yq10_liberados.sort_values('CANT_A_DESPACHAR', ascending= False, inplace= True)\n",
    "#liberados.sort_values('SE_DESPACHA', ascending= False, inplace= True)\n",
    "writer = pd.ExcelWriter(nombre_output,engine='xlsxwriter')\n",
    "inputs.to_excel(writer, sheet_name='INPUTS', index=False)\n",
    "liberados.to_excel(writer, sheet_name='yva_liberados', index=False)\n",
    "yq10_liberados.to_excel(writer, sheet_name='yq10_liberados', index=False)\n",
    "asignacion_liberados.to_excel(writer, sheet_name='pedido_materiales', index=False)\n",
    "error_fecha.to_excel(writer, sheet_name='error_fecha', index=False)\n",
    "#writer.save()"
   ]
  },
  {
   "cell_type": "code",
   "execution_count": 141,
   "metadata": {},
   "outputs": [],
   "source": [
    "yq10_para_bloqueados = yq10_final.copy(deep=True)\n",
    "yq10_para_bloqueados.reset_index(inplace= True, drop= True)\n",
    "yq10_para_bloqueados['SSU'] = yq10_para_bloqueados['SSU'] - yq10_para_bloqueados['CANT_A_DESPACHAR']\n",
    "yq10_para_bloqueados['CANT_A_DESPACHAR'] = 0"
   ]
  },
  {
   "cell_type": "code",
   "execution_count": 142,
   "metadata": {},
   "outputs": [],
   "source": [
    "indices_yq10_bloq = yq10_para_bloqueados.index.to_list()\n",
    "yq10_para_bloqueados['Indice_Modelo'] = indices_yq10_bloq\n",
    "yq10_para_bloqueados['FECHA_DISPONIBILIDAD'] = pd.to_datetime(yq10_para_bloqueados['FECHA_DISPONIBILIDAD'])"
   ]
  },
  {
   "cell_type": "code",
   "execution_count": 143,
   "metadata": {},
   "outputs": [],
   "source": [
    "bloqueados.reset_index(inplace=True, drop=True)\n",
    "bloqueados = bloqueados.drop(columns= 'Cantidad_Total')"
   ]
  },
  {
   "cell_type": "code",
   "execution_count": 144,
   "metadata": {},
   "outputs": [],
   "source": [
    "mat_unique_bloq = list(yq10_para_bloqueados['MATERIAL'].unique())\n",
    "cantidades_bloq = []\n",
    "for m in mat_unique_bloq:\n",
    "    cantidades_bloq.append(yq10_para_bloqueados.loc[yq10_para_bloqueados['MATERIAL'] == m, 'SSU'].sum())"
   ]
  },
  {
   "cell_type": "code",
   "execution_count": 145,
   "metadata": {},
   "outputs": [],
   "source": [
    "yq10_nueva_bloq = pd.DataFrame({'Material': mat_unique_bloq, 'Cantidad_Total': cantidades_bloq})"
   ]
  },
  {
   "cell_type": "code",
   "execution_count": 146,
   "metadata": {},
   "outputs": [],
   "source": [
    "bloqueados = bloqueados.merge(yq10_nueva_bloq,how= 'left', on='Material' )\n",
    "bloqueados['Cantidad_Total'].fillna(0, inplace= True)"
   ]
  },
  {
   "cell_type": "code",
   "execution_count": 147,
   "metadata": {},
   "outputs": [],
   "source": [
    "modelo_2 = Model(name=\"bloqueados\")"
   ]
  },
  {
   "cell_type": "code",
   "execution_count": 148,
   "metadata": {},
   "outputs": [],
   "source": [
    "pedidos_bloqueados = bloqueados['Doc_venta'].unique()"
   ]
  },
  {
   "cell_type": "code",
   "execution_count": 149,
   "metadata": {},
   "outputs": [],
   "source": [
    "binarios = modelo_2.binary_var_dict(pedidos_bloqueados, name = 'bin_bloq')"
   ]
  },
  {
   "cell_type": "code",
   "execution_count": 150,
   "metadata": {},
   "outputs": [],
   "source": [
    "#cant_material_a_despachar = modelo_2.integer_var_dict(indices_yq10_bloq)\n",
    "cant_material_a_despachar = modelo_2.continuous_var_dict(indices_yq10_bloq, name = 'cant_bloq')"
   ]
  },
  {
   "cell_type": "code",
   "execution_count": 151,
   "metadata": {},
   "outputs": [],
   "source": [
    "materiales_pedidos = bloqueados['Material'].unique()"
   ]
  },
  {
   "cell_type": "code",
   "execution_count": 152,
   "metadata": {},
   "outputs": [],
   "source": [
    "promedio_despacho = bloqueados['SSU'].mean()"
   ]
  },
  {
   "cell_type": "code",
   "execution_count": 153,
   "metadata": {},
   "outputs": [],
   "source": [
    "#%%time\n",
    "constraint_1(modelo_2,yq10_para_bloqueados)"
   ]
  },
  {
   "cell_type": "code",
   "execution_count": 154,
   "metadata": {},
   "outputs": [],
   "source": [
    "#%%time\n",
    "constraint_2(modelo_2,yq10_para_bloqueados,bloqueados)"
   ]
  },
  {
   "cell_type": "code",
   "execution_count": 155,
   "metadata": {},
   "outputs": [],
   "source": [
    "#%%time\n",
    "constraint_3(modelo_2,yq10_para_bloqueados,bloqueados)"
   ]
  },
  {
   "cell_type": "code",
   "execution_count": 156,
   "metadata": {},
   "outputs": [],
   "source": [
    "#%%time\n",
    "constraint_4(modelo_2,yq10_para_bloqueados,bloqueados)\n"
   ]
  },
  {
   "cell_type": "code",
   "execution_count": 157,
   "metadata": {},
   "outputs": [],
   "source": [
    "#%%time\n",
    "constraint_5(modelo_2,bloqueados)"
   ]
  },
  {
   "cell_type": "code",
   "execution_count": 158,
   "metadata": {},
   "outputs": [],
   "source": [
    "if correr_otd:\n",
    "    modelo_2.maximize((2 * promedio_despacho * modelo_2.sum(binarios)) \n",
    "                + (modelo_2.sum(cant_material_a_despachar[k] * yq10_para_bloqueados['PRIORIDAD_FEFO'].iloc[k] for k in cant_material_a_despachar)))\n",
    "else:\n",
    "    prio_yva_bloq = modelo_2.sum(binarios[i] * bloqueados['Prioridad'][bloqueados['Doc_venta'] == i].unique()[0] for i in binarios)\n",
    "    prio_fefo_bloq = modelo_2.sum(cant_material_a_despachar[k] * yq10_para_bloqueados['PRIORIDAD_FEFO'].iloc[k] for k in cant_material_a_despachar)\n",
    "    modelo_2.maximize(prio_yva_bloq + prio_fefo_bloq)"
   ]
  },
  {
   "cell_type": "code",
   "execution_count": 159,
   "metadata": {
    "scrolled": true
   },
   "outputs": [
    {
     "name": "stdout",
     "output_type": "stream",
     "text": [
      "Model: bloqueados\n",
      " - number of variables: 141\n",
      "   - binary=9, integer=0, continuous=132\n",
      " - number of constraints: 300\n",
      "   - linear=300\n",
      " - parameters: defaults\n",
      " - objective: maximize\n",
      " - problem type is: MILP\n"
     ]
    }
   ],
   "source": [
    "modelo_2.print_information()"
   ]
  },
  {
   "cell_type": "code",
   "execution_count": 160,
   "metadata": {},
   "outputs": [
    {
     "name": "stdout",
     "output_type": "stream",
     "text": [
      "status  = integer optimal solution\n",
      "time    = 0 s.\n",
      "problem = MILP\n",
      "gap     = 0%\n",
      "\n"
     ]
    }
   ],
   "source": [
    "solucion_bloq = modelo_2.solve()\n",
    "print(modelo_2.get_solve_details())"
   ]
  },
  {
   "cell_type": "code",
   "execution_count": 161,
   "metadata": {},
   "outputs": [],
   "source": [
    "solucion_binaria_bloqueados = solucion_bloq.get_value_dict(binarios)\n",
    "despachos_pedidos_bloqueados = pd.DataFrame({'Doc_venta' : solucion_binaria_bloqueados.keys(), 'SE_DESPACHA' : solucion_binaria_bloqueados.values()}).replace([1.0, 0.0], ['SI', 'NO'])\n",
    "\n",
    "bloqueados = bloqueados.merge(despachos_pedidos_bloqueados, how= 'left', on= 'Doc_venta')"
   ]
  },
  {
   "cell_type": "code",
   "execution_count": 162,
   "metadata": {},
   "outputs": [],
   "source": [
    "solucion_cantidad_despachar_bloqueados = solucion_bloq.get_value_dict(cant_material_a_despachar)\n",
    "\n",
    "yq10_para_bloqueados['CANT_A_DESPACHAR'] = solucion_cantidad_despachar_bloqueados.values()"
   ]
  },
  {
   "cell_type": "markdown",
   "metadata": {},
   "source": [
    "## OUTPUT"
   ]
  },
  {
   "cell_type": "code",
   "execution_count": 163,
   "metadata": {},
   "outputs": [],
   "source": [
    "yq10_para_bloqueados['FECHA_DISPONIBILIDAD'] = pd.to_datetime(yq10_final['FECHA_DISPONIBILIDAD'])\n",
    "yq10_para_bloqueados.sort_values('CANT_A_DESPACHAR', ascending= False, inplace= True)\n",
    "bloqueados['Fe_entrega'] = pd.to_datetime(bloqueados['Fe_entrega'])\n",
    "bloqueados.sort_values('SE_DESPACHA', ascending= False, inplace= True)"
   ]
  },
  {
   "cell_type": "code",
   "execution_count": 164,
   "metadata": {},
   "outputs": [],
   "source": [
    "bloqueados['FechaFact'] = pd.to_datetime(bloqueados['FechaFact'])\n",
    "bloqueados['FePrefEnt_Cab'] = pd.to_datetime(bloqueados['FePrefEnt_Cab'])\n",
    "bloqueados['Fecha Recepcion'] = pd.to_datetime(bloqueados['Fecha Recepcion'])"
   ]
  },
  {
   "cell_type": "code",
   "execution_count": 165,
   "metadata": {},
   "outputs": [],
   "source": [
    "yq10_para_bloqueados.sort_values('CANT_A_DESPACHAR', ascending= False, inplace= True)\n",
    "yq10_para_bloqueados['ID'] = yq10_para_bloqueados['MATERIAL'].astype(str) + yq10_para_bloqueados['DE'] + yq10_para_bloqueados['Lote'] + yq10_para_bloqueados['Ubicación'].astype(str) + yq10_para_bloqueados['CENTRO'].astype(str)"
   ]
  },
  {
   "cell_type": "code",
   "execution_count": 166,
   "metadata": {},
   "outputs": [],
   "source": [
    "bloqueados.sort_values('SE_DESPACHA', ascending= False, inplace= True)"
   ]
  },
  {
   "cell_type": "code",
   "execution_count": 167,
   "metadata": {},
   "outputs": [],
   "source": [
    "bloqueados = bloqueados.reset_index(drop= True)\n",
    "bloqueados = clasificar_no_despachados(bloqueados)"
   ]
  },
  {
   "cell_type": "code",
   "execution_count": 168,
   "metadata": {
    "scrolled": true
   },
   "outputs": [
    {
     "data": {
      "text/html": [
       "<div>\n",
       "<style scoped>\n",
       "    .dataframe tbody tr th:only-of-type {\n",
       "        vertical-align: middle;\n",
       "    }\n",
       "\n",
       "    .dataframe tbody tr th {\n",
       "        vertical-align: top;\n",
       "    }\n",
       "\n",
       "    .dataframe thead th {\n",
       "        text-align: right;\n",
       "    }\n",
       "</style>\n",
       "<table border=\"1\" class=\"dataframe\">\n",
       "  <thead>\n",
       "    <tr style=\"text-align: right;\">\n",
       "      <th></th>\n",
       "      <th>Doc_venta</th>\n",
       "      <th>Cliente</th>\n",
       "      <th>Oficina_de_Venta</th>\n",
       "      <th>Fe_entrega</th>\n",
       "      <th>Fecha Recepcion</th>\n",
       "      <th>Dest_Mcia</th>\n",
       "      <th>Prioridad</th>\n",
       "      <th>Status</th>\n",
       "      <th>Material</th>\n",
       "      <th>ID_Material_Asignado</th>\n",
       "      <th>HY</th>\n",
       "      <th>SSU</th>\n",
       "      <th>FECHA_DISPONIBILIDAD</th>\n",
       "      <th>CENTRO</th>\n",
       "      <th>Lote</th>\n",
       "      <th>DE</th>\n",
       "      <th>Ubicación</th>\n",
       "    </tr>\n",
       "  </thead>\n",
       "  <tbody>\n",
       "    <tr>\n",
       "      <th>0</th>\n",
       "      <td>828582260</td>\n",
       "      <td>NaN</td>\n",
       "      <td>NaN</td>\n",
       "      <td>2023-02-21</td>\n",
       "      <td>2023-01-01</td>\n",
       "      <td>3115375</td>\n",
       "      <td>627.075195</td>\n",
       "      <td>Bloq Fac</td>\n",
       "      <td>30114759</td>\n",
       "      <td>30114759LIB3WE1070967G13L088B6009</td>\n",
       "      <td>DK72-20PRO4</td>\n",
       "      <td>1.0</td>\n",
       "      <td>2023-02-10</td>\n",
       "      <td>6009</td>\n",
       "      <td>WE1070967</td>\n",
       "      <td>LIB3</td>\n",
       "      <td>G13L088B</td>\n",
       "    </tr>\n",
       "    <tr>\n",
       "      <th>1</th>\n",
       "      <td>828582260</td>\n",
       "      <td>NaN</td>\n",
       "      <td>NaN</td>\n",
       "      <td>2023-02-21</td>\n",
       "      <td>2023-01-01</td>\n",
       "      <td>3115375</td>\n",
       "      <td>627.075195</td>\n",
       "      <td>Bloq Fac</td>\n",
       "      <td>30114759</td>\n",
       "      <td>30114759LIB3WE1072055G13L088C6009</td>\n",
       "      <td>DK72-20PRO4</td>\n",
       "      <td>51.0</td>\n",
       "      <td>2023-02-10</td>\n",
       "      <td>6009</td>\n",
       "      <td>WE1072055</td>\n",
       "      <td>LIB3</td>\n",
       "      <td>G13L088C</td>\n",
       "    </tr>\n",
       "    <tr>\n",
       "      <th>2</th>\n",
       "      <td>828582260</td>\n",
       "      <td>NaN</td>\n",
       "      <td>KA6-SE</td>\n",
       "      <td>2023-02-21</td>\n",
       "      <td>2023-01-01</td>\n",
       "      <td>3115375</td>\n",
       "      <td>627.075195</td>\n",
       "      <td>Bloq Fac</td>\n",
       "      <td>30114759</td>\n",
       "      <td>30114759LIB1WE1072080G13L088D6009</td>\n",
       "      <td>DK72-20PRO4</td>\n",
       "      <td>1248.0</td>\n",
       "      <td>2023-02-10</td>\n",
       "      <td>6009</td>\n",
       "      <td>WE1072080</td>\n",
       "      <td>LIB1</td>\n",
       "      <td>G13L088D</td>\n",
       "    </tr>\n",
       "    <tr>\n",
       "      <th>3</th>\n",
       "      <td>828561018</td>\n",
       "      <td>NaN</td>\n",
       "      <td>N-M1-E</td>\n",
       "      <td>2023-02-21</td>\n",
       "      <td>2022-05-01</td>\n",
       "      <td>1812785</td>\n",
       "      <td>627.075195</td>\n",
       "      <td>Bloq Fac</td>\n",
       "      <td>30116097</td>\n",
       "      <td>30116097LIB1WE1070670G13L106D6009</td>\n",
       "      <td>DK72-20RR2</td>\n",
       "      <td>60.0</td>\n",
       "      <td>2023-02-10</td>\n",
       "      <td>6009</td>\n",
       "      <td>WE1070670</td>\n",
       "      <td>LIB1</td>\n",
       "      <td>G13L106D</td>\n",
       "    </tr>\n",
       "  </tbody>\n",
       "</table>\n",
       "</div>"
      ],
      "text/plain": [
       "   Doc_venta  Cliente Oficina_de_Venta Fe_entrega Fecha Recepcion Dest_Mcia  \\\n",
       "0  828582260      NaN              NaN 2023-02-21      2023-01-01   3115375   \n",
       "1  828582260      NaN              NaN 2023-02-21      2023-01-01   3115375   \n",
       "2  828582260      NaN           KA6-SE 2023-02-21      2023-01-01   3115375   \n",
       "3  828561018      NaN           N-M1-E 2023-02-21      2022-05-01   1812785   \n",
       "\n",
       "    Prioridad    Status  Material               ID_Material_Asignado  \\\n",
       "0  627.075195  Bloq Fac  30114759  30114759LIB3WE1070967G13L088B6009   \n",
       "1  627.075195  Bloq Fac  30114759  30114759LIB3WE1072055G13L088C6009   \n",
       "2  627.075195  Bloq Fac  30114759  30114759LIB1WE1072080G13L088D6009   \n",
       "3  627.075195  Bloq Fac  30116097  30116097LIB1WE1070670G13L106D6009   \n",
       "\n",
       "            HY     SSU FECHA_DISPONIBILIDAD CENTRO       Lote    DE Ubicación  \n",
       "0  DK72-20PRO4     1.0           2023-02-10   6009  WE1070967  LIB3  G13L088B  \n",
       "1  DK72-20PRO4    51.0           2023-02-10   6009  WE1072055  LIB3  G13L088C  \n",
       "2  DK72-20PRO4  1248.0           2023-02-10   6009  WE1072080  LIB1  G13L088D  \n",
       "3   DK72-20RR2    60.0           2023-02-10   6009  WE1070670  LIB1  G13L106D  "
      ]
     },
     "execution_count": 168,
     "metadata": {},
     "output_type": "execute_result"
    }
   ],
   "source": [
    "asignacion_bloqueados = asignar_materiales_a_pedidos(bloqueados, yq10_para_bloqueados)"
   ]
  },
  {
   "cell_type": "code",
   "execution_count": 169,
   "metadata": {},
   "outputs": [
    {
     "name": "stderr",
     "output_type": "stream",
     "text": [
      "C:\\Users\\TALIGENT\\AppData\\Local\\Temp\\ipykernel_34364\\4008433022.py:5: FutureWarning: save is not part of the public API, usage can give unexpected results and will be removed in a future version\n",
      "  writer.save()\n"
     ]
    }
   ],
   "source": [
    "bloqueados.to_excel(writer, sheet_name='yva_bloqueados', index=False)\n",
    "yq10_para_bloqueados.to_excel(writer, sheet_name='yq10_bloqueados', index=False)\n",
    "asignacion_bloqueados.to_excel(writer, sheet_name='pedido_materiales_bloq', index=False)\n",
    "#df_kpi.to_excel(writer, sheet_name='KPIs', index=False)\n",
    "writer.save()"
   ]
  },
  {
   "cell_type": "code",
   "execution_count": 147,
   "metadata": {},
   "outputs": [
    {
     "name": "stdout",
     "output_type": "stream",
     "text": [
      "Modelo Finalizado\n"
     ]
    }
   ],
   "source": [
    "print('Modelo Finalizado')"
   ]
  },
  {
   "cell_type": "code",
   "execution_count": 170,
   "metadata": {},
   "outputs": [],
   "source": [
    "bloqueados_si = bloqueados[bloqueados['SE_DESPACHA'] == 'SI'].copy()\n",
    "bloqueados_si.sort_values('Prioridad', ascending= False, inplace= True)\n",
    "yq10_si = yq10_para_bloqueados[yq10_para_bloqueados['CANT_A_DESPACHAR'] > 0].copy()\n",
    "yq10_si.sort_values(['FECHA_DISPONIBILIDAD', 'PRIORIDAD_FEFO', 'Peso_bolsa', 'Campaña'], ascending=[True, False, False, True], inplace= True)        "
   ]
  },
  {
   "cell_type": "code",
   "execution_count": null,
   "metadata": {},
   "outputs": [],
   "source": []
  },
  {
   "cell_type": "code",
   "execution_count": null,
   "metadata": {},
   "outputs": [],
   "source": []
  }
 ],
 "metadata": {
  "kernelspec": {
   "display_name": "optimizacion_despachos",
   "language": "python",
   "name": "python3"
  },
  "language_info": {
   "codemirror_mode": {
    "name": "ipython",
    "version": 3
   },
   "file_extension": ".py",
   "mimetype": "text/x-python",
   "name": "python",
   "nbconvert_exporter": "python",
   "pygments_lexer": "ipython3",
   "version": "3.9.16"
  },
  "vscode": {
   "interpreter": {
    "hash": "7461f08aed499f8b830ad9d6beaf0527a70c7b41a7fb6b90bab2bd8218cc8dbe"
   }
  }
 },
 "nbformat": 4,
 "nbformat_minor": 4
}
